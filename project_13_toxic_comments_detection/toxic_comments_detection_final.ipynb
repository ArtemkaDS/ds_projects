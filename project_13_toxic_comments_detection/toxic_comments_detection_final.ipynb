{
 "cells": [
  {
   "cell_type": "markdown",
   "metadata": {
    "toc": true
   },
   "source": [
    "<h1>Содержание<span class=\"tocSkip\"></span></h1>\n",
    "<div class=\"toc\"><ul class=\"toc-item\"><li><span><a href=\"#Подготовка\" data-toc-modified-id=\"Подготовка-1\"><span class=\"toc-item-num\">1&nbsp;&nbsp;</span>Подготовка</a></span><ul class=\"toc-item\"><li><span><a href=\"#Библиотеки-и-функции\" data-toc-modified-id=\"Библиотеки-и-функции-1.1\"><span class=\"toc-item-num\">1.1&nbsp;&nbsp;</span>Библиотеки и функции</a></span></li><li><span><a href=\"#Загрузка-и-обзор-данных\" data-toc-modified-id=\"Загрузка-и-обзор-данных-1.2\"><span class=\"toc-item-num\">1.2&nbsp;&nbsp;</span>Загрузка и обзор данных</a></span></li><li><span><a href=\"#Предобработка\" data-toc-modified-id=\"Предобработка-1.3\"><span class=\"toc-item-num\">1.3&nbsp;&nbsp;</span>Предобработка</a></span></li><li><span><a href=\"#Борьба-с-дисбалансом\" data-toc-modified-id=\"Борьба-с-дисбалансом-1.4\"><span class=\"toc-item-num\">1.4&nbsp;&nbsp;</span>Борьба с дисбалансом</a></span><ul class=\"toc-item\"><li><span><a href=\"#Изменение-весов\" data-toc-modified-id=\"Изменение-весов-1.4.1\"><span class=\"toc-item-num\">1.4.1&nbsp;&nbsp;</span>Изменение весов</a></span></li><li><span><a href=\"#Downsampling\" data-toc-modified-id=\"Downsampling-1.4.2\"><span class=\"toc-item-num\">1.4.2&nbsp;&nbsp;</span>Downsampling</a></span></li></ul></li></ul></li><li><span><a href=\"#Обучение\" data-toc-modified-id=\"Обучение-2\"><span class=\"toc-item-num\">2&nbsp;&nbsp;</span>Обучение</a></span><ul class=\"toc-item\"><li><span><a href=\"#BERT-предобработка\" data-toc-modified-id=\"BERT-предобработка-2.1\"><span class=\"toc-item-num\">2.1&nbsp;&nbsp;</span>BERT предобработка</a></span></li><li><span><a href=\"#Обучение\" data-toc-modified-id=\"Обучение-2.2\"><span class=\"toc-item-num\">2.2&nbsp;&nbsp;</span>Обучение</a></span></li><li><span><a href=\"#BERT\" data-toc-modified-id=\"BERT-2.3\"><span class=\"toc-item-num\">2.3&nbsp;&nbsp;</span>BERT</a></span></li><li><span><a href=\"#Выводы\" data-toc-modified-id=\"Выводы-2.4\"><span class=\"toc-item-num\">2.4&nbsp;&nbsp;</span>Выводы</a></span></li></ul></li><li><span><a href=\"#Тестирование\" data-toc-modified-id=\"Тестирование-3\"><span class=\"toc-item-num\">3&nbsp;&nbsp;</span>Тестирование</a></span></li><li><span><a href=\"#Выводы\" data-toc-modified-id=\"Выводы-4\"><span class=\"toc-item-num\">4&nbsp;&nbsp;</span>Выводы</a></span></li></ul></div>"
   ]
  },
  {
   "cell_type": "markdown",
   "metadata": {},
   "source": [
    "# Проект для «Викишоп» с BERT"
   ]
  },
  {
   "cell_type": "markdown",
   "metadata": {},
   "source": [
    "Заказчик: Интернет-магазин «Викишоп» \n",
    "\n",
    "Опсание: магазин запускает новый сервис. Теперь пользователи могут редактировать и дополнять описания товаров, как в вики-сообществах. То есть клиенты предлагают свои правки и комментируют изменения других. \n",
    "\n",
    "Цель: создать инструмент, который будет искать токсичные комментарии и отправлять их на модерацию. \n",
    "\n",
    "Задача: обучить модель классифицировать комментарии на позитивные и негативные. \n",
    "\n",
    "Данные: набор данных с разметкой о токсичности правок.\n",
    "\n",
    "Условия: метрики качества *F1* не ниже 0.75. \n",
    "\n",
    "**Описание данных**\n",
    "\n",
    "Данные находятся в файле `toxic_comments.csv`. Столбец *text* в нём содержит текст комментария, а *toxic* — целевой признак."
   ]
  },
  {
   "cell_type": "markdown",
   "metadata": {},
   "source": [
    "## Подготовка"
   ]
  },
  {
   "cell_type": "markdown",
   "metadata": {},
   "source": [
    "### Библиотеки и функции"
   ]
  },
  {
   "cell_type": "code",
   "execution_count": 37,
   "metadata": {},
   "outputs": [
    {
     "name": "stderr",
     "output_type": "stream",
     "text": [
      "[nltk_data] Downloading package stopwords to\n",
      "[nltk_data]     C:\\Users\\fomkin.ag\\AppData\\Roaming\\nltk_data...\n",
      "[nltk_data]   Package stopwords is already up-to-date!\n",
      "[nltk_data] Downloading package wordnet to\n",
      "[nltk_data]     C:\\Users\\fomkin.ag\\AppData\\Roaming\\nltk_data...\n",
      "[nltk_data]   Package wordnet is already up-to-date!\n",
      "[nltk_data] Downloading package punkt to\n",
      "[nltk_data]     C:\\Users\\fomkin.ag\\AppData\\Roaming\\nltk_data...\n",
      "[nltk_data]   Package punkt is already up-to-date!\n",
      "[nltk_data] Downloading package omw-1.4 to\n",
      "[nltk_data]     C:\\Users\\fomkin.ag\\AppData\\Roaming\\nltk_data...\n",
      "[nltk_data]   Package omw-1.4 is already up-to-date!\n",
      "[nltk_data] Downloading package averaged_perceptron_tagger to\n",
      "[nltk_data]     C:\\Users\\fomkin.ag\\AppData\\Roaming\\nltk_data...\n",
      "[nltk_data]   Package averaged_perceptron_tagger is already up-to-\n",
      "[nltk_data]       date!\n"
     ]
    },
    {
     "data": {
      "text/html": [
       "<style>.container { width:90% !important; }</style>"
      ],
      "text/plain": [
       "<IPython.core.display.HTML object>"
      ]
     },
     "metadata": {},
     "output_type": "display_data"
    }
   ],
   "source": [
    "#data manipulation\n",
    "import pandas as pd\n",
    "import numpy as np\n",
    "from pathlib import Path\n",
    "\n",
    "#data visualization\n",
    "import seaborn as sns\n",
    "import matplotlib.pyplot as plt\n",
    "import matplotlib\n",
    "from tqdm import notebook\n",
    "from tqdm.notebook import tqdm\n",
    "tqdm.pandas()\n",
    "\n",
    "#text manipulation\n",
    "import nltk\n",
    "from nltk.corpus import wordnet\n",
    "from nltk.stem import WordNetLemmatizer\n",
    "from nltk.corpus import stopwords as nltk_stopwords\n",
    "nltk.download('stopwords')\n",
    "nltk.download('wordnet')\n",
    "nltk.download('punkt')\n",
    "nltk.download('omw-1.4')\n",
    "nltk.download('averaged_perceptron_tagger')\n",
    "stopwords = set(nltk_stopwords.words('english'))\n",
    "import re\n",
    "\n",
    "#ML\n",
    "import torch\n",
    "import transformers\n",
    "from sklearn.model_selection import train_test_split, cross_val_score, GridSearchCV\n",
    "from sklearn.metrics import f1_score, roc_auc_score, roc_curve\n",
    "from lightgbm import LGBMClassifier\n",
    "from catboost import CatBoostClassifier\n",
    "from xgboost import XGBClassifier\n",
    "from sklearn.linear_model import LogisticRegression\n",
    "from sklearn.feature_extraction.text import TfidfVectorizer\n",
    "from sklearn.utils import shuffle\n",
    "\n",
    "# Options for pandas\n",
    "pd.options.display.max_columns = 50\n",
    "pd.options.display.max_rows = 30\n",
    "pd.set_option('max_colwidth', 200\n",
    "             )\n",
    "pd.set_option('display.width', 400)\n",
    "pd.set_option('display.max_columns', 50)\n",
    "\n",
    "#misc\n",
    "rs = 15122021\n",
    "from IPython.display import display, HTML\n",
    "display(HTML(\"<style>.container { width:90% !important; }</style>\"))\n",
    "import warnings\n",
    "warnings.filterwarnings('ignore')"
   ]
  },
  {
   "cell_type": "markdown",
   "metadata": {},
   "source": [
    "Создадим необходимые для обзора и предобработки функции"
   ]
  },
  {
   "cell_type": "code",
   "execution_count": 2,
   "metadata": {},
   "outputs": [],
   "source": [
    "def check_missings(df: pd.DataFrame) -> pd.DataFrame:\n",
    "    \"\"\"\n",
    "    Функция для вычисления среднего и общего числа пропусков.\n",
    "    \n",
    "    df: Набор данных для вычисления статистики.\n",
    "    return: Датафрейм со статистикой распределения пропусков.\n",
    "    \"\"\"\n",
    "    na = df.isna().sum()\n",
    "    result = pd.DataFrame(data={\"Кол-во уникальных\": df.nunique(),\n",
    "                                \"Кол-во заполненных\": df.shape[0] - na,\n",
    "                                \"Кол-во пропусков\": na,\n",
    "                                \"Доля пропусков, %\": 100 * na / df.shape[0],\n",
    "                                \"Тип\": df.dtypes})\n",
    "    print(f\"Total rows = {df.shape[0]}\")\n",
    "    print(f\"Total NA-values = {na.sum()}\")\n",
    "    return result"
   ]
  },
  {
   "cell_type": "markdown",
   "metadata": {},
   "source": [
    "### Загрузка и обзор данных"
   ]
  },
  {
   "cell_type": "code",
   "execution_count": 3,
   "metadata": {},
   "outputs": [
    {
     "data": {
      "text/html": [
       "<div>\n",
       "<style scoped>\n",
       "    .dataframe tbody tr th:only-of-type {\n",
       "        vertical-align: middle;\n",
       "    }\n",
       "\n",
       "    .dataframe tbody tr th {\n",
       "        vertical-align: top;\n",
       "    }\n",
       "\n",
       "    .dataframe thead th {\n",
       "        text-align: right;\n",
       "    }\n",
       "</style>\n",
       "<table border=\"1\" class=\"dataframe\">\n",
       "  <thead>\n",
       "    <tr style=\"text-align: right;\">\n",
       "      <th></th>\n",
       "      <th>text</th>\n",
       "      <th>toxic</th>\n",
       "    </tr>\n",
       "  </thead>\n",
       "  <tbody>\n",
       "    <tr>\n",
       "      <th>0</th>\n",
       "      <td>Explanation\\nWhy the edits made under my username Hardcore Metallica Fan were reverted? They weren't vandalisms, just closure on some GAs after I voted at New York Dolls FAC. And please don't remo...</td>\n",
       "      <td>0</td>\n",
       "    </tr>\n",
       "    <tr>\n",
       "      <th>1</th>\n",
       "      <td>D'aww! He matches this background colour I'm seemingly stuck with. Thanks.  (talk) 21:51, January 11, 2016 (UTC)</td>\n",
       "      <td>0</td>\n",
       "    </tr>\n",
       "    <tr>\n",
       "      <th>2</th>\n",
       "      <td>Hey man, I'm really not trying to edit war. It's just that this guy is constantly removing relevant information and talking to me through edits instead of my talk page. He seems to care more about...</td>\n",
       "      <td>0</td>\n",
       "    </tr>\n",
       "  </tbody>\n",
       "</table>\n",
       "</div>"
      ],
      "text/plain": [
       "                                                                                                                                                                                                      text  toxic\n",
       "0  Explanation\\nWhy the edits made under my username Hardcore Metallica Fan were reverted? They weren't vandalisms, just closure on some GAs after I voted at New York Dolls FAC. And please don't remo...      0\n",
       "1                                                                                         D'aww! He matches this background colour I'm seemingly stuck with. Thanks.  (talk) 21:51, January 11, 2016 (UTC)      0\n",
       "2  Hey man, I'm really not trying to edit war. It's just that this guy is constantly removing relevant information and talking to me through edits instead of my talk page. He seems to care more about...      0"
      ]
     },
     "execution_count": 3,
     "metadata": {},
     "output_type": "execute_result"
    }
   ],
   "source": [
    "path_dir = Path(\"./data/\")\n",
    "df = pd.read_csv(Path(path_dir, 'toxic_comments.csv'))\n",
    "df.head(3)"
   ]
  },
  {
   "cell_type": "code",
   "execution_count": 4,
   "metadata": {},
   "outputs": [
    {
     "name": "stdout",
     "output_type": "stream",
     "text": [
      "Total rows = 159571\n",
      "Total NA-values = 0\n"
     ]
    },
    {
     "data": {
      "text/html": [
       "<div>\n",
       "<style scoped>\n",
       "    .dataframe tbody tr th:only-of-type {\n",
       "        vertical-align: middle;\n",
       "    }\n",
       "\n",
       "    .dataframe tbody tr th {\n",
       "        vertical-align: top;\n",
       "    }\n",
       "\n",
       "    .dataframe thead th {\n",
       "        text-align: right;\n",
       "    }\n",
       "</style>\n",
       "<table border=\"1\" class=\"dataframe\">\n",
       "  <thead>\n",
       "    <tr style=\"text-align: right;\">\n",
       "      <th></th>\n",
       "      <th>Кол-во уникальных</th>\n",
       "      <th>Кол-во заполненных</th>\n",
       "      <th>Кол-во пропусков</th>\n",
       "      <th>Доля пропусков, %</th>\n",
       "      <th>Тип</th>\n",
       "    </tr>\n",
       "  </thead>\n",
       "  <tbody>\n",
       "    <tr>\n",
       "      <th>text</th>\n",
       "      <td>159571</td>\n",
       "      <td>159571</td>\n",
       "      <td>0</td>\n",
       "      <td>0.0</td>\n",
       "      <td>object</td>\n",
       "    </tr>\n",
       "    <tr>\n",
       "      <th>toxic</th>\n",
       "      <td>2</td>\n",
       "      <td>159571</td>\n",
       "      <td>0</td>\n",
       "      <td>0.0</td>\n",
       "      <td>int64</td>\n",
       "    </tr>\n",
       "  </tbody>\n",
       "</table>\n",
       "</div>"
      ],
      "text/plain": [
       "       Кол-во уникальных  Кол-во заполненных  Кол-во пропусков  Доля пропусков, %     Тип\n",
       "text              159571              159571                 0                0.0  object\n",
       "toxic                  2              159571                 0                0.0   int64"
      ]
     },
     "execution_count": 4,
     "metadata": {},
     "output_type": "execute_result"
    }
   ],
   "source": [
    "check_missings(df)"
   ]
  },
  {
   "cell_type": "code",
   "execution_count": 5,
   "metadata": {},
   "outputs": [
    {
     "name": "stdout",
     "output_type": "stream",
     "text": [
      "<class 'pandas.core.frame.DataFrame'>\n",
      "RangeIndex: 159571 entries, 0 to 159570\n",
      "Data columns (total 2 columns):\n",
      " #   Column  Non-Null Count   Dtype \n",
      "---  ------  --------------   ----- \n",
      " 0   text    159571 non-null  object\n",
      " 1   toxic   159571 non-null  int64 \n",
      "dtypes: int64(1), object(1)\n",
      "memory usage: 2.4+ MB\n"
     ]
    }
   ],
   "source": [
    "df.info()"
   ]
  },
  {
   "cell_type": "markdown",
   "metadata": {},
   "source": [
    "### Предобработка"
   ]
  },
  {
   "cell_type": "markdown",
   "metadata": {},
   "source": [
    "BERT попробуем обучить на выборке в 2000 строк"
   ]
  },
  {
   "cell_type": "code",
   "execution_count": 6,
   "metadata": {},
   "outputs": [
    {
     "data": {
      "text/html": [
       "<div>\n",
       "<style scoped>\n",
       "    .dataframe tbody tr th:only-of-type {\n",
       "        vertical-align: middle;\n",
       "    }\n",
       "\n",
       "    .dataframe tbody tr th {\n",
       "        vertical-align: top;\n",
       "    }\n",
       "\n",
       "    .dataframe thead th {\n",
       "        text-align: right;\n",
       "    }\n",
       "</style>\n",
       "<table border=\"1\" class=\"dataframe\">\n",
       "  <thead>\n",
       "    <tr style=\"text-align: right;\">\n",
       "      <th></th>\n",
       "      <th>text</th>\n",
       "      <th>toxic</th>\n",
       "    </tr>\n",
       "  </thead>\n",
       "  <tbody>\n",
       "    <tr>\n",
       "      <th>0</th>\n",
       "      <td>I just had to teach that loser a lesson not to mess with people's pages.  That's all.</td>\n",
       "      <td>1</td>\n",
       "    </tr>\n",
       "    <tr>\n",
       "      <th>1</th>\n",
       "      <td>\"\\n\\n Forgery of IAC logo \\n\\nThe image on Wikipedia you proffered for Anna Hazare using IAC name contains an obvious forgery of IAC logo. As the copyright clerk please immediately arrange to get ...</td>\n",
       "      <td>0</td>\n",
       "    </tr>\n",
       "    <tr>\n",
       "      <th>2</th>\n",
       "      <td>\"\\n\\nI actually agree completely with Aïki, but I suspect you don't actually realize what he/she(?) just said.  Aïki really just restated what I had written when I edited the article summary a whi...</td>\n",
       "      <td>0</td>\n",
       "    </tr>\n",
       "    <tr>\n",
       "      <th>3</th>\n",
       "      <td>Please leave the birth/death dates linked.  There's not any consensus at MOS to unlink them, particularly in the case of birth/death dates.</td>\n",
       "      <td>0</td>\n",
       "    </tr>\n",
       "    <tr>\n",
       "      <th>4</th>\n",
       "      <td>With respect to your addition of  as the source, how does this substantiate this as a work of the US government?  Right now, it appears to be the work of a private photographer.</td>\n",
       "      <td>0</td>\n",
       "    </tr>\n",
       "  </tbody>\n",
       "</table>\n",
       "</div>"
      ],
      "text/plain": [
       "                                                                                                                                                                                                      text  toxic\n",
       "0                                                                                                                    I just had to teach that loser a lesson not to mess with people's pages.  That's all.      1\n",
       "1  \"\\n\\n Forgery of IAC logo \\n\\nThe image on Wikipedia you proffered for Anna Hazare using IAC name contains an obvious forgery of IAC logo. As the copyright clerk please immediately arrange to get ...      0\n",
       "2  \"\\n\\nI actually agree completely with Aïki, but I suspect you don't actually realize what he/she(?) just said.  Aïki really just restated what I had written when I edited the article summary a whi...      0\n",
       "3                                                              Please leave the birth/death dates linked.  There's not any consensus at MOS to unlink them, particularly in the case of birth/death dates.      0\n",
       "4                        With respect to your addition of  as the source, how does this substantiate this as a work of the US government?  Right now, it appears to be the work of a private photographer.      0"
      ]
     },
     "execution_count": 6,
     "metadata": {},
     "output_type": "execute_result"
    }
   ],
   "source": [
    "df_bert = df \\\n",
    "    .copy() \\\n",
    "    .sample(2000, random_state=rs) \\\n",
    "    .reset_index(drop=True)\n",
    "df_bert.head()"
   ]
  },
  {
   "cell_type": "markdown",
   "metadata": {},
   "source": [
    "Взглянем на сбаланированность классов"
   ]
  },
  {
   "cell_type": "code",
   "execution_count": 7,
   "metadata": {},
   "outputs": [
    {
     "name": "stdout",
     "output_type": "stream",
     "text": [
      "Классы несбалансированы в отношении 1 к 9.\n"
     ]
    }
   ],
   "source": [
    "balance = df.toxic.value_counts()[0] / df.toxic.value_counts()[1]\n",
    "print(f'Классы несбалансированы в отношении 1 к {balance:.0f}.')"
   ]
  },
  {
   "cell_type": "code",
   "execution_count": 16,
   "metadata": {},
   "outputs": [],
   "source": [
    "def get_wordnet_pos(word):\n",
    "    \"\"\"Map POS tag to first character lemmatize() accepts\"\"\"\n",
    "    tag = nltk.pos_tag([word])[0][1][0].upper()\n",
    "    tag_dict = {\"J\": wordnet.ADJ,\n",
    "                \"N\": wordnet.NOUN,\n",
    "                \"V\": wordnet.VERB,\n",
    "                \"R\": wordnet.ADV}\n",
    "    return tag_dict.get(tag, wordnet.NOUN)"
   ]
  },
  {
   "cell_type": "code",
   "execution_count": 24,
   "metadata": {},
   "outputs": [],
   "source": [
    "lemmatizer = WordNetLemmatizer()\n",
    "\n",
    "def clear_text(text):\n",
    "    text = re.sub(r\"[^a-zA-Z']\", ' ', text)\n",
    "    return ' '.join(text.split())\n",
    "\n",
    "def lemmatize(text):\n",
    "    text = text.lower()\n",
    "    word_list = nltk.word_tokenize(text)\n",
    "    lemmed = ' '.join([lemmatizer.lemmatize(word, get_wordnet_pos(word)) for word in word_list])  \n",
    "    return lemmed"
   ]
  },
  {
   "cell_type": "code",
   "execution_count": 25,
   "metadata": {
    "scrolled": true
   },
   "outputs": [
    {
     "name": "stdout",
     "output_type": "stream",
     "text": [
      "CPU times: total: 1h 53min\n",
      "Wall time: 1h 53min 3s\n"
     ]
    }
   ],
   "source": [
    "%%time\n",
    "df['lemm_text'] = df['text'].apply(lemmatize)"
   ]
  },
  {
   "cell_type": "code",
   "execution_count": 26,
   "metadata": {},
   "outputs": [
    {
     "name": "stdout",
     "output_type": "stream",
     "text": [
      "CPU times: total: 4.47 s\n",
      "Wall time: 4.47 s\n"
     ]
    }
   ],
   "source": [
    "%%time\n",
    "df['lemm_cleared_text'] = df['lemm_text'].apply(clear_text)"
   ]
  },
  {
   "cell_type": "code",
   "execution_count": 27,
   "metadata": {},
   "outputs": [
    {
     "data": {
      "text/html": [
       "<div>\n",
       "<style scoped>\n",
       "    .dataframe tbody tr th:only-of-type {\n",
       "        vertical-align: middle;\n",
       "    }\n",
       "\n",
       "    .dataframe tbody tr th {\n",
       "        vertical-align: top;\n",
       "    }\n",
       "\n",
       "    .dataframe thead th {\n",
       "        text-align: right;\n",
       "    }\n",
       "</style>\n",
       "<table border=\"1\" class=\"dataframe\">\n",
       "  <thead>\n",
       "    <tr style=\"text-align: right;\">\n",
       "      <th></th>\n",
       "      <th>toxic</th>\n",
       "      <th>lemm_text</th>\n",
       "    </tr>\n",
       "  </thead>\n",
       "  <tbody>\n",
       "    <tr>\n",
       "      <th>0</th>\n",
       "      <td>0</td>\n",
       "      <td>explanation why the edits make under my username hardcore metallica fan be revert they be n't vandalism just closure on some gas after i vote at new york doll fac and please do n't remove the temp...</td>\n",
       "    </tr>\n",
       "    <tr>\n",
       "      <th>1</th>\n",
       "      <td>0</td>\n",
       "      <td>d'aww he match this background colour i 'm seemingly stuck with thanks talk january utc</td>\n",
       "    </tr>\n",
       "    <tr>\n",
       "      <th>2</th>\n",
       "      <td>0</td>\n",
       "      <td>hey man i 'm really not try to edit war it 's just that this guy be constantly remove relevant information and talk to me through edits instead of my talk page he seem to care more about the forma...</td>\n",
       "    </tr>\n",
       "  </tbody>\n",
       "</table>\n",
       "</div>"
      ],
      "text/plain": [
       "   toxic                                                                                                                                                                                                lemm_text\n",
       "0      0  explanation why the edits make under my username hardcore metallica fan be revert they be n't vandalism just closure on some gas after i vote at new york doll fac and please do n't remove the temp...\n",
       "1      0                                                                                                                  d'aww he match this background colour i 'm seemingly stuck with thanks talk january utc\n",
       "2      0  hey man i 'm really not try to edit war it 's just that this guy be constantly remove relevant information and talk to me through edits instead of my talk page he seem to care more about the forma..."
      ]
     },
     "execution_count": 27,
     "metadata": {},
     "output_type": "execute_result"
    }
   ],
   "source": [
    "df = df \\\n",
    "    .drop(['text', 'lemm_text'], axis=1) \\\n",
    "    .rename({'lemm_cleared_text': 'lemm_text'}, axis=1)\n",
    "df.head(3)"
   ]
  },
  {
   "cell_type": "code",
   "execution_count": 29,
   "metadata": {},
   "outputs": [
    {
     "name": "stdout",
     "output_type": "stream",
     "text": [
      "Размер обучающей выборки: (95742, 115539)\n",
      "Размер валидационной выборки: (31914, 115539)\n",
      "Размер тестовой выборки: (31915, 115539)\n"
     ]
    }
   ],
   "source": [
    "target = df['toxic']\n",
    "corpus = df['lemm_text']\n",
    "\n",
    "features_train, features_valid, target_train, target_valid = train_test_split(corpus, \n",
    "                                                                              target, \n",
    "                                                                              test_size=0.4, \n",
    "                                                                              random_state=rs)\n",
    "features_valid, features_test, target_valid, target_test = train_test_split(features_valid, \n",
    "                                                                            target_valid, \n",
    "                                                                            test_size=0.5,\n",
    "                                                                            random_state=rs)\n",
    "\n",
    "count_tf_idf = TfidfVectorizer(stop_words=stopwords)\n",
    "\n",
    "features_train = count_tf_idf.fit_transform(features_train)\n",
    "features_valid = count_tf_idf.transform(features_valid)\n",
    "features_test = count_tf_idf.transform(features_test)\n",
    "print(f'Размер обучающей выборки: {features_train.shape}')\n",
    "print(f'Размер валидационной выборки: {features_valid.shape}')\n",
    "print(f'Размер тестовой выборки: {features_test.shape}')"
   ]
  },
  {
   "cell_type": "markdown",
   "metadata": {},
   "source": [
    "### Борьба с дисбалансом"
   ]
  },
  {
   "cell_type": "markdown",
   "metadata": {},
   "source": [
    "#### Изменение весов"
   ]
  },
  {
   "cell_type": "code",
   "execution_count": 30,
   "metadata": {},
   "outputs": [
    {
     "name": "stdout",
     "output_type": "stream",
     "text": [
      "F1 без балансировки:  0.7\n",
      "CPU times: total: 1min 14s\n",
      "Wall time: 13.5 s\n"
     ]
    }
   ],
   "source": [
    "%%time\n",
    "\n",
    "lr = LogisticRegression()\n",
    "f1_cv = cross_val_score(lr,\n",
    "                     features_train,\n",
    "                     target_train,\n",
    "                     cv=5,\n",
    "                     scoring='f1').mean()\n",
    "print('F1 без балансировки: ', round(f1_cv, 2))"
   ]
  },
  {
   "cell_type": "code",
   "execution_count": 31,
   "metadata": {},
   "outputs": [
    {
     "name": "stdout",
     "output_type": "stream",
     "text": [
      "F1 на сбалансированных классах:  0.74\n",
      "CPU times: total: 1min 2s\n",
      "Wall time: 10.5 s\n"
     ]
    }
   ],
   "source": [
    "%%time\n",
    "lr_b = LogisticRegression(class_weight='balanced')\n",
    "f1_cv_bal = cross_val_score(lr_b, \n",
    "                            features_train,\n",
    "                            target_train,\n",
    "                            cv=5,\n",
    "                            scoring='f1').mean()\n",
    "print('F1 на сбалансированных классах: ', round(f1_cv_bal, 2))"
   ]
  },
  {
   "cell_type": "markdown",
   "metadata": {},
   "source": [
    "#### Downsampling"
   ]
  },
  {
   "cell_type": "code",
   "execution_count": 32,
   "metadata": {},
   "outputs": [],
   "source": [
    "train = df.iloc[target_train.index]\n",
    "\n",
    "target_train_zeros = train[train['toxic'] == 0]['toxic']\n",
    "target_train_ones = train[train['toxic'] == 1]['toxic']\n",
    "\n",
    "target_train_zeros_downsample = target_train_zeros.sample(target_train_ones.shape[0], random_state=rs)\n",
    "target_train_downsample = pd.concat([target_train_zeros_downsample, target_train_ones])\n",
    "\n",
    "features_train_downsample = df.iloc[target_train_downsample.index]\n",
    "features_train_downsample, target_train_downsample = shuffle(features_train_downsample, target_train_downsample, random_state=rs)\n",
    "\n",
    "features_train_downsample = count_tf_idf.transform(features_train_downsample['lemm_text'].values.astype('U'))"
   ]
  },
  {
   "cell_type": "code",
   "execution_count": 33,
   "metadata": {},
   "outputs": [
    {
     "name": "stdout",
     "output_type": "stream",
     "text": [
      "F1 после даунсемплинга:  0.88\n",
      "CPU times: total: 19.4 s\n",
      "Wall time: 3.47 s\n"
     ]
    }
   ],
   "source": [
    "%%time\n",
    "\n",
    "lr_ds = LogisticRegression()\n",
    "f1_cv_ds = cross_val_score(lr_ds,\n",
    "                     features_train_downsample,\n",
    "                     target_train_downsample,\n",
    "                     cv=5,\n",
    "                     scoring='f1').mean()\n",
    "print('F1 после даунсемплинга: ', round(f1_cv_ds, 2))"
   ]
  },
  {
   "cell_type": "code",
   "execution_count": 34,
   "metadata": {
    "scrolled": false
   },
   "outputs": [
    {
     "data": {
      "image/png": "[encoded data removed]",
      "text/plain": [
       "<Figure size 1296x576 with 1 Axes>"
      ]
     },
     "metadata": {
      "needs_background": "light"
     },
     "output_type": "display_data"
    }
   ],
   "source": [
    "fig = plt.subplots(figsize=(18, 8))\n",
    "\n",
    "plt.plot([0, 1], [0, 1], linestyle='--', label='RandomModel')\n",
    "\n",
    "lr = LogisticRegression()\n",
    "lr.fit(features_train, target_train)\n",
    "prob_valid = lr.predict_proba(features_valid)\n",
    "prob_one_valid = prob_valid[:, 1]\n",
    "fpr, tpr, thresholds = roc_curve(target_valid, prob_one_valid)\n",
    "auc_roc = roc_auc_score(target_valid, prob_one_valid)\n",
    "valid_f1 = f1_score(target_valid, lr.predict(features_valid))\n",
    "plt.plot(fpr, tpr, label='LR')\n",
    "\n",
    "lr_b = LogisticRegression(class_weight='balanced')\n",
    "lr_b.fit(features_train, target_train)\n",
    "prob_valid = lr_b.predict_proba(features_valid)\n",
    "prob_one_valid = prob_valid[:, 1]\n",
    "fpr, tpr, thresholds = roc_curve(target_valid, prob_one_valid)\n",
    "auc_roc_bal = roc_auc_score(target_valid, prob_one_valid)\n",
    "valid_f1_bal = f1_score(target_valid, lr_b.predict(features_valid))\n",
    "plt.plot(fpr, tpr, label='LR balanced')\n",
    "\n",
    "lr_ds = LogisticRegression()\n",
    "lr_ds.fit(features_train_downsample, target_train_downsample)\n",
    "prob_valid = lr_ds.predict_proba(features_valid)\n",
    "prob_one_valid = prob_valid[:, 1]\n",
    "fpr, tpr, thresholds = roc_curve(target_valid, prob_one_valid)\n",
    "auc_roc_ds = roc_auc_score(target_valid, prob_one_valid)\n",
    "valid_f1_ds = f1_score(target_valid, lr_ds.predict(features_valid))\n",
    "plt.plot(fpr, tpr, label='LR downsampled')\n",
    "\n",
    "plt.xlim([0,1])\n",
    "plt.ylim([0,1])\n",
    "\n",
    "plt.xlabel(\"False Positive Rate\")\n",
    "plt.ylabel(\"True Positive Rate\")\n",
    "\n",
    "plt.legend(loc='lower left')\n",
    "\n",
    "plt.title(\"ROC-кривая\")\n",
    "plt.show()"
   ]
  },
  {
   "cell_type": "code",
   "execution_count": 35,
   "metadata": {},
   "outputs": [
    {
     "data": {
      "text/html": [
       "<div>\n",
       "<style scoped>\n",
       "    .dataframe tbody tr th:only-of-type {\n",
       "        vertical-align: middle;\n",
       "    }\n",
       "\n",
       "    .dataframe tbody tr th {\n",
       "        vertical-align: top;\n",
       "    }\n",
       "\n",
       "    .dataframe thead th {\n",
       "        text-align: right;\n",
       "    }\n",
       "</style>\n",
       "<table border=\"1\" class=\"dataframe\">\n",
       "  <thead>\n",
       "    <tr style=\"text-align: right;\">\n",
       "      <th></th>\n",
       "      <th>F1_Cross</th>\n",
       "      <th>F1_valid</th>\n",
       "      <th>AUC-ROC</th>\n",
       "    </tr>\n",
       "  </thead>\n",
       "  <tbody>\n",
       "    <tr>\n",
       "      <th>Balanced Classes</th>\n",
       "      <td>0.742686</td>\n",
       "      <td>0.753520</td>\n",
       "      <td>0.968936</td>\n",
       "    </tr>\n",
       "    <tr>\n",
       "      <th>Standard</th>\n",
       "      <td>0.696909</td>\n",
       "      <td>0.730147</td>\n",
       "      <td>0.967845</td>\n",
       "    </tr>\n",
       "    <tr>\n",
       "      <th>Downsampled</th>\n",
       "      <td>0.882120</td>\n",
       "      <td>0.697399</td>\n",
       "      <td>0.962402</td>\n",
       "    </tr>\n",
       "  </tbody>\n",
       "</table>\n",
       "</div>"
      ],
      "text/plain": [
       "                  F1_Cross  F1_valid   AUC-ROC\n",
       "Balanced Classes  0.742686  0.753520  0.968936\n",
       "Standard          0.696909  0.730147  0.967845\n",
       "Downsampled       0.882120  0.697399  0.962402"
      ]
     },
     "execution_count": 35,
     "metadata": {},
     "output_type": "execute_result"
    }
   ],
   "source": [
    "data = {'F1_Cross':[f1_cv,\n",
    "              f1_cv_bal,\n",
    "              f1_cv_ds],\n",
    "        'F1_valid':[valid_f1,\n",
    "                    valid_f1_bal,\n",
    "                    valid_f1_ds],\n",
    "        'AUC-ROC':[auc_roc,\n",
    "                   auc_roc_bal,\n",
    "                   auc_roc_ds]\n",
    "}\n",
    "index =['Standard', 'Balanced Classes', 'Downsampled']\n",
    "\n",
    "score = pd.DataFrame(data=data, index=index).sort_values(by='F1_valid', ascending=False)\n",
    "score"
   ]
  },
  {
   "cell_type": "markdown",
   "metadata": {},
   "source": [
    "## Обучение"
   ]
  },
  {
   "cell_type": "markdown",
   "metadata": {},
   "source": [
    "### BERT предобработка"
   ]
  },
  {
   "cell_type": "code",
   "execution_count": 23,
   "metadata": {},
   "outputs": [
    {
     "name": "stderr",
     "output_type": "stream",
     "text": [
      "Some weights of the model checkpoint at bert-base-uncased were not used when initializing BertModel: ['cls.predictions.transform.LayerNorm.weight', 'cls.seq_relationship.bias', 'cls.predictions.transform.dense.bias', 'cls.predictions.decoder.weight', 'cls.predictions.bias', 'cls.predictions.transform.dense.weight', 'cls.seq_relationship.weight', 'cls.predictions.transform.LayerNorm.bias']\n",
      "- This IS expected if you are initializing BertModel from the checkpoint of a model trained on another task or with another architecture (e.g. initializing a BertForSequenceClassification model from a BertForPreTraining model).\n",
      "- This IS NOT expected if you are initializing BertModel from the checkpoint of a model that you expect to be exactly identical (initializing a BertForSequenceClassification model from a BertForSequenceClassification model).\n"
     ]
    }
   ],
   "source": [
    "model_class, tokenizer_class, pretrained_weights = (transformers.BertModel, transformers.BertTokenizer, 'bert-base-uncased')\n",
    "\n",
    "# Загрузка предобученной модели/токенизатора \n",
    "tokenizer = tokenizer_class.from_pretrained(pretrained_weights)\n",
    "model = model_class.from_pretrained(pretrained_weights)"
   ]
  },
  {
   "cell_type": "code",
   "execution_count": 24,
   "metadata": {
    "scrolled": true
   },
   "outputs": [
    {
     "data": {
      "application/vnd.jupyter.widget-view+json": {
       "model_id": "5a15af7ad30545fbbc1d55645192eca3",
       "version_major": 2,
       "version_minor": 0
      },
      "text/plain": [
       "  0%|          | 0/2000 [00:00<?, ?it/s]"
      ]
     },
     "metadata": {},
     "output_type": "display_data"
    },
    {
     "name": "stderr",
     "output_type": "stream",
     "text": [
      "Token indices sequence length is longer than the specified maximum sequence length for this model (729 > 512). Running this sequence through the model will result in indexing errors\n"
     ]
    }
   ],
   "source": [
    "tokenized = df_bert['text'].progress_apply(lambda x: tokenizer.encode(x, add_special_tokens=True))"
   ]
  },
  {
   "cell_type": "code",
   "execution_count": 25,
   "metadata": {},
   "outputs": [
    {
     "data": {
      "application/vnd.jupyter.widget-view+json": {
       "model_id": "84ce8b00c78542079f9a1b25cc2fc699",
       "version_major": 2,
       "version_minor": 0
      },
      "text/plain": [
       "  0%|          | 0/1962 [00:00<?, ?it/s]"
      ]
     },
     "metadata": {},
     "output_type": "display_data"
    }
   ],
   "source": [
    "tokens = []\n",
    "target = []\n",
    "\n",
    "for i in range(len(tokenized)):\n",
    "    if len(tokenized[i]) <= 512:\n",
    "        tokens.append(tokenized[i])\n",
    "        target.append(df_bert['toxic'][i])\n",
    "        \n",
    "tokens = (pd.Series(tokens))[:2000]\n",
    "target = (pd.Series(target))[:2000]\n",
    "\n",
    "max_len = 0\n",
    "for i in tqdm(tokens.values):\n",
    "    if len(i) > max_len:\n",
    "        max_len = len(i)"
   ]
  },
  {
   "cell_type": "code",
   "execution_count": 26,
   "metadata": {},
   "outputs": [
    {
     "data": {
      "application/vnd.jupyter.widget-view+json": {
       "model_id": "5bad6b8a5608479ca56b0891b9b21409",
       "version_major": 2,
       "version_minor": 0
      },
      "text/plain": [
       "  0%|          | 0/1962 [00:00<?, ?it/s]"
      ]
     },
     "metadata": {},
     "output_type": "display_data"
    },
    {
     "name": "stdout",
     "output_type": "stream",
     "text": [
      "Выборки равны, переходим к эмбеддингам\n"
     ]
    }
   ],
   "source": [
    "padded = np.array([i + [0]*(max_len - len(i)) for i in tqdm(tokens.values)])\n",
    "mask = np.where(padded != 0, 1, 0)\n",
    "\n",
    "if padded.shape == mask.shape:\n",
    "    print('Выборки равны, переходим к эмбеддингам')\n",
    "else:\n",
    "    print('Что-то пошло не так')"
   ]
  },
  {
   "cell_type": "code",
   "execution_count": 30,
   "metadata": {},
   "outputs": [
    {
     "data": {
      "application/vnd.jupyter.widget-view+json": {
       "model_id": "76bca94adc0a427bbb6f7b098047414a",
       "version_major": 2,
       "version_minor": 0
      },
      "text/plain": [
       "  0%|          | 0/9 [00:00<?, ?it/s]"
      ]
     },
     "metadata": {},
     "output_type": "display_data"
    }
   ],
   "source": [
    "batch_size = 200\n",
    "embeddings = []\n",
    "for i in notebook.tqdm(range(padded.shape[0] // batch_size)):\n",
    "        batch = torch.LongTensor(padded[batch_size*i:batch_size*(i+1)]) \n",
    "        attention_mask_batch = torch.LongTensor(mask[batch_size*i:batch_size*(i+1)])\n",
    "        \n",
    "        with torch.no_grad():\n",
    "            batch_embeddings = model(batch, attention_mask=attention_mask_batch)\n",
    "        \n",
    "        embeddings.append(batch_embeddings[0][:,0,:].numpy())\n",
    "features_bert = np.concatenate(embeddings)"
   ]
  },
  {
   "cell_type": "markdown",
   "metadata": {},
   "source": [
    "### Обучение"
   ]
  },
  {
   "cell_type": "code",
   "execution_count": 36,
   "metadata": {},
   "outputs": [],
   "source": [
    "def teacher(model, features, target):\n",
    "    model.fit(features, target)\n",
    "    F1_train = f1_score(target, model.predict(features))\n",
    "    F1_valid = f1_score(target_valid, model.predict(features_valid))\n",
    "    df_res = pd.DataFrame([(type(model).__name__), F1_train, F1_valid]).T\n",
    "    df_res.columns = ['model', 'f1_train', 'f1_valid']\n",
    "    return df_res"
   ]
  },
  {
   "cell_type": "code",
   "execution_count": 42,
   "metadata": {},
   "outputs": [],
   "source": [
    "def param_search(models, params):\n",
    "    grid = GridSearchCV(model, params, cv=3)\n",
    "    grid.fit(features_train, target_train)\n",
    "    display(grid.best_params_,\n",
    "            grid.best_score_)\n",
    "    return grid.best_params_"
   ]
  },
  {
   "cell_type": "code",
   "execution_count": null,
   "metadata": {},
   "outputs": [],
   "source": [
    "model = XGBClassifier()\n",
    "xgb_params = {'n_estimators': range(100, 301, 50),\n",
    "              'max_depth': range(9,16, 2),\n",
    "              'learning_rate': [0.2, 0.5],\n",
    "}\n",
    "best_params = param_search(model, xgb_params)"
   ]
  },
  {
   "cell_type": "code",
   "execution_count": 35,
   "metadata": {},
   "outputs": [
    {
     "data": {
      "text/html": [
       "<div>\n",
       "<style scoped>\n",
       "    .dataframe tbody tr th:only-of-type {\n",
       "        vertical-align: middle;\n",
       "    }\n",
       "\n",
       "    .dataframe tbody tr th {\n",
       "        vertical-align: top;\n",
       "    }\n",
       "\n",
       "    .dataframe thead th {\n",
       "        text-align: right;\n",
       "    }\n",
       "</style>\n",
       "<table border=\"1\" class=\"dataframe\">\n",
       "  <thead>\n",
       "    <tr style=\"text-align: right;\">\n",
       "      <th></th>\n",
       "      <th>model</th>\n",
       "      <th>f1_train</th>\n",
       "      <th>f1_valid</th>\n",
       "    </tr>\n",
       "  </thead>\n",
       "  <tbody>\n",
       "    <tr>\n",
       "      <th>0</th>\n",
       "      <td>XGBClassifier</td>\n",
       "      <td>0.956947</td>\n",
       "      <td>0.779006</td>\n",
       "    </tr>\n",
       "  </tbody>\n",
       "</table>\n",
       "</div>"
      ],
      "text/plain": [
       "           model  f1_train  f1_valid\n",
       "0  XGBClassifier  0.956947  0.779006"
      ]
     },
     "execution_count": 35,
     "metadata": {},
     "output_type": "execute_result"
    }
   ],
   "source": [
    "xgb = XGBClassifier(n_estimators=300, max_depth=15, learning_rate = 0.5, random_state = rs)\n",
    "xgb_res = teacher(xgb, features_train, target_train)\n",
    "xgb_res"
   ]
  },
  {
   "cell_type": "code",
   "execution_count": 32,
   "metadata": {},
   "outputs": [
    {
     "data": {
      "text/html": [
       "<div>\n",
       "<style scoped>\n",
       "    .dataframe tbody tr th:only-of-type {\n",
       "        vertical-align: middle;\n",
       "    }\n",
       "\n",
       "    .dataframe tbody tr th {\n",
       "        vertical-align: top;\n",
       "    }\n",
       "\n",
       "    .dataframe thead th {\n",
       "        text-align: right;\n",
       "    }\n",
       "</style>\n",
       "<table border=\"1\" class=\"dataframe\">\n",
       "  <thead>\n",
       "    <tr style=\"text-align: right;\">\n",
       "      <th></th>\n",
       "      <th>model</th>\n",
       "      <th>f1_train</th>\n",
       "      <th>f1_valid</th>\n",
       "    </tr>\n",
       "  </thead>\n",
       "  <tbody>\n",
       "    <tr>\n",
       "      <th>0</th>\n",
       "      <td>LogisticRegression</td>\n",
       "      <td>0.837062</td>\n",
       "      <td>0.750429</td>\n",
       "    </tr>\n",
       "  </tbody>\n",
       "</table>\n",
       "</div>"
      ],
      "text/plain": [
       "                model  f1_train  f1_valid\n",
       "0  LogisticRegression  0.837062  0.750429"
      ]
     },
     "execution_count": 32,
     "metadata": {},
     "output_type": "execute_result"
    }
   ],
   "source": [
    "lr = LogisticRegression(class_weight='balanced')\n",
    "lr_res = teacher(lr, features_train, target_train)\n",
    "lr_res"
   ]
  },
  {
   "cell_type": "code",
   "execution_count": 33,
   "metadata": {},
   "outputs": [
    {
     "name": "stdout",
     "output_type": "stream",
     "text": [
      "0:\tlearn: 0.4147750\ttotal: 1.15s\tremaining: 4m 46s\n",
      "1:\tlearn: 0.4824589\ttotal: 2.17s\tremaining: 4m 29s\n",
      "2:\tlearn: 0.5052712\ttotal: 3.38s\tremaining: 4m 38s\n",
      "3:\tlearn: 0.5645150\ttotal: 4.52s\tremaining: 4m 38s\n",
      "4:\tlearn: 0.5882853\ttotal: 5.54s\tremaining: 4m 31s\n",
      "5:\tlearn: 0.5942203\ttotal: 6.55s\tremaining: 4m 26s\n",
      "6:\tlearn: 0.6019104\ttotal: 7.55s\tremaining: 4m 22s\n",
      "7:\tlearn: 0.6039326\ttotal: 8.57s\tremaining: 4m 19s\n",
      "8:\tlearn: 0.6092243\ttotal: 9.58s\tremaining: 4m 16s\n",
      "9:\tlearn: 0.6089220\ttotal: 10.7s\tremaining: 4m 16s\n",
      "10:\tlearn: 0.6240033\ttotal: 11.7s\tremaining: 4m 13s\n",
      "11:\tlearn: 0.6346114\ttotal: 12.7s\tremaining: 4m 11s\n",
      "12:\tlearn: 0.6402239\ttotal: 13.7s\tremaining: 4m 10s\n",
      "13:\tlearn: 0.6443583\ttotal: 14.7s\tremaining: 4m 8s\n",
      "14:\tlearn: 0.6476216\ttotal: 15.7s\tremaining: 4m 6s\n",
      "15:\tlearn: 0.6574422\ttotal: 16.8s\tremaining: 4m 5s\n",
      "16:\tlearn: 0.6602254\ttotal: 17.9s\tremaining: 4m 5s\n",
      "17:\tlearn: 0.6625553\ttotal: 19s\tremaining: 4m 5s\n",
      "18:\tlearn: 0.6663994\ttotal: 20.1s\tremaining: 4m 4s\n",
      "19:\tlearn: 0.6700406\ttotal: 21.1s\tremaining: 4m 3s\n",
      "20:\tlearn: 0.6737429\ttotal: 22.2s\tremaining: 4m 1s\n",
      "21:\tlearn: 0.6828148\ttotal: 23.2s\tremaining: 3m 59s\n",
      "22:\tlearn: 0.6843762\ttotal: 24.2s\tremaining: 3m 58s\n",
      "23:\tlearn: 0.6894572\ttotal: 25.2s\tremaining: 3m 57s\n",
      "24:\tlearn: 0.6943308\ttotal: 26.2s\tremaining: 3m 55s\n",
      "25:\tlearn: 0.6974060\ttotal: 27.2s\tremaining: 3m 54s\n",
      "26:\tlearn: 0.6946739\ttotal: 28.2s\tremaining: 3m 53s\n",
      "27:\tlearn: 0.6949505\ttotal: 29.2s\tremaining: 3m 51s\n",
      "28:\tlearn: 0.6961376\ttotal: 30.2s\tremaining: 3m 50s\n",
      "29:\tlearn: 0.7003554\ttotal: 31.2s\tremaining: 3m 49s\n",
      "30:\tlearn: 0.7029850\ttotal: 32.3s\tremaining: 3m 48s\n",
      "31:\tlearn: 0.7061471\ttotal: 33.4s\tremaining: 3m 47s\n",
      "32:\tlearn: 0.7115090\ttotal: 34.4s\tremaining: 3m 46s\n",
      "33:\tlearn: 0.7125630\ttotal: 35.5s\tremaining: 3m 45s\n",
      "34:\tlearn: 0.7165164\ttotal: 36.6s\tremaining: 3m 44s\n",
      "35:\tlearn: 0.7185303\ttotal: 37.7s\tremaining: 3m 43s\n",
      "36:\tlearn: 0.7196759\ttotal: 38.7s\tremaining: 3m 42s\n",
      "37:\tlearn: 0.7226010\ttotal: 39.7s\tremaining: 3m 41s\n",
      "38:\tlearn: 0.7253951\ttotal: 40.7s\tremaining: 3m 40s\n",
      "39:\tlearn: 0.7295637\ttotal: 41.7s\tremaining: 3m 39s\n",
      "40:\tlearn: 0.7306897\ttotal: 42.7s\tremaining: 3m 37s\n",
      "41:\tlearn: 0.7310872\ttotal: 43.8s\tremaining: 3m 36s\n",
      "42:\tlearn: 0.7327451\ttotal: 44.8s\tremaining: 3m 35s\n",
      "43:\tlearn: 0.7341250\ttotal: 45.8s\tremaining: 3m 34s\n",
      "44:\tlearn: 0.7363364\ttotal: 46.8s\tremaining: 3m 33s\n",
      "45:\tlearn: 0.7391737\ttotal: 47.8s\tremaining: 3m 31s\n",
      "46:\tlearn: 0.7409111\ttotal: 48.8s\tremaining: 3m 30s\n",
      "47:\tlearn: 0.7418634\ttotal: 49.8s\tremaining: 3m 29s\n",
      "48:\tlearn: 0.7421759\ttotal: 50.8s\tremaining: 3m 28s\n",
      "49:\tlearn: 0.7428642\ttotal: 51.8s\tremaining: 3m 27s\n",
      "50:\tlearn: 0.7436438\ttotal: 52.8s\tremaining: 3m 25s\n",
      "51:\tlearn: 0.7441572\ttotal: 53.8s\tremaining: 3m 24s\n",
      "52:\tlearn: 0.7458529\ttotal: 54.8s\tremaining: 3m 23s\n",
      "53:\tlearn: 0.7466914\ttotal: 55.8s\tremaining: 3m 22s\n",
      "54:\tlearn: 0.7464588\ttotal: 56.8s\tremaining: 3m 21s\n",
      "55:\tlearn: 0.7474660\ttotal: 57.8s\tremaining: 3m 20s\n",
      "56:\tlearn: 0.7491668\ttotal: 58.8s\tremaining: 3m 19s\n",
      "57:\tlearn: 0.7493212\ttotal: 59.8s\tremaining: 3m 17s\n",
      "58:\tlearn: 0.7497995\ttotal: 1m\tremaining: 3m 16s\n",
      "59:\tlearn: 0.7510169\ttotal: 1m 1s\tremaining: 3m 15s\n",
      "60:\tlearn: 0.7508629\ttotal: 1m 2s\tremaining: 3m 14s\n",
      "61:\tlearn: 0.7534449\ttotal: 1m 3s\tremaining: 3m 13s\n",
      "62:\tlearn: 0.7540580\ttotal: 1m 4s\tremaining: 3m 12s\n",
      "63:\tlearn: 0.7552061\ttotal: 1m 5s\tremaining: 3m 11s\n",
      "64:\tlearn: 0.7556647\ttotal: 1m 6s\tremaining: 3m 9s\n",
      "65:\tlearn: 0.7565047\ttotal: 1m 7s\tremaining: 3m 8s\n",
      "66:\tlearn: 0.7584012\ttotal: 1m 8s\tremaining: 3m 7s\n",
      "67:\tlearn: 0.7599193\ttotal: 1m 9s\tremaining: 3m 6s\n",
      "68:\tlearn: 0.7600416\ttotal: 1m 10s\tremaining: 3m 5s\n",
      "69:\tlearn: 0.7612123\ttotal: 1m 11s\tremaining: 3m 4s\n",
      "70:\tlearn: 0.7628401\ttotal: 1m 12s\tremaining: 3m 3s\n",
      "71:\tlearn: 0.7632927\ttotal: 1m 13s\tremaining: 3m 2s\n",
      "72:\tlearn: 0.7636696\ttotal: 1m 14s\tremaining: 3m 1s\n",
      "73:\tlearn: 0.7648312\ttotal: 1m 15s\tremaining: 3m\n",
      "74:\tlearn: 0.7660403\ttotal: 1m 16s\tremaining: 2m 59s\n",
      "75:\tlearn: 0.7662369\ttotal: 1m 17s\tremaining: 2m 58s\n",
      "76:\tlearn: 0.7674079\ttotal: 1m 18s\tremaining: 2m 57s\n",
      "77:\tlearn: 0.7690907\ttotal: 1m 19s\tremaining: 2m 56s\n",
      "78:\tlearn: 0.7697161\ttotal: 1m 20s\tremaining: 2m 55s\n",
      "79:\tlearn: 0.7715410\ttotal: 1m 22s\tremaining: 2m 54s\n",
      "80:\tlearn: 0.7719872\ttotal: 1m 23s\tremaining: 2m 53s\n",
      "81:\tlearn: 0.7731560\ttotal: 1m 24s\tremaining: 2m 52s\n",
      "82:\tlearn: 0.7734252\ttotal: 1m 25s\tremaining: 2m 51s\n",
      "83:\tlearn: 0.7737217\ttotal: 1m 26s\tremaining: 2m 50s\n",
      "84:\tlearn: 0.7749728\ttotal: 1m 27s\tremaining: 2m 49s\n",
      "85:\tlearn: 0.7750468\ttotal: 1m 28s\tremaining: 2m 48s\n",
      "86:\tlearn: 0.7759141\ttotal: 1m 29s\tremaining: 2m 47s\n",
      "87:\tlearn: 0.7759141\ttotal: 1m 30s\tremaining: 2m 46s\n",
      "88:\tlearn: 0.7764919\ttotal: 1m 31s\tremaining: 2m 45s\n",
      "89:\tlearn: 0.7764181\ttotal: 1m 32s\tremaining: 2m 44s\n",
      "90:\tlearn: 0.7775771\ttotal: 1m 33s\tremaining: 2m 43s\n",
      "91:\tlearn: 0.7774098\ttotal: 1m 34s\tremaining: 2m 42s\n",
      "92:\tlearn: 0.7775303\ttotal: 1m 35s\tremaining: 2m 41s\n",
      "93:\tlearn: 0.7772826\ttotal: 1m 36s\tremaining: 2m 40s\n",
      "94:\tlearn: 0.7776239\ttotal: 1m 37s\tremaining: 2m 39s\n",
      "95:\tlearn: 0.7784330\ttotal: 1m 38s\tremaining: 2m 38s\n",
      "96:\tlearn: 0.7781389\ttotal: 1m 39s\tremaining: 2m 37s\n",
      "97:\tlearn: 0.7781122\ttotal: 1m 40s\tremaining: 2m 36s\n",
      "98:\tlearn: 0.7780855\ttotal: 1m 41s\tremaining: 2m 34s\n",
      "99:\tlearn: 0.7787941\ttotal: 1m 42s\tremaining: 2m 33s\n",
      "100:\tlearn: 0.7786471\ttotal: 1m 43s\tremaining: 2m 32s\n",
      "101:\tlearn: 0.7784265\ttotal: 1m 44s\tremaining: 2m 31s\n",
      "102:\tlearn: 0.7801802\ttotal: 1m 45s\tremaining: 2m 30s\n",
      "103:\tlearn: 0.7801802\ttotal: 1m 46s\tremaining: 2m 29s\n",
      "104:\tlearn: 0.7803999\ttotal: 1m 47s\tremaining: 2m 28s\n",
      "105:\tlearn: 0.7813250\ttotal: 1m 48s\tremaining: 2m 27s\n",
      "106:\tlearn: 0.7812988\ttotal: 1m 49s\tremaining: 2m 26s\n",
      "107:\tlearn: 0.7819251\ttotal: 1m 50s\tremaining: 2m 25s\n",
      "108:\tlearn: 0.7819251\ttotal: 1m 51s\tremaining: 2m 24s\n",
      "109:\tlearn: 0.7822174\ttotal: 1m 52s\tremaining: 2m 23s\n",
      "110:\tlearn: 0.7822905\ttotal: 1m 53s\tremaining: 2m 22s\n",
      "111:\tlearn: 0.7824366\ttotal: 1m 54s\tremaining: 2m 21s\n",
      "112:\tlearn: 0.7830206\ttotal: 1m 55s\tremaining: 2m 20s\n",
      "113:\tlearn: 0.7833124\ttotal: 1m 56s\tremaining: 2m 19s\n",
      "114:\tlearn: 0.7832394\ttotal: 1m 57s\tremaining: 2m 18s\n",
      "115:\tlearn: 0.7833853\ttotal: 1m 58s\tremaining: 2m 17s\n",
      "116:\tlearn: 0.7847343\ttotal: 1m 59s\tremaining: 2m 16s\n",
      "117:\tlearn: 0.7848283\ttotal: 2m\tremaining: 2m 14s\n",
      "118:\tlearn: 0.7848754\ttotal: 2m 1s\tremaining: 2m 13s\n",
      "119:\tlearn: 0.7849482\ttotal: 2m 2s\tremaining: 2m 12s\n",
      "120:\tlearn: 0.7849482\ttotal: 2m 3s\tremaining: 2m 11s\n",
      "121:\tlearn: 0.7851665\ttotal: 2m 4s\tremaining: 2m 10s\n",
      "122:\tlearn: 0.7856758\ttotal: 2m 5s\tremaining: 2m 9s\n",
      "123:\tlearn: 0.7863688\ttotal: 2m 6s\tremaining: 2m 8s\n",
      "124:\tlearn: 0.7869284\ttotal: 2m 7s\tremaining: 2m 7s\n",
      "125:\tlearn: 0.7879876\ttotal: 2m 8s\tremaining: 2m 6s\n",
      "126:\tlearn: 0.7882522\ttotal: 2m 9s\tremaining: 2m 5s\n",
      "127:\tlearn: 0.7891937\ttotal: 2m 10s\tremaining: 2m 4s\n",
      "128:\tlearn: 0.7897001\ttotal: 2m 11s\tremaining: 2m 3s\n",
      "129:\tlearn: 0.7898447\ttotal: 2m 12s\tremaining: 2m 2s\n",
      "130:\tlearn: 0.7900364\ttotal: 2m 13s\tremaining: 2m 1s\n",
      "131:\tlearn: 0.7901810\ttotal: 2m 14s\tremaining: 2m\n",
      "132:\tlearn: 0.7904478\ttotal: 2m 15s\tremaining: 1m 59s\n",
      "133:\tlearn: 0.7912167\ttotal: 2m 16s\tremaining: 1m 58s\n",
      "134:\tlearn: 0.7916244\ttotal: 2m 17s\tremaining: 1m 57s\n",
      "135:\tlearn: 0.7925338\ttotal: 2m 18s\tremaining: 1m 56s\n",
      "136:\tlearn: 0.7931096\ttotal: 2m 19s\tremaining: 1m 55s\n",
      "137:\tlearn: 0.7933973\ttotal: 2m 20s\tremaining: 1m 54s\n",
      "138:\tlearn: 0.7936848\ttotal: 2m 21s\tremaining: 1m 53s\n",
      "139:\tlearn: 0.7939722\ttotal: 2m 22s\tremaining: 1m 52s\n",
      "140:\tlearn: 0.7941632\ttotal: 2m 23s\tremaining: 1m 51s\n",
      "141:\tlearn: 0.7945222\ttotal: 2m 24s\tremaining: 1m 50s\n",
      "142:\tlearn: 0.7946413\ttotal: 2m 25s\tremaining: 1m 49s\n",
      "143:\tlearn: 0.7950000\ttotal: 2m 26s\tremaining: 1m 48s\n",
      "144:\tlearn: 0.7952151\ttotal: 2m 27s\tremaining: 1m 47s\n",
      "145:\tlearn: 0.7955235\ttotal: 2m 29s\tremaining: 1m 46s\n",
      "146:\tlearn: 0.7958333\ttotal: 2m 30s\tremaining: 1m 45s\n",
      "147:\tlearn: 0.7967383\ttotal: 2m 31s\tremaining: 1m 44s\n",
      "148:\tlearn: 0.7972394\ttotal: 2m 32s\tremaining: 1m 43s\n",
      "149:\tlearn: 0.7981690\ttotal: 2m 33s\tremaining: 1m 42s\n",
      "150:\tlearn: 0.7983108\ttotal: 2m 34s\tremaining: 1m 41s\n",
      "151:\tlearn: 0.7984538\ttotal: 2m 35s\tremaining: 1m 40s\n",
      "152:\tlearn: 0.7988109\ttotal: 2m 36s\tremaining: 1m 39s\n",
      "153:\tlearn: 0.7991679\ttotal: 2m 37s\tremaining: 1m 38s\n",
      "154:\tlearn: 0.7997148\ttotal: 2m 38s\tremaining: 1m 37s\n",
      "155:\tlearn: 0.8005936\ttotal: 2m 39s\tremaining: 1m 35s\n",
      "156:\tlearn: 0.8013280\ttotal: 2m 40s\tremaining: 1m 34s\n",
      "157:\tlearn: 0.8018253\ttotal: 2m 41s\tremaining: 1m 33s\n",
      "158:\tlearn: 0.8022278\ttotal: 2m 42s\tremaining: 1m 32s\n",
      "159:\tlearn: 0.8029137\ttotal: 2m 43s\tremaining: 1m 31s\n",
      "160:\tlearn: 0.8029344\ttotal: 2m 44s\tremaining: 1m 30s\n",
      "161:\tlearn: 0.8039482\ttotal: 2m 45s\tremaining: 1m 29s\n",
      "162:\tlearn: 0.8043016\ttotal: 2m 46s\tremaining: 1m 28s\n",
      "163:\tlearn: 0.8047023\ttotal: 2m 47s\tremaining: 1m 27s\n",
      "164:\tlearn: 0.8053160\ttotal: 2m 48s\tremaining: 1m 26s\n",
      "165:\tlearn: 0.8057868\ttotal: 2m 49s\tremaining: 1m 25s\n",
      "166:\tlearn: 0.8061869\ttotal: 2m 50s\tremaining: 1m 24s\n",
      "167:\tlearn: 0.8065392\ttotal: 2m 51s\tremaining: 1m 23s\n",
      "168:\tlearn: 0.8069617\ttotal: 2m 52s\tremaining: 1m 22s\n",
      "169:\tlearn: 0.8075699\ttotal: 2m 53s\tremaining: 1m 21s\n",
      "170:\tlearn: 0.8079915\ttotal: 2m 54s\tremaining: 1m 20s\n",
      "171:\tlearn: 0.8085282\ttotal: 2m 55s\tremaining: 1m 19s\n",
      "172:\tlearn: 0.8089769\ttotal: 2m 56s\tremaining: 1m 18s\n",
      "173:\tlearn: 0.8093275\ttotal: 2m 57s\tremaining: 1m 17s\n",
      "174:\tlearn: 0.8099582\ttotal: 2m 58s\tremaining: 1m 16s\n",
      "175:\tlearn: 0.8103783\ttotal: 2m 59s\tremaining: 1m 15s\n",
      "176:\tlearn: 0.8103560\ttotal: 3m\tremaining: 1m 14s\n",
      "177:\tlearn: 0.8107758\ttotal: 3m 1s\tremaining: 1m 13s\n",
      "178:\tlearn: 0.8114783\ttotal: 3m 2s\tremaining: 1m 12s\n",
      "179:\tlearn: 0.8119673\ttotal: 3m 3s\tremaining: 1m 11s\n",
      "180:\tlearn: 0.8120371\ttotal: 3m 4s\tremaining: 1m 10s\n",
      "181:\tlearn: 0.8126910\ttotal: 3m 5s\tremaining: 1m 9s\n",
      "182:\tlearn: 0.8128744\ttotal: 3m 6s\tremaining: 1m 8s\n",
      "183:\tlearn: 0.8130396\ttotal: 3m 7s\tremaining: 1m 7s\n",
      "184:\tlearn: 0.8133185\ttotal: 3m 8s\tremaining: 1m 6s\n",
      "185:\tlearn: 0.8140886\ttotal: 3m 9s\tremaining: 1m 5s\n",
      "186:\tlearn: 0.8149495\ttotal: 3m 10s\tremaining: 1m 4s\n",
      "187:\tlearn: 0.8155920\ttotal: 3m 11s\tremaining: 1m 3s\n",
      "188:\tlearn: 0.8158049\ttotal: 3m 12s\tremaining: 1m 2s\n",
      "189:\tlearn: 0.8161997\ttotal: 3m 13s\tremaining: 1m 1s\n",
      "190:\tlearn: 0.8170153\ttotal: 3m 14s\tremaining: 1m\n",
      "191:\tlearn: 0.8170153\ttotal: 3m 15s\tremaining: 59.2s\n",
      "192:\tlearn: 0.8172232\ttotal: 3m 16s\tremaining: 58.1s\n",
      "193:\tlearn: 0.8174310\ttotal: 3m 17s\tremaining: 57.1s\n",
      "194:\tlearn: 0.8175268\ttotal: 3m 18s\tremaining: 56.1s\n",
      "195:\tlearn: 0.8180807\ttotal: 3m 20s\tremaining: 55.1s\n",
      "196:\tlearn: 0.8185437\ttotal: 3m 20s\tremaining: 54.1s\n",
      "197:\tlearn: 0.8190064\ttotal: 3m 22s\tremaining: 53s\n",
      "198:\tlearn: 0.8193998\ttotal: 3m 23s\tremaining: 52s\n",
      "199:\tlearn: 0.8196069\ttotal: 3m 24s\tremaining: 51s\n",
      "200:\tlearn: 0.8199520\ttotal: 3m 25s\tremaining: 50s\n",
      "201:\tlearn: 0.8211781\ttotal: 3m 26s\tremaining: 49s\n",
      "202:\tlearn: 0.8214536\ttotal: 3m 27s\tremaining: 48s\n",
      "203:\tlearn: 0.8213848\ttotal: 3m 28s\tremaining: 47s\n",
      "204:\tlearn: 0.8223208\ttotal: 3m 29s\tremaining: 46s\n",
      "205:\tlearn: 0.8227811\ttotal: 3m 30s\tremaining: 44.9s\n",
      "206:\tlearn: 0.8231931\ttotal: 3m 31s\tremaining: 43.9s\n",
      "207:\tlearn: 0.8232479\ttotal: 3m 32s\tremaining: 42.9s\n",
      "208:\tlearn: 0.8232960\ttotal: 3m 33s\tremaining: 41.9s\n",
      "209:\tlearn: 0.8235020\ttotal: 3m 34s\tremaining: 40.9s\n",
      "210:\tlearn: 0.8237079\ttotal: 3m 35s\tremaining: 39.8s\n",
      "211:\tlearn: 0.8239823\ttotal: 3m 36s\tremaining: 38.8s\n",
      "212:\tlearn: 0.8245307\ttotal: 3m 37s\tremaining: 37.8s\n",
      "213:\tlearn: 0.8246678\ttotal: 3m 38s\tremaining: 36.8s\n",
      "214:\tlearn: 0.8251064\ttotal: 3m 39s\tremaining: 35.8s\n",
      "215:\tlearn: 0.8253598\ttotal: 3m 40s\tremaining: 34.8s\n",
      "216:\tlearn: 0.8252914\ttotal: 3m 41s\tremaining: 33.7s\n",
      "217:\tlearn: 0.8255448\ttotal: 3m 42s\tremaining: 32.7s\n",
      "218:\tlearn: 0.8264338\ttotal: 3m 43s\tremaining: 31.7s\n",
      "219:\tlearn: 0.8264338\ttotal: 3m 44s\tremaining: 30.7s\n",
      "220:\tlearn: 0.8268234\ttotal: 3m 45s\tremaining: 29.6s\n",
      "221:\tlearn: 0.8273415\ttotal: 3m 46s\tremaining: 28.6s\n",
      "222:\tlearn: 0.8273214\ttotal: 3m 47s\tremaining: 27.6s\n",
      "223:\tlearn: 0.8275260\ttotal: 3m 48s\tremaining: 26.6s\n",
      "224:\tlearn: 0.8274578\ttotal: 3m 49s\tremaining: 25.5s\n",
      "225:\tlearn: 0.8280514\ttotal: 3m 50s\tremaining: 24.5s\n",
      "226:\tlearn: 0.8280151\ttotal: 3m 51s\tremaining: 23.5s\n",
      "227:\tlearn: 0.8284037\ttotal: 3m 52s\tremaining: 22.5s\n",
      "228:\tlearn: 0.8296365\ttotal: 3m 53s\tremaining: 21.5s\n",
      "229:\tlearn: 0.8299565\ttotal: 3m 54s\tremaining: 20.4s\n",
      "230:\tlearn: 0.8303442\ttotal: 3m 55s\tremaining: 19.4s\n",
      "231:\tlearn: 0.8311869\ttotal: 3m 56s\tremaining: 18.4s\n",
      "232:\tlearn: 0.8313225\ttotal: 3m 58s\tremaining: 17.4s\n",
      "233:\tlearn: 0.8314581\ttotal: 3m 59s\tremaining: 16.3s\n",
      "234:\tlearn: 0.8313903\ttotal: 4m\tremaining: 15.3s\n",
      "235:\tlearn: 0.8317773\ttotal: 4m 1s\tremaining: 14.3s\n",
      "236:\tlearn: 0.8316418\ttotal: 4m 2s\tremaining: 13.3s\n",
      "237:\tlearn: 0.8317773\ttotal: 4m 3s\tremaining: 12.3s\n",
      "238:\tlearn: 0.8321354\ttotal: 4m 4s\tremaining: 11.2s\n",
      "239:\tlearn: 0.8323385\ttotal: 4m 5s\tremaining: 10.2s\n",
      "240:\tlearn: 0.8322031\ttotal: 4m 6s\tremaining: 9.19s\n",
      "241:\tlearn: 0.8322513\ttotal: 4m 7s\tremaining: 8.17s\n",
      "242:\tlearn: 0.8325897\ttotal: 4m 8s\tremaining: 7.15s\n",
      "243:\tlearn: 0.8325897\ttotal: 4m 9s\tremaining: 6.13s\n",
      "244:\tlearn: 0.8325220\ttotal: 4m 10s\tremaining: 5.1s\n",
      "245:\tlearn: 0.8327056\ttotal: 4m 11s\tremaining: 4.08s\n",
      "246:\tlearn: 0.8326379\ttotal: 4m 12s\tremaining: 3.06s\n",
      "247:\tlearn: 0.8327056\ttotal: 4m 13s\tremaining: 2.04s\n",
      "248:\tlearn: 0.8326379\ttotal: 4m 14s\tremaining: 1.02s\n",
      "249:\tlearn: 0.8326185\ttotal: 4m 15s\tremaining: 0us\n"
     ]
    },
    {
     "data": {
      "text/html": [
       "<div>\n",
       "<style scoped>\n",
       "    .dataframe tbody tr th:only-of-type {\n",
       "        vertical-align: middle;\n",
       "    }\n",
       "\n",
       "    .dataframe tbody tr th {\n",
       "        vertical-align: top;\n",
       "    }\n",
       "\n",
       "    .dataframe thead th {\n",
       "        text-align: right;\n",
       "    }\n",
       "</style>\n",
       "<table border=\"1\" class=\"dataframe\">\n",
       "  <thead>\n",
       "    <tr style=\"text-align: right;\">\n",
       "      <th></th>\n",
       "      <th>model</th>\n",
       "      <th>f1_train</th>\n",
       "      <th>f1_valid</th>\n",
       "    </tr>\n",
       "  </thead>\n",
       "  <tbody>\n",
       "    <tr>\n",
       "      <th>0</th>\n",
       "      <td>CatBoostClassifier</td>\n",
       "      <td>0.832619</td>\n",
       "      <td>0.765478</td>\n",
       "    </tr>\n",
       "  </tbody>\n",
       "</table>\n",
       "</div>"
      ],
      "text/plain": [
       "                model  f1_train  f1_valid\n",
       "0  CatBoostClassifier  0.832619  0.765478"
      ]
     },
     "execution_count": 33,
     "metadata": {},
     "output_type": "execute_result"
    }
   ],
   "source": [
    "cbc = CatBoostClassifier(iterations = 250, learning_rate = 0.5, eval_metric = 'F1', verbose = True, random_state = rs)\n",
    "cbc_res = teacher(cbc, features_train, target_train)\n",
    "cbc_res"
   ]
  },
  {
   "cell_type": "code",
   "execution_count": 34,
   "metadata": {},
   "outputs": [
    {
     "data": {
      "text/html": [
       "<div>\n",
       "<style scoped>\n",
       "    .dataframe tbody tr th:only-of-type {\n",
       "        vertical-align: middle;\n",
       "    }\n",
       "\n",
       "    .dataframe tbody tr th {\n",
       "        vertical-align: top;\n",
       "    }\n",
       "\n",
       "    .dataframe thead th {\n",
       "        text-align: right;\n",
       "    }\n",
       "</style>\n",
       "<table border=\"1\" class=\"dataframe\">\n",
       "  <thead>\n",
       "    <tr style=\"text-align: right;\">\n",
       "      <th></th>\n",
       "      <th>model</th>\n",
       "      <th>f1_train</th>\n",
       "      <th>f1_valid</th>\n",
       "    </tr>\n",
       "  </thead>\n",
       "  <tbody>\n",
       "    <tr>\n",
       "      <th>0</th>\n",
       "      <td>LGBMClassifier</td>\n",
       "      <td>0.981493</td>\n",
       "      <td>0.767155</td>\n",
       "    </tr>\n",
       "  </tbody>\n",
       "</table>\n",
       "</div>"
      ],
      "text/plain": [
       "            model  f1_train  f1_valid\n",
       "0  LGBMClassifier  0.981493  0.767155"
      ]
     },
     "execution_count": 34,
     "metadata": {},
     "output_type": "execute_result"
    }
   ],
   "source": [
    "lgbm = LGBMClassifier(n_estimators=300, max_depth=15, learning_rate = 0.5, random_state = rs)\n",
    "lgbm_res = teacher(lgbm, features_train, target_train)\n",
    "lgbm_res"
   ]
  },
  {
   "cell_type": "code",
   "execution_count": 36,
   "metadata": {},
   "outputs": [
    {
     "data": {
      "text/html": [
       "<div>\n",
       "<style scoped>\n",
       "    .dataframe tbody tr th:only-of-type {\n",
       "        vertical-align: middle;\n",
       "    }\n",
       "\n",
       "    .dataframe tbody tr th {\n",
       "        vertical-align: top;\n",
       "    }\n",
       "\n",
       "    .dataframe thead th {\n",
       "        text-align: right;\n",
       "    }\n",
       "</style>\n",
       "<table border=\"1\" class=\"dataframe\">\n",
       "  <thead>\n",
       "    <tr style=\"text-align: right;\">\n",
       "      <th></th>\n",
       "      <th>model</th>\n",
       "      <th>f1_train</th>\n",
       "      <th>f1_valid</th>\n",
       "    </tr>\n",
       "  </thead>\n",
       "  <tbody>\n",
       "    <tr>\n",
       "      <th>0</th>\n",
       "      <td>LogisticRegression</td>\n",
       "      <td>0.837062</td>\n",
       "      <td>0.750429</td>\n",
       "    </tr>\n",
       "    <tr>\n",
       "      <th>0</th>\n",
       "      <td>CatBoostClassifier</td>\n",
       "      <td>0.832619</td>\n",
       "      <td>0.765478</td>\n",
       "    </tr>\n",
       "    <tr>\n",
       "      <th>0</th>\n",
       "      <td>LGBMClassifier</td>\n",
       "      <td>0.981493</td>\n",
       "      <td>0.767155</td>\n",
       "    </tr>\n",
       "    <tr>\n",
       "      <th>0</th>\n",
       "      <td>XGBClassifier</td>\n",
       "      <td>0.956947</td>\n",
       "      <td>0.779006</td>\n",
       "    </tr>\n",
       "  </tbody>\n",
       "</table>\n",
       "</div>"
      ],
      "text/plain": [
       "                model  f1_train  f1_valid\n",
       "0  LogisticRegression  0.837062  0.750429\n",
       "0  CatBoostClassifier  0.832619  0.765478\n",
       "0      LGBMClassifier  0.981493  0.767155\n",
       "0       XGBClassifier  0.956947  0.779006"
      ]
     },
     "execution_count": 36,
     "metadata": {},
     "output_type": "execute_result"
    }
   ],
   "source": [
    "result = lr_res.append([cbc_res, lgbm_res, xgb_res])\n",
    "result.f1_train = result.f1_train.astype('float').round(2)\n",
    "result.f1_valid = result.f1_valid.astype('float').round(2)\n",
    "result = result.sort_values(by='f1_valid', ascending=False)\n",
    "result"
   ]
  },
  {
   "cell_type": "code",
   "execution_count": 67,
   "metadata": {},
   "outputs": [
    {
     "data": {
      "text/html": [
       "<div>\n",
       "<style scoped>\n",
       "    .dataframe tbody tr th:only-of-type {\n",
       "        vertical-align: middle;\n",
       "    }\n",
       "\n",
       "    .dataframe tbody tr th {\n",
       "        vertical-align: top;\n",
       "    }\n",
       "\n",
       "    .dataframe thead th {\n",
       "        text-align: right;\n",
       "    }\n",
       "</style>\n",
       "<table border=\"1\" class=\"dataframe\">\n",
       "  <thead>\n",
       "    <tr style=\"text-align: right;\">\n",
       "      <th></th>\n",
       "      <th>model</th>\n",
       "      <th>f1_train</th>\n",
       "      <th>f1_valid</th>\n",
       "    </tr>\n",
       "  </thead>\n",
       "  <tbody>\n",
       "    <tr>\n",
       "      <th>0</th>\n",
       "      <td>LogisticRegression</td>\n",
       "      <td>0.84</td>\n",
       "      <td>0.75</td>\n",
       "    </tr>\n",
       "    <tr>\n",
       "      <th>0</th>\n",
       "      <td>CatBoostClassifier</td>\n",
       "      <td>0.83</td>\n",
       "      <td>0.77</td>\n",
       "    </tr>\n",
       "    <tr>\n",
       "      <th>0</th>\n",
       "      <td>LGBMClassifier</td>\n",
       "      <td>0.98</td>\n",
       "      <td>0.77</td>\n",
       "    </tr>\n",
       "    <tr>\n",
       "      <th>0</th>\n",
       "      <td>XGBClassifier</td>\n",
       "      <td>0.96</td>\n",
       "      <td>0.78</td>\n",
       "    </tr>\n",
       "  </tbody>\n",
       "</table>\n",
       "</div>"
      ],
      "text/plain": [
       "                model  f1_train  f1_valid\n",
       "0  LogisticRegression      0.84      0.75\n",
       "0  CatBoostClassifier      0.83      0.77\n",
       "0      LGBMClassifier      0.98      0.77\n",
       "0       XGBClassifier      0.96      0.78"
      ]
     },
     "execution_count": 67,
     "metadata": {},
     "output_type": "execute_result"
    }
   ],
   "source": [
    "result"
   ]
  },
  {
   "cell_type": "markdown",
   "metadata": {},
   "source": [
    "### BERT"
   ]
  },
  {
   "cell_type": "markdown",
   "metadata": {},
   "source": [
    "Разделим \"бертовые выборки\""
   ]
  },
  {
   "cell_type": "code",
   "execution_count": 38,
   "metadata": {},
   "outputs": [],
   "source": [
    "target_bert = target.head(len(features_bert))\n",
    "features_train_bert, features_test_bert, target_train_bert, target_test_bert = train_test_split(features_bert,\n",
    "                                                       target_bert,\n",
    "                                                       test_size = 0.3,\n",
    "                                                       random_state = rs)"
   ]
  },
  {
   "cell_type": "markdown",
   "metadata": {},
   "source": [
    "Обучим лог.регрессию и сделаем предсказание на бертовых выборках"
   ]
  },
  {
   "cell_type": "code",
   "execution_count": 48,
   "metadata": {},
   "outputs": [
    {
     "data": {
      "text/html": [
       "<div>\n",
       "<style scoped>\n",
       "    .dataframe tbody tr th:only-of-type {\n",
       "        vertical-align: middle;\n",
       "    }\n",
       "\n",
       "    .dataframe tbody tr th {\n",
       "        vertical-align: top;\n",
       "    }\n",
       "\n",
       "    .dataframe thead th {\n",
       "        text-align: right;\n",
       "    }\n",
       "</style>\n",
       "<table border=\"1\" class=\"dataframe\">\n",
       "  <thead>\n",
       "    <tr style=\"text-align: right;\">\n",
       "      <th></th>\n",
       "      <th>model</th>\n",
       "      <th>f1_train</th>\n",
       "      <th>f1_valid</th>\n",
       "    </tr>\n",
       "  </thead>\n",
       "  <tbody>\n",
       "    <tr>\n",
       "      <th>0</th>\n",
       "      <td>LogRegBert</td>\n",
       "      <td>0.554546</td>\n",
       "      <td>0.600145</td>\n",
       "    </tr>\n",
       "  </tbody>\n",
       "</table>\n",
       "</div>"
      ],
      "text/plain": [
       "        model  f1_train  f1_valid\n",
       "0  LogRegBert  0.554546  0.600145"
      ]
     },
     "execution_count": 48,
     "metadata": {},
     "output_type": "execute_result"
    }
   ],
   "source": [
    "lr_bert = LogisticRegression(max_iter = 1000)\n",
    "lr_bert.fit(features_train_bert, target_train_bert)\n",
    "F1_cv = cross_val_score(lr_bert, features_train_bert, target_train_bert, cv = 3, scoring = 'f1').mean()\n",
    "F1_cv_val = cross_val_score(lr_bert, features_test_bert, target_test_bert, cv = 3, scoring = 'f1').mean() \n",
    "df_res = pd.DataFrame(['LogRegBert', F1_cv, F1_cv_val]).T\n",
    "df_res.columns = ['model', 'f1_train', 'f1_valid']\n",
    "df_res"
   ]
  },
  {
   "cell_type": "code",
   "execution_count": null,
   "metadata": {},
   "outputs": [],
   "source": [
    "result.append(lr_bert)\n",
    "result"
   ]
  },
  {
   "cell_type": "markdown",
   "metadata": {},
   "source": [
    "### Выводы "
   ]
  },
  {
   "cell_type": "markdown",
   "metadata": {},
   "source": [
    "Мы обучили несколько моделей, рещающих задачу классификации: \n",
    "* LGBMClassifier\n",
    "* CatBoostClassifier\n",
    "* XGBClassifier\n",
    "* LogisticRegression\n",
    "* LogisticRegression, обученную на BERT\n",
    "\n",
    "Для BERT мы взяли ограниченную выборку из 2000 строк, поэтому модель показала себя недостаточно хорошо.<br>\n",
    "Тем не менее, лучшей моделью согласно сравнению метрик F1, признаем **XGBClassifier** с показателем 0.78 на валиде. "
   ]
  },
  {
   "cell_type": "markdown",
   "metadata": {},
   "source": [
    "## Тестирование"
   ]
  },
  {
   "cell_type": "code",
   "execution_count": 40,
   "metadata": {},
   "outputs": [],
   "source": [
    "def tester(model, features, target):\n",
    "    model.fit(features, target)\n",
    "    F1_train = f1_score(target, model.predict(features))\n",
    "    F1_test = f1_score(target_test, model.predict(features_test))\n",
    "    df_res = pd.DataFrame([(type(model).__name__), F1_train, F1_test]).T\n",
    "    df_res.columns = ['model', 'f1_train', 'f1_test']\n",
    "    return df_res"
   ]
  },
  {
   "cell_type": "code",
   "execution_count": 41,
   "metadata": {},
   "outputs": [
    {
     "data": {
      "text/html": [
       "<div>\n",
       "<style scoped>\n",
       "    .dataframe tbody tr th:only-of-type {\n",
       "        vertical-align: middle;\n",
       "    }\n",
       "\n",
       "    .dataframe tbody tr th {\n",
       "        vertical-align: top;\n",
       "    }\n",
       "\n",
       "    .dataframe thead th {\n",
       "        text-align: right;\n",
       "    }\n",
       "</style>\n",
       "<table border=\"1\" class=\"dataframe\">\n",
       "  <thead>\n",
       "    <tr style=\"text-align: right;\">\n",
       "      <th></th>\n",
       "      <th>model</th>\n",
       "      <th>f1_train</th>\n",
       "      <th>f1_test</th>\n",
       "    </tr>\n",
       "  </thead>\n",
       "  <tbody>\n",
       "    <tr>\n",
       "      <th>0</th>\n",
       "      <td>XGBClassifier</td>\n",
       "      <td>0.874626</td>\n",
       "      <td>0.751611</td>\n",
       "    </tr>\n",
       "  </tbody>\n",
       "</table>\n",
       "</div>"
      ],
      "text/plain": [
       "           model  f1_train   f1_test\n",
       "0  XGBClassifier  0.874626  0.751611"
      ]
     },
     "execution_count": 41,
     "metadata": {},
     "output_type": "execute_result"
    }
   ],
   "source": [
    "best = XGBClassifier(n_estimators=250, max_depth=11, max_leaves=1, learning_rate=0.2, booster='gbtree', random_state = rs)\n",
    "best_res = tester(best, features_train, target_train)\n",
    "best_res"
   ]
  },
  {
   "cell_type": "markdown",
   "metadata": {},
   "source": [
    "## Выводы"
   ]
  },
  {
   "cell_type": "markdown",
   "metadata": {},
   "source": [
    "Классификатор **XGBoost** достиг качества предсказания требуемого значения метрики F1=0.75.<br>\n",
    "\n",
    "В ходе исследования:\n",
    "1. Проведена предобработка данных;\n",
    "2. Протестировано 2 способа балансировки классов, выбран способ изменения весов.\n",
    "3. Обучено несколько моделей, в том числе обученная на данных, обработанных с помощью нейронной сети BERT. \n",
    "    В условиях ограниченности времени и ресурсов модель не отработала на полную мощность, в следствие чего принята не была.\n",
    "4. По итогам метрики F1 выбрана и протестирована модель градиентого бустинга **XGBoost**, решающая задачу классификации для обнаружения токсичных комментариев.\n",
    "5. Результат метрики F1 модели XGBoost = 0.75, что соответствует требуемому уровню заказчика."
   ]
  },
  {
   "cell_type": "markdown",
   "metadata": {},
   "source": [
    "☔☔☔"
   ]
  }
 ],
 "metadata": {
  "kernelspec": {
   "display_name": "Python 3 (ipykernel)",
   "language": "python",
   "name": "python3"
  },
  "language_info": {
   "codemirror_mode": {
    "name": "ipython",
    "version": 3
   },
   "file_extension": ".py",
   "mimetype": "text/x-python",
   "name": "python",
   "nbconvert_exporter": "python",
   "pygments_lexer": "ipython3",
   "version": "3.9.7"
  },
  "toc": {
   "base_numbering": 1,
   "nav_menu": {},
   "number_sections": true,
   "sideBar": true,
   "skip_h1_title": true,
   "title_cell": "Содержание",
   "title_sidebar": "Contents",
   "toc_cell": true,
   "toc_position": {
    "height": "calc(100% - 180px)",
    "left": "10px",
    "top": "150px",
    "width": "302.391px"
   },
   "toc_section_display": true,
   "toc_window_display": false
  }
 },
 "nbformat": 4,
 "nbformat_minor": 2
}
