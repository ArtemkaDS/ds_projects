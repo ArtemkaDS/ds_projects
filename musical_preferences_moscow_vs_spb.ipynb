{
 "cells": [
  {
   "cell_type": "markdown",
   "metadata": {
    "id": "E0vqbgi9ay0H"
   },
   "source": [
    "# Яндекс.Музыка"
   ]
  },
  {
   "cell_type": "markdown",
   "metadata": {
    "id": "VUC88oWjTJw2"
   },
   "source": [
    "Сравнение Москвы и Петербурга окружено мифами. Например:\n",
    " * Москва — мегаполис, подчинённый жёсткому ритму рабочей недели;\n",
    " * Петербург — культурная столица, со своими вкусами.\n",
    "\n",
    "В этом проекте сравним поведение пользователей двух столиц.\n",
    "\n",
    "**Цель исследования** — проверить три гипотезы:\n",
    "1. Активность пользователей зависит от дня недели. Причём в Москве и Петербурге это проявляется по-разному.\n",
    "2. В понедельник утром в Москве преобладают одни жанры, а в Петербурге — другие. Так же и вечером пятницы преобладают разные жанры — в зависимости от города. \n",
    "3. Москва и Петербург предпочитают разные жанры музыки. В Москве чаще слушают поп-музыку, в Петербурге — русский рэп.\n",
    "\n",
    "**Ход исследования**\n",
    "\n",
    "Данные о поведении пользователей получили `yandex_music_project.csv`. О качестве данных ничего не известно. Сделаем обзор данных перед проверкой гипотез. \n",
    "\n",
    "Проверим данные на ошибки и оценим их влияние на исследование. Также на этапе предобработки исправим критичные ошибки в данных.\n",
    " \n",
    "Таким образом, исследование пройдёт в три этапа:\n",
    " 1. Обзор данных.\n",
    " 2. Предобработка данных.\n",
    " 3. Проверка гипотез."
   ]
  },
  {
   "cell_type": "markdown",
   "metadata": {
    "id": "Ml1hmfXC_Zcs"
   },
   "source": [
    "## Обзор данных\n",
    "\n",
    "Составим первое представление о данных Яндекс.Музыки.\n",
    "\n"
   ]
  },
  {
   "cell_type": "code",
   "execution_count": 17,
   "metadata": {
    "id": "AXN7PHPN_Zcs"
   },
   "outputs": [],
   "source": [
    "import pandas as pd"
   ]
  },
  {
   "cell_type": "markdown",
   "metadata": {
    "id": "SG23P8tt_Zcs"
   },
   "source": [
    "Файл `yandex_music_project.csv` скачан, документация прилагается"
   ]
  },
  {
   "cell_type": "code",
   "execution_count": 18,
   "metadata": {
    "id": "fFVu7vqh_Zct"
   },
   "outputs": [],
   "source": [
    "df = pd.read_csv('yandex_music_project.csv')"
   ]
  },
  {
   "cell_type": "code",
   "execution_count": 19,
   "metadata": {
    "id": "oWTVX3gW_Zct"
   },
   "outputs": [
    {
     "data": {
      "text/html": [
       "<div>\n",
       "<style scoped>\n",
       "    .dataframe tbody tr th:only-of-type {\n",
       "        vertical-align: middle;\n",
       "    }\n",
       "\n",
       "    .dataframe tbody tr th {\n",
       "        vertical-align: top;\n",
       "    }\n",
       "\n",
       "    .dataframe thead th {\n",
       "        text-align: right;\n",
       "    }\n",
       "</style>\n",
       "<table border=\"1\" class=\"dataframe\">\n",
       "  <thead>\n",
       "    <tr style=\"text-align: right;\">\n",
       "      <th></th>\n",
       "      <th>userID</th>\n",
       "      <th>Track</th>\n",
       "      <th>artist</th>\n",
       "      <th>genre</th>\n",
       "      <th>City</th>\n",
       "      <th>time</th>\n",
       "      <th>Day</th>\n",
       "    </tr>\n",
       "  </thead>\n",
       "  <tbody>\n",
       "    <tr>\n",
       "      <th>0</th>\n",
       "      <td>FFB692EC</td>\n",
       "      <td>Kamigata To Boots</td>\n",
       "      <td>The Mass Missile</td>\n",
       "      <td>rock</td>\n",
       "      <td>Saint-Petersburg</td>\n",
       "      <td>20:28:33</td>\n",
       "      <td>Wednesday</td>\n",
       "    </tr>\n",
       "    <tr>\n",
       "      <th>1</th>\n",
       "      <td>55204538</td>\n",
       "      <td>Delayed Because of Accident</td>\n",
       "      <td>Andreas Rönnberg</td>\n",
       "      <td>rock</td>\n",
       "      <td>Moscow</td>\n",
       "      <td>14:07:09</td>\n",
       "      <td>Friday</td>\n",
       "    </tr>\n",
       "    <tr>\n",
       "      <th>2</th>\n",
       "      <td>20EC38</td>\n",
       "      <td>Funiculì funiculà</td>\n",
       "      <td>Mario Lanza</td>\n",
       "      <td>pop</td>\n",
       "      <td>Saint-Petersburg</td>\n",
       "      <td>20:58:07</td>\n",
       "      <td>Wednesday</td>\n",
       "    </tr>\n",
       "    <tr>\n",
       "      <th>3</th>\n",
       "      <td>A3DD03C9</td>\n",
       "      <td>Dragons in the Sunset</td>\n",
       "      <td>Fire + Ice</td>\n",
       "      <td>folk</td>\n",
       "      <td>Saint-Petersburg</td>\n",
       "      <td>08:37:09</td>\n",
       "      <td>Monday</td>\n",
       "    </tr>\n",
       "    <tr>\n",
       "      <th>4</th>\n",
       "      <td>E2DC1FAE</td>\n",
       "      <td>Soul People</td>\n",
       "      <td>Space Echo</td>\n",
       "      <td>dance</td>\n",
       "      <td>Moscow</td>\n",
       "      <td>08:34:34</td>\n",
       "      <td>Monday</td>\n",
       "    </tr>\n",
       "    <tr>\n",
       "      <th>5</th>\n",
       "      <td>842029A1</td>\n",
       "      <td>Преданная</td>\n",
       "      <td>IMPERVTOR</td>\n",
       "      <td>rusrap</td>\n",
       "      <td>Saint-Petersburg</td>\n",
       "      <td>13:09:41</td>\n",
       "      <td>Friday</td>\n",
       "    </tr>\n",
       "    <tr>\n",
       "      <th>6</th>\n",
       "      <td>4CB90AA5</td>\n",
       "      <td>True</td>\n",
       "      <td>Roman Messer</td>\n",
       "      <td>dance</td>\n",
       "      <td>Moscow</td>\n",
       "      <td>13:00:07</td>\n",
       "      <td>Wednesday</td>\n",
       "    </tr>\n",
       "    <tr>\n",
       "      <th>7</th>\n",
       "      <td>F03E1C1F</td>\n",
       "      <td>Feeling This Way</td>\n",
       "      <td>Polina Griffith</td>\n",
       "      <td>dance</td>\n",
       "      <td>Moscow</td>\n",
       "      <td>20:47:49</td>\n",
       "      <td>Wednesday</td>\n",
       "    </tr>\n",
       "    <tr>\n",
       "      <th>8</th>\n",
       "      <td>8FA1D3BE</td>\n",
       "      <td>И вновь продолжается бой</td>\n",
       "      <td>NaN</td>\n",
       "      <td>ruspop</td>\n",
       "      <td>Moscow</td>\n",
       "      <td>09:17:40</td>\n",
       "      <td>Friday</td>\n",
       "    </tr>\n",
       "    <tr>\n",
       "      <th>9</th>\n",
       "      <td>E772D5C0</td>\n",
       "      <td>Pessimist</td>\n",
       "      <td>NaN</td>\n",
       "      <td>dance</td>\n",
       "      <td>Saint-Petersburg</td>\n",
       "      <td>21:20:49</td>\n",
       "      <td>Wednesday</td>\n",
       "    </tr>\n",
       "  </tbody>\n",
       "</table>\n",
       "</div>"
      ],
      "text/plain": [
       "     userID                        Track            artist   genre  \\\n",
       "0  FFB692EC            Kamigata To Boots  The Mass Missile    rock   \n",
       "1  55204538  Delayed Because of Accident  Andreas Rönnberg    rock   \n",
       "2    20EC38            Funiculì funiculà       Mario Lanza     pop   \n",
       "3  A3DD03C9        Dragons in the Sunset        Fire + Ice    folk   \n",
       "4  E2DC1FAE                  Soul People        Space Echo   dance   \n",
       "5  842029A1                    Преданная         IMPERVTOR  rusrap   \n",
       "6  4CB90AA5                         True      Roman Messer   dance   \n",
       "7  F03E1C1F             Feeling This Way   Polina Griffith   dance   \n",
       "8  8FA1D3BE     И вновь продолжается бой               NaN  ruspop   \n",
       "9  E772D5C0                    Pessimist               NaN   dance   \n",
       "\n",
       "             City        time        Day  \n",
       "0  Saint-Petersburg  20:28:33  Wednesday  \n",
       "1            Moscow  14:07:09     Friday  \n",
       "2  Saint-Petersburg  20:58:07  Wednesday  \n",
       "3  Saint-Petersburg  08:37:09     Monday  \n",
       "4            Moscow  08:34:34     Monday  \n",
       "5  Saint-Petersburg  13:09:41     Friday  \n",
       "6            Moscow  13:00:07  Wednesday  \n",
       "7            Moscow  20:47:49  Wednesday  \n",
       "8            Moscow  09:17:40     Friday  \n",
       "9  Saint-Petersburg  21:20:49  Wednesday  "
      ]
     },
     "execution_count": 19,
     "metadata": {},
     "output_type": "execute_result"
    }
   ],
   "source": [
    "df.head(10)"
   ]
  },
  {
   "cell_type": "code",
   "execution_count": 20,
   "metadata": {
    "id": "DSf2kIb-_Zct"
   },
   "outputs": [
    {
     "name": "stdout",
     "output_type": "stream",
     "text": [
      "<class 'pandas.core.frame.DataFrame'>\n",
      "RangeIndex: 65079 entries, 0 to 65078\n",
      "Data columns (total 7 columns):\n",
      " #   Column    Non-Null Count  Dtype \n",
      "---  ------    --------------  ----- \n",
      " 0     userID  65079 non-null  object\n",
      " 1   Track     63848 non-null  object\n",
      " 2   artist    57876 non-null  object\n",
      " 3   genre     63881 non-null  object\n",
      " 4     City    65079 non-null  object\n",
      " 5   time      65079 non-null  object\n",
      " 6   Day       65079 non-null  object\n",
      "dtypes: object(7)\n",
      "memory usage: 3.5+ MB\n"
     ]
    }
   ],
   "source": [
    "df.info()"
   ]
  },
  {
   "cell_type": "code",
   "execution_count": 21,
   "metadata": {},
   "outputs": [
    {
     "data": {
      "text/html": [
       "<div>\n",
       "<style scoped>\n",
       "    .dataframe tbody tr th:only-of-type {\n",
       "        vertical-align: middle;\n",
       "    }\n",
       "\n",
       "    .dataframe tbody tr th {\n",
       "        vertical-align: top;\n",
       "    }\n",
       "\n",
       "    .dataframe thead th {\n",
       "        text-align: right;\n",
       "    }\n",
       "</style>\n",
       "<table border=\"1\" class=\"dataframe\">\n",
       "  <thead>\n",
       "    <tr style=\"text-align: right;\">\n",
       "      <th></th>\n",
       "      <th>userID</th>\n",
       "      <th>Track</th>\n",
       "      <th>artist</th>\n",
       "      <th>genre</th>\n",
       "      <th>City</th>\n",
       "      <th>time</th>\n",
       "      <th>Day</th>\n",
       "    </tr>\n",
       "  </thead>\n",
       "  <tbody>\n",
       "    <tr>\n",
       "      <th>count</th>\n",
       "      <td>65079</td>\n",
       "      <td>63848</td>\n",
       "      <td>57876</td>\n",
       "      <td>63881</td>\n",
       "      <td>65079</td>\n",
       "      <td>65079</td>\n",
       "      <td>65079</td>\n",
       "    </tr>\n",
       "    <tr>\n",
       "      <th>unique</th>\n",
       "      <td>41748</td>\n",
       "      <td>47245</td>\n",
       "      <td>43605</td>\n",
       "      <td>289</td>\n",
       "      <td>2</td>\n",
       "      <td>20392</td>\n",
       "      <td>3</td>\n",
       "    </tr>\n",
       "    <tr>\n",
       "      <th>top</th>\n",
       "      <td>A8AE9169</td>\n",
       "      <td>Intro</td>\n",
       "      <td>Sasha</td>\n",
       "      <td>pop</td>\n",
       "      <td>Moscow</td>\n",
       "      <td>08:14:07</td>\n",
       "      <td>Friday</td>\n",
       "    </tr>\n",
       "    <tr>\n",
       "      <th>freq</th>\n",
       "      <td>76</td>\n",
       "      <td>34</td>\n",
       "      <td>6</td>\n",
       "      <td>8850</td>\n",
       "      <td>45360</td>\n",
       "      <td>14</td>\n",
       "      <td>23149</td>\n",
       "    </tr>\n",
       "  </tbody>\n",
       "</table>\n",
       "</div>"
      ],
      "text/plain": [
       "          userID  Track artist  genre   City        time     Day\n",
       "count      65079  63848  57876  63881    65079     65079   65079\n",
       "unique     41748  47245  43605    289        2     20392       3\n",
       "top     A8AE9169  Intro  Sasha    pop   Moscow  08:14:07  Friday\n",
       "freq          76     34      6   8850    45360        14   23149"
      ]
     },
     "execution_count": 21,
     "metadata": {},
     "output_type": "execute_result"
    }
   ],
   "source": [
    "df.describe() #кратко получили информацию об уникальных значениях"
   ]
  },
  {
   "cell_type": "markdown",
   "metadata": {
    "id": "TaQ2Iwbr_Zct"
   },
   "source": [
    "Итак, в таблице семь столбцов. Тип данных во всех столбцах — `object`.\n",
    "\n",
    "Согласно документации к данным:\n",
    "* `userID` — идентификатор пользователя;\n",
    "* `Track` — название трека;  \n",
    "* `artist` — имя исполнителя;\n",
    "* `genre` — название жанра;\n",
    "* `City` — город пользователя;\n",
    "* `time` — время начала прослушивания;\n",
    "* `Day` — день недели.\n",
    "\n",
    "В названиях колонок видны три нарушения стиля:\n",
    "1. Строчные буквы сочетаются с прописными.\n",
    "2. Встречаются пробелы.\n",
    "3. Применен верблюжий регистр вместо змеиного\n",
    "\n",
    "\n",
    "\n",
    "Количество значений в столбцах различается. Значит, в данных есть пропущенные значения.\n"
   ]
  },
  {
   "cell_type": "markdown",
   "metadata": {
    "id": "MCB6-dXG_Zct"
   },
   "source": [
    "**Выводы**\n",
    "\n",
    "В каждой строке таблицы — данные о прослушанном треке. Часть колонок описывает саму композицию: название, исполнителя и жанр. Остальные данные рассказывают о пользователе: из какого он города, когда он слушал музыку. \n",
    "\n",
    "Предварительно можно утверждать, что, данных достаточно для проверки гипотез. Но встречаются пропуски в данных, а в названиях колонок — расхождения с хорошим стилем.\n",
    "\n",
    "Чтобы двигаться дальше, нужно устранить проблемы в данных."
   ]
  },
  {
   "cell_type": "markdown",
   "metadata": {
    "id": "SjYF6Ub9_Zct"
   },
   "source": [
    "## Предобработка данных\n",
    "Исправим стиль в заголовках столбцов, исключим пропуски. Затем проверим данные на дубликаты."
   ]
  },
  {
   "cell_type": "markdown",
   "metadata": {
    "id": "dIaKXr29_Zct"
   },
   "source": [
    "### Стиль заголовков"
   ]
  },
  {
   "cell_type": "code",
   "execution_count": 22,
   "metadata": {
    "id": "oKOTdF_Q_Zct"
   },
   "outputs": [
    {
     "data": {
      "text/plain": [
       "Index(['  userID', 'Track', 'artist', 'genre', '  City  ', 'time', 'Day'], dtype='object')"
      ]
     },
     "execution_count": 22,
     "metadata": {},
     "output_type": "execute_result"
    }
   ],
   "source": [
    "df.columns # перечень названий столбцов таблицы df"
   ]
  },
  {
   "cell_type": "markdown",
   "metadata": {
    "id": "zj5534cv_Zct"
   },
   "source": [
    "Приведем названия в соответствие с хорошим стилем:\n",
    "* переведем все в «змеиный_регистр»,\n",
    "* все символы сделаем строчными,\n",
    "* устраним пробелы.\n",
    "\n",
    "Для этого переименуем колонки так:\n",
    "* `'  userID'` → `'user_id'`;\n",
    "* `'Track'` → `'track'`;\n",
    "* `'  City  '` → `'city'`;\n",
    "* `'Day'` → `'day'`."
   ]
  },
  {
   "cell_type": "code",
   "execution_count": 23,
   "metadata": {
    "id": "ISlFqs5y_Zct"
   },
   "outputs": [],
   "source": [
    "renamed_columns = {\n",
    "    '  userID': 'user_id',\n",
    "    'Track': 'track',\n",
    "    '  City  ': 'city',\n",
    "    'Day': 'day'\n",
    "} # словарь с новыми именами столбцов\n",
    "\n",
    "df.rename(columns=renamed_columns, inplace=True)"
   ]
  },
  {
   "cell_type": "markdown",
   "metadata": {
    "id": "1dqbh00J_Zct"
   },
   "source": [
    "Проверим результат"
   ]
  },
  {
   "cell_type": "code",
   "execution_count": 24,
   "metadata": {
    "id": "d4NOAmTW_Zct"
   },
   "outputs": [
    {
     "data": {
      "text/plain": [
       "Index(['user_id', 'track', 'artist', 'genre', 'city', 'time', 'day'], dtype='object')"
      ]
     },
     "execution_count": 24,
     "metadata": {},
     "output_type": "execute_result"
    }
   ],
   "source": [
    "df.columns # проверка результатов - перечень названий столбцов"
   ]
  },
  {
   "cell_type": "markdown",
   "metadata": {
    "id": "5ISfbcfY_Zct"
   },
   "source": [
    "### Пропуски значений\n",
    "Посчитаем, сколько в таблице пропущенных значений"
   ]
  },
  {
   "cell_type": "code",
   "execution_count": 25,
   "metadata": {
    "id": "RskX29qr_Zct"
   },
   "outputs": [
    {
     "data": {
      "text/plain": [
       "user_id       0\n",
       "track      1231\n",
       "artist     7203\n",
       "genre      1198\n",
       "city          0\n",
       "time          0\n",
       "day           0\n",
       "dtype: int64"
      ]
     },
     "execution_count": 25,
     "metadata": {},
     "output_type": "execute_result"
    }
   ],
   "source": [
    "df.isna().sum() # подсчёт пропусков"
   ]
  },
  {
   "cell_type": "markdown",
   "metadata": {
    "id": "qubhgnlO_Zct"
   },
   "source": [
    "Не все пропущенные значения влияют на исследование. Так в `track` и `artist` пропуски не важны для вашей работы. Достаточно заменить их явными обозначениями.\n",
    "\n",
    "Но пропуски в `genre` могут помешать сравнению музыкальных вкусов в Москве и Санкт-Петербурге. Установить причину пропусков и восстановить данные возможности нет, поэтому:\n",
    "* заполним эти пропуски явными обозначениями,\n",
    "* оценим, насколько они повредят расчётам. "
   ]
  },
  {
   "cell_type": "markdown",
   "metadata": {
    "id": "fSv2laPA_Zct"
   },
   "source": [
    "Заменим пропущенные значения в столбцах `track`, `artist` и `genre` на строку `'unknown'`. Создадим список `columns_to_replace`, переберем его элементы циклом `for` и для каждого столбца выполним замену пропущенных значений:"
   ]
  },
  {
   "cell_type": "code",
   "execution_count": 26,
   "metadata": {
    "id": "KplB5qWs_Zct"
   },
   "outputs": [],
   "source": [
    "columns_to_replace = ['track', 'artist', 'genre'] # перебор названий столбцов в цикле и замена пропущенных значений на 'unknown'\n",
    "for column in columns_to_replace:\n",
    "    df[column].fillna('unknown', inplace=True)"
   ]
  },
  {
   "cell_type": "markdown",
   "metadata": {
    "id": "Ilsm-MZo_Zct"
   },
   "source": [
    "Убедимся, что в таблице не осталось пропусков. Для этого ещё раз посчитаем пропущенные значения."
   ]
  },
  {
   "cell_type": "code",
   "execution_count": 27,
   "metadata": {
    "id": "Tq4nYRX4_Zct"
   },
   "outputs": [
    {
     "data": {
      "text/plain": [
       "user_id    0\n",
       "track      0\n",
       "artist     0\n",
       "genre      0\n",
       "city       0\n",
       "time       0\n",
       "day        0\n",
       "dtype: int64"
      ]
     },
     "execution_count": 27,
     "metadata": {},
     "output_type": "execute_result"
    }
   ],
   "source": [
    "df.isna().sum() # подсчёт пропусков"
   ]
  },
  {
   "cell_type": "markdown",
   "metadata": {
    "id": "BWKRtBJ3_Zct"
   },
   "source": [
    "### Дубликаты\n",
    "Посчитаем явные дубликаты в таблице:"
   ]
  },
  {
   "cell_type": "code",
   "execution_count": 28,
   "metadata": {
    "id": "36eES_S0_Zct"
   },
   "outputs": [
    {
     "data": {
      "text/plain": [
       "3826"
      ]
     },
     "execution_count": 28,
     "metadata": {},
     "output_type": "execute_result"
    }
   ],
   "source": [
    "df.duplicated().sum()"
   ]
  },
  {
   "cell_type": "markdown",
   "metadata": {
    "id": "Ot25h6XR_Zct"
   },
   "source": [
    "Удалим явные дубликаты:"
   ]
  },
  {
   "cell_type": "code",
   "execution_count": 29,
   "metadata": {
    "id": "exFHq6tt_Zct"
   },
   "outputs": [],
   "source": [
    "df = df.drop_duplicates().reset_index(drop=True) # удаление явных дубликатов (с удалением старых индексов и формированием новых)"
   ]
  },
  {
   "cell_type": "code",
   "execution_count": 30,
   "metadata": {
    "id": "-8PuNWQ0_Zct"
   },
   "outputs": [
    {
     "data": {
      "text/plain": [
       "0"
      ]
     },
     "execution_count": 30,
     "metadata": {},
     "output_type": "execute_result"
    }
   ],
   "source": [
    "df.duplicated().sum() # проверка на отсутствие дубликатов"
   ]
  },
  {
   "cell_type": "markdown",
   "metadata": {
    "id": "QlFBsxAr_Zct"
   },
   "source": [
    "Теперь избавимся от неявных дубликатов в колонке `genre`"
   ]
  },
  {
   "cell_type": "markdown",
   "metadata": {
    "id": "eSjWwsOh_Zct"
   },
   "source": [
    "Список уникальных названий жанров в алфавитном порядке"
   ]
  },
  {
   "cell_type": "code",
   "execution_count": 43,
   "metadata": {
    "id": "JIUcqzZN_Zct"
   },
   "outputs": [
    {
     "data": {
      "text/plain": [
       "array(['acid', 'acoustic', 'action', 'adult', 'africa', 'afrikaans',\n",
       "       'alternative', 'alternativepunk', 'ambient', 'americana',\n",
       "       'animated', 'anime', 'arabesk', 'arabic', 'arena',\n",
       "       'argentinetango', 'art', 'audiobook', 'author', 'avantgarde',\n",
       "       'axé', 'baile', 'balkan', 'beats', 'bigroom', 'black', 'bluegrass',\n",
       "       'blues', 'bollywood', 'bossa', 'brazilian', 'breakbeat', 'breaks',\n",
       "       'broadway', 'cantautori', 'cantopop', 'canzone', 'caribbean',\n",
       "       'caucasian', 'celtic', 'chamber', 'chanson', 'children', 'chill',\n",
       "       'chinese', 'choral', 'christian', 'christmas', 'classical',\n",
       "       'classicmetal', 'club', 'colombian', 'comedy', 'conjazz',\n",
       "       'contemporary', 'country', 'cuban', 'dance', 'dancehall',\n",
       "       'dancepop', 'dark', 'death', 'deep', 'deutschrock', 'deutschspr',\n",
       "       'dirty', 'disco', 'dnb', 'documentary', 'downbeat', 'downtempo',\n",
       "       'drum', 'dub', 'dubstep', 'eastern', 'easy', 'electronic',\n",
       "       'electropop', 'emo', 'entehno', 'epicmetal', 'estrada', 'ethnic',\n",
       "       'eurofolk', 'european', 'experimental', 'extrememetal', 'fado',\n",
       "       'fairytail', 'film', 'fitness', 'flamenco', 'folk', 'folklore',\n",
       "       'folkmetal', 'folkrock', 'folktronica', 'forró', 'frankreich',\n",
       "       'französisch', 'french', 'funk', 'future', 'gangsta', 'garage',\n",
       "       'german', 'ghazal', 'gitarre', 'glitch', 'gospel', 'gothic',\n",
       "       'grime', 'grunge', 'gypsy', 'handsup', \"hard'n'heavy\", 'hardcore',\n",
       "       'hardstyle', 'hardtechno', 'hiphop', 'historisch', 'holiday',\n",
       "       'horror', 'house', 'hymn', 'idm', 'independent', 'indian', 'indie',\n",
       "       'indipop', 'industrial', 'inspirational', 'instrumental',\n",
       "       'international', 'irish', 'jam', 'japanese', 'jazz', 'jewish',\n",
       "       'jpop', 'jungle', 'k-pop', 'karadeniz', 'karaoke', 'kayokyoku',\n",
       "       'korean', 'laiko', 'latin', 'latino', 'leftfield', 'local',\n",
       "       'lounge', 'loungeelectronic', 'lovers', 'malaysian', 'mandopop',\n",
       "       'marschmusik', 'meditative', 'mediterranean', 'melodic', 'metal',\n",
       "       'metalcore', 'mexican', 'middle', 'minimal', 'miscellaneous',\n",
       "       'modern', 'mood', 'mpb', 'muslim', 'native', 'neoklassik', 'neue',\n",
       "       'new', 'newage', 'newwave', 'nu', 'nujazz', 'numetal', 'oceania',\n",
       "       'old', 'opera', 'orchestral', 'other', 'piano', 'podcasts', 'pop',\n",
       "       'popdance', 'popelectronic', 'popeurodance', 'poprussian', 'post',\n",
       "       'posthardcore', 'postrock', 'power', 'progmetal', 'progressive',\n",
       "       'psychedelic', 'punjabi', 'punk', 'quebecois', 'ragga', 'ram',\n",
       "       'rancheras', 'rave', 'reggae', 'reggaeton', 'regional', 'relax',\n",
       "       'religious', 'retro', 'rhythm', 'rnb', 'rnr', 'rock', 'rockabilly',\n",
       "       'rockalternative', 'rockindie', 'rockother', 'romance', 'roots',\n",
       "       'ruspop', 'rusrap', 'rusrock', 'russian', 'salsa', 'samba',\n",
       "       'scenic', 'schlager', 'self', 'sertanejo', 'shanson', 'shoegazing',\n",
       "       'showtunes', 'singer', 'ska', 'skarock', 'slow', 'smooth', 'soft',\n",
       "       'soul', 'soulful', 'sound', 'soundtrack', 'southern', 'specialty',\n",
       "       'speech', 'spiritual', 'sport', 'stonerrock', 'surf', 'swing',\n",
       "       'synthpop', 'synthrock', 'sängerportrait', 'tango',\n",
       "       'tanzorchester', 'taraftar', 'tatar', 'tech', 'techno', 'teen',\n",
       "       'thrash', 'top', 'traditional', 'tradjazz', 'trance', 'tribal',\n",
       "       'trip', 'triphop', 'tropical', 'türk', 'türkçe', 'ukrrock',\n",
       "       'unknown', 'urban', 'uzbek', 'variété', 'vi', 'videogame', 'vocal',\n",
       "       'western', 'world', 'worldbeat', 'ïîï'], dtype=object)"
      ]
     },
     "execution_count": 43,
     "metadata": {},
     "output_type": "execute_result"
    }
   ],
   "source": [
    "unique_genres = df.genre.sort_values().unique()\n",
    "unique_genres"
   ]
  },
  {
   "cell_type": "markdown",
   "metadata": {
    "id": "qej-Qmuo_Zct"
   },
   "source": [
    "Есть неявные дубликаты названия `hiphop`. Это могут быть названия с ошибками или альтернативные названия того же жанра.\n",
    "\n",
    "* *hip*,\n",
    "* *hop*,\n",
    "* *hip-hop*,\n",
    "* *rap* <sup>*</sup>\n",
    "\n",
    "Напишем функцию `replace_wrong_genres()` с двумя параметрами: \n",
    "* `wrong_genres` — список дубликатов,\n",
    "* `correct_genre` — строка с правильным значением.\n",
    "\n",
    "Функция исправит колонку `genre` в таблице `df`: заменит каждое значение из списка `wrong_genres` на значение из `correct_genre`."
   ]
  },
  {
   "cell_type": "code",
   "execution_count": 33,
   "metadata": {
    "id": "ErNDkmns_Zct"
   },
   "outputs": [],
   "source": [
    "# Функция для замены неявных дубликатов\n",
    "def replace_wrong_genres(wrong_genres: list, correct_genre: str): #укажем сразу требуемый тип передаваемых нашей функции переменных\n",
    "    for wrong_genre in wrong_genres:\n",
    "        df.genre = df.genre.replace(wrong_genres, correct_genre)"
   ]
  },
  {
   "cell_type": "markdown",
   "metadata": {},
   "source": [
    "Создадим для функции переменные"
   ]
  },
  {
   "cell_type": "code",
   "execution_count": 34,
   "metadata": {},
   "outputs": [],
   "source": [
    "genres_to_rename = ['hip', 'hop', 'hip-hop', 'rap'] #\"rap\" тоже заменим на hiphop"
   ]
  },
  {
   "cell_type": "markdown",
   "metadata": {
    "id": "aDoBJxbA_Zct"
   },
   "source": [
    "Устраним неявные дубликаты: вместо `rap`, `hip`, `hop` и `hip-hop` в таблице будет `hiphop`:"
   ]
  },
  {
   "cell_type": "code",
   "execution_count": 35,
   "metadata": {
    "id": "YN5i2hpmSo09"
   },
   "outputs": [],
   "source": [
    "replace_wrong_genres(genres_to_rename, 'hiphop') # Устранение неявных дубликатов"
   ]
  },
  {
   "cell_type": "markdown",
   "metadata": {
    "id": "zQKF16_RG15m"
   },
   "source": [
    "Проверьте, что заменили неправильные названия:\n",
    "\n",
    "*   hip\n",
    "*   hop\n",
    "*   hip-hop\n",
    "*   rap<sup>*</sup>\n",
    "\n",
    "\n",
    "\\* rap - тоже самое, что хипхоп  \n",
    "Выведите отсортированный список уникальных значений столбца `genre`:"
   ]
  },
  {
   "cell_type": "markdown",
   "metadata": {},
   "source": [
    "Также заменим \"электроника\" на \"electronic\""
   ]
  },
  {
   "cell_type": "code",
   "execution_count": 36,
   "metadata": {},
   "outputs": [],
   "source": [
    "df.genre.replace('электроника', 'electronic', inplace=True)"
   ]
  },
  {
   "cell_type": "code",
   "execution_count": 37,
   "metadata": {},
   "outputs": [
    {
     "data": {
      "text/plain": [
       "array(['acid', 'acoustic', 'action', 'adult', 'africa', 'afrikaans',\n",
       "       'alternative', 'alternativepunk', 'ambient', 'americana',\n",
       "       'animated', 'anime', 'arabesk', 'arabic', 'arena',\n",
       "       'argentinetango', 'art', 'audiobook', 'author', 'avantgarde',\n",
       "       'axé', 'baile', 'balkan', 'beats', 'bigroom', 'black', 'bluegrass',\n",
       "       'blues', 'bollywood', 'bossa', 'brazilian', 'breakbeat', 'breaks',\n",
       "       'broadway', 'cantautori', 'cantopop', 'canzone', 'caribbean',\n",
       "       'caucasian', 'celtic', 'chamber', 'chanson', 'children', 'chill',\n",
       "       'chinese', 'choral', 'christian', 'christmas', 'classical',\n",
       "       'classicmetal', 'club', 'colombian', 'comedy', 'conjazz',\n",
       "       'contemporary', 'country', 'cuban', 'dance', 'dancehall',\n",
       "       'dancepop', 'dark', 'death', 'deep', 'deutschrock', 'deutschspr',\n",
       "       'dirty', 'disco', 'dnb', 'documentary', 'downbeat', 'downtempo',\n",
       "       'drum', 'dub', 'dubstep', 'eastern', 'easy', 'electronic',\n",
       "       'electropop', 'emo', 'entehno', 'epicmetal', 'estrada', 'ethnic',\n",
       "       'eurofolk', 'european', 'experimental', 'extrememetal', 'fado',\n",
       "       'fairytail', 'film', 'fitness', 'flamenco', 'folk', 'folklore',\n",
       "       'folkmetal', 'folkrock', 'folktronica', 'forró', 'frankreich',\n",
       "       'französisch', 'french', 'funk', 'future', 'gangsta', 'garage',\n",
       "       'german', 'ghazal', 'gitarre', 'glitch', 'gospel', 'gothic',\n",
       "       'grime', 'grunge', 'gypsy', 'handsup', \"hard'n'heavy\", 'hardcore',\n",
       "       'hardstyle', 'hardtechno', 'hiphop', 'historisch', 'holiday',\n",
       "       'horror', 'house', 'hymn', 'idm', 'independent', 'indian', 'indie',\n",
       "       'indipop', 'industrial', 'inspirational', 'instrumental',\n",
       "       'international', 'irish', 'jam', 'japanese', 'jazz', 'jewish',\n",
       "       'jpop', 'jungle', 'k-pop', 'karadeniz', 'karaoke', 'kayokyoku',\n",
       "       'korean', 'laiko', 'latin', 'latino', 'leftfield', 'local',\n",
       "       'lounge', 'loungeelectronic', 'lovers', 'malaysian', 'mandopop',\n",
       "       'marschmusik', 'meditative', 'mediterranean', 'melodic', 'metal',\n",
       "       'metalcore', 'mexican', 'middle', 'minimal', 'miscellaneous',\n",
       "       'modern', 'mood', 'mpb', 'muslim', 'native', 'neoklassik', 'neue',\n",
       "       'new', 'newage', 'newwave', 'nu', 'nujazz', 'numetal', 'oceania',\n",
       "       'old', 'opera', 'orchestral', 'other', 'piano', 'podcasts', 'pop',\n",
       "       'popdance', 'popelectronic', 'popeurodance', 'poprussian', 'post',\n",
       "       'posthardcore', 'postrock', 'power', 'progmetal', 'progressive',\n",
       "       'psychedelic', 'punjabi', 'punk', 'quebecois', 'ragga', 'ram',\n",
       "       'rancheras', 'rave', 'reggae', 'reggaeton', 'regional', 'relax',\n",
       "       'religious', 'retro', 'rhythm', 'rnb', 'rnr', 'rock', 'rockabilly',\n",
       "       'rockalternative', 'rockindie', 'rockother', 'romance', 'roots',\n",
       "       'ruspop', 'rusrap', 'rusrock', 'russian', 'salsa', 'samba',\n",
       "       'scenic', 'schlager', 'self', 'sertanejo', 'shanson', 'shoegazing',\n",
       "       'showtunes', 'singer', 'ska', 'skarock', 'slow', 'smooth', 'soft',\n",
       "       'soul', 'soulful', 'sound', 'soundtrack', 'southern', 'specialty',\n",
       "       'speech', 'spiritual', 'sport', 'stonerrock', 'surf', 'swing',\n",
       "       'synthpop', 'synthrock', 'sängerportrait', 'tango',\n",
       "       'tanzorchester', 'taraftar', 'tatar', 'tech', 'techno', 'teen',\n",
       "       'thrash', 'top', 'traditional', 'tradjazz', 'trance', 'tribal',\n",
       "       'trip', 'triphop', 'tropical', 'türk', 'türkçe', 'ukrrock',\n",
       "       'unknown', 'urban', 'uzbek', 'variété', 'vi', 'videogame', 'vocal',\n",
       "       'western', 'world', 'worldbeat', 'ïîï'], dtype=object)"
      ]
     },
     "execution_count": 37,
     "metadata": {},
     "output_type": "execute_result"
    }
   ],
   "source": [
    "sorted_genres = df.genre.sort_values().unique() # Проверка на неявные дубликаты\n",
    "sorted_genres"
   ]
  },
  {
   "cell_type": "markdown",
   "metadata": {
    "id": "jz6a9-7HQUDd"
   },
   "source": [
    "**Выводы**\n",
    "\n",
    "Предобработка обнаружила три проблемы в данных:\n",
    "\n",
    "- нарушения в стиле заголовков,\n",
    "- пропущенные значения,\n",
    "- дубликаты — явные и неявные.\n",
    "\n",
    "Исправлены заголовки, чтобы упростить работу с таблицей. Без дубликатов исследование станет более точным.\n",
    "\n",
    "Пропущенные значения  заменены на `'unknown'`. Ещё предстоит увидеть, не повредят ли исследованию пропуски в колонке `genre`.\n",
    "\n",
    "Теперь можно перейти к проверке гипотез. "
   ]
  },
  {
   "cell_type": "markdown",
   "metadata": {
    "id": "WttZHXH0SqKk"
   },
   "source": [
    "## Проверка гипотез"
   ]
  },
  {
   "cell_type": "markdown",
   "metadata": {
    "id": "Im936VVi_Zcu"
   },
   "source": [
    "### Сравнение поведения пользователей двух столиц"
   ]
  },
  {
   "cell_type": "markdown",
   "metadata": {
    "id": "nwt_MuaL_Zcu"
   },
   "source": [
    "Первая гипотеза утверждает, что пользователи по-разному слушают музыку в Москве и Санкт-Петербурге. Проверим это предположение по данным о трёх днях недели — понедельнике, среде и пятнице. Для этого:\n",
    "\n",
    "* Разделим пользователей Москвы и Санкт-Петербурга\n",
    "* Сравним, сколько треков послушала каждая группа пользователей в понедельник, среду и пятницу.\n"
   ]
  },
  {
   "cell_type": "markdown",
   "metadata": {
    "id": "8Dw_YMmT_Zcu"
   },
   "source": [
    "Оценим активность пользователей в каждом городе. Сгруппируйте данные по городу и посчитайте прослушивания в каждой группе.\n",
    "\n"
   ]
  },
  {
   "cell_type": "code",
   "execution_count": 38,
   "metadata": {
    "id": "0_Qs96oh_Zcu"
   },
   "outputs": [
    {
     "name": "stdout",
     "output_type": "stream",
     "text": [
      "42741 прослушиваний всего в Москве\n"
     ]
    }
   ],
   "source": [
    "moscow_listening_count = df[df['city'] == 'Moscow']['user_id'].count() # Подсчёт прослушиваний в каждом городе\n",
    "print(f'{moscow_listening_count} прослушиваний всего в Москве')"
   ]
  },
  {
   "cell_type": "code",
   "execution_count": 39,
   "metadata": {},
   "outputs": [
    {
     "name": "stdout",
     "output_type": "stream",
     "text": [
      "18512 прослушиваний всего в Питере\n"
     ]
    }
   ],
   "source": [
    "petersburg_listening_count = df[df['city'] == 'Saint-Petersburg']['user_id'].count()\n",
    "print(f'{petersburg_listening_count} прослушиваний всего в Питере')"
   ]
  },
  {
   "cell_type": "code",
   "execution_count": 40,
   "metadata": {},
   "outputs": [
    {
     "name": "stdout",
     "output_type": "stream",
     "text": [
      "В Москве больше, чем в 2 раз(а) прослушиваний больше, чем в Петербурге\n"
     ]
    }
   ],
   "source": [
    "print(f'В Москве больше, чем в {int(moscow_listening_count / petersburg_listening_count)} раз(а) прослушиваний больше, чем в Петербурге')"
   ]
  },
  {
   "cell_type": "markdown",
   "metadata": {
    "id": "dzli3w8o_Zcu"
   },
   "source": [
    "Из этого не следует, что московские пользователи чаще слушают музыку. Просто самих пользователей в Москве больше.\n",
    "\n",
    "Сгруппируем данные по дню недели и подсчитаем прослушивания в понедельник, среду и пятницу\n"
   ]
  },
  {
   "cell_type": "code",
   "execution_count": 41,
   "metadata": {
    "id": "uZMKjiJz_Zcu"
   },
   "outputs": [
    {
     "name": "stdout",
     "output_type": "stream",
     "text": [
      "Всего прослушиваний по понедельникам: 21354\n",
      "Всего прослушиваний по средам: 18059\n",
      "Всего прослушиваний по пятницам: 21840\n"
     ]
    }
   ],
   "source": [
    "monday_listening_count = df[df['day'] == 'Monday']['user_id'].count() # Подсчёт прослушиваний в каждый из трёх дней\n",
    "wednesday_listening_count = df[df['day'] == 'Wednesday']['user_id'].count()\n",
    "friday_listening_count = df[df['day'] == 'Friday']['user_id'].count()\n",
    "print(f'Всего прослушиваний по понедельникам: {monday_listening_count}')\n",
    "print(f'Всего прослушиваний по средам: {wednesday_listening_count}')\n",
    "print(f'Всего прослушиваний по пятницам: {friday_listening_count}')"
   ]
  },
  {
   "cell_type": "markdown",
   "metadata": {
    "id": "cC2tNrlL_Zcu"
   },
   "source": [
    "В среднем пользователи из двух городов менее активны по средам. Но картина может измениться, если рассмотреть каждый город в отдельности."
   ]
  },
  {
   "cell_type": "markdown",
   "metadata": {
    "id": "POzs8bGa_Zcu"
   },
   "source": [
    "Напишем функцию, которая объединит два эти расчёта."
   ]
  },
  {
   "cell_type": "code",
   "execution_count": 64,
   "metadata": {
    "id": "Nz3GdQB1_Zcu"
   },
   "outputs": [],
   "source": [
    "def number_tracks(day, city):\n",
    "    track_list = df[df['day'] == day]\n",
    "    track_list = track_list[track_list['city'] == city]\n",
    "    list_count = track_list['user_id'].count()\n",
    "    return list_count"
   ]
  },
  {
   "cell_type": "markdown",
   "metadata": {
    "id": "ytf7xFrFJQ2r"
   },
   "source": [
    "Получим данные для каждого города в каждый из трёх дней."
   ]
  },
  {
   "cell_type": "code",
   "execution_count": 45,
   "metadata": {},
   "outputs": [],
   "source": [
    "cities = ['Moscow', 'Saint-Petersburg']\n",
    "days = ['Monday', 'Wednesday', 'Friday']"
   ]
  },
  {
   "cell_type": "code",
   "execution_count": 46,
   "metadata": {},
   "outputs": [
    {
     "name": "stdout",
     "output_type": "stream",
     "text": [
      "Количество прослушиваний - Moscow, Monday: 15740\n",
      "Количество прослушиваний - Moscow, Wednesday: 11056\n",
      "Количество прослушиваний - Moscow, Friday: 15945\n",
      "Количество прослушиваний - Saint-Petersburg, Monday: 5614\n",
      "Количество прослушиваний - Saint-Petersburg, Wednesday: 7003\n",
      "Количество прослушиваний - Saint-Petersburg, Friday: 5895\n"
     ]
    }
   ],
   "source": [
    "for city in cities:\n",
    "    for day in days:\n",
    "        city_day_count = number_tracks(day, city)\n",
    "        print(f'Количество прослушиваний - {city}, {day}: {city_day_count}')\n",
    "        "
   ]
  },
  {
   "cell_type": "markdown",
   "metadata": {},
   "source": [
    "Также сохраним в результаты в отдельные переменные"
   ]
  },
  {
   "cell_type": "code",
   "execution_count": 48,
   "metadata": {
    "id": "rJcRATNQ_Zcu"
   },
   "outputs": [],
   "source": [
    "moscow_monday = number_tracks('Monday', 'Moscow')\n",
    "petersburg_monday = number_tracks('Monday', 'Saint-Petersburg')\n",
    "moscow_wednesday = number_tracks('Wednesday', 'Moscow')\n",
    "petersburg_wednesday = number_tracks('Wednesday', 'Saint-Petersburg')\n",
    "moscow_friday = number_tracks('Friday', 'Moscow')\n",
    "petersburg_friday = number_tracks('Friday', 'Saint-Petersburg')"
   ]
  },
  {
   "cell_type": "markdown",
   "metadata": {
    "id": "7QXffbO-_Zcu"
   },
   "source": [
    "Создадим таблицу с результатами, полученными с помощью `number_tracks`."
   ]
  },
  {
   "cell_type": "code",
   "execution_count": 49,
   "metadata": {
    "id": "APAcLpOr_Zcu"
   },
   "outputs": [
    {
     "data": {
      "text/html": [
       "<div>\n",
       "<style scoped>\n",
       "    .dataframe tbody tr th:only-of-type {\n",
       "        vertical-align: middle;\n",
       "    }\n",
       "\n",
       "    .dataframe tbody tr th {\n",
       "        vertical-align: top;\n",
       "    }\n",
       "\n",
       "    .dataframe thead th {\n",
       "        text-align: right;\n",
       "    }\n",
       "</style>\n",
       "<table border=\"1\" class=\"dataframe\">\n",
       "  <thead>\n",
       "    <tr style=\"text-align: right;\">\n",
       "      <th></th>\n",
       "      <th>city</th>\n",
       "      <th>monday</th>\n",
       "      <th>wednesday</th>\n",
       "      <th>friday</th>\n",
       "    </tr>\n",
       "  </thead>\n",
       "  <tbody>\n",
       "    <tr>\n",
       "      <th>0</th>\n",
       "      <td>Moscow</td>\n",
       "      <td>15740</td>\n",
       "      <td>11056</td>\n",
       "      <td>15945</td>\n",
       "    </tr>\n",
       "    <tr>\n",
       "      <th>1</th>\n",
       "      <td>Saint-Petersburg</td>\n",
       "      <td>5614</td>\n",
       "      <td>7003</td>\n",
       "      <td>5895</td>\n",
       "    </tr>\n",
       "  </tbody>\n",
       "</table>\n",
       "</div>"
      ],
      "text/plain": [
       "               city  monday  wednesday  friday\n",
       "0            Moscow   15740      11056   15945\n",
       "1  Saint-Petersburg    5614       7003    5895"
      ]
     },
     "execution_count": 49,
     "metadata": {},
     "output_type": "execute_result"
    }
   ],
   "source": [
    "columns = ['city', 'monday', 'wednesday', 'friday']\n",
    "data = [\n",
    "    ['Moscow', moscow_monday, moscow_wednesday, moscow_friday], \n",
    "    ['Saint-Petersburg', petersburg_monday, petersburg_wednesday, petersburg_friday]\n",
    "]\n",
    "\n",
    "result = pd.DataFrame(data=data, columns=columns) # Таблица с результатами\n",
    "result"
   ]
  },
  {
   "cell_type": "markdown",
   "metadata": {
    "id": "-EgPIHYu_Zcu"
   },
   "source": [
    "**Выводы**\n",
    "\n",
    "Данные показывают разницу поведения пользователей:\n",
    "\n",
    "- В Москве пик прослушиваний приходится на понедельник и пятницу, а в среду заметен спад.\n",
    "- В Петербурге, наоборот, больше слушают музыку по средам. Активность в понедельник и пятницу здесь почти в равной мере уступает среде.\n",
    "\n",
    "Значит, данные говорят в пользу первой гипотезы."
   ]
  },
  {
   "cell_type": "markdown",
   "metadata": {
    "id": "atZAxtq4_Zcu"
   },
   "source": [
    "### Музыка в начале и в конце недели"
   ]
  },
  {
   "cell_type": "markdown",
   "metadata": {
    "id": "eXrQqXFH_Zcu"
   },
   "source": [
    "Согласно второй гипотезе, утром в понедельник в Москве преобладают одни жанры, а в Петербурге — другие. Так же и вечером пятницы преобладают разные жанры — в зависимости от города."
   ]
  },
  {
   "cell_type": "markdown",
   "metadata": {
    "id": "S8UcW6Hw_Zcu"
   },
   "source": [
    "Сохраним таблицы с данными в две переменные:\n",
    "* по Москве — в `moscow_general`;\n",
    "* по Санкт-Петербургу — в `spb_general`."
   ]
  },
  {
   "cell_type": "code",
   "execution_count": 62,
   "metadata": {
    "id": "qeaFfM_P_Zcu"
   },
   "outputs": [
    {
     "data": {
      "text/html": [
       "<div>\n",
       "<style scoped>\n",
       "    .dataframe tbody tr th:only-of-type {\n",
       "        vertical-align: middle;\n",
       "    }\n",
       "\n",
       "    .dataframe tbody tr th {\n",
       "        vertical-align: top;\n",
       "    }\n",
       "\n",
       "    .dataframe thead th {\n",
       "        text-align: right;\n",
       "    }\n",
       "</style>\n",
       "<table border=\"1\" class=\"dataframe\">\n",
       "  <thead>\n",
       "    <tr style=\"text-align: right;\">\n",
       "      <th></th>\n",
       "      <th>user_id</th>\n",
       "      <th>track</th>\n",
       "      <th>artist</th>\n",
       "      <th>genre</th>\n",
       "      <th>city</th>\n",
       "      <th>time</th>\n",
       "      <th>day</th>\n",
       "    </tr>\n",
       "  </thead>\n",
       "  <tbody>\n",
       "    <tr>\n",
       "      <th>1</th>\n",
       "      <td>55204538</td>\n",
       "      <td>Delayed Because of Accident</td>\n",
       "      <td>Andreas Rönnberg</td>\n",
       "      <td>rock</td>\n",
       "      <td>Moscow</td>\n",
       "      <td>14:07:09</td>\n",
       "      <td>Friday</td>\n",
       "    </tr>\n",
       "    <tr>\n",
       "      <th>4</th>\n",
       "      <td>E2DC1FAE</td>\n",
       "      <td>Soul People</td>\n",
       "      <td>Space Echo</td>\n",
       "      <td>dance</td>\n",
       "      <td>Moscow</td>\n",
       "      <td>08:34:34</td>\n",
       "      <td>Monday</td>\n",
       "    </tr>\n",
       "    <tr>\n",
       "      <th>6</th>\n",
       "      <td>4CB90AA5</td>\n",
       "      <td>True</td>\n",
       "      <td>Roman Messer</td>\n",
       "      <td>dance</td>\n",
       "      <td>Moscow</td>\n",
       "      <td>13:00:07</td>\n",
       "      <td>Wednesday</td>\n",
       "    </tr>\n",
       "    <tr>\n",
       "      <th>7</th>\n",
       "      <td>F03E1C1F</td>\n",
       "      <td>Feeling This Way</td>\n",
       "      <td>Polina Griffith</td>\n",
       "      <td>dance</td>\n",
       "      <td>Moscow</td>\n",
       "      <td>20:47:49</td>\n",
       "      <td>Wednesday</td>\n",
       "    </tr>\n",
       "    <tr>\n",
       "      <th>8</th>\n",
       "      <td>8FA1D3BE</td>\n",
       "      <td>И вновь продолжается бой</td>\n",
       "      <td>unknown</td>\n",
       "      <td>ruspop</td>\n",
       "      <td>Moscow</td>\n",
       "      <td>09:17:40</td>\n",
       "      <td>Friday</td>\n",
       "    </tr>\n",
       "  </tbody>\n",
       "</table>\n",
       "</div>"
      ],
      "text/plain": [
       "    user_id                        track            artist   genre    city  \\\n",
       "1  55204538  Delayed Because of Accident  Andreas Rönnberg    rock  Moscow   \n",
       "4  E2DC1FAE                  Soul People        Space Echo   dance  Moscow   \n",
       "6  4CB90AA5                         True      Roman Messer   dance  Moscow   \n",
       "7  F03E1C1F             Feeling This Way   Polina Griffith   dance  Moscow   \n",
       "8  8FA1D3BE     И вновь продолжается бой           unknown  ruspop  Moscow   \n",
       "\n",
       "       time        day  \n",
       "1  14:07:09     Friday  \n",
       "4  08:34:34     Monday  \n",
       "6  13:00:07  Wednesday  \n",
       "7  20:47:49  Wednesday  \n",
       "8  09:17:40     Friday  "
      ]
     },
     "execution_count": 62,
     "metadata": {},
     "output_type": "execute_result"
    }
   ],
   "source": [
    "moscow_general = df[df['city'] == 'Moscow'] \n",
    "moscow_general.head()"
   ]
  },
  {
   "cell_type": "code",
   "execution_count": 63,
   "metadata": {
    "id": "ORaVRKto_Zcu"
   },
   "outputs": [
    {
     "data": {
      "text/html": [
       "<div>\n",
       "<style scoped>\n",
       "    .dataframe tbody tr th:only-of-type {\n",
       "        vertical-align: middle;\n",
       "    }\n",
       "\n",
       "    .dataframe tbody tr th {\n",
       "        vertical-align: top;\n",
       "    }\n",
       "\n",
       "    .dataframe thead th {\n",
       "        text-align: right;\n",
       "    }\n",
       "</style>\n",
       "<table border=\"1\" class=\"dataframe\">\n",
       "  <thead>\n",
       "    <tr style=\"text-align: right;\">\n",
       "      <th></th>\n",
       "      <th>user_id</th>\n",
       "      <th>track</th>\n",
       "      <th>artist</th>\n",
       "      <th>genre</th>\n",
       "      <th>city</th>\n",
       "      <th>time</th>\n",
       "      <th>day</th>\n",
       "    </tr>\n",
       "  </thead>\n",
       "  <tbody>\n",
       "    <tr>\n",
       "      <th>0</th>\n",
       "      <td>FFB692EC</td>\n",
       "      <td>Kamigata To Boots</td>\n",
       "      <td>The Mass Missile</td>\n",
       "      <td>rock</td>\n",
       "      <td>Saint-Petersburg</td>\n",
       "      <td>20:28:33</td>\n",
       "      <td>Wednesday</td>\n",
       "    </tr>\n",
       "    <tr>\n",
       "      <th>2</th>\n",
       "      <td>20EC38</td>\n",
       "      <td>Funiculì funiculà</td>\n",
       "      <td>Mario Lanza</td>\n",
       "      <td>pop</td>\n",
       "      <td>Saint-Petersburg</td>\n",
       "      <td>20:58:07</td>\n",
       "      <td>Wednesday</td>\n",
       "    </tr>\n",
       "    <tr>\n",
       "      <th>3</th>\n",
       "      <td>A3DD03C9</td>\n",
       "      <td>Dragons in the Sunset</td>\n",
       "      <td>Fire + Ice</td>\n",
       "      <td>folk</td>\n",
       "      <td>Saint-Petersburg</td>\n",
       "      <td>08:37:09</td>\n",
       "      <td>Monday</td>\n",
       "    </tr>\n",
       "    <tr>\n",
       "      <th>5</th>\n",
       "      <td>842029A1</td>\n",
       "      <td>Преданная</td>\n",
       "      <td>IMPERVTOR</td>\n",
       "      <td>rusrap</td>\n",
       "      <td>Saint-Petersburg</td>\n",
       "      <td>13:09:41</td>\n",
       "      <td>Friday</td>\n",
       "    </tr>\n",
       "    <tr>\n",
       "      <th>9</th>\n",
       "      <td>E772D5C0</td>\n",
       "      <td>Pessimist</td>\n",
       "      <td>unknown</td>\n",
       "      <td>dance</td>\n",
       "      <td>Saint-Petersburg</td>\n",
       "      <td>21:20:49</td>\n",
       "      <td>Wednesday</td>\n",
       "    </tr>\n",
       "  </tbody>\n",
       "</table>\n",
       "</div>"
      ],
      "text/plain": [
       "    user_id                  track            artist   genre  \\\n",
       "0  FFB692EC      Kamigata To Boots  The Mass Missile    rock   \n",
       "2    20EC38      Funiculì funiculà       Mario Lanza     pop   \n",
       "3  A3DD03C9  Dragons in the Sunset        Fire + Ice    folk   \n",
       "5  842029A1              Преданная         IMPERVTOR  rusrap   \n",
       "9  E772D5C0              Pessimist           unknown   dance   \n",
       "\n",
       "               city      time        day  \n",
       "0  Saint-Petersburg  20:28:33  Wednesday  \n",
       "2  Saint-Petersburg  20:58:07  Wednesday  \n",
       "3  Saint-Petersburg  08:37:09     Monday  \n",
       "5  Saint-Petersburg  13:09:41     Friday  \n",
       "9  Saint-Petersburg  21:20:49  Wednesday  "
      ]
     },
     "execution_count": 63,
     "metadata": {},
     "output_type": "execute_result"
    }
   ],
   "source": [
    "spb_general = df[df['city'] == 'Saint-Petersburg']\n",
    "spb_general.head()"
   ]
  },
  {
   "cell_type": "markdown",
   "metadata": {
    "id": "MEJV-CX2_Zcu"
   },
   "source": [
    "Создадим функцию `genre_weekday()` с четырьмя параметрами:\n",
    "* таблица (датафрейм) с данными,\n",
    "* день недели,\n",
    "* начальная временная метка в формате 'hh:mm', \n",
    "* последняя временная метка в формате 'hh:mm'.\n",
    "\n",
    "Функция вернет информацию о топ-10 жанров тех треков, которые прослушивали в указанный день, в промежутке между двумя отметками времени."
   ]
  },
  {
   "cell_type": "code",
   "execution_count": 52,
   "metadata": {
    "id": "laJT9BYl_Zcu"
   },
   "outputs": [],
   "source": [
    "def genre_weekday(table, day, time1, time2): # Объявление функции genre_weekday() с параметрами table, day, time1, time2,\n",
    "    genre_df = table[table['day'] == day]\n",
    "    genre_df = genre_df[genre_df['time'] >= time1]\n",
    "    genre_df = genre_df[genre_df['time'] <= time2]\n",
    "    genre_df_count = genre_df.groupby('genre')['user_id'].count()\n",
    "    genre_df_sorted = genre_df_count.sort_values(ascending=False)\n",
    "    return genre_df_sorted[:10]"
   ]
  },
  {
   "cell_type": "markdown",
   "metadata": {
    "id": "la2s2_PF_Zcu"
   },
   "source": [
    "Cравним результаты функции `genre_weekday()` для Москвы и Санкт-Петербурга в понедельник утром (с 7:00 до 11:00) и в пятницу вечером (с 17:00 до 23:00):"
   ]
  },
  {
   "cell_type": "code",
   "execution_count": 61,
   "metadata": {
    "id": "yz7itPUQ_Zcu"
   },
   "outputs": [
    {
     "data": {
      "text/plain": [
       "genre\n",
       "pop            781\n",
       "dance          549\n",
       "electronic     480\n",
       "rock           474\n",
       "hiphop         347\n",
       "ruspop         186\n",
       "world          181\n",
       "rusrap         175\n",
       "alternative    164\n",
       "unknown        161\n",
       "Name: user_id, dtype: int64"
      ]
     },
     "execution_count": 61,
     "metadata": {},
     "output_type": "execute_result"
    }
   ],
   "source": [
    "genre_weekday(moscow_general, 'Monday', '07:00', '11:00')"
   ]
  },
  {
   "cell_type": "code",
   "execution_count": 60,
   "metadata": {
    "id": "kwUcHPdy_Zcu"
   },
   "outputs": [
    {
     "data": {
      "text/plain": [
       "genre\n",
       "pop            218\n",
       "dance          182\n",
       "rock           162\n",
       "electronic     147\n",
       "hiphop         112\n",
       "ruspop          64\n",
       "alternative     58\n",
       "rusrap          55\n",
       "jazz            44\n",
       "classical       40\n",
       "Name: user_id, dtype: int64"
      ]
     },
     "execution_count": 60,
     "metadata": {},
     "output_type": "execute_result"
    }
   ],
   "source": [
    "genre_weekday(spb_general, 'Monday', '07:00', '11:00')"
   ]
  },
  {
   "cell_type": "code",
   "execution_count": 59,
   "metadata": {
    "id": "EzXVRE1o_Zcu"
   },
   "outputs": [
    {
     "data": {
      "text/plain": [
       "genre\n",
       "pop            713\n",
       "rock           517\n",
       "dance          495\n",
       "electronic     482\n",
       "hiphop         344\n",
       "world          208\n",
       "ruspop         170\n",
       "alternative    163\n",
       "classical      163\n",
       "rusrap         142\n",
       "Name: user_id, dtype: int64"
      ]
     },
     "execution_count": 59,
     "metadata": {},
     "output_type": "execute_result"
    }
   ],
   "source": [
    "genre_weekday(moscow_general, 'Friday', '17:00', '23:00')# для вечера пятницы в Москве"
   ]
  },
  {
   "cell_type": "code",
   "execution_count": 65,
   "metadata": {
    "id": "JZaEKu5v_Zcu"
   },
   "outputs": [
    {
     "data": {
      "text/plain": [
       "genre\n",
       "pop            256\n",
       "electronic     216\n",
       "rock           216\n",
       "dance          210\n",
       "hiphop         133\n",
       "alternative     63\n",
       "jazz            61\n",
       "classical       60\n",
       "rusrap          59\n",
       "world           54\n",
       "Name: user_id, dtype: int64"
      ]
     },
     "execution_count": 65,
     "metadata": {},
     "output_type": "execute_result"
    }
   ],
   "source": [
    "genre_weekday(spb_general, 'Friday', '17:00', '23:00')# для вечера пятницы в Петербурге"
   ]
  },
  {
   "cell_type": "markdown",
   "metadata": {
    "id": "wrCe4MNX_Zcu"
   },
   "source": [
    "**Выводы**\n",
    "\n",
    "Если сравнить топ-10 жанров в понедельник утром, можно сделать такие выводы:\n",
    "\n",
    "1. В Москве и Петербурге слушают похожую музыку. Единственное отличие — в московский рейтинг вошёл жанр “world”, а в петербургский — джаз и классика.\n",
    "\n",
    "2. В Москве пропущенных значений оказалось так много, что значение `'unknown'` заняло десятое место среди самых популярных жанров. Значит, пропущенные значения занимают существенную долю в данных и угрожают достоверности исследования.\n",
    "\n",
    "Вечер пятницы не меняет эту картину. Некоторые жанры поднимаются немного выше, другие спускаются, но в целом топ-10 остаётся тем же самым.\n",
    "\n",
    "Таким образом, вторая гипотеза подтвердилась лишь частично:\n",
    "* Пользователи слушают похожую музыку в начале недели и в конце.\n",
    "* Разница между Москвой и Петербургом не слишком выражена. В Москве чаще слушают русскую популярную музыку, в Петербурге — джаз.\n",
    "\n",
    "Однако пропуски в данных ставят под сомнение этот результат. В Москве их так много, что рейтинг топ-10 мог бы выглядеть иначе, если бы не утерянные  данные о жанрах."
   ]
  },
  {
   "cell_type": "markdown",
   "metadata": {
    "id": "JolODAqr_Zcu"
   },
   "source": [
    "### Жанровые предпочтения в Москве и Петербурге\n",
    "\n",
    "Гипотеза: Петербург — столица рэпа, музыку этого жанра там слушают чаще, чем в Москве.  А Москва — город контрастов, в котором, тем не менее, преобладает поп-музыка."
   ]
  },
  {
   "cell_type": "markdown",
   "metadata": {
    "id": "DlegSvaT_Zcu"
   },
   "source": [
    "Сгруппируем таблицу `moscow_general` по жанру и посчитаем прослушивания треков каждого жанра, сохраним в переменную `moscow_genres`"
   ]
  },
  {
   "cell_type": "code",
   "execution_count": 68,
   "metadata": {
    "id": "r19lIPke_Zcu"
   },
   "outputs": [
    {
     "data": {
      "text/plain": [
       "genre\n",
       "pop            5892\n",
       "dance          4435\n",
       "rock           3965\n",
       "electronic     3786\n",
       "hiphop         2639\n",
       "classical      1616\n",
       "world          1432\n",
       "alternative    1379\n",
       "ruspop         1372\n",
       "rusrap         1161\n",
       "Name: user_id, dtype: int64"
      ]
     },
     "execution_count": 68,
     "metadata": {},
     "output_type": "execute_result"
    }
   ],
   "source": [
    "moscow_genres = moscow_general.groupby('genre')['user_id'].count().sort_values(ascending=False)\n",
    "moscow_genres.head(10)"
   ]
  },
  {
   "cell_type": "markdown",
   "metadata": {
    "id": "cnPG2vnN_Zcv"
   },
   "source": [
    "То же самое для Петербурга."
   ]
  },
  {
   "cell_type": "code",
   "execution_count": 69,
   "metadata": {
    "id": "gluLIpE7_Zcv"
   },
   "outputs": [
    {
     "data": {
      "text/plain": [
       "genre\n",
       "pop           2431\n",
       "dance         1932\n",
       "rock          1879\n",
       "electronic    1737\n",
       "hiphop        1269\n",
       "Name: user_id, dtype: int64"
      ]
     },
     "execution_count": 69,
     "metadata": {},
     "output_type": "execute_result"
    }
   ],
   "source": [
    "spb_genres = spb_general.groupby('genre')['user_id'].count().sort_values(ascending=False)\n",
    "spb_genres.head()"
   ]
  },
  {
   "cell_type": "markdown",
   "metadata": {
    "id": "RY51YJYu_Zcv"
   },
   "source": [
    "**Выводы**"
   ]
  },
  {
   "cell_type": "markdown",
   "metadata": {
    "id": "nVhnJEm__Zcv"
   },
   "source": [
    "Гипотеза частично подтвердилась:\n",
    "* Поп-музыка — самый популярный жанр в Москве, как и предполагала гипотеза. Более того, в топ-10 жанров встречается близкий жанр — русская популярная музыка.\n",
    "* Вопреки ожиданиям, рэп одинаково популярен в Москве и Петербурге. \n"
   ]
  },
  {
   "cell_type": "markdown",
   "metadata": {
    "id": "ykKQ0N65_Zcv"
   },
   "source": [
    "## Итоги исследования"
   ]
  },
  {
   "cell_type": "markdown",
   "metadata": {
    "id": "tjUwbHb3_Zcv"
   },
   "source": [
    "Мы проверили три гипотезы и установили:\n",
    "\n",
    "1. День недели по-разному влияет на активность пользователей в Москве и Петербурге. \n",
    "\n",
    "Первая гипотеза полностью подтвердилась.\n",
    "\n",
    "2. Музыкальные предпочтения не сильно меняются в течение недели — будь то Москва или Петербург. Небольшие различия заметны в начале недели, по понедельникам:\n",
    "* в Москве слушают музыку жанра “world”,\n",
    "* в Петербурге — джаз и классику.\n",
    "\n",
    "Таким образом, вторая гипотеза подтвердилась лишь отчасти. Этот результат мог оказаться иным, если бы не пропуски в данных.\n",
    "\n",
    "3. Во вкусах пользователей Москвы и Петербурга больше общего чем различий. Вопреки ожиданиям, предпочтения жанров в Петербурге напоминают московские.\n",
    "\n",
    "Третья гипотеза не подтвердилась. Если различия в предпочтениях и существуют, на основной массе пользователей они незаметны."
   ]
  },
  {
   "cell_type": "markdown",
   "metadata": {},
   "source": [
    "☔☔☔"
   ]
  }
 ],
 "metadata": {
  "ExecuteTimeLog": [
   {
    "duration": 746,
    "start_time": "2022-02-05T23:26:12.180Z"
   },
   {
    "duration": 180,
    "start_time": "2022-02-05T23:27:12.603Z"
   },
   {
    "duration": 24,
    "start_time": "2022-02-05T23:27:40.237Z"
   },
   {
    "duration": 16,
    "start_time": "2022-02-05T23:27:44.854Z"
   },
   {
    "duration": 15,
    "start_time": "2022-02-05T23:27:56.955Z"
   },
   {
    "duration": 16,
    "start_time": "2022-02-05T23:28:10.340Z"
   },
   {
    "duration": 12,
    "start_time": "2022-02-05T23:28:30.701Z"
   },
   {
    "duration": 11,
    "start_time": "2022-02-05T23:28:45.373Z"
   },
   {
    "duration": 11,
    "start_time": "2022-02-05T23:28:54.235Z"
   },
   {
    "duration": 11,
    "start_time": "2022-02-05T23:29:07.390Z"
   },
   {
    "duration": 12,
    "start_time": "2022-02-05T23:30:15.981Z"
   },
   {
    "duration": 186,
    "start_time": "2022-02-05T23:33:37.718Z"
   },
   {
    "duration": 33,
    "start_time": "2022-02-05T23:33:48.208Z"
   },
   {
    "duration": 174,
    "start_time": "2022-02-05T23:35:06.750Z"
   },
   {
    "duration": 178,
    "start_time": "2022-02-05T23:35:27.073Z"
   },
   {
    "duration": 179,
    "start_time": "2022-02-05T23:40:58.596Z"
   },
   {
    "duration": 6,
    "start_time": "2022-02-05T23:43:17.746Z"
   },
   {
    "duration": 405,
    "start_time": "2022-02-05T23:43:44.533Z"
   },
   {
    "duration": 5,
    "start_time": "2022-02-05T23:43:50.850Z"
   },
   {
    "duration": 29,
    "start_time": "2022-02-05T23:51:23.920Z"
   },
   {
    "duration": 29,
    "start_time": "2022-02-05T23:51:29.621Z"
   },
   {
    "duration": 304,
    "start_time": "2022-02-05T23:51:43.698Z"
   },
   {
    "duration": 20,
    "start_time": "2022-02-05T23:51:46.710Z"
   },
   {
    "duration": 14,
    "start_time": "2022-02-05T23:52:11.843Z"
   },
   {
    "duration": 11,
    "start_time": "2022-02-05T23:52:43.002Z"
   },
   {
    "duration": 6,
    "start_time": "2022-02-05T23:52:48.587Z"
   },
   {
    "duration": 299,
    "start_time": "2022-02-05T23:54:46.379Z"
   },
   {
    "duration": 31,
    "start_time": "2022-02-05T23:54:54.865Z"
   },
   {
    "duration": 20,
    "start_time": "2022-02-06T00:04:21.950Z"
   },
   {
    "duration": 30,
    "start_time": "2022-02-06T00:04:41.471Z"
   },
   {
    "duration": 79,
    "start_time": "2022-02-06T00:05:43.695Z"
   },
   {
    "duration": 102,
    "start_time": "2022-02-06T00:06:43.169Z"
   },
   {
    "duration": 76,
    "start_time": "2022-02-06T00:07:12.210Z"
   },
   {
    "duration": 72,
    "start_time": "2022-02-06T00:07:20.024Z"
   },
   {
    "duration": 86,
    "start_time": "2022-02-06T00:07:47.228Z"
   },
   {
    "duration": 75,
    "start_time": "2022-02-06T00:07:51.031Z"
   },
   {
    "duration": 10,
    "start_time": "2022-02-06T00:10:51.025Z"
   },
   {
    "duration": 10,
    "start_time": "2022-02-06T00:12:31.806Z"
   },
   {
    "duration": 11,
    "start_time": "2022-02-06T00:12:48.838Z"
   },
   {
    "duration": 10,
    "start_time": "2022-02-06T00:12:56.042Z"
   },
   {
    "duration": 9,
    "start_time": "2022-02-06T00:13:33.171Z"
   },
   {
    "duration": 9,
    "start_time": "2022-02-06T00:13:46.589Z"
   },
   {
    "duration": 115,
    "start_time": "2022-02-06T00:20:04.965Z"
   },
   {
    "duration": 4,
    "start_time": "2022-02-06T00:22:54.947Z"
   },
   {
    "duration": 5,
    "start_time": "2022-02-06T00:23:06.744Z"
   },
   {
    "duration": 328,
    "start_time": "2022-02-06T00:25:40.979Z"
   },
   {
    "duration": 7,
    "start_time": "2022-02-06T00:26:13.463Z"
   },
   {
    "duration": 7,
    "start_time": "2022-02-06T00:26:49.465Z"
   },
   {
    "duration": 7,
    "start_time": "2022-02-06T00:27:08.515Z"
   },
   {
    "duration": 9,
    "start_time": "2022-02-06T00:27:20.168Z"
   },
   {
    "duration": 7,
    "start_time": "2022-02-06T00:27:43.474Z"
   },
   {
    "duration": 10,
    "start_time": "2022-02-06T00:27:49.792Z"
   },
   {
    "duration": 558,
    "start_time": "2022-02-06T00:28:37.626Z"
   },
   {
    "duration": 8,
    "start_time": "2022-02-06T00:28:56.409Z"
   },
   {
    "duration": 9,
    "start_time": "2022-02-06T00:29:05.236Z"
   },
   {
    "duration": 9,
    "start_time": "2022-02-06T00:29:58.671Z"
   },
   {
    "duration": 7,
    "start_time": "2022-02-06T00:30:20.632Z"
   },
   {
    "duration": 297,
    "start_time": "2022-02-06T00:30:32.837Z"
   },
   {
    "duration": 7,
    "start_time": "2022-02-06T00:30:58.353Z"
   },
   {
    "duration": 10,
    "start_time": "2022-02-06T00:31:36.671Z"
   },
   {
    "duration": 10,
    "start_time": "2022-02-06T00:33:01.390Z"
   },
   {
    "duration": 3,
    "start_time": "2022-02-06T00:34:11.143Z"
   },
   {
    "duration": 10,
    "start_time": "2022-02-06T00:34:55.530Z"
   },
   {
    "duration": 3,
    "start_time": "2022-02-06T00:35:07.492Z"
   },
   {
    "duration": 32,
    "start_time": "2022-02-06T00:36:06.393Z"
   },
   {
    "duration": 7,
    "start_time": "2022-02-06T01:09:35.360Z"
   },
   {
    "duration": 287,
    "start_time": "2022-02-06T01:09:43.031Z"
   },
   {
    "duration": 10,
    "start_time": "2022-02-06T01:10:28.343Z"
   },
   {
    "duration": 10,
    "start_time": "2022-02-06T01:11:03.793Z"
   },
   {
    "duration": 6,
    "start_time": "2022-02-06T01:14:02.116Z"
   },
   {
    "duration": 11,
    "start_time": "2022-02-06T01:14:20.152Z"
   },
   {
    "duration": 10,
    "start_time": "2022-02-06T01:54:12.381Z"
   },
   {
    "duration": 330,
    "start_time": "2022-02-06T01:57:14.909Z"
   },
   {
    "duration": 30,
    "start_time": "2022-02-06T01:57:49.238Z"
   },
   {
    "duration": 18,
    "start_time": "2022-02-06T01:58:56.505Z"
   },
   {
    "duration": 20,
    "start_time": "2022-02-06T01:59:06.456Z"
   },
   {
    "duration": 31,
    "start_time": "2022-02-06T01:59:12.584Z"
   },
   {
    "duration": 21,
    "start_time": "2022-02-06T02:00:09.816Z"
   },
   {
    "duration": 20,
    "start_time": "2022-02-06T02:00:54.911Z"
   },
   {
    "duration": 16,
    "start_time": "2022-02-06T02:03:03.738Z"
   },
   {
    "duration": 4,
    "start_time": "2022-02-06T02:04:54.408Z"
   },
   {
    "duration": 4,
    "start_time": "2022-02-06T02:05:34.388Z"
   },
   {
    "duration": 4,
    "start_time": "2022-02-06T02:05:47.584Z"
   },
   {
    "duration": 34,
    "start_time": "2022-02-06T02:11:16.089Z"
   },
   {
    "duration": 39,
    "start_time": "2022-02-06T02:13:48.081Z"
   },
   {
    "duration": 4,
    "start_time": "2022-02-06T02:14:46.640Z"
   },
   {
    "duration": 6,
    "start_time": "2022-02-06T02:21:18.836Z"
   },
   {
    "duration": 31,
    "start_time": "2022-02-06T02:21:39.096Z"
   },
   {
    "duration": 5,
    "start_time": "2022-02-06T02:22:42.472Z"
   },
   {
    "duration": 29,
    "start_time": "2022-02-06T02:23:15.518Z"
   },
   {
    "duration": 30,
    "start_time": "2022-02-06T02:24:02.276Z"
   },
   {
    "duration": 21,
    "start_time": "2022-02-06T02:25:06.498Z"
   },
   {
    "duration": 19,
    "start_time": "2022-02-06T02:25:42.273Z"
   },
   {
    "duration": 21,
    "start_time": "2022-02-06T02:26:36.268Z"
   },
   {
    "duration": 18,
    "start_time": "2022-02-06T02:26:49.810Z"
   },
   {
    "duration": 18,
    "start_time": "2022-02-06T02:27:27.503Z"
   },
   {
    "duration": 20,
    "start_time": "2022-02-06T02:28:04.940Z"
   },
   {
    "duration": 23,
    "start_time": "2022-02-06T02:29:00.827Z"
   },
   {
    "duration": 18,
    "start_time": "2022-02-06T02:29:14.470Z"
   },
   {
    "duration": 19,
    "start_time": "2022-02-06T02:29:19.644Z"
   },
   {
    "duration": 284,
    "start_time": "2022-02-06T02:46:25.550Z"
   },
   {
    "duration": 14,
    "start_time": "2022-02-06T02:53:25.707Z"
   },
   {
    "duration": 14,
    "start_time": "2022-02-06T02:54:31.987Z"
   },
   {
    "duration": 14,
    "start_time": "2022-02-06T02:56:07.772Z"
   },
   {
    "duration": 12,
    "start_time": "2022-02-06T02:56:37.763Z"
   },
   {
    "duration": 294,
    "start_time": "2022-02-06T03:02:44.259Z"
   },
   {
    "duration": 18,
    "start_time": "2022-02-06T03:02:49.867Z"
   },
   {
    "duration": 11,
    "start_time": "2022-02-06T03:07:03.093Z"
   },
   {
    "duration": 5,
    "start_time": "2022-02-06T03:08:23.458Z"
   },
   {
    "duration": 6,
    "start_time": "2022-02-06T03:08:40.291Z"
   },
   {
    "duration": 24,
    "start_time": "2022-02-06T03:10:52.548Z"
   },
   {
    "duration": 17,
    "start_time": "2022-02-06T03:11:27.822Z"
   },
   {
    "duration": 4,
    "start_time": "2022-02-06T03:11:52.628Z"
   },
   {
    "duration": 31,
    "start_time": "2022-02-06T03:12:01.726Z"
   },
   {
    "duration": 6,
    "start_time": "2022-02-06T03:12:05.666Z"
   },
   {
    "duration": 9,
    "start_time": "2022-02-06T03:12:06.619Z"
   },
   {
    "duration": 19,
    "start_time": "2022-02-06T03:12:14.910Z"
   },
   {
    "duration": 17,
    "start_time": "2022-02-06T03:12:15.771Z"
   },
   {
    "duration": 4,
    "start_time": "2022-02-06T03:12:17.983Z"
   },
   {
    "duration": 37,
    "start_time": "2022-02-06T03:12:19.660Z"
   },
   {
    "duration": 5,
    "start_time": "2022-02-06T03:12:23.141Z"
   },
   {
    "duration": 21,
    "start_time": "2022-02-06T03:12:24.232Z"
   },
   {
    "duration": 19,
    "start_time": "2022-02-06T03:12:24.988Z"
   },
   {
    "duration": 12,
    "start_time": "2022-02-06T03:12:30.787Z"
   },
   {
    "duration": 16,
    "start_time": "2022-02-06T03:12:33.601Z"
   },
   {
    "duration": 13,
    "start_time": "2022-02-06T03:12:34.519Z"
   },
   {
    "duration": 5,
    "start_time": "2022-02-06T03:12:36.454Z"
   },
   {
    "duration": 25,
    "start_time": "2022-02-06T03:12:38.364Z"
   },
   {
    "duration": 17,
    "start_time": "2022-02-06T03:12:44.681Z"
   },
   {
    "duration": 22,
    "start_time": "2022-02-06T03:15:12.967Z"
   },
   {
    "duration": 16,
    "start_time": "2022-02-06T03:15:33.674Z"
   },
   {
    "duration": 5,
    "start_time": "2022-02-06T03:18:46.257Z"
   },
   {
    "duration": 24,
    "start_time": "2022-02-06T03:18:48.558Z"
   },
   {
    "duration": 18,
    "start_time": "2022-02-06T03:18:53.156Z"
   },
   {
    "duration": 23,
    "start_time": "2022-02-06T03:18:55.834Z"
   },
   {
    "duration": 16,
    "start_time": "2022-02-06T03:18:57.638Z"
   },
   {
    "duration": 13,
    "start_time": "2022-02-06T03:22:16.019Z"
   },
   {
    "duration": 6,
    "start_time": "2022-02-06T03:22:30.704Z"
   },
   {
    "duration": 9,
    "start_time": "2022-02-06T03:23:54.989Z"
   },
   {
    "duration": 6,
    "start_time": "2022-02-06T03:24:13.870Z"
   },
   {
    "duration": 795,
    "start_time": "2022-02-12T20:31:06.341Z"
   },
   {
    "duration": 192,
    "start_time": "2022-02-12T20:31:07.139Z"
   },
   {
    "duration": 25,
    "start_time": "2022-02-12T20:31:07.334Z"
   },
   {
    "duration": 39,
    "start_time": "2022-02-12T20:31:07.361Z"
   },
   {
    "duration": 222,
    "start_time": "2022-02-12T20:31:07.402Z"
   },
   {
    "duration": 6,
    "start_time": "2022-02-12T20:31:07.627Z"
   },
   {
    "duration": 39,
    "start_time": "2022-02-12T20:31:07.635Z"
   },
   {
    "duration": 7,
    "start_time": "2022-02-12T20:31:07.678Z"
   },
   {
    "duration": 34,
    "start_time": "2022-02-12T20:31:07.687Z"
   },
   {
    "duration": 50,
    "start_time": "2022-02-12T20:31:07.724Z"
   },
   {
    "duration": 34,
    "start_time": "2022-02-12T20:31:07.776Z"
   },
   {
    "duration": 115,
    "start_time": "2022-02-12T20:31:07.812Z"
   },
   {
    "duration": 114,
    "start_time": "2022-02-12T20:31:07.929Z"
   },
   {
    "duration": 91,
    "start_time": "2022-02-12T20:31:08.045Z"
   },
   {
    "duration": 11,
    "start_time": "2022-02-12T20:31:08.138Z"
   },
   {
    "duration": 4,
    "start_time": "2022-02-12T20:31:08.170Z"
   },
   {
    "duration": 5,
    "start_time": "2022-02-12T20:31:08.176Z"
   },
   {
    "duration": 32,
    "start_time": "2022-02-12T20:31:08.185Z"
   },
   {
    "duration": 5,
    "start_time": "2022-02-12T20:31:08.221Z"
   },
   {
    "duration": 48,
    "start_time": "2022-02-12T20:31:08.228Z"
   },
   {
    "duration": 22,
    "start_time": "2022-02-12T20:31:08.279Z"
   },
   {
    "duration": 16,
    "start_time": "2022-02-12T20:31:08.304Z"
   },
   {
    "duration": 5,
    "start_time": "2022-02-12T20:31:08.322Z"
   },
   {
    "duration": 77,
    "start_time": "2022-02-12T20:31:08.329Z"
   },
   {
    "duration": 5,
    "start_time": "2022-02-12T20:31:08.408Z"
   },
   {
    "duration": 23,
    "start_time": "2022-02-12T20:31:08.415Z"
   },
   {
    "duration": 44,
    "start_time": "2022-02-12T20:31:08.440Z"
   },
   {
    "duration": 20,
    "start_time": "2022-02-12T20:31:08.486Z"
   },
   {
    "duration": 18,
    "start_time": "2022-02-12T20:31:08.508Z"
   },
   {
    "duration": 54,
    "start_time": "2022-02-12T20:31:08.529Z"
   },
   {
    "duration": 22,
    "start_time": "2022-02-12T20:31:08.585Z"
   },
   {
    "duration": 12,
    "start_time": "2022-02-12T20:31:08.609Z"
   },
   {
    "duration": 46,
    "start_time": "2022-02-12T20:31:08.624Z"
   },
   {
    "duration": 12,
    "start_time": "2022-02-12T20:31:08.675Z"
   },
   {
    "duration": 5,
    "start_time": "2022-02-12T20:31:16.613Z"
   },
   {
    "duration": 29,
    "start_time": "2022-02-12T20:31:16.622Z"
   },
   {
    "duration": 17,
    "start_time": "2022-02-12T20:31:17.273Z"
   },
   {
    "duration": 22,
    "start_time": "2022-02-12T20:31:17.293Z"
   },
   {
    "duration": 16,
    "start_time": "2022-02-12T20:31:17.318Z"
   },
   {
    "duration": 36,
    "start_time": "2022-02-12T20:31:17.336Z"
   },
   {
    "duration": 6,
    "start_time": "2022-02-12T20:31:17.374Z"
   },
   {
    "duration": 10,
    "start_time": "2022-02-12T20:31:17.989Z"
   },
   {
    "duration": 6,
    "start_time": "2022-02-12T20:31:18.001Z"
   },
   {
    "duration": 14,
    "start_time": "2022-02-12T20:33:18.783Z"
   },
   {
    "duration": 483,
    "start_time": "2022-02-12T22:25:24.505Z"
   },
   {
    "duration": 184,
    "start_time": "2022-02-12T22:25:34.191Z"
   },
   {
    "duration": 405,
    "start_time": "2022-02-12T22:25:57.830Z"
   },
   {
    "duration": 150,
    "start_time": "2022-02-12T22:25:58.237Z"
   },
   {
    "duration": 24,
    "start_time": "2022-02-12T22:25:58.389Z"
   },
   {
    "duration": 12,
    "start_time": "2022-02-12T22:25:58.416Z"
   },
   {
    "duration": 30,
    "start_time": "2022-02-12T22:25:58.430Z"
   },
   {
    "duration": 201,
    "start_time": "2022-02-12T22:25:58.462Z"
   },
   {
    "duration": 4,
    "start_time": "2022-02-12T22:25:58.665Z"
   },
   {
    "duration": 12,
    "start_time": "2022-02-12T22:25:58.672Z"
   },
   {
    "duration": 7,
    "start_time": "2022-02-12T22:25:58.686Z"
   },
   {
    "duration": 42,
    "start_time": "2022-02-12T22:25:58.694Z"
   },
   {
    "duration": 17,
    "start_time": "2022-02-12T22:25:58.738Z"
   },
   {
    "duration": 60,
    "start_time": "2022-02-12T22:25:58.757Z"
   },
   {
    "duration": 74,
    "start_time": "2022-02-12T22:25:58.819Z"
   },
   {
    "duration": 90,
    "start_time": "2022-02-12T22:25:58.895Z"
   },
   {
    "duration": 62,
    "start_time": "2022-02-12T22:26:02.012Z"
   },
   {
    "duration": 50,
    "start_time": "2022-02-12T22:26:04.894Z"
   },
   {
    "duration": 44,
    "start_time": "2022-02-12T22:33:59.714Z"
   },
   {
    "duration": 2,
    "start_time": "2022-02-12T22:43:58.933Z"
   },
   {
    "duration": 66,
    "start_time": "2022-02-12T22:55:32.013Z"
   },
   {
    "duration": 63,
    "start_time": "2022-02-12T22:55:42.134Z"
   },
   {
    "duration": 76,
    "start_time": "2022-02-12T22:56:17.045Z"
   },
   {
    "duration": 4,
    "start_time": "2022-02-12T22:56:28.211Z"
   },
   {
    "duration": 384,
    "start_time": "2022-02-12T22:57:08.862Z"
   },
   {
    "duration": 3,
    "start_time": "2022-02-12T22:57:34.945Z"
   },
   {
    "duration": 163,
    "start_time": "2022-02-12T22:57:34.950Z"
   },
   {
    "duration": 16,
    "start_time": "2022-02-12T22:57:35.116Z"
   },
   {
    "duration": 17,
    "start_time": "2022-02-12T22:57:35.135Z"
   },
   {
    "duration": 24,
    "start_time": "2022-02-12T22:57:35.154Z"
   },
   {
    "duration": 206,
    "start_time": "2022-02-12T22:57:35.180Z"
   },
   {
    "duration": 4,
    "start_time": "2022-02-12T22:57:35.389Z"
   },
   {
    "duration": 27,
    "start_time": "2022-02-12T22:57:35.395Z"
   },
   {
    "duration": 7,
    "start_time": "2022-02-12T22:57:35.424Z"
   },
   {
    "duration": 31,
    "start_time": "2022-02-12T22:57:35.434Z"
   },
   {
    "duration": 16,
    "start_time": "2022-02-12T22:57:35.467Z"
   },
   {
    "duration": 53,
    "start_time": "2022-02-12T22:57:35.485Z"
   },
   {
    "duration": 78,
    "start_time": "2022-02-12T22:57:35.540Z"
   },
   {
    "duration": 68,
    "start_time": "2022-02-12T22:57:35.620Z"
   },
   {
    "duration": 65,
    "start_time": "2022-02-12T22:57:35.690Z"
   },
   {
    "duration": 60,
    "start_time": "2022-02-12T22:57:35.757Z"
   },
   {
    "duration": 3,
    "start_time": "2022-02-12T22:57:35.820Z"
   },
   {
    "duration": 6,
    "start_time": "2022-02-12T22:57:35.825Z"
   },
   {
    "duration": 26,
    "start_time": "2022-02-12T22:57:35.835Z"
   },
   {
    "duration": 6,
    "start_time": "2022-02-12T22:57:35.863Z"
   },
   {
    "duration": 80,
    "start_time": "2022-02-12T22:57:35.871Z"
   },
   {
    "duration": 17,
    "start_time": "2022-02-12T22:57:35.953Z"
   },
   {
    "duration": 13,
    "start_time": "2022-02-12T22:57:35.972Z"
   },
   {
    "duration": 29,
    "start_time": "2022-02-12T22:57:35.987Z"
   },
   {
    "duration": 38,
    "start_time": "2022-02-12T22:57:36.018Z"
   },
   {
    "duration": 2,
    "start_time": "2022-02-12T22:57:36.058Z"
   },
   {
    "duration": 3,
    "start_time": "2022-02-12T22:57:40.015Z"
   },
   {
    "duration": 4,
    "start_time": "2022-02-12T22:57:41.969Z"
   },
   {
    "duration": 30,
    "start_time": "2022-02-12T22:57:43.553Z"
   },
   {
    "duration": 3,
    "start_time": "2022-02-12T22:58:23.505Z"
   },
   {
    "duration": 35,
    "start_time": "2022-02-12T22:58:24.915Z"
   },
   {
    "duration": 68,
    "start_time": "2022-02-12T22:58:45.137Z"
   },
   {
    "duration": 3,
    "start_time": "2022-02-12T22:58:52.647Z"
   },
   {
    "duration": 31,
    "start_time": "2022-02-12T22:58:54.534Z"
   },
   {
    "duration": 3,
    "start_time": "2022-02-12T22:59:43.813Z"
   },
   {
    "duration": 40,
    "start_time": "2022-02-12T22:59:45.847Z"
   },
   {
    "duration": 32,
    "start_time": "2022-02-12T23:00:38.263Z"
   },
   {
    "duration": 79,
    "start_time": "2022-02-12T23:01:16.756Z"
   },
   {
    "duration": 4,
    "start_time": "2022-02-12T23:01:57.058Z"
   },
   {
    "duration": 2,
    "start_time": "2022-02-12T23:01:59.964Z"
   },
   {
    "duration": 81,
    "start_time": "2022-02-12T23:02:01.195Z"
   },
   {
    "duration": 2,
    "start_time": "2022-02-12T23:03:01.199Z"
   },
   {
    "duration": 69,
    "start_time": "2022-02-12T23:03:02.240Z"
   },
   {
    "duration": 180,
    "start_time": "2022-02-12T23:06:10.554Z"
   },
   {
    "duration": 3,
    "start_time": "2022-02-12T23:06:18.737Z"
   },
   {
    "duration": 162,
    "start_time": "2022-02-12T23:06:18.743Z"
   },
   {
    "duration": 10,
    "start_time": "2022-02-12T23:06:18.911Z"
   },
   {
    "duration": 10,
    "start_time": "2022-02-12T23:06:18.923Z"
   },
   {
    "duration": 30,
    "start_time": "2022-02-12T23:06:18.935Z"
   },
   {
    "duration": 165,
    "start_time": "2022-02-12T23:06:18.967Z"
   },
   {
    "duration": 4,
    "start_time": "2022-02-12T23:06:19.133Z"
   },
   {
    "duration": 22,
    "start_time": "2022-02-12T23:06:19.139Z"
   },
   {
    "duration": 7,
    "start_time": "2022-02-12T23:06:19.164Z"
   },
   {
    "duration": 43,
    "start_time": "2022-02-12T23:06:19.173Z"
   },
   {
    "duration": 15,
    "start_time": "2022-02-12T23:06:19.218Z"
   },
   {
    "duration": 31,
    "start_time": "2022-02-12T23:06:19.235Z"
   },
   {
    "duration": 81,
    "start_time": "2022-02-12T23:06:19.268Z"
   },
   {
    "duration": 73,
    "start_time": "2022-02-12T23:06:19.351Z"
   },
   {
    "duration": 50,
    "start_time": "2022-02-12T23:06:19.426Z"
   },
   {
    "duration": 58,
    "start_time": "2022-02-12T23:06:19.477Z"
   },
   {
    "duration": 3,
    "start_time": "2022-02-12T23:06:19.536Z"
   },
   {
    "duration": 5,
    "start_time": "2022-02-12T23:06:19.540Z"
   },
   {
    "duration": 24,
    "start_time": "2022-02-12T23:06:19.546Z"
   },
   {
    "duration": 4,
    "start_time": "2022-02-12T23:06:19.572Z"
   },
   {
    "duration": 73,
    "start_time": "2022-02-12T23:06:19.577Z"
   },
   {
    "duration": 15,
    "start_time": "2022-02-12T23:06:19.652Z"
   },
   {
    "duration": 12,
    "start_time": "2022-02-12T23:06:19.669Z"
   },
   {
    "duration": 3,
    "start_time": "2022-02-12T23:06:19.682Z"
   },
   {
    "duration": 53,
    "start_time": "2022-02-12T23:06:19.687Z"
   },
   {
    "duration": 3,
    "start_time": "2022-02-12T23:06:19.742Z"
   },
   {
    "duration": 17,
    "start_time": "2022-02-12T23:06:19.748Z"
   },
   {
    "duration": 52,
    "start_time": "2022-02-12T23:06:19.767Z"
   },
   {
    "duration": 14,
    "start_time": "2022-02-12T23:06:19.821Z"
   },
   {
    "duration": 13,
    "start_time": "2022-02-12T23:06:19.837Z"
   },
   {
    "duration": 17,
    "start_time": "2022-02-12T23:06:19.852Z"
   },
   {
    "duration": 15,
    "start_time": "2022-02-12T23:06:22.113Z"
   },
   {
    "duration": 2,
    "start_time": "2022-02-12T23:06:25.664Z"
   },
   {
    "duration": 74,
    "start_time": "2022-02-12T23:06:26.705Z"
   },
   {
    "duration": 9,
    "start_time": "2022-02-12T23:06:29.196Z"
   },
   {
    "duration": 11,
    "start_time": "2022-02-12T23:06:33.213Z"
   },
   {
    "duration": 9,
    "start_time": "2022-02-12T23:06:34.003Z"
   },
   {
    "duration": 18,
    "start_time": "2022-02-12T23:06:45.449Z"
   },
   {
    "duration": 24,
    "start_time": "2022-02-12T23:06:47.209Z"
   },
   {
    "duration": 19,
    "start_time": "2022-02-12T23:06:55.697Z"
   },
   {
    "duration": 17,
    "start_time": "2022-02-12T23:07:02.195Z"
   },
   {
    "duration": 18,
    "start_time": "2022-02-12T23:07:12.059Z"
   },
   {
    "duration": 4,
    "start_time": "2022-02-12T23:08:07.804Z"
   },
   {
    "duration": 4,
    "start_time": "2022-02-12T23:08:31.429Z"
   },
   {
    "duration": 4,
    "start_time": "2022-02-12T23:11:15.446Z"
   },
   {
    "duration": 20,
    "start_time": "2022-02-12T23:11:22.229Z"
   },
   {
    "duration": 14,
    "start_time": "2022-02-12T23:11:32.961Z"
   },
   {
    "duration": 19,
    "start_time": "2022-02-12T23:12:06.456Z"
   },
   {
    "duration": 13,
    "start_time": "2022-02-12T23:12:08.085Z"
   },
   {
    "duration": 19,
    "start_time": "2022-02-12T23:12:10.764Z"
   },
   {
    "duration": 13,
    "start_time": "2022-02-12T23:12:12.896Z"
   },
   {
    "duration": 8,
    "start_time": "2022-02-12T23:13:50.361Z"
   },
   {
    "duration": 4,
    "start_time": "2022-02-12T23:13:53.599Z"
   },
   {
    "duration": 7,
    "start_time": "2022-02-12T23:13:58.594Z"
   },
   {
    "duration": 5,
    "start_time": "2022-02-12T23:14:00.254Z"
   }
  ],
  "colab": {
   "collapsed_sections": [
    "E0vqbgi9ay0H",
    "VUC88oWjTJw2"
   ],
   "name": "yandex_music_project_2021.2.ipynb",
   "provenance": []
  },
  "kernelspec": {
   "display_name": "Python 3 (ipykernel)",
   "language": "python",
   "name": "python3"
  },
  "language_info": {
   "codemirror_mode": {
    "name": "ipython",
    "version": 3
   },
   "file_extension": ".py",
   "mimetype": "text/x-python",
   "name": "python",
   "nbconvert_exporter": "python",
   "pygments_lexer": "ipython3",
   "version": "3.9.7"
  },
  "toc": {
   "base_numbering": 1,
   "nav_menu": {},
   "number_sections": true,
   "sideBar": true,
   "skip_h1_title": true,
   "title_cell": "Table of Contents",
   "title_sidebar": "Contents",
   "toc_cell": false,
   "toc_position": {},
   "toc_section_display": true,
   "toc_window_display": true
  }
 },
 "nbformat": 4,
 "nbformat_minor": 1
}
