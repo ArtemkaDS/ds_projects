{
 "cells": [
  {
   "cell_type": "markdown",
   "metadata": {},
   "source": [
    "# Исследование тарифов оператора сотовой связи"
   ]
  },
  {
   "cell_type": "markdown",
   "metadata": {
    "toc": true
   },
   "source": [
    "<h1>Содержание<span class=\"tocSkip\"></span></h1>\n",
    "<div class=\"toc\"><ul class=\"toc-item\"><li><span><a href=\"#Изучение-данных-из-файла\" data-toc-modified-id=\"Изучение-данных-из-файла-1\"><span class=\"toc-item-num\">1&nbsp;&nbsp;</span>Изучение данных из файла</a></span><ul class=\"toc-item\"><li><span><a href=\"#Вывод\" data-toc-modified-id=\"Вывод-1.1\"><span class=\"toc-item-num\">1.1&nbsp;&nbsp;</span>Вывод</a></span></li></ul></li><li><span><a href=\"#Предобработка-данных\" data-toc-modified-id=\"Предобработка-данных-2\"><span class=\"toc-item-num\">2&nbsp;&nbsp;</span>Предобработка данных</a></span></li><li><span><a href=\"#Расчёты-и-добавление-результатов-в-таблицу\" data-toc-modified-id=\"Расчёты-и-добавление-результатов-в-таблицу-3\"><span class=\"toc-item-num\">3&nbsp;&nbsp;</span>Расчёты и добавление результатов в таблицу</a></span><ul class=\"toc-item\"><li><span><a href=\"#Вывод\" data-toc-modified-id=\"Вывод-3.1\"><span class=\"toc-item-num\">3.1&nbsp;&nbsp;</span>Вывод</a></span></li></ul></li><li><span><a href=\"#Анализ-данных\" data-toc-modified-id=\"Анализ-данных-4\"><span class=\"toc-item-num\">4&nbsp;&nbsp;</span>Анализ данных</a></span><ul class=\"toc-item\"><li><span><a href=\"#Количество-звонков\" data-toc-modified-id=\"Количество-звонков-4.1\"><span class=\"toc-item-num\">4.1&nbsp;&nbsp;</span>Количество звонков</a></span></li><li><span><a href=\"#Длительность-звонков\" data-toc-modified-id=\"Длительность-звонков-4.2\"><span class=\"toc-item-num\">4.2&nbsp;&nbsp;</span>Длительность звонков</a></span></li><li><span><a href=\"#Количество-сообщений\" data-toc-modified-id=\"Количество-сообщений-4.3\"><span class=\"toc-item-num\">4.3&nbsp;&nbsp;</span>Количество сообщений</a></span></li><li><span><a href=\"#Интернет-трафик\" data-toc-modified-id=\"Интернет-трафик-4.4\"><span class=\"toc-item-num\">4.4&nbsp;&nbsp;</span>Интернет-трафик</a></span></li><li><span><a href=\"#Вывод\" data-toc-modified-id=\"Вывод-4.5\"><span class=\"toc-item-num\">4.5&nbsp;&nbsp;</span>Вывод</a></span></li></ul></li><li><span><a href=\"#Проверка-гипотез\" data-toc-modified-id=\"Проверка-гипотез-5\"><span class=\"toc-item-num\">5&nbsp;&nbsp;</span>Проверка гипотез</a></span><ul class=\"toc-item\"><li><span><a href=\"#Средняя-выручка-пользователей-тарифов-«Ультра»-и-«Смарт»-различаются\" data-toc-modified-id=\"Средняя-выручка-пользователей-тарифов-«Ультра»-и-«Смарт»-различаются-5.1\"><span class=\"toc-item-num\">5.1&nbsp;&nbsp;</span>Средняя выручка пользователей тарифов «Ультра» и «Смарт» различаются</a></span></li><li><span><a href=\"#Cредняя-выручка-пользователей-из-Москвы-отличается-от-выручки-пользователей-из-других-регионов.\" data-toc-modified-id=\"Cредняя-выручка-пользователей-из-Москвы-отличается-от-выручки-пользователей-из-других-регионов.-5.2\"><span class=\"toc-item-num\">5.2&nbsp;&nbsp;</span>Cредняя выручка пользователей из Москвы отличается от выручки пользователей из других регионов.</a></span></li><li><span><a href=\"#Пояснения-и-выводы\" data-toc-modified-id=\"Пояснения-и-выводы-5.3\"><span class=\"toc-item-num\">5.3&nbsp;&nbsp;</span>Пояснения и выводы</a></span></li></ul></li><li><span><a href=\"#Общий-вывод\" data-toc-modified-id=\"Общий-вывод-6\"><span class=\"toc-item-num\">6&nbsp;&nbsp;</span>Общий вывод</a></span></li></ul></div>"
   ]
  },
  {
   "cell_type": "markdown",
   "metadata": {},
   "source": [
    "Предоставлены несколько датасетов компании «Мегалайн» — федерального оператора сотовой связи. Клиентам предлагают два тарифных плана: «Смарт» и «Ультра». Чтобы скорректировать рекламный бюджет, коммерческий департамент хочет понять, какой тариф приносит больше денег.\n",
    "\n",
    "Необходимо сделать предварительный анализ тарифов на небольшой выборке клиентов. В нашем распоряжении данные 500 пользователей «Мегалайна»: кто они, откуда, каким тарифом пользуются, сколько звонков и сообщений каждый отправил за 2018 год. Нужно проанализировать поведение клиентов и сделать вывод — какой тариф лучше."
   ]
  },
  {
   "cell_type": "markdown",
   "metadata": {},
   "source": [
    "Описание тарифов\n",
    "Тариф «Смарт»\n",
    "\n",
    "Ежемесячная плата: 550 рублей\n",
    "Включено 500 минут разговора, 50 сообщений и 15 Гб интернет-трафика\n",
    "Стоимость услуг сверх тарифного пакета:\n",
    "минута разговора: 3 рубля\n",
    "сообщение: 3 рубля\n",
    "1 Гб интернет-трафика: 200 рублей\n",
    "Тариф «Ультра»\n",
    "\n",
    "Ежемесячная плата: 1950 рублей\n",
    "Включено 3000 минут разговора, 1000 сообщений и 30 Гб интернет-трафика\n",
    "Стоимость услуг сверх тарифного пакета:\n",
    "минута разговора: 1 рубль\n",
    "сообщение: 1 рубль\n",
    "1 Гб интернет-трафика: 150 рублей\n",
    "\n",
    "Примечание:\n",
    "«Мегалайн» всегда округляет секунды до минут, а мегабайты — до гигабайт. Каждый звонок округляется отдельно: даже если он длился всего 1 секунду, будет засчитан как 1 минута.\n",
    "Для веб-трафика отдельные сессии не считаются. Вместо этого общая сумма за месяц округляется в бо́льшую сторону. Если абонент использует 1025 мегабайт в этом месяце, с него возьмут плату за 2 гигабайта."
   ]
  },
  {
   "cell_type": "markdown",
   "metadata": {},
   "source": [
    "**Ход исследования:**\n",
    "\n",
    "1. Изучить данные.\n",
    "2. Предобработать данные, избавиться от пропусков, дубликатов, привести данные к верному типу.\n",
    "3. Провести анализ данных, сделать расчеты, добавить необходимые для проверки гипотез параметры.\n",
    "4. Проверить интересующие заказчика гипотезы.\n",
    "5. Сделать выводы, дать рекомендации"
   ]
  },
  {
   "cell_type": "markdown",
   "metadata": {},
   "source": [
    "## Изучение данных из файла ##"
   ]
  },
  {
   "cell_type": "code",
   "execution_count": 1,
   "metadata": {},
   "outputs": [],
   "source": [
    "import pandas as pd \n",
    "import numpy as np\n",
    "import math\n",
    "import matplotlib.pyplot as plt\n",
    "import seaborn as sns\n",
    "from scipy import stats as st\n",
    "import warnings\n",
    "warnings.filterwarnings('ignore')\n",
    "pd.set_option('display.max_rows', None)"
   ]
  },
  {
   "cell_type": "code",
   "execution_count": 2,
   "metadata": {},
   "outputs": [],
   "source": [
    "try:\n",
    "    calls = pd.read_csv(r'C:/Users/artfo/Documents/yandex_practicum/projects/4_statistical_data_analysis_telecom_tariffs/calls.csv')\n",
    "    internet = pd.read_csv(r'C:\\Users\\artfo\\Documents\\yandex_practicum\\projects\\4_statistical_data_analysis_telecom_tariffs\\internet.csv')\n",
    "    messages = pd.read_csv(r'C:\\Users\\artfo\\Documents\\yandex_practicum\\projects\\4_statistical_data_analysis_telecom_tariffs\\messages.csv')\n",
    "    tariffs = pd.read_csv(r'C:\\Users\\artfo\\Documents\\yandex_practicum\\projects\\4_statistical_data_analysis_telecom_tariffs/tariffs.csv')\n",
    "    users = pd.read_csv(r'C:\\Users\\artfo\\Documents\\yandex_practicum\\projects\\4_statistical_data_analysis_telecom_tariffs\\users.csv')\n",
    "except:\n",
    "    calls = pd.read_csv('/datasets/calls.csv')\n",
    "    internet = pd.read_csv('/datasets/internet.csv')\n",
    "    messages = pd.read_csv('/datasets/messages.csv')\n",
    "    tariffs = pd.read_csv('/datasets/tariffs.csv')\n",
    "    users = pd.read_csv('/datasets/users.csv')"
   ]
  },
  {
   "cell_type": "code",
   "execution_count": 3,
   "metadata": {},
   "outputs": [],
   "source": [
    "tables_list = [calls, internet, messages, tariffs, users]"
   ]
  },
  {
   "cell_type": "code",
   "execution_count": 4,
   "metadata": {},
   "outputs": [
    {
     "data": {
      "text/html": [
       "<div>\n",
       "<style scoped>\n",
       "    .dataframe tbody tr th:only-of-type {\n",
       "        vertical-align: middle;\n",
       "    }\n",
       "\n",
       "    .dataframe tbody tr th {\n",
       "        vertical-align: top;\n",
       "    }\n",
       "\n",
       "    .dataframe thead th {\n",
       "        text-align: right;\n",
       "    }\n",
       "</style>\n",
       "<table border=\"1\" class=\"dataframe\">\n",
       "  <thead>\n",
       "    <tr style=\"text-align: right;\">\n",
       "      <th></th>\n",
       "      <th>id</th>\n",
       "      <th>call_date</th>\n",
       "      <th>duration</th>\n",
       "      <th>user_id</th>\n",
       "    </tr>\n",
       "  </thead>\n",
       "  <tbody>\n",
       "    <tr>\n",
       "      <th>0</th>\n",
       "      <td>1000_0</td>\n",
       "      <td>2018-07-25</td>\n",
       "      <td>0.00</td>\n",
       "      <td>1000</td>\n",
       "    </tr>\n",
       "    <tr>\n",
       "      <th>1</th>\n",
       "      <td>1000_1</td>\n",
       "      <td>2018-08-17</td>\n",
       "      <td>0.00</td>\n",
       "      <td>1000</td>\n",
       "    </tr>\n",
       "    <tr>\n",
       "      <th>2</th>\n",
       "      <td>1000_2</td>\n",
       "      <td>2018-06-11</td>\n",
       "      <td>2.85</td>\n",
       "      <td>1000</td>\n",
       "    </tr>\n",
       "    <tr>\n",
       "      <th>3</th>\n",
       "      <td>1000_3</td>\n",
       "      <td>2018-09-21</td>\n",
       "      <td>13.80</td>\n",
       "      <td>1000</td>\n",
       "    </tr>\n",
       "    <tr>\n",
       "      <th>4</th>\n",
       "      <td>1000_4</td>\n",
       "      <td>2018-12-15</td>\n",
       "      <td>5.18</td>\n",
       "      <td>1000</td>\n",
       "    </tr>\n",
       "  </tbody>\n",
       "</table>\n",
       "</div>"
      ],
      "text/plain": [
       "       id   call_date  duration  user_id\n",
       "0  1000_0  2018-07-25      0.00     1000\n",
       "1  1000_1  2018-08-17      0.00     1000\n",
       "2  1000_2  2018-06-11      2.85     1000\n",
       "3  1000_3  2018-09-21     13.80     1000\n",
       "4  1000_4  2018-12-15      5.18     1000"
      ]
     },
     "metadata": {},
     "output_type": "display_data"
    },
    {
     "data": {
      "text/html": [
       "<div>\n",
       "<style scoped>\n",
       "    .dataframe tbody tr th:only-of-type {\n",
       "        vertical-align: middle;\n",
       "    }\n",
       "\n",
       "    .dataframe tbody tr th {\n",
       "        vertical-align: top;\n",
       "    }\n",
       "\n",
       "    .dataframe thead th {\n",
       "        text-align: right;\n",
       "    }\n",
       "</style>\n",
       "<table border=\"1\" class=\"dataframe\">\n",
       "  <thead>\n",
       "    <tr style=\"text-align: right;\">\n",
       "      <th></th>\n",
       "      <th>Unnamed: 0</th>\n",
       "      <th>id</th>\n",
       "      <th>mb_used</th>\n",
       "      <th>session_date</th>\n",
       "      <th>user_id</th>\n",
       "    </tr>\n",
       "  </thead>\n",
       "  <tbody>\n",
       "    <tr>\n",
       "      <th>0</th>\n",
       "      <td>0</td>\n",
       "      <td>1000_0</td>\n",
       "      <td>112.95</td>\n",
       "      <td>2018-11-25</td>\n",
       "      <td>1000</td>\n",
       "    </tr>\n",
       "    <tr>\n",
       "      <th>1</th>\n",
       "      <td>1</td>\n",
       "      <td>1000_1</td>\n",
       "      <td>1052.81</td>\n",
       "      <td>2018-09-07</td>\n",
       "      <td>1000</td>\n",
       "    </tr>\n",
       "    <tr>\n",
       "      <th>2</th>\n",
       "      <td>2</td>\n",
       "      <td>1000_2</td>\n",
       "      <td>1197.26</td>\n",
       "      <td>2018-06-25</td>\n",
       "      <td>1000</td>\n",
       "    </tr>\n",
       "    <tr>\n",
       "      <th>3</th>\n",
       "      <td>3</td>\n",
       "      <td>1000_3</td>\n",
       "      <td>550.27</td>\n",
       "      <td>2018-08-22</td>\n",
       "      <td>1000</td>\n",
       "    </tr>\n",
       "    <tr>\n",
       "      <th>4</th>\n",
       "      <td>4</td>\n",
       "      <td>1000_4</td>\n",
       "      <td>302.56</td>\n",
       "      <td>2018-09-24</td>\n",
       "      <td>1000</td>\n",
       "    </tr>\n",
       "  </tbody>\n",
       "</table>\n",
       "</div>"
      ],
      "text/plain": [
       "   Unnamed: 0      id  mb_used session_date  user_id\n",
       "0           0  1000_0   112.95   2018-11-25     1000\n",
       "1           1  1000_1  1052.81   2018-09-07     1000\n",
       "2           2  1000_2  1197.26   2018-06-25     1000\n",
       "3           3  1000_3   550.27   2018-08-22     1000\n",
       "4           4  1000_4   302.56   2018-09-24     1000"
      ]
     },
     "metadata": {},
     "output_type": "display_data"
    },
    {
     "data": {
      "text/html": [
       "<div>\n",
       "<style scoped>\n",
       "    .dataframe tbody tr th:only-of-type {\n",
       "        vertical-align: middle;\n",
       "    }\n",
       "\n",
       "    .dataframe tbody tr th {\n",
       "        vertical-align: top;\n",
       "    }\n",
       "\n",
       "    .dataframe thead th {\n",
       "        text-align: right;\n",
       "    }\n",
       "</style>\n",
       "<table border=\"1\" class=\"dataframe\">\n",
       "  <thead>\n",
       "    <tr style=\"text-align: right;\">\n",
       "      <th></th>\n",
       "      <th>id</th>\n",
       "      <th>message_date</th>\n",
       "      <th>user_id</th>\n",
       "    </tr>\n",
       "  </thead>\n",
       "  <tbody>\n",
       "    <tr>\n",
       "      <th>0</th>\n",
       "      <td>1000_0</td>\n",
       "      <td>2018-06-27</td>\n",
       "      <td>1000</td>\n",
       "    </tr>\n",
       "    <tr>\n",
       "      <th>1</th>\n",
       "      <td>1000_1</td>\n",
       "      <td>2018-10-08</td>\n",
       "      <td>1000</td>\n",
       "    </tr>\n",
       "    <tr>\n",
       "      <th>2</th>\n",
       "      <td>1000_2</td>\n",
       "      <td>2018-08-04</td>\n",
       "      <td>1000</td>\n",
       "    </tr>\n",
       "    <tr>\n",
       "      <th>3</th>\n",
       "      <td>1000_3</td>\n",
       "      <td>2018-06-16</td>\n",
       "      <td>1000</td>\n",
       "    </tr>\n",
       "    <tr>\n",
       "      <th>4</th>\n",
       "      <td>1000_4</td>\n",
       "      <td>2018-12-05</td>\n",
       "      <td>1000</td>\n",
       "    </tr>\n",
       "  </tbody>\n",
       "</table>\n",
       "</div>"
      ],
      "text/plain": [
       "       id message_date  user_id\n",
       "0  1000_0   2018-06-27     1000\n",
       "1  1000_1   2018-10-08     1000\n",
       "2  1000_2   2018-08-04     1000\n",
       "3  1000_3   2018-06-16     1000\n",
       "4  1000_4   2018-12-05     1000"
      ]
     },
     "metadata": {},
     "output_type": "display_data"
    },
    {
     "data": {
      "text/html": [
       "<div>\n",
       "<style scoped>\n",
       "    .dataframe tbody tr th:only-of-type {\n",
       "        vertical-align: middle;\n",
       "    }\n",
       "\n",
       "    .dataframe tbody tr th {\n",
       "        vertical-align: top;\n",
       "    }\n",
       "\n",
       "    .dataframe thead th {\n",
       "        text-align: right;\n",
       "    }\n",
       "</style>\n",
       "<table border=\"1\" class=\"dataframe\">\n",
       "  <thead>\n",
       "    <tr style=\"text-align: right;\">\n",
       "      <th></th>\n",
       "      <th>messages_included</th>\n",
       "      <th>mb_per_month_included</th>\n",
       "      <th>minutes_included</th>\n",
       "      <th>rub_monthly_fee</th>\n",
       "      <th>rub_per_gb</th>\n",
       "      <th>rub_per_message</th>\n",
       "      <th>rub_per_minute</th>\n",
       "      <th>tariff_name</th>\n",
       "    </tr>\n",
       "  </thead>\n",
       "  <tbody>\n",
       "    <tr>\n",
       "      <th>0</th>\n",
       "      <td>50</td>\n",
       "      <td>15360</td>\n",
       "      <td>500</td>\n",
       "      <td>550</td>\n",
       "      <td>200</td>\n",
       "      <td>3</td>\n",
       "      <td>3</td>\n",
       "      <td>smart</td>\n",
       "    </tr>\n",
       "    <tr>\n",
       "      <th>1</th>\n",
       "      <td>1000</td>\n",
       "      <td>30720</td>\n",
       "      <td>3000</td>\n",
       "      <td>1950</td>\n",
       "      <td>150</td>\n",
       "      <td>1</td>\n",
       "      <td>1</td>\n",
       "      <td>ultra</td>\n",
       "    </tr>\n",
       "  </tbody>\n",
       "</table>\n",
       "</div>"
      ],
      "text/plain": [
       "   messages_included  mb_per_month_included  minutes_included  \\\n",
       "0                 50                  15360               500   \n",
       "1               1000                  30720              3000   \n",
       "\n",
       "   rub_monthly_fee  rub_per_gb  rub_per_message  rub_per_minute tariff_name  \n",
       "0              550         200                3               3       smart  \n",
       "1             1950         150                1               1       ultra  "
      ]
     },
     "metadata": {},
     "output_type": "display_data"
    },
    {
     "data": {
      "text/html": [
       "<div>\n",
       "<style scoped>\n",
       "    .dataframe tbody tr th:only-of-type {\n",
       "        vertical-align: middle;\n",
       "    }\n",
       "\n",
       "    .dataframe tbody tr th {\n",
       "        vertical-align: top;\n",
       "    }\n",
       "\n",
       "    .dataframe thead th {\n",
       "        text-align: right;\n",
       "    }\n",
       "</style>\n",
       "<table border=\"1\" class=\"dataframe\">\n",
       "  <thead>\n",
       "    <tr style=\"text-align: right;\">\n",
       "      <th></th>\n",
       "      <th>user_id</th>\n",
       "      <th>age</th>\n",
       "      <th>churn_date</th>\n",
       "      <th>city</th>\n",
       "      <th>first_name</th>\n",
       "      <th>last_name</th>\n",
       "      <th>reg_date</th>\n",
       "      <th>tariff</th>\n",
       "    </tr>\n",
       "  </thead>\n",
       "  <tbody>\n",
       "    <tr>\n",
       "      <th>0</th>\n",
       "      <td>1000</td>\n",
       "      <td>52</td>\n",
       "      <td>NaN</td>\n",
       "      <td>Краснодар</td>\n",
       "      <td>Рафаил</td>\n",
       "      <td>Верещагин</td>\n",
       "      <td>2018-05-25</td>\n",
       "      <td>ultra</td>\n",
       "    </tr>\n",
       "    <tr>\n",
       "      <th>1</th>\n",
       "      <td>1001</td>\n",
       "      <td>41</td>\n",
       "      <td>NaN</td>\n",
       "      <td>Москва</td>\n",
       "      <td>Иван</td>\n",
       "      <td>Ежов</td>\n",
       "      <td>2018-11-01</td>\n",
       "      <td>smart</td>\n",
       "    </tr>\n",
       "    <tr>\n",
       "      <th>2</th>\n",
       "      <td>1002</td>\n",
       "      <td>59</td>\n",
       "      <td>NaN</td>\n",
       "      <td>Стерлитамак</td>\n",
       "      <td>Евгений</td>\n",
       "      <td>Абрамович</td>\n",
       "      <td>2018-06-17</td>\n",
       "      <td>smart</td>\n",
       "    </tr>\n",
       "    <tr>\n",
       "      <th>3</th>\n",
       "      <td>1003</td>\n",
       "      <td>23</td>\n",
       "      <td>NaN</td>\n",
       "      <td>Москва</td>\n",
       "      <td>Белла</td>\n",
       "      <td>Белякова</td>\n",
       "      <td>2018-08-17</td>\n",
       "      <td>ultra</td>\n",
       "    </tr>\n",
       "    <tr>\n",
       "      <th>4</th>\n",
       "      <td>1004</td>\n",
       "      <td>68</td>\n",
       "      <td>NaN</td>\n",
       "      <td>Новокузнецк</td>\n",
       "      <td>Татьяна</td>\n",
       "      <td>Авдеенко</td>\n",
       "      <td>2018-05-14</td>\n",
       "      <td>ultra</td>\n",
       "    </tr>\n",
       "  </tbody>\n",
       "</table>\n",
       "</div>"
      ],
      "text/plain": [
       "   user_id  age churn_date         city first_name  last_name    reg_date  \\\n",
       "0     1000   52        NaN    Краснодар     Рафаил  Верещагин  2018-05-25   \n",
       "1     1001   41        NaN       Москва       Иван       Ежов  2018-11-01   \n",
       "2     1002   59        NaN  Стерлитамак    Евгений  Абрамович  2018-06-17   \n",
       "3     1003   23        NaN       Москва      Белла   Белякова  2018-08-17   \n",
       "4     1004   68        NaN  Новокузнецк    Татьяна   Авдеенко  2018-05-14   \n",
       "\n",
       "  tariff  \n",
       "0  ultra  \n",
       "1  smart  \n",
       "2  smart  \n",
       "3  ultra  \n",
       "4  ultra  "
      ]
     },
     "metadata": {},
     "output_type": "display_data"
    }
   ],
   "source": [
    "for i in tables_list:\n",
    "    display(i.head())"
   ]
  },
  {
   "cell_type": "code",
   "execution_count": 5,
   "metadata": {},
   "outputs": [
    {
     "name": "stdout",
     "output_type": "stream",
     "text": [
      "<class 'pandas.core.frame.DataFrame'>\n",
      "RangeIndex: 202607 entries, 0 to 202606\n",
      "Data columns (total 4 columns):\n",
      " #   Column     Non-Null Count   Dtype  \n",
      "---  ------     --------------   -----  \n",
      " 0   id         202607 non-null  object \n",
      " 1   call_date  202607 non-null  object \n",
      " 2   duration   202607 non-null  float64\n",
      " 3   user_id    202607 non-null  int64  \n",
      "dtypes: float64(1), int64(1), object(2)\n",
      "memory usage: 6.2+ MB\n"
     ]
    },
    {
     "data": {
      "text/plain": [
       "None"
      ]
     },
     "metadata": {},
     "output_type": "display_data"
    },
    {
     "name": "stdout",
     "output_type": "stream",
     "text": [
      "<class 'pandas.core.frame.DataFrame'>\n",
      "RangeIndex: 149396 entries, 0 to 149395\n",
      "Data columns (total 5 columns):\n",
      " #   Column        Non-Null Count   Dtype  \n",
      "---  ------        --------------   -----  \n",
      " 0   Unnamed: 0    149396 non-null  int64  \n",
      " 1   id            149396 non-null  object \n",
      " 2   mb_used       149396 non-null  float64\n",
      " 3   session_date  149396 non-null  object \n",
      " 4   user_id       149396 non-null  int64  \n",
      "dtypes: float64(1), int64(2), object(2)\n",
      "memory usage: 5.7+ MB\n"
     ]
    },
    {
     "data": {
      "text/plain": [
       "None"
      ]
     },
     "metadata": {},
     "output_type": "display_data"
    },
    {
     "name": "stdout",
     "output_type": "stream",
     "text": [
      "<class 'pandas.core.frame.DataFrame'>\n",
      "RangeIndex: 123036 entries, 0 to 123035\n",
      "Data columns (total 3 columns):\n",
      " #   Column        Non-Null Count   Dtype \n",
      "---  ------        --------------   ----- \n",
      " 0   id            123036 non-null  object\n",
      " 1   message_date  123036 non-null  object\n",
      " 2   user_id       123036 non-null  int64 \n",
      "dtypes: int64(1), object(2)\n",
      "memory usage: 2.8+ MB\n"
     ]
    },
    {
     "data": {
      "text/plain": [
       "None"
      ]
     },
     "metadata": {},
     "output_type": "display_data"
    },
    {
     "name": "stdout",
     "output_type": "stream",
     "text": [
      "<class 'pandas.core.frame.DataFrame'>\n",
      "RangeIndex: 2 entries, 0 to 1\n",
      "Data columns (total 8 columns):\n",
      " #   Column                 Non-Null Count  Dtype \n",
      "---  ------                 --------------  ----- \n",
      " 0   messages_included      2 non-null      int64 \n",
      " 1   mb_per_month_included  2 non-null      int64 \n",
      " 2   minutes_included       2 non-null      int64 \n",
      " 3   rub_monthly_fee        2 non-null      int64 \n",
      " 4   rub_per_gb             2 non-null      int64 \n",
      " 5   rub_per_message        2 non-null      int64 \n",
      " 6   rub_per_minute         2 non-null      int64 \n",
      " 7   tariff_name            2 non-null      object\n",
      "dtypes: int64(7), object(1)\n",
      "memory usage: 256.0+ bytes\n"
     ]
    },
    {
     "data": {
      "text/plain": [
       "None"
      ]
     },
     "metadata": {},
     "output_type": "display_data"
    },
    {
     "name": "stdout",
     "output_type": "stream",
     "text": [
      "<class 'pandas.core.frame.DataFrame'>\n",
      "RangeIndex: 500 entries, 0 to 499\n",
      "Data columns (total 8 columns):\n",
      " #   Column      Non-Null Count  Dtype \n",
      "---  ------      --------------  ----- \n",
      " 0   user_id     500 non-null    int64 \n",
      " 1   age         500 non-null    int64 \n",
      " 2   churn_date  38 non-null     object\n",
      " 3   city        500 non-null    object\n",
      " 4   first_name  500 non-null    object\n",
      " 5   last_name   500 non-null    object\n",
      " 6   reg_date    500 non-null    object\n",
      " 7   tariff      500 non-null    object\n",
      "dtypes: int64(2), object(6)\n",
      "memory usage: 31.4+ KB\n"
     ]
    },
    {
     "data": {
      "text/plain": [
       "None"
      ]
     },
     "metadata": {},
     "output_type": "display_data"
    }
   ],
   "source": [
    "for i in tables_list:\n",
    "    display(i.info())"
   ]
  },
  {
   "cell_type": "markdown",
   "metadata": {},
   "source": [
    "### Вывод"
   ]
  },
  {
   "cell_type": "markdown",
   "metadata": {},
   "source": [
    "Необходимо обработать следующие данные:\n",
    "\n",
    "* Привести формат даты к `datetime` вместо `object` \n",
    "* Округлить минуты разговора до целых и привести к формату `int`\n",
    "* Округлить даные интернет-трафика до гигибайт и привести к формату `int`"
   ]
  },
  {
   "cell_type": "markdown",
   "metadata": {},
   "source": [
    "## Предобработка данных ##"
   ]
  },
  {
   "cell_type": "code",
   "execution_count": 6,
   "metadata": {},
   "outputs": [
    {
     "data": {
      "text/plain": [
       "0"
      ]
     },
     "metadata": {},
     "output_type": "display_data"
    },
    {
     "data": {
      "text/plain": [
       "0"
      ]
     },
     "metadata": {},
     "output_type": "display_data"
    },
    {
     "data": {
      "text/plain": [
       "0"
      ]
     },
     "metadata": {},
     "output_type": "display_data"
    },
    {
     "data": {
      "text/plain": [
       "0"
      ]
     },
     "metadata": {},
     "output_type": "display_data"
    },
    {
     "data": {
      "text/plain": [
       "0"
      ]
     },
     "metadata": {},
     "output_type": "display_data"
    }
   ],
   "source": [
    "for i in tables_list:\n",
    "    display(i.duplicated().sum())"
   ]
  },
  {
   "cell_type": "markdown",
   "metadata": {},
   "source": [
    "Дубликатов в данных не обнаружено"
   ]
  },
  {
   "cell_type": "code",
   "execution_count": 7,
   "metadata": {},
   "outputs": [
    {
     "data": {
      "text/html": [
       "<div>\n",
       "<style scoped>\n",
       "    .dataframe tbody tr th:only-of-type {\n",
       "        vertical-align: middle;\n",
       "    }\n",
       "\n",
       "    .dataframe tbody tr th {\n",
       "        vertical-align: top;\n",
       "    }\n",
       "\n",
       "    .dataframe thead th {\n",
       "        text-align: right;\n",
       "    }\n",
       "</style>\n",
       "<table border=\"1\" class=\"dataframe\">\n",
       "  <thead>\n",
       "    <tr style=\"text-align: right;\">\n",
       "      <th></th>\n",
       "      <th>id</th>\n",
       "      <th>call_date</th>\n",
       "      <th>duration</th>\n",
       "      <th>user_id</th>\n",
       "      <th>month</th>\n",
       "    </tr>\n",
       "  </thead>\n",
       "  <tbody>\n",
       "    <tr>\n",
       "      <th>0</th>\n",
       "      <td>1000_0</td>\n",
       "      <td>2018-07-25</td>\n",
       "      <td>0.00</td>\n",
       "      <td>1000</td>\n",
       "      <td>7</td>\n",
       "    </tr>\n",
       "    <tr>\n",
       "      <th>1</th>\n",
       "      <td>1000_1</td>\n",
       "      <td>2018-08-17</td>\n",
       "      <td>0.00</td>\n",
       "      <td>1000</td>\n",
       "      <td>8</td>\n",
       "    </tr>\n",
       "    <tr>\n",
       "      <th>2</th>\n",
       "      <td>1000_2</td>\n",
       "      <td>2018-06-11</td>\n",
       "      <td>2.85</td>\n",
       "      <td>1000</td>\n",
       "      <td>6</td>\n",
       "    </tr>\n",
       "    <tr>\n",
       "      <th>3</th>\n",
       "      <td>1000_3</td>\n",
       "      <td>2018-09-21</td>\n",
       "      <td>13.80</td>\n",
       "      <td>1000</td>\n",
       "      <td>9</td>\n",
       "    </tr>\n",
       "    <tr>\n",
       "      <th>4</th>\n",
       "      <td>1000_4</td>\n",
       "      <td>2018-12-15</td>\n",
       "      <td>5.18</td>\n",
       "      <td>1000</td>\n",
       "      <td>12</td>\n",
       "    </tr>\n",
       "  </tbody>\n",
       "</table>\n",
       "</div>"
      ],
      "text/plain": [
       "       id   call_date  duration  user_id  month\n",
       "0  1000_0  2018-07-25      0.00     1000      7\n",
       "1  1000_1  2018-08-17      0.00     1000      8\n",
       "2  1000_2  2018-06-11      2.85     1000      6\n",
       "3  1000_3  2018-09-21     13.80     1000      9\n",
       "4  1000_4  2018-12-15      5.18     1000     12"
      ]
     },
     "metadata": {},
     "output_type": "display_data"
    },
    {
     "data": {
      "text/html": [
       "<div>\n",
       "<style scoped>\n",
       "    .dataframe tbody tr th:only-of-type {\n",
       "        vertical-align: middle;\n",
       "    }\n",
       "\n",
       "    .dataframe tbody tr th {\n",
       "        vertical-align: top;\n",
       "    }\n",
       "\n",
       "    .dataframe thead th {\n",
       "        text-align: right;\n",
       "    }\n",
       "</style>\n",
       "<table border=\"1\" class=\"dataframe\">\n",
       "  <thead>\n",
       "    <tr style=\"text-align: right;\">\n",
       "      <th></th>\n",
       "      <th>Unnamed: 0</th>\n",
       "      <th>id</th>\n",
       "      <th>mb_used</th>\n",
       "      <th>session_date</th>\n",
       "      <th>user_id</th>\n",
       "      <th>month</th>\n",
       "    </tr>\n",
       "  </thead>\n",
       "  <tbody>\n",
       "    <tr>\n",
       "      <th>0</th>\n",
       "      <td>0</td>\n",
       "      <td>1000_0</td>\n",
       "      <td>112.95</td>\n",
       "      <td>2018-11-25</td>\n",
       "      <td>1000</td>\n",
       "      <td>11</td>\n",
       "    </tr>\n",
       "    <tr>\n",
       "      <th>1</th>\n",
       "      <td>1</td>\n",
       "      <td>1000_1</td>\n",
       "      <td>1052.81</td>\n",
       "      <td>2018-09-07</td>\n",
       "      <td>1000</td>\n",
       "      <td>9</td>\n",
       "    </tr>\n",
       "    <tr>\n",
       "      <th>2</th>\n",
       "      <td>2</td>\n",
       "      <td>1000_2</td>\n",
       "      <td>1197.26</td>\n",
       "      <td>2018-06-25</td>\n",
       "      <td>1000</td>\n",
       "      <td>6</td>\n",
       "    </tr>\n",
       "    <tr>\n",
       "      <th>3</th>\n",
       "      <td>3</td>\n",
       "      <td>1000_3</td>\n",
       "      <td>550.27</td>\n",
       "      <td>2018-08-22</td>\n",
       "      <td>1000</td>\n",
       "      <td>8</td>\n",
       "    </tr>\n",
       "    <tr>\n",
       "      <th>4</th>\n",
       "      <td>4</td>\n",
       "      <td>1000_4</td>\n",
       "      <td>302.56</td>\n",
       "      <td>2018-09-24</td>\n",
       "      <td>1000</td>\n",
       "      <td>9</td>\n",
       "    </tr>\n",
       "  </tbody>\n",
       "</table>\n",
       "</div>"
      ],
      "text/plain": [
       "   Unnamed: 0      id  mb_used session_date  user_id  month\n",
       "0           0  1000_0   112.95   2018-11-25     1000     11\n",
       "1           1  1000_1  1052.81   2018-09-07     1000      9\n",
       "2           2  1000_2  1197.26   2018-06-25     1000      6\n",
       "3           3  1000_3   550.27   2018-08-22     1000      8\n",
       "4           4  1000_4   302.56   2018-09-24     1000      9"
      ]
     },
     "metadata": {},
     "output_type": "display_data"
    },
    {
     "data": {
      "text/html": [
       "<div>\n",
       "<style scoped>\n",
       "    .dataframe tbody tr th:only-of-type {\n",
       "        vertical-align: middle;\n",
       "    }\n",
       "\n",
       "    .dataframe tbody tr th {\n",
       "        vertical-align: top;\n",
       "    }\n",
       "\n",
       "    .dataframe thead th {\n",
       "        text-align: right;\n",
       "    }\n",
       "</style>\n",
       "<table border=\"1\" class=\"dataframe\">\n",
       "  <thead>\n",
       "    <tr style=\"text-align: right;\">\n",
       "      <th></th>\n",
       "      <th>id</th>\n",
       "      <th>message_date</th>\n",
       "      <th>user_id</th>\n",
       "      <th>month</th>\n",
       "    </tr>\n",
       "  </thead>\n",
       "  <tbody>\n",
       "    <tr>\n",
       "      <th>0</th>\n",
       "      <td>1000_0</td>\n",
       "      <td>2018-06-27</td>\n",
       "      <td>1000</td>\n",
       "      <td>6</td>\n",
       "    </tr>\n",
       "    <tr>\n",
       "      <th>1</th>\n",
       "      <td>1000_1</td>\n",
       "      <td>2018-10-08</td>\n",
       "      <td>1000</td>\n",
       "      <td>10</td>\n",
       "    </tr>\n",
       "    <tr>\n",
       "      <th>2</th>\n",
       "      <td>1000_2</td>\n",
       "      <td>2018-08-04</td>\n",
       "      <td>1000</td>\n",
       "      <td>8</td>\n",
       "    </tr>\n",
       "    <tr>\n",
       "      <th>3</th>\n",
       "      <td>1000_3</td>\n",
       "      <td>2018-06-16</td>\n",
       "      <td>1000</td>\n",
       "      <td>6</td>\n",
       "    </tr>\n",
       "    <tr>\n",
       "      <th>4</th>\n",
       "      <td>1000_4</td>\n",
       "      <td>2018-12-05</td>\n",
       "      <td>1000</td>\n",
       "      <td>12</td>\n",
       "    </tr>\n",
       "  </tbody>\n",
       "</table>\n",
       "</div>"
      ],
      "text/plain": [
       "       id message_date  user_id  month\n",
       "0  1000_0   2018-06-27     1000      6\n",
       "1  1000_1   2018-10-08     1000     10\n",
       "2  1000_2   2018-08-04     1000      8\n",
       "3  1000_3   2018-06-16     1000      6\n",
       "4  1000_4   2018-12-05     1000     12"
      ]
     },
     "metadata": {},
     "output_type": "display_data"
    }
   ],
   "source": [
    "#исправим формат даты на datetime и добавим в таблицы столбец с месяцем \n",
    "\n",
    "calls['month'] = calls['call_date'].astype('datetime64[M]').dt.month \n",
    "internet['month'] = internet['session_date'].astype('datetime64[M]').dt.month\n",
    "messages['month'] = messages['message_date'].astype('datetime64[M]').dt.month\n",
    "display(calls.head())\n",
    "display(internet.head())\n",
    "display(messages.head())"
   ]
  },
  {
   "cell_type": "code",
   "execution_count": 8,
   "metadata": {},
   "outputs": [
    {
     "data": {
      "text/html": [
       "<div>\n",
       "<style scoped>\n",
       "    .dataframe tbody tr th:only-of-type {\n",
       "        vertical-align: middle;\n",
       "    }\n",
       "\n",
       "    .dataframe tbody tr th {\n",
       "        vertical-align: top;\n",
       "    }\n",
       "\n",
       "    .dataframe thead th {\n",
       "        text-align: right;\n",
       "    }\n",
       "</style>\n",
       "<table border=\"1\" class=\"dataframe\">\n",
       "  <thead>\n",
       "    <tr style=\"text-align: right;\">\n",
       "      <th></th>\n",
       "      <th>id</th>\n",
       "      <th>call_date</th>\n",
       "      <th>duration</th>\n",
       "      <th>user_id</th>\n",
       "      <th>month</th>\n",
       "    </tr>\n",
       "  </thead>\n",
       "  <tbody>\n",
       "    <tr>\n",
       "      <th>0</th>\n",
       "      <td>1000_0</td>\n",
       "      <td>2018-07-25</td>\n",
       "      <td>0</td>\n",
       "      <td>1000</td>\n",
       "      <td>7</td>\n",
       "    </tr>\n",
       "    <tr>\n",
       "      <th>1</th>\n",
       "      <td>1000_1</td>\n",
       "      <td>2018-08-17</td>\n",
       "      <td>0</td>\n",
       "      <td>1000</td>\n",
       "      <td>8</td>\n",
       "    </tr>\n",
       "    <tr>\n",
       "      <th>2</th>\n",
       "      <td>1000_2</td>\n",
       "      <td>2018-06-11</td>\n",
       "      <td>3</td>\n",
       "      <td>1000</td>\n",
       "      <td>6</td>\n",
       "    </tr>\n",
       "    <tr>\n",
       "      <th>3</th>\n",
       "      <td>1000_3</td>\n",
       "      <td>2018-09-21</td>\n",
       "      <td>14</td>\n",
       "      <td>1000</td>\n",
       "      <td>9</td>\n",
       "    </tr>\n",
       "    <tr>\n",
       "      <th>4</th>\n",
       "      <td>1000_4</td>\n",
       "      <td>2018-12-15</td>\n",
       "      <td>6</td>\n",
       "      <td>1000</td>\n",
       "      <td>12</td>\n",
       "    </tr>\n",
       "  </tbody>\n",
       "</table>\n",
       "</div>"
      ],
      "text/plain": [
       "       id   call_date  duration  user_id  month\n",
       "0  1000_0  2018-07-25         0     1000      7\n",
       "1  1000_1  2018-08-17         0     1000      8\n",
       "2  1000_2  2018-06-11         3     1000      6\n",
       "3  1000_3  2018-09-21        14     1000      9\n",
       "4  1000_4  2018-12-15         6     1000     12"
      ]
     },
     "metadata": {},
     "output_type": "display_data"
    },
    {
     "data": {
      "text/html": [
       "<div>\n",
       "<style scoped>\n",
       "    .dataframe tbody tr th:only-of-type {\n",
       "        vertical-align: middle;\n",
       "    }\n",
       "\n",
       "    .dataframe tbody tr th {\n",
       "        vertical-align: top;\n",
       "    }\n",
       "\n",
       "    .dataframe thead th {\n",
       "        text-align: right;\n",
       "    }\n",
       "</style>\n",
       "<table border=\"1\" class=\"dataframe\">\n",
       "  <thead>\n",
       "    <tr style=\"text-align: right;\">\n",
       "      <th></th>\n",
       "      <th>id</th>\n",
       "      <th>mb_used</th>\n",
       "      <th>session_date</th>\n",
       "      <th>user_id</th>\n",
       "      <th>month</th>\n",
       "    </tr>\n",
       "  </thead>\n",
       "  <tbody>\n",
       "    <tr>\n",
       "      <th>0</th>\n",
       "      <td>1000_0</td>\n",
       "      <td>112.95</td>\n",
       "      <td>2018-11-25</td>\n",
       "      <td>1000</td>\n",
       "      <td>11</td>\n",
       "    </tr>\n",
       "    <tr>\n",
       "      <th>1</th>\n",
       "      <td>1000_1</td>\n",
       "      <td>1052.81</td>\n",
       "      <td>2018-09-07</td>\n",
       "      <td>1000</td>\n",
       "      <td>9</td>\n",
       "    </tr>\n",
       "    <tr>\n",
       "      <th>2</th>\n",
       "      <td>1000_2</td>\n",
       "      <td>1197.26</td>\n",
       "      <td>2018-06-25</td>\n",
       "      <td>1000</td>\n",
       "      <td>6</td>\n",
       "    </tr>\n",
       "    <tr>\n",
       "      <th>3</th>\n",
       "      <td>1000_3</td>\n",
       "      <td>550.27</td>\n",
       "      <td>2018-08-22</td>\n",
       "      <td>1000</td>\n",
       "      <td>8</td>\n",
       "    </tr>\n",
       "    <tr>\n",
       "      <th>4</th>\n",
       "      <td>1000_4</td>\n",
       "      <td>302.56</td>\n",
       "      <td>2018-09-24</td>\n",
       "      <td>1000</td>\n",
       "      <td>9</td>\n",
       "    </tr>\n",
       "  </tbody>\n",
       "</table>\n",
       "</div>"
      ],
      "text/plain": [
       "       id  mb_used session_date  user_id  month\n",
       "0  1000_0   112.95   2018-11-25     1000     11\n",
       "1  1000_1  1052.81   2018-09-07     1000      9\n",
       "2  1000_2  1197.26   2018-06-25     1000      6\n",
       "3  1000_3   550.27   2018-08-22     1000      8\n",
       "4  1000_4   302.56   2018-09-24     1000      9"
      ]
     },
     "metadata": {},
     "output_type": "display_data"
    }
   ],
   "source": [
    "#округлим данные согласно правилам компании и приведем к целочисленному формату \n",
    "calls.duration = np.ceil(calls.duration).astype('int') #длительность звонков до целых минут\n",
    "internet.drop(columns='Unnamed: 0', inplace=True) #также удалим ненужный столбец, дублирубщий индекс\n",
    "display(calls.head())\n",
    "display(internet.head())"
   ]
  },
  {
   "cell_type": "code",
   "execution_count": 9,
   "metadata": {},
   "outputs": [
    {
     "data": {
      "text/html": [
       "<div>\n",
       "<style scoped>\n",
       "    .dataframe tbody tr th:only-of-type {\n",
       "        vertical-align: middle;\n",
       "    }\n",
       "\n",
       "    .dataframe tbody tr th {\n",
       "        vertical-align: top;\n",
       "    }\n",
       "\n",
       "    .dataframe thead th {\n",
       "        text-align: right;\n",
       "    }\n",
       "</style>\n",
       "<table border=\"1\" class=\"dataframe\">\n",
       "  <thead>\n",
       "    <tr style=\"text-align: right;\">\n",
       "      <th></th>\n",
       "      <th>user_id</th>\n",
       "      <th>month</th>\n",
       "      <th>total_calls</th>\n",
       "      <th>total_duration</th>\n",
       "    </tr>\n",
       "  </thead>\n",
       "  <tbody>\n",
       "    <tr>\n",
       "      <th>0</th>\n",
       "      <td>1000</td>\n",
       "      <td>5</td>\n",
       "      <td>22</td>\n",
       "      <td>159</td>\n",
       "    </tr>\n",
       "    <tr>\n",
       "      <th>1</th>\n",
       "      <td>1000</td>\n",
       "      <td>6</td>\n",
       "      <td>43</td>\n",
       "      <td>172</td>\n",
       "    </tr>\n",
       "    <tr>\n",
       "      <th>2</th>\n",
       "      <td>1000</td>\n",
       "      <td>7</td>\n",
       "      <td>47</td>\n",
       "      <td>340</td>\n",
       "    </tr>\n",
       "    <tr>\n",
       "      <th>3</th>\n",
       "      <td>1000</td>\n",
       "      <td>8</td>\n",
       "      <td>52</td>\n",
       "      <td>408</td>\n",
       "    </tr>\n",
       "    <tr>\n",
       "      <th>4</th>\n",
       "      <td>1000</td>\n",
       "      <td>9</td>\n",
       "      <td>58</td>\n",
       "      <td>466</td>\n",
       "    </tr>\n",
       "  </tbody>\n",
       "</table>\n",
       "</div>"
      ],
      "text/plain": [
       "   user_id  month  total_calls  total_duration\n",
       "0     1000      5           22             159\n",
       "1     1000      6           43             172\n",
       "2     1000      7           47             340\n",
       "3     1000      8           52             408\n",
       "4     1000      9           58             466"
      ]
     },
     "metadata": {},
     "output_type": "display_data"
    },
    {
     "data": {
      "text/html": [
       "<div>\n",
       "<style scoped>\n",
       "    .dataframe tbody tr th:only-of-type {\n",
       "        vertical-align: middle;\n",
       "    }\n",
       "\n",
       "    .dataframe tbody tr th {\n",
       "        vertical-align: top;\n",
       "    }\n",
       "\n",
       "    .dataframe thead th {\n",
       "        text-align: right;\n",
       "    }\n",
       "</style>\n",
       "<table border=\"1\" class=\"dataframe\">\n",
       "  <thead>\n",
       "    <tr style=\"text-align: right;\">\n",
       "      <th></th>\n",
       "      <th>user_id</th>\n",
       "      <th>month</th>\n",
       "      <th>mb_used</th>\n",
       "      <th>gb_used</th>\n",
       "    </tr>\n",
       "  </thead>\n",
       "  <tbody>\n",
       "    <tr>\n",
       "      <th>0</th>\n",
       "      <td>1000</td>\n",
       "      <td>5</td>\n",
       "      <td>2253.49</td>\n",
       "      <td>3</td>\n",
       "    </tr>\n",
       "    <tr>\n",
       "      <th>1</th>\n",
       "      <td>1000</td>\n",
       "      <td>6</td>\n",
       "      <td>23233.77</td>\n",
       "      <td>23</td>\n",
       "    </tr>\n",
       "    <tr>\n",
       "      <th>2</th>\n",
       "      <td>1000</td>\n",
       "      <td>7</td>\n",
       "      <td>14003.64</td>\n",
       "      <td>14</td>\n",
       "    </tr>\n",
       "    <tr>\n",
       "      <th>3</th>\n",
       "      <td>1000</td>\n",
       "      <td>8</td>\n",
       "      <td>14055.93</td>\n",
       "      <td>14</td>\n",
       "    </tr>\n",
       "    <tr>\n",
       "      <th>4</th>\n",
       "      <td>1000</td>\n",
       "      <td>9</td>\n",
       "      <td>14568.91</td>\n",
       "      <td>15</td>\n",
       "    </tr>\n",
       "  </tbody>\n",
       "</table>\n",
       "</div>"
      ],
      "text/plain": [
       "   user_id  month   mb_used  gb_used\n",
       "0     1000      5   2253.49        3\n",
       "1     1000      6  23233.77       23\n",
       "2     1000      7  14003.64       14\n",
       "3     1000      8  14055.93       14\n",
       "4     1000      9  14568.91       15"
      ]
     },
     "metadata": {},
     "output_type": "display_data"
    },
    {
     "data": {
      "text/html": [
       "<div>\n",
       "<style scoped>\n",
       "    .dataframe tbody tr th:only-of-type {\n",
       "        vertical-align: middle;\n",
       "    }\n",
       "\n",
       "    .dataframe tbody tr th {\n",
       "        vertical-align: top;\n",
       "    }\n",
       "\n",
       "    .dataframe thead th {\n",
       "        text-align: right;\n",
       "    }\n",
       "</style>\n",
       "<table border=\"1\" class=\"dataframe\">\n",
       "  <thead>\n",
       "    <tr style=\"text-align: right;\">\n",
       "      <th></th>\n",
       "      <th>user_id</th>\n",
       "      <th>month</th>\n",
       "      <th>total_messages</th>\n",
       "    </tr>\n",
       "  </thead>\n",
       "  <tbody>\n",
       "    <tr>\n",
       "      <th>0</th>\n",
       "      <td>1000</td>\n",
       "      <td>5</td>\n",
       "      <td>22</td>\n",
       "    </tr>\n",
       "    <tr>\n",
       "      <th>1</th>\n",
       "      <td>1000</td>\n",
       "      <td>6</td>\n",
       "      <td>60</td>\n",
       "    </tr>\n",
       "    <tr>\n",
       "      <th>2</th>\n",
       "      <td>1000</td>\n",
       "      <td>7</td>\n",
       "      <td>75</td>\n",
       "    </tr>\n",
       "    <tr>\n",
       "      <th>3</th>\n",
       "      <td>1000</td>\n",
       "      <td>8</td>\n",
       "      <td>81</td>\n",
       "    </tr>\n",
       "    <tr>\n",
       "      <th>4</th>\n",
       "      <td>1000</td>\n",
       "      <td>9</td>\n",
       "      <td>57</td>\n",
       "    </tr>\n",
       "  </tbody>\n",
       "</table>\n",
       "</div>"
      ],
      "text/plain": [
       "   user_id  month  total_messages\n",
       "0     1000      5              22\n",
       "1     1000      6              60\n",
       "2     1000      7              75\n",
       "3     1000      8              81\n",
       "4     1000      9              57"
      ]
     },
     "metadata": {},
     "output_type": "display_data"
    }
   ],
   "source": [
    "#с помощью grouby сгруппируем таблицы по месяцу и id пользователя и добавим столбцы с суммами целевых параметров\n",
    "\n",
    "calls1 = calls.groupby(['user_id', 'month'])['duration'].agg(['count', 'sum']).reset_index()\n",
    "calls1.rename(columns={'sum': 'total_duration', 'count': 'total_calls'}, inplace=True)\n",
    "internet1 = internet.groupby(['user_id', 'month'])['mb_used'].sum().reset_index()\n",
    "messages1 = messages.groupby(['user_id', 'month'])['id'].count().reset_index()\n",
    "messages1.rename(columns={'id': 'total_messages'}, inplace=True)\n",
    "\n",
    "#переведем Мб в Гб\n",
    "\n",
    "internet1['gb_used'] = np.ceil(internet1.mb_used / 1024).astype('Int64')\n",
    "\n",
    "#посмотрим на результат\n",
    "\n",
    "display(calls1.head())\n",
    "display(internet1.head())\n",
    "display(messages1.head())"
   ]
  },
  {
   "cell_type": "code",
   "execution_count": 10,
   "metadata": {},
   "outputs": [
    {
     "data": {
      "text/html": [
       "<div>\n",
       "<style scoped>\n",
       "    .dataframe tbody tr th:only-of-type {\n",
       "        vertical-align: middle;\n",
       "    }\n",
       "\n",
       "    .dataframe tbody tr th {\n",
       "        vertical-align: top;\n",
       "    }\n",
       "\n",
       "    .dataframe thead th {\n",
       "        text-align: right;\n",
       "    }\n",
       "</style>\n",
       "<table border=\"1\" class=\"dataframe\">\n",
       "  <thead>\n",
       "    <tr style=\"text-align: right;\">\n",
       "      <th></th>\n",
       "      <th>user_id</th>\n",
       "      <th>month</th>\n",
       "      <th>total_calls</th>\n",
       "      <th>total_duration</th>\n",
       "    </tr>\n",
       "  </thead>\n",
       "  <tbody>\n",
       "    <tr>\n",
       "      <th>0</th>\n",
       "      <td>1000</td>\n",
       "      <td>5</td>\n",
       "      <td>22</td>\n",
       "      <td>159</td>\n",
       "    </tr>\n",
       "    <tr>\n",
       "      <th>1</th>\n",
       "      <td>1000</td>\n",
       "      <td>6</td>\n",
       "      <td>43</td>\n",
       "      <td>172</td>\n",
       "    </tr>\n",
       "    <tr>\n",
       "      <th>2</th>\n",
       "      <td>1000</td>\n",
       "      <td>7</td>\n",
       "      <td>47</td>\n",
       "      <td>340</td>\n",
       "    </tr>\n",
       "    <tr>\n",
       "      <th>3</th>\n",
       "      <td>1000</td>\n",
       "      <td>8</td>\n",
       "      <td>52</td>\n",
       "      <td>408</td>\n",
       "    </tr>\n",
       "    <tr>\n",
       "      <th>4</th>\n",
       "      <td>1000</td>\n",
       "      <td>9</td>\n",
       "      <td>58</td>\n",
       "      <td>466</td>\n",
       "    </tr>\n",
       "  </tbody>\n",
       "</table>\n",
       "</div>"
      ],
      "text/plain": [
       "   user_id  month  total_calls  total_duration\n",
       "0     1000      5           22             159\n",
       "1     1000      6           43             172\n",
       "2     1000      7           47             340\n",
       "3     1000      8           52             408\n",
       "4     1000      9           58             466"
      ]
     },
     "metadata": {},
     "output_type": "display_data"
    },
    {
     "data": {
      "text/html": [
       "<div>\n",
       "<style scoped>\n",
       "    .dataframe tbody tr th:only-of-type {\n",
       "        vertical-align: middle;\n",
       "    }\n",
       "\n",
       "    .dataframe tbody tr th {\n",
       "        vertical-align: top;\n",
       "    }\n",
       "\n",
       "    .dataframe thead th {\n",
       "        text-align: right;\n",
       "    }\n",
       "</style>\n",
       "<table border=\"1\" class=\"dataframe\">\n",
       "  <thead>\n",
       "    <tr style=\"text-align: right;\">\n",
       "      <th></th>\n",
       "      <th>user_id</th>\n",
       "      <th>month</th>\n",
       "      <th>mb_used</th>\n",
       "      <th>gb_used</th>\n",
       "    </tr>\n",
       "  </thead>\n",
       "  <tbody>\n",
       "    <tr>\n",
       "      <th>0</th>\n",
       "      <td>1000</td>\n",
       "      <td>5</td>\n",
       "      <td>2253.49</td>\n",
       "      <td>3</td>\n",
       "    </tr>\n",
       "    <tr>\n",
       "      <th>1</th>\n",
       "      <td>1000</td>\n",
       "      <td>6</td>\n",
       "      <td>23233.77</td>\n",
       "      <td>23</td>\n",
       "    </tr>\n",
       "    <tr>\n",
       "      <th>2</th>\n",
       "      <td>1000</td>\n",
       "      <td>7</td>\n",
       "      <td>14003.64</td>\n",
       "      <td>14</td>\n",
       "    </tr>\n",
       "    <tr>\n",
       "      <th>3</th>\n",
       "      <td>1000</td>\n",
       "      <td>8</td>\n",
       "      <td>14055.93</td>\n",
       "      <td>14</td>\n",
       "    </tr>\n",
       "    <tr>\n",
       "      <th>4</th>\n",
       "      <td>1000</td>\n",
       "      <td>9</td>\n",
       "      <td>14568.91</td>\n",
       "      <td>15</td>\n",
       "    </tr>\n",
       "  </tbody>\n",
       "</table>\n",
       "</div>"
      ],
      "text/plain": [
       "   user_id  month   mb_used  gb_used\n",
       "0     1000      5   2253.49        3\n",
       "1     1000      6  23233.77       23\n",
       "2     1000      7  14003.64       14\n",
       "3     1000      8  14055.93       14\n",
       "4     1000      9  14568.91       15"
      ]
     },
     "metadata": {},
     "output_type": "display_data"
    },
    {
     "data": {
      "text/html": [
       "<div>\n",
       "<style scoped>\n",
       "    .dataframe tbody tr th:only-of-type {\n",
       "        vertical-align: middle;\n",
       "    }\n",
       "\n",
       "    .dataframe tbody tr th {\n",
       "        vertical-align: top;\n",
       "    }\n",
       "\n",
       "    .dataframe thead th {\n",
       "        text-align: right;\n",
       "    }\n",
       "</style>\n",
       "<table border=\"1\" class=\"dataframe\">\n",
       "  <thead>\n",
       "    <tr style=\"text-align: right;\">\n",
       "      <th></th>\n",
       "      <th>user_id</th>\n",
       "      <th>month</th>\n",
       "      <th>total_messages</th>\n",
       "    </tr>\n",
       "  </thead>\n",
       "  <tbody>\n",
       "    <tr>\n",
       "      <th>0</th>\n",
       "      <td>1000</td>\n",
       "      <td>5</td>\n",
       "      <td>22</td>\n",
       "    </tr>\n",
       "    <tr>\n",
       "      <th>1</th>\n",
       "      <td>1000</td>\n",
       "      <td>6</td>\n",
       "      <td>60</td>\n",
       "    </tr>\n",
       "    <tr>\n",
       "      <th>2</th>\n",
       "      <td>1000</td>\n",
       "      <td>7</td>\n",
       "      <td>75</td>\n",
       "    </tr>\n",
       "    <tr>\n",
       "      <th>3</th>\n",
       "      <td>1000</td>\n",
       "      <td>8</td>\n",
       "      <td>81</td>\n",
       "    </tr>\n",
       "    <tr>\n",
       "      <th>4</th>\n",
       "      <td>1000</td>\n",
       "      <td>9</td>\n",
       "      <td>57</td>\n",
       "    </tr>\n",
       "  </tbody>\n",
       "</table>\n",
       "</div>"
      ],
      "text/plain": [
       "   user_id  month  total_messages\n",
       "0     1000      5              22\n",
       "1     1000      6              60\n",
       "2     1000      7              75\n",
       "3     1000      8              81\n",
       "4     1000      9              57"
      ]
     },
     "metadata": {},
     "output_type": "display_data"
    }
   ],
   "source": [
    "#alternative\n",
    "#с помощью pivot_table сгруппируем таблицы по месяцу и id пользователя и добавим столбцы с суммами целевых параметров\n",
    "\n",
    "calls1 = calls.pivot_table(index=['user_id', 'month'], values='duration', aggfunc=['count', 'sum']).reset_index()\n",
    "calls1.columns = ['user_id', 'month', 'total_calls', 'total_duration']\n",
    "internet1 = internet.pivot_table(index=['user_id', 'month'], values='mb_used', aggfunc='sum').reset_index()\n",
    "messages1 = messages.pivot_table(index=['user_id', 'month'], values='id', aggfunc='count').reset_index()\n",
    "messages1.rename(columns={'id': 'total_messages'}, inplace=True)\n",
    "\n",
    "#переведем Мб в Гб\n",
    "\n",
    "internet1['gb_used'] = np.ceil(internet1.mb_used / 1024).astype('Int64')\n",
    "\n",
    "#посмотрим на результат\n",
    "\n",
    "display(calls1.head())\n",
    "display(internet1.head())\n",
    "display(messages1.head())"
   ]
  },
  {
   "cell_type": "code",
   "execution_count": 11,
   "metadata": {},
   "outputs": [],
   "source": [
    "#сольем таблицы\n",
    "df = (\n",
    "    calls1\n",
    "    .merge(internet1, on=['user_id', 'month'], how='outer')\n",
    "    .merge(messages1, on=['user_id', 'month'], how='outer')\n",
    ")"
   ]
  },
  {
   "cell_type": "code",
   "execution_count": 12,
   "metadata": {},
   "outputs": [
    {
     "name": "stdout",
     "output_type": "stream",
     "text": [
      "0.0\n",
      "0.0\n",
      "0.0\n",
      "0\n",
      "2\n",
      "\n",
      "Не все минуты попали в объединенный датафрейм\n"
     ]
    }
   ],
   "source": [
    "print(calls1['total_calls'].sum() - df['total_calls'].sum())\n",
    "print(calls1['total_duration'].sum() - df['total_duration'].sum())\n",
    "print(messages1['total_messages'].sum() - df['total_messages'].sum())\n",
    "print(internet1['gb_used'].sum() - df['gb_used'].sum())\n",
    "print(users['user_id'].nunique() - df['user_id'].nunique()) \n",
    "\n",
    "print()\n",
    "\n",
    "if (calls1['total_calls'].sum() - df['total_calls'].sum()) != 0:\n",
    "    print('Не все минуты попали в объединенный датафрейм')\n",
    "if (messages1['total_messages'].sum() - df['total_messages'].sum()) != 0:\n",
    "    print('Не все минуты попали в объединенный датафрейм')\n",
    "if (internet1['gb_used'].sum() - df['gb_used'].sum()) != 0:\n",
    "    print('Не все минуты попали в объединенный датафрейм')\n",
    "if (users['user_id'].nunique() - df['user_id'].nunique()) != 0:\n",
    "    print('Не все минуты попали в объединенный датафрейм')"
   ]
  },
  {
   "cell_type": "code",
   "execution_count": 13,
   "metadata": {},
   "outputs": [
    {
     "data": {
      "text/html": [
       "<div>\n",
       "<style scoped>\n",
       "    .dataframe tbody tr th:only-of-type {\n",
       "        vertical-align: middle;\n",
       "    }\n",
       "\n",
       "    .dataframe tbody tr th {\n",
       "        vertical-align: top;\n",
       "    }\n",
       "\n",
       "    .dataframe thead th {\n",
       "        text-align: right;\n",
       "    }\n",
       "</style>\n",
       "<table border=\"1\" class=\"dataframe\">\n",
       "  <thead>\n",
       "    <tr style=\"text-align: right;\">\n",
       "      <th></th>\n",
       "      <th>user_id</th>\n",
       "      <th>age</th>\n",
       "      <th>churn_date</th>\n",
       "      <th>city</th>\n",
       "      <th>first_name</th>\n",
       "      <th>last_name</th>\n",
       "      <th>reg_date</th>\n",
       "      <th>tariff</th>\n",
       "    </tr>\n",
       "  </thead>\n",
       "  <tbody>\n",
       "    <tr>\n",
       "      <th>128</th>\n",
       "      <td>1128</td>\n",
       "      <td>51</td>\n",
       "      <td>2018-12-23</td>\n",
       "      <td>Волжский</td>\n",
       "      <td>Ксения</td>\n",
       "      <td>Агаева</td>\n",
       "      <td>2018-12-15</td>\n",
       "      <td>ultra</td>\n",
       "    </tr>\n",
       "    <tr>\n",
       "      <th>371</th>\n",
       "      <td>1371</td>\n",
       "      <td>50</td>\n",
       "      <td>2018-12-30</td>\n",
       "      <td>Омск</td>\n",
       "      <td>Ириней</td>\n",
       "      <td>Трофимов</td>\n",
       "      <td>2018-12-25</td>\n",
       "      <td>smart</td>\n",
       "    </tr>\n",
       "  </tbody>\n",
       "</table>\n",
       "</div>"
      ],
      "text/plain": [
       "     user_id  age  churn_date      city first_name last_name    reg_date  \\\n",
       "128     1128   51  2018-12-23  Волжский     Ксения    Агаева  2018-12-15   \n",
       "371     1371   50  2018-12-30      Омск     Ириней  Трофимов  2018-12-25   \n",
       "\n",
       "    tariff  \n",
       "128  ultra  \n",
       "371  smart  "
      ]
     },
     "execution_count": 13,
     "metadata": {},
     "output_type": "execute_result"
    }
   ],
   "source": [
    "users.query('user_id not in @df.user_id') #юзеры, не попавшие в общий датафрейм"
   ]
  },
  {
   "cell_type": "code",
   "execution_count": 14,
   "metadata": {},
   "outputs": [
    {
     "data": {
      "text/html": [
       "<div>\n",
       "<style scoped>\n",
       "    .dataframe tbody tr th:only-of-type {\n",
       "        vertical-align: middle;\n",
       "    }\n",
       "\n",
       "    .dataframe tbody tr th {\n",
       "        vertical-align: top;\n",
       "    }\n",
       "\n",
       "    .dataframe thead th {\n",
       "        text-align: right;\n",
       "    }\n",
       "</style>\n",
       "<table border=\"1\" class=\"dataframe\">\n",
       "  <thead>\n",
       "    <tr style=\"text-align: right;\">\n",
       "      <th></th>\n",
       "      <th>id</th>\n",
       "      <th>call_date</th>\n",
       "      <th>duration</th>\n",
       "      <th>user_id</th>\n",
       "      <th>month</th>\n",
       "    </tr>\n",
       "  </thead>\n",
       "  <tbody>\n",
       "  </tbody>\n",
       "</table>\n",
       "</div>"
      ],
      "text/plain": [
       "Empty DataFrame\n",
       "Columns: [id, call_date, duration, user_id, month]\n",
       "Index: []"
      ]
     },
     "execution_count": 14,
     "metadata": {},
     "output_type": "execute_result"
    }
   ],
   "source": [
    "calls.query('user_id == 1128 | user_id == 1371')"
   ]
  },
  {
   "cell_type": "markdown",
   "metadata": {},
   "source": [
    "Информации об активности этих двух пользователей нет в соответствующих таблицах"
   ]
  },
  {
   "cell_type": "markdown",
   "metadata": {},
   "source": [
    "Теперь целесообразно обработать пропуски именно на этом этапе, так как пропуски - в данном случае скорее всего не являются недостатком данных, а демонстрируют отсутствие активности абонента по тому или иному виду активности. Взглянем на такие пропуски."
   ]
  },
  {
   "cell_type": "code",
   "execution_count": 15,
   "metadata": {},
   "outputs": [
    {
     "data": {
      "text/plain": [
       "user_id             0\n",
       "month               0\n",
       "total_calls        40\n",
       "total_duration     40\n",
       "mb_used            11\n",
       "gb_used            11\n",
       "total_messages    497\n",
       "dtype: int64"
      ]
     },
     "execution_count": 15,
     "metadata": {},
     "output_type": "execute_result"
    }
   ],
   "source": [
    "df.isna().sum()"
   ]
  },
  {
   "cell_type": "code",
   "execution_count": 16,
   "metadata": {},
   "outputs": [
    {
     "name": "stdout",
     "output_type": "stream",
     "text": [
      "<class 'pandas.core.frame.DataFrame'>\n",
      "Int64Index: 1 entries, 3208 to 3208\n",
      "Data columns (total 7 columns):\n",
      " #   Column          Non-Null Count  Dtype  \n",
      "---  ------          --------------  -----  \n",
      " 0   user_id         1 non-null      int64  \n",
      " 1   month           1 non-null      int64  \n",
      " 2   total_calls     0 non-null      float64\n",
      " 3   total_duration  0 non-null      float64\n",
      " 4   mb_used         1 non-null      float64\n",
      " 5   gb_used         1 non-null      Int64  \n",
      " 6   total_messages  0 non-null      float64\n",
      "dtypes: Int64(1), float64(4), int64(2)\n",
      "memory usage: 65.0 bytes\n"
     ]
    }
   ],
   "source": [
    "df[df['total_messages'].isna() & df['total_calls'].isna()].info()"
   ]
  },
  {
   "cell_type": "markdown",
   "metadata": {},
   "source": [
    "Видим, что меньше всего абоненты пользвались смс сообщениями, абонент №1476 в апреле и вовсе воспользовался только интернетом до 1 Гб включительно.  \n",
    "\n",
    "Соответственно, такие пропуски мы заполним нулями, чем они по своей природе и являются."
   ]
  },
  {
   "cell_type": "code",
   "execution_count": 17,
   "metadata": {},
   "outputs": [],
   "source": [
    "df.fillna(0, inplace=True)"
   ]
  },
  {
   "cell_type": "markdown",
   "metadata": {},
   "source": [
    "Построим диаграммы размаха"
   ]
  },
  {
   "cell_type": "code",
   "execution_count": 18,
   "metadata": {},
   "outputs": [
    {
     "data": {
      "image/png": "[encoded data removed]",
      "text/plain": [
       "<Figure size 864x360 with 1 Axes>"
      ]
     },
     "metadata": {
      "needs_background": "light"
     },
     "output_type": "display_data"
    }
   ],
   "source": [
    "fig, ax = plt.subplots(figsize=(12,5))\n",
    "ax = df[['total_calls']].boxplot(vert=False, ax=ax)\n",
    "ax.set_title('Диаграмма размаха количества звонков');"
   ]
  },
  {
   "cell_type": "code",
   "execution_count": 19,
   "metadata": {},
   "outputs": [
    {
     "data": {
      "image/png": "[encoded data removed]",
      "text/plain": [
       "<Figure size 864x360 with 1 Axes>"
      ]
     },
     "metadata": {
      "needs_background": "light"
     },
     "output_type": "display_data"
    }
   ],
   "source": [
    "fig, ax = plt.subplots(figsize=(12,5))\n",
    "ax = df[['total_duration']].boxplot(vert=False, ax=ax)\n",
    "ax.set_title('Диаграмма размаха длительности звонков');"
   ]
  },
  {
   "cell_type": "code",
   "execution_count": 20,
   "metadata": {},
   "outputs": [
    {
     "data": {
      "image/png": "[encoded data removed]",
      "text/plain": [
       "<Figure size 864x360 with 1 Axes>"
      ]
     },
     "metadata": {
      "needs_background": "light"
     },
     "output_type": "display_data"
    }
   ],
   "source": [
    "fig, ax = plt.subplots(figsize=(12,5))\n",
    "ax = df[['gb_used']].boxplot(vert=False, ax=ax)\n",
    "ax.set_title('Диаграмма размаха трафика');"
   ]
  },
  {
   "cell_type": "code",
   "execution_count": 21,
   "metadata": {},
   "outputs": [
    {
     "data": {
      "image/png": "[encoded data removed]",
      "text/plain": [
       "<Figure size 864x360 with 1 Axes>"
      ]
     },
     "metadata": {
      "needs_background": "light"
     },
     "output_type": "display_data"
    }
   ],
   "source": [
    "fig, ax = plt.subplots(figsize=(12,5))\n",
    "ax = df[['total_messages']].boxplot(vert=False, ax=ax)\n",
    "ax.set_title('Диаграмма размаха сообщений');"
   ]
  },
  {
   "cell_type": "code",
   "execution_count": 22,
   "metadata": {},
   "outputs": [
    {
     "data": {
      "text/plain": [
       "(3214, 7)"
      ]
     },
     "execution_count": 22,
     "metadata": {},
     "output_type": "execute_result"
    }
   ],
   "source": [
    "df.shape"
   ]
  },
  {
   "cell_type": "markdown",
   "metadata": {},
   "source": [
    "## Расчёты и добавление результатов в таблицу"
   ]
  },
  {
   "cell_type": "code",
   "execution_count": 23,
   "metadata": {},
   "outputs": [
    {
     "data": {
      "text/html": [
       "<div>\n",
       "<style scoped>\n",
       "    .dataframe tbody tr th:only-of-type {\n",
       "        vertical-align: middle;\n",
       "    }\n",
       "\n",
       "    .dataframe tbody tr th {\n",
       "        vertical-align: top;\n",
       "    }\n",
       "\n",
       "    .dataframe thead th {\n",
       "        text-align: right;\n",
       "    }\n",
       "</style>\n",
       "<table border=\"1\" class=\"dataframe\">\n",
       "  <thead>\n",
       "    <tr style=\"text-align: right;\">\n",
       "      <th></th>\n",
       "      <th>user_id</th>\n",
       "      <th>month</th>\n",
       "      <th>total_calls</th>\n",
       "      <th>total_duration</th>\n",
       "      <th>mb_used</th>\n",
       "      <th>gb_used</th>\n",
       "      <th>total_messages</th>\n",
       "      <th>age</th>\n",
       "      <th>churn_date</th>\n",
       "      <th>city</th>\n",
       "      <th>first_name</th>\n",
       "      <th>last_name</th>\n",
       "      <th>reg_date</th>\n",
       "      <th>tariff</th>\n",
       "    </tr>\n",
       "  </thead>\n",
       "  <tbody>\n",
       "    <tr>\n",
       "      <th>0</th>\n",
       "      <td>1000</td>\n",
       "      <td>5</td>\n",
       "      <td>22.0</td>\n",
       "      <td>159.0</td>\n",
       "      <td>2253.49</td>\n",
       "      <td>3</td>\n",
       "      <td>22.0</td>\n",
       "      <td>52</td>\n",
       "      <td>NaN</td>\n",
       "      <td>Краснодар</td>\n",
       "      <td>Рафаил</td>\n",
       "      <td>Верещагин</td>\n",
       "      <td>2018-05-25</td>\n",
       "      <td>ultra</td>\n",
       "    </tr>\n",
       "    <tr>\n",
       "      <th>1</th>\n",
       "      <td>1000</td>\n",
       "      <td>6</td>\n",
       "      <td>43.0</td>\n",
       "      <td>172.0</td>\n",
       "      <td>23233.77</td>\n",
       "      <td>23</td>\n",
       "      <td>60.0</td>\n",
       "      <td>52</td>\n",
       "      <td>NaN</td>\n",
       "      <td>Краснодар</td>\n",
       "      <td>Рафаил</td>\n",
       "      <td>Верещагин</td>\n",
       "      <td>2018-05-25</td>\n",
       "      <td>ultra</td>\n",
       "    </tr>\n",
       "    <tr>\n",
       "      <th>2</th>\n",
       "      <td>1000</td>\n",
       "      <td>7</td>\n",
       "      <td>47.0</td>\n",
       "      <td>340.0</td>\n",
       "      <td>14003.64</td>\n",
       "      <td>14</td>\n",
       "      <td>75.0</td>\n",
       "      <td>52</td>\n",
       "      <td>NaN</td>\n",
       "      <td>Краснодар</td>\n",
       "      <td>Рафаил</td>\n",
       "      <td>Верещагин</td>\n",
       "      <td>2018-05-25</td>\n",
       "      <td>ultra</td>\n",
       "    </tr>\n",
       "    <tr>\n",
       "      <th>3</th>\n",
       "      <td>1000</td>\n",
       "      <td>8</td>\n",
       "      <td>52.0</td>\n",
       "      <td>408.0</td>\n",
       "      <td>14055.93</td>\n",
       "      <td>14</td>\n",
       "      <td>81.0</td>\n",
       "      <td>52</td>\n",
       "      <td>NaN</td>\n",
       "      <td>Краснодар</td>\n",
       "      <td>Рафаил</td>\n",
       "      <td>Верещагин</td>\n",
       "      <td>2018-05-25</td>\n",
       "      <td>ultra</td>\n",
       "    </tr>\n",
       "    <tr>\n",
       "      <th>4</th>\n",
       "      <td>1000</td>\n",
       "      <td>9</td>\n",
       "      <td>58.0</td>\n",
       "      <td>466.0</td>\n",
       "      <td>14568.91</td>\n",
       "      <td>15</td>\n",
       "      <td>57.0</td>\n",
       "      <td>52</td>\n",
       "      <td>NaN</td>\n",
       "      <td>Краснодар</td>\n",
       "      <td>Рафаил</td>\n",
       "      <td>Верещагин</td>\n",
       "      <td>2018-05-25</td>\n",
       "      <td>ultra</td>\n",
       "    </tr>\n",
       "    <tr>\n",
       "      <th>5</th>\n",
       "      <td>1000</td>\n",
       "      <td>10</td>\n",
       "      <td>57.0</td>\n",
       "      <td>350.0</td>\n",
       "      <td>14702.49</td>\n",
       "      <td>15</td>\n",
       "      <td>73.0</td>\n",
       "      <td>52</td>\n",
       "      <td>NaN</td>\n",
       "      <td>Краснодар</td>\n",
       "      <td>Рафаил</td>\n",
       "      <td>Верещагин</td>\n",
       "      <td>2018-05-25</td>\n",
       "      <td>ultra</td>\n",
       "    </tr>\n",
       "    <tr>\n",
       "      <th>6</th>\n",
       "      <td>1000</td>\n",
       "      <td>11</td>\n",
       "      <td>43.0</td>\n",
       "      <td>338.0</td>\n",
       "      <td>14756.47</td>\n",
       "      <td>15</td>\n",
       "      <td>58.0</td>\n",
       "      <td>52</td>\n",
       "      <td>NaN</td>\n",
       "      <td>Краснодар</td>\n",
       "      <td>Рафаил</td>\n",
       "      <td>Верещагин</td>\n",
       "      <td>2018-05-25</td>\n",
       "      <td>ultra</td>\n",
       "    </tr>\n",
       "    <tr>\n",
       "      <th>7</th>\n",
       "      <td>1000</td>\n",
       "      <td>12</td>\n",
       "      <td>46.0</td>\n",
       "      <td>333.0</td>\n",
       "      <td>9817.61</td>\n",
       "      <td>10</td>\n",
       "      <td>70.0</td>\n",
       "      <td>52</td>\n",
       "      <td>NaN</td>\n",
       "      <td>Краснодар</td>\n",
       "      <td>Рафаил</td>\n",
       "      <td>Верещагин</td>\n",
       "      <td>2018-05-25</td>\n",
       "      <td>ultra</td>\n",
       "    </tr>\n",
       "    <tr>\n",
       "      <th>8</th>\n",
       "      <td>1001</td>\n",
       "      <td>11</td>\n",
       "      <td>59.0</td>\n",
       "      <td>430.0</td>\n",
       "      <td>18429.34</td>\n",
       "      <td>18</td>\n",
       "      <td>0.0</td>\n",
       "      <td>41</td>\n",
       "      <td>NaN</td>\n",
       "      <td>Москва</td>\n",
       "      <td>Иван</td>\n",
       "      <td>Ежов</td>\n",
       "      <td>2018-11-01</td>\n",
       "      <td>smart</td>\n",
       "    </tr>\n",
       "    <tr>\n",
       "      <th>9</th>\n",
       "      <td>1001</td>\n",
       "      <td>12</td>\n",
       "      <td>63.0</td>\n",
       "      <td>414.0</td>\n",
       "      <td>14036.66</td>\n",
       "      <td>14</td>\n",
       "      <td>0.0</td>\n",
       "      <td>41</td>\n",
       "      <td>NaN</td>\n",
       "      <td>Москва</td>\n",
       "      <td>Иван</td>\n",
       "      <td>Ежов</td>\n",
       "      <td>2018-11-01</td>\n",
       "      <td>smart</td>\n",
       "    </tr>\n",
       "  </tbody>\n",
       "</table>\n",
       "</div>"
      ],
      "text/plain": [
       "   user_id  month  total_calls  total_duration   mb_used  gb_used  \\\n",
       "0     1000      5         22.0           159.0   2253.49        3   \n",
       "1     1000      6         43.0           172.0  23233.77       23   \n",
       "2     1000      7         47.0           340.0  14003.64       14   \n",
       "3     1000      8         52.0           408.0  14055.93       14   \n",
       "4     1000      9         58.0           466.0  14568.91       15   \n",
       "5     1000     10         57.0           350.0  14702.49       15   \n",
       "6     1000     11         43.0           338.0  14756.47       15   \n",
       "7     1000     12         46.0           333.0   9817.61       10   \n",
       "8     1001     11         59.0           430.0  18429.34       18   \n",
       "9     1001     12         63.0           414.0  14036.66       14   \n",
       "\n",
       "   total_messages  age churn_date       city first_name  last_name  \\\n",
       "0            22.0   52        NaN  Краснодар     Рафаил  Верещагин   \n",
       "1            60.0   52        NaN  Краснодар     Рафаил  Верещагин   \n",
       "2            75.0   52        NaN  Краснодар     Рафаил  Верещагин   \n",
       "3            81.0   52        NaN  Краснодар     Рафаил  Верещагин   \n",
       "4            57.0   52        NaN  Краснодар     Рафаил  Верещагин   \n",
       "5            73.0   52        NaN  Краснодар     Рафаил  Верещагин   \n",
       "6            58.0   52        NaN  Краснодар     Рафаил  Верещагин   \n",
       "7            70.0   52        NaN  Краснодар     Рафаил  Верещагин   \n",
       "8             0.0   41        NaN     Москва       Иван       Ежов   \n",
       "9             0.0   41        NaN     Москва       Иван       Ежов   \n",
       "\n",
       "     reg_date tariff  \n",
       "0  2018-05-25  ultra  \n",
       "1  2018-05-25  ultra  \n",
       "2  2018-05-25  ultra  \n",
       "3  2018-05-25  ultra  \n",
       "4  2018-05-25  ultra  \n",
       "5  2018-05-25  ultra  \n",
       "6  2018-05-25  ultra  \n",
       "7  2018-05-25  ultra  \n",
       "8  2018-11-01  smart  \n",
       "9  2018-11-01  smart  "
      ]
     },
     "execution_count": 23,
     "metadata": {},
     "output_type": "execute_result"
    }
   ],
   "source": [
    "#добавим столбцы с данными об абонентах\n",
    "df = df.merge(users, on='user_id')\n",
    "df.head(10)"
   ]
  },
  {
   "cell_type": "code",
   "execution_count": 24,
   "metadata": {},
   "outputs": [
    {
     "data": {
      "text/html": [
       "<div>\n",
       "<style scoped>\n",
       "    .dataframe tbody tr th:only-of-type {\n",
       "        vertical-align: middle;\n",
       "    }\n",
       "\n",
       "    .dataframe tbody tr th {\n",
       "        vertical-align: top;\n",
       "    }\n",
       "\n",
       "    .dataframe thead th {\n",
       "        text-align: right;\n",
       "    }\n",
       "</style>\n",
       "<table border=\"1\" class=\"dataframe\">\n",
       "  <thead>\n",
       "    <tr style=\"text-align: right;\">\n",
       "      <th></th>\n",
       "      <th>user_id</th>\n",
       "      <th>month</th>\n",
       "      <th>total_calls</th>\n",
       "      <th>total_duration</th>\n",
       "      <th>mb_used</th>\n",
       "      <th>gb_used</th>\n",
       "      <th>total_messages</th>\n",
       "      <th>age</th>\n",
       "      <th>city</th>\n",
       "      <th>first_name</th>\n",
       "      <th>last_name</th>\n",
       "      <th>reg_date</th>\n",
       "      <th>tariff</th>\n",
       "    </tr>\n",
       "  </thead>\n",
       "  <tbody>\n",
       "    <tr>\n",
       "      <th>0</th>\n",
       "      <td>1000</td>\n",
       "      <td>5</td>\n",
       "      <td>22.0</td>\n",
       "      <td>159.0</td>\n",
       "      <td>2253.49</td>\n",
       "      <td>3</td>\n",
       "      <td>22.0</td>\n",
       "      <td>52</td>\n",
       "      <td>Краснодар</td>\n",
       "      <td>Рафаил</td>\n",
       "      <td>Верещагин</td>\n",
       "      <td>2018-05-25</td>\n",
       "      <td>ultra</td>\n",
       "    </tr>\n",
       "    <tr>\n",
       "      <th>1</th>\n",
       "      <td>1000</td>\n",
       "      <td>6</td>\n",
       "      <td>43.0</td>\n",
       "      <td>172.0</td>\n",
       "      <td>23233.77</td>\n",
       "      <td>23</td>\n",
       "      <td>60.0</td>\n",
       "      <td>52</td>\n",
       "      <td>Краснодар</td>\n",
       "      <td>Рафаил</td>\n",
       "      <td>Верещагин</td>\n",
       "      <td>2018-05-25</td>\n",
       "      <td>ultra</td>\n",
       "    </tr>\n",
       "    <tr>\n",
       "      <th>2</th>\n",
       "      <td>1000</td>\n",
       "      <td>7</td>\n",
       "      <td>47.0</td>\n",
       "      <td>340.0</td>\n",
       "      <td>14003.64</td>\n",
       "      <td>14</td>\n",
       "      <td>75.0</td>\n",
       "      <td>52</td>\n",
       "      <td>Краснодар</td>\n",
       "      <td>Рафаил</td>\n",
       "      <td>Верещагин</td>\n",
       "      <td>2018-05-25</td>\n",
       "      <td>ultra</td>\n",
       "    </tr>\n",
       "    <tr>\n",
       "      <th>3</th>\n",
       "      <td>1000</td>\n",
       "      <td>8</td>\n",
       "      <td>52.0</td>\n",
       "      <td>408.0</td>\n",
       "      <td>14055.93</td>\n",
       "      <td>14</td>\n",
       "      <td>81.0</td>\n",
       "      <td>52</td>\n",
       "      <td>Краснодар</td>\n",
       "      <td>Рафаил</td>\n",
       "      <td>Верещагин</td>\n",
       "      <td>2018-05-25</td>\n",
       "      <td>ultra</td>\n",
       "    </tr>\n",
       "    <tr>\n",
       "      <th>4</th>\n",
       "      <td>1000</td>\n",
       "      <td>9</td>\n",
       "      <td>58.0</td>\n",
       "      <td>466.0</td>\n",
       "      <td>14568.91</td>\n",
       "      <td>15</td>\n",
       "      <td>57.0</td>\n",
       "      <td>52</td>\n",
       "      <td>Краснодар</td>\n",
       "      <td>Рафаил</td>\n",
       "      <td>Верещагин</td>\n",
       "      <td>2018-05-25</td>\n",
       "      <td>ultra</td>\n",
       "    </tr>\n",
       "  </tbody>\n",
       "</table>\n",
       "</div>"
      ],
      "text/plain": [
       "   user_id  month  total_calls  total_duration   mb_used  gb_used  \\\n",
       "0     1000      5         22.0           159.0   2253.49        3   \n",
       "1     1000      6         43.0           172.0  23233.77       23   \n",
       "2     1000      7         47.0           340.0  14003.64       14   \n",
       "3     1000      8         52.0           408.0  14055.93       14   \n",
       "4     1000      9         58.0           466.0  14568.91       15   \n",
       "\n",
       "   total_messages  age       city first_name  last_name    reg_date tariff  \n",
       "0            22.0   52  Краснодар     Рафаил  Верещагин  2018-05-25  ultra  \n",
       "1            60.0   52  Краснодар     Рафаил  Верещагин  2018-05-25  ultra  \n",
       "2            75.0   52  Краснодар     Рафаил  Верещагин  2018-05-25  ultra  \n",
       "3            81.0   52  Краснодар     Рафаил  Верещагин  2018-05-25  ultra  \n",
       "4            57.0   52  Краснодар     Рафаил  Верещагин  2018-05-25  ultra  "
      ]
     },
     "execution_count": 24,
     "metadata": {},
     "output_type": "execute_result"
    }
   ],
   "source": [
    "df.drop(columns='churn_date', inplace=True) #удалим пустой столбец churn_date\n",
    "df.head()"
   ]
  },
  {
   "cell_type": "code",
   "execution_count": 25,
   "metadata": {},
   "outputs": [
    {
     "data": {
      "text/html": [
       "<div>\n",
       "<style scoped>\n",
       "    .dataframe tbody tr th:only-of-type {\n",
       "        vertical-align: middle;\n",
       "    }\n",
       "\n",
       "    .dataframe tbody tr th {\n",
       "        vertical-align: top;\n",
       "    }\n",
       "\n",
       "    .dataframe thead th {\n",
       "        text-align: right;\n",
       "    }\n",
       "</style>\n",
       "<table border=\"1\" class=\"dataframe\">\n",
       "  <thead>\n",
       "    <tr style=\"text-align: right;\">\n",
       "      <th></th>\n",
       "      <th>user_id</th>\n",
       "      <th>month</th>\n",
       "      <th>total_calls</th>\n",
       "      <th>total_duration</th>\n",
       "      <th>mb_used</th>\n",
       "      <th>gb_used</th>\n",
       "      <th>total_messages</th>\n",
       "      <th>age</th>\n",
       "      <th>city</th>\n",
       "      <th>first_name</th>\n",
       "      <th>last_name</th>\n",
       "      <th>reg_date</th>\n",
       "      <th>tariff_name</th>\n",
       "      <th>messages_included</th>\n",
       "      <th>mb_per_month_included</th>\n",
       "      <th>minutes_included</th>\n",
       "      <th>rub_monthly_fee</th>\n",
       "      <th>rub_per_gb</th>\n",
       "      <th>rub_per_message</th>\n",
       "      <th>rub_per_minute</th>\n",
       "    </tr>\n",
       "  </thead>\n",
       "  <tbody>\n",
       "    <tr>\n",
       "      <th>0</th>\n",
       "      <td>1000</td>\n",
       "      <td>5</td>\n",
       "      <td>22.0</td>\n",
       "      <td>159.0</td>\n",
       "      <td>2253.49</td>\n",
       "      <td>3</td>\n",
       "      <td>22.0</td>\n",
       "      <td>52</td>\n",
       "      <td>Краснодар</td>\n",
       "      <td>Рафаил</td>\n",
       "      <td>Верещагин</td>\n",
       "      <td>2018-05-25</td>\n",
       "      <td>ultra</td>\n",
       "      <td>1000</td>\n",
       "      <td>30720</td>\n",
       "      <td>3000</td>\n",
       "      <td>1950</td>\n",
       "      <td>150</td>\n",
       "      <td>1</td>\n",
       "      <td>1</td>\n",
       "    </tr>\n",
       "    <tr>\n",
       "      <th>1</th>\n",
       "      <td>1000</td>\n",
       "      <td>6</td>\n",
       "      <td>43.0</td>\n",
       "      <td>172.0</td>\n",
       "      <td>23233.77</td>\n",
       "      <td>23</td>\n",
       "      <td>60.0</td>\n",
       "      <td>52</td>\n",
       "      <td>Краснодар</td>\n",
       "      <td>Рафаил</td>\n",
       "      <td>Верещагин</td>\n",
       "      <td>2018-05-25</td>\n",
       "      <td>ultra</td>\n",
       "      <td>1000</td>\n",
       "      <td>30720</td>\n",
       "      <td>3000</td>\n",
       "      <td>1950</td>\n",
       "      <td>150</td>\n",
       "      <td>1</td>\n",
       "      <td>1</td>\n",
       "    </tr>\n",
       "    <tr>\n",
       "      <th>2</th>\n",
       "      <td>1000</td>\n",
       "      <td>7</td>\n",
       "      <td>47.0</td>\n",
       "      <td>340.0</td>\n",
       "      <td>14003.64</td>\n",
       "      <td>14</td>\n",
       "      <td>75.0</td>\n",
       "      <td>52</td>\n",
       "      <td>Краснодар</td>\n",
       "      <td>Рафаил</td>\n",
       "      <td>Верещагин</td>\n",
       "      <td>2018-05-25</td>\n",
       "      <td>ultra</td>\n",
       "      <td>1000</td>\n",
       "      <td>30720</td>\n",
       "      <td>3000</td>\n",
       "      <td>1950</td>\n",
       "      <td>150</td>\n",
       "      <td>1</td>\n",
       "      <td>1</td>\n",
       "    </tr>\n",
       "    <tr>\n",
       "      <th>3</th>\n",
       "      <td>1000</td>\n",
       "      <td>8</td>\n",
       "      <td>52.0</td>\n",
       "      <td>408.0</td>\n",
       "      <td>14055.93</td>\n",
       "      <td>14</td>\n",
       "      <td>81.0</td>\n",
       "      <td>52</td>\n",
       "      <td>Краснодар</td>\n",
       "      <td>Рафаил</td>\n",
       "      <td>Верещагин</td>\n",
       "      <td>2018-05-25</td>\n",
       "      <td>ultra</td>\n",
       "      <td>1000</td>\n",
       "      <td>30720</td>\n",
       "      <td>3000</td>\n",
       "      <td>1950</td>\n",
       "      <td>150</td>\n",
       "      <td>1</td>\n",
       "      <td>1</td>\n",
       "    </tr>\n",
       "    <tr>\n",
       "      <th>4</th>\n",
       "      <td>1000</td>\n",
       "      <td>9</td>\n",
       "      <td>58.0</td>\n",
       "      <td>466.0</td>\n",
       "      <td>14568.91</td>\n",
       "      <td>15</td>\n",
       "      <td>57.0</td>\n",
       "      <td>52</td>\n",
       "      <td>Краснодар</td>\n",
       "      <td>Рафаил</td>\n",
       "      <td>Верещагин</td>\n",
       "      <td>2018-05-25</td>\n",
       "      <td>ultra</td>\n",
       "      <td>1000</td>\n",
       "      <td>30720</td>\n",
       "      <td>3000</td>\n",
       "      <td>1950</td>\n",
       "      <td>150</td>\n",
       "      <td>1</td>\n",
       "      <td>1</td>\n",
       "    </tr>\n",
       "  </tbody>\n",
       "</table>\n",
       "</div>"
      ],
      "text/plain": [
       "   user_id  month  total_calls  total_duration   mb_used  gb_used  \\\n",
       "0     1000      5         22.0           159.0   2253.49        3   \n",
       "1     1000      6         43.0           172.0  23233.77       23   \n",
       "2     1000      7         47.0           340.0  14003.64       14   \n",
       "3     1000      8         52.0           408.0  14055.93       14   \n",
       "4     1000      9         58.0           466.0  14568.91       15   \n",
       "\n",
       "   total_messages  age       city first_name  last_name    reg_date  \\\n",
       "0            22.0   52  Краснодар     Рафаил  Верещагин  2018-05-25   \n",
       "1            60.0   52  Краснодар     Рафаил  Верещагин  2018-05-25   \n",
       "2            75.0   52  Краснодар     Рафаил  Верещагин  2018-05-25   \n",
       "3            81.0   52  Краснодар     Рафаил  Верещагин  2018-05-25   \n",
       "4            57.0   52  Краснодар     Рафаил  Верещагин  2018-05-25   \n",
       "\n",
       "  tariff_name  messages_included  mb_per_month_included  minutes_included  \\\n",
       "0       ultra               1000                  30720              3000   \n",
       "1       ultra               1000                  30720              3000   \n",
       "2       ultra               1000                  30720              3000   \n",
       "3       ultra               1000                  30720              3000   \n",
       "4       ultra               1000                  30720              3000   \n",
       "\n",
       "   rub_monthly_fee  rub_per_gb  rub_per_message  rub_per_minute  \n",
       "0             1950         150                1               1  \n",
       "1             1950         150                1               1  \n",
       "2             1950         150                1               1  \n",
       "3             1950         150                1               1  \n",
       "4             1950         150                1               1  "
      ]
     },
     "execution_count": 25,
     "metadata": {},
     "output_type": "execute_result"
    }
   ],
   "source": [
    "df.rename(columns={'tariff': 'tariff_name'}, inplace=True) #переименуем столбец\n",
    "df = df.merge(tariffs, on='tariff_name') #и добавим условия по тарифам\n",
    "df.head()"
   ]
  },
  {
   "cell_type": "code",
   "execution_count": 26,
   "metadata": {},
   "outputs": [],
   "source": [
    "def neg_to_zero(number): #функция для преобразования отрицательных чисел в ноль\n",
    "    if number < 0:\n",
    "        number = 0\n",
    "    return number"
   ]
  },
  {
   "cell_type": "code",
   "execution_count": 27,
   "metadata": {},
   "outputs": [
    {
     "data": {
      "text/html": [
       "<div>\n",
       "<style scoped>\n",
       "    .dataframe tbody tr th:only-of-type {\n",
       "        vertical-align: middle;\n",
       "    }\n",
       "\n",
       "    .dataframe tbody tr th {\n",
       "        vertical-align: top;\n",
       "    }\n",
       "\n",
       "    .dataframe thead th {\n",
       "        text-align: right;\n",
       "    }\n",
       "</style>\n",
       "<table border=\"1\" class=\"dataframe\">\n",
       "  <thead>\n",
       "    <tr style=\"text-align: right;\">\n",
       "      <th></th>\n",
       "      <th>user_id</th>\n",
       "      <th>month</th>\n",
       "      <th>total_calls</th>\n",
       "      <th>total_duration</th>\n",
       "      <th>mb_used</th>\n",
       "      <th>gb_used</th>\n",
       "      <th>total_messages</th>\n",
       "      <th>age</th>\n",
       "      <th>city</th>\n",
       "      <th>first_name</th>\n",
       "      <th>last_name</th>\n",
       "      <th>reg_date</th>\n",
       "      <th>tariff_name</th>\n",
       "      <th>messages_included</th>\n",
       "      <th>gb_per_month_included</th>\n",
       "      <th>minutes_included</th>\n",
       "      <th>rub_monthly_fee</th>\n",
       "      <th>rub_per_gb</th>\n",
       "      <th>rub_per_message</th>\n",
       "      <th>rub_per_minute</th>\n",
       "    </tr>\n",
       "  </thead>\n",
       "  <tbody>\n",
       "    <tr>\n",
       "      <th>0</th>\n",
       "      <td>1000</td>\n",
       "      <td>5</td>\n",
       "      <td>22.0</td>\n",
       "      <td>159.0</td>\n",
       "      <td>2253.49</td>\n",
       "      <td>3</td>\n",
       "      <td>22.0</td>\n",
       "      <td>52</td>\n",
       "      <td>Краснодар</td>\n",
       "      <td>Рафаил</td>\n",
       "      <td>Верещагин</td>\n",
       "      <td>2018-05-25</td>\n",
       "      <td>ultra</td>\n",
       "      <td>1000</td>\n",
       "      <td>30</td>\n",
       "      <td>3000</td>\n",
       "      <td>1950</td>\n",
       "      <td>150</td>\n",
       "      <td>1</td>\n",
       "      <td>1</td>\n",
       "    </tr>\n",
       "    <tr>\n",
       "      <th>1</th>\n",
       "      <td>1000</td>\n",
       "      <td>6</td>\n",
       "      <td>43.0</td>\n",
       "      <td>172.0</td>\n",
       "      <td>23233.77</td>\n",
       "      <td>23</td>\n",
       "      <td>60.0</td>\n",
       "      <td>52</td>\n",
       "      <td>Краснодар</td>\n",
       "      <td>Рафаил</td>\n",
       "      <td>Верещагин</td>\n",
       "      <td>2018-05-25</td>\n",
       "      <td>ultra</td>\n",
       "      <td>1000</td>\n",
       "      <td>30</td>\n",
       "      <td>3000</td>\n",
       "      <td>1950</td>\n",
       "      <td>150</td>\n",
       "      <td>1</td>\n",
       "      <td>1</td>\n",
       "    </tr>\n",
       "    <tr>\n",
       "      <th>2</th>\n",
       "      <td>1000</td>\n",
       "      <td>7</td>\n",
       "      <td>47.0</td>\n",
       "      <td>340.0</td>\n",
       "      <td>14003.64</td>\n",
       "      <td>14</td>\n",
       "      <td>75.0</td>\n",
       "      <td>52</td>\n",
       "      <td>Краснодар</td>\n",
       "      <td>Рафаил</td>\n",
       "      <td>Верещагин</td>\n",
       "      <td>2018-05-25</td>\n",
       "      <td>ultra</td>\n",
       "      <td>1000</td>\n",
       "      <td>30</td>\n",
       "      <td>3000</td>\n",
       "      <td>1950</td>\n",
       "      <td>150</td>\n",
       "      <td>1</td>\n",
       "      <td>1</td>\n",
       "    </tr>\n",
       "    <tr>\n",
       "      <th>3</th>\n",
       "      <td>1000</td>\n",
       "      <td>8</td>\n",
       "      <td>52.0</td>\n",
       "      <td>408.0</td>\n",
       "      <td>14055.93</td>\n",
       "      <td>14</td>\n",
       "      <td>81.0</td>\n",
       "      <td>52</td>\n",
       "      <td>Краснодар</td>\n",
       "      <td>Рафаил</td>\n",
       "      <td>Верещагин</td>\n",
       "      <td>2018-05-25</td>\n",
       "      <td>ultra</td>\n",
       "      <td>1000</td>\n",
       "      <td>30</td>\n",
       "      <td>3000</td>\n",
       "      <td>1950</td>\n",
       "      <td>150</td>\n",
       "      <td>1</td>\n",
       "      <td>1</td>\n",
       "    </tr>\n",
       "    <tr>\n",
       "      <th>4</th>\n",
       "      <td>1000</td>\n",
       "      <td>9</td>\n",
       "      <td>58.0</td>\n",
       "      <td>466.0</td>\n",
       "      <td>14568.91</td>\n",
       "      <td>15</td>\n",
       "      <td>57.0</td>\n",
       "      <td>52</td>\n",
       "      <td>Краснодар</td>\n",
       "      <td>Рафаил</td>\n",
       "      <td>Верещагин</td>\n",
       "      <td>2018-05-25</td>\n",
       "      <td>ultra</td>\n",
       "      <td>1000</td>\n",
       "      <td>30</td>\n",
       "      <td>3000</td>\n",
       "      <td>1950</td>\n",
       "      <td>150</td>\n",
       "      <td>1</td>\n",
       "      <td>1</td>\n",
       "    </tr>\n",
       "  </tbody>\n",
       "</table>\n",
       "</div>"
      ],
      "text/plain": [
       "   user_id  month  total_calls  total_duration   mb_used  gb_used  \\\n",
       "0     1000      5         22.0           159.0   2253.49        3   \n",
       "1     1000      6         43.0           172.0  23233.77       23   \n",
       "2     1000      7         47.0           340.0  14003.64       14   \n",
       "3     1000      8         52.0           408.0  14055.93       14   \n",
       "4     1000      9         58.0           466.0  14568.91       15   \n",
       "\n",
       "   total_messages  age       city first_name  last_name    reg_date  \\\n",
       "0            22.0   52  Краснодар     Рафаил  Верещагин  2018-05-25   \n",
       "1            60.0   52  Краснодар     Рафаил  Верещагин  2018-05-25   \n",
       "2            75.0   52  Краснодар     Рафаил  Верещагин  2018-05-25   \n",
       "3            81.0   52  Краснодар     Рафаил  Верещагин  2018-05-25   \n",
       "4            57.0   52  Краснодар     Рафаил  Верещагин  2018-05-25   \n",
       "\n",
       "  tariff_name  messages_included  gb_per_month_included  minutes_included  \\\n",
       "0       ultra               1000                     30              3000   \n",
       "1       ultra               1000                     30              3000   \n",
       "2       ultra               1000                     30              3000   \n",
       "3       ultra               1000                     30              3000   \n",
       "4       ultra               1000                     30              3000   \n",
       "\n",
       "   rub_monthly_fee  rub_per_gb  rub_per_message  rub_per_minute  \n",
       "0             1950         150                1               1  \n",
       "1             1950         150                1               1  \n",
       "2             1950         150                1               1  \n",
       "3             1950         150                1               1  \n",
       "4             1950         150                1               1  "
      ]
     },
     "execution_count": 27,
     "metadata": {},
     "output_type": "execute_result"
    }
   ],
   "source": [
    "df.mb_per_month_included = np.ceil(df.mb_per_month_included / 1024).astype('int') #переведем мб в гб\n",
    "df.rename(columns={'mb_per_month_included': 'gb_per_month_included'}, inplace=True)\n",
    "df.head()"
   ]
  },
  {
   "cell_type": "code",
   "execution_count": 28,
   "metadata": {},
   "outputs": [],
   "source": [
    "df['revenue'] = ( #посчитаем выручку в месяц по каждому клиенту \n",
    "                ((df['total_duration'] - df['minutes_included']) \n",
    "                * df['rub_per_minute']).apply(neg_to_zero)\n",
    "                + ((df['total_messages'] - df['messages_included'])\n",
    "                * df['rub_per_message']).apply(neg_to_zero)\n",
    "                + ((df['gb_used'] - df['gb_per_month_included'])\n",
    "                * df['rub_per_gb']).apply(neg_to_zero)\n",
    "                + df['rub_monthly_fee']\n",
    ")"
   ]
  },
  {
   "cell_type": "code",
   "execution_count": 29,
   "metadata": {},
   "outputs": [
    {
     "data": {
      "text/html": [
       "<div>\n",
       "<style scoped>\n",
       "    .dataframe tbody tr th:only-of-type {\n",
       "        vertical-align: middle;\n",
       "    }\n",
       "\n",
       "    .dataframe tbody tr th {\n",
       "        vertical-align: top;\n",
       "    }\n",
       "\n",
       "    .dataframe thead th {\n",
       "        text-align: right;\n",
       "    }\n",
       "</style>\n",
       "<table border=\"1\" class=\"dataframe\">\n",
       "  <thead>\n",
       "    <tr style=\"text-align: right;\">\n",
       "      <th></th>\n",
       "      <th>user_id</th>\n",
       "      <th>month</th>\n",
       "      <th>total_calls</th>\n",
       "      <th>total_duration</th>\n",
       "      <th>mb_used</th>\n",
       "      <th>gb_used</th>\n",
       "      <th>total_messages</th>\n",
       "      <th>age</th>\n",
       "      <th>city</th>\n",
       "      <th>first_name</th>\n",
       "      <th>...</th>\n",
       "      <th>reg_date</th>\n",
       "      <th>tariff_name</th>\n",
       "      <th>messages_included</th>\n",
       "      <th>gb_per_month_included</th>\n",
       "      <th>minutes_included</th>\n",
       "      <th>rub_monthly_fee</th>\n",
       "      <th>rub_per_gb</th>\n",
       "      <th>rub_per_message</th>\n",
       "      <th>rub_per_minute</th>\n",
       "      <th>revenue</th>\n",
       "    </tr>\n",
       "  </thead>\n",
       "  <tbody>\n",
       "    <tr>\n",
       "      <th>0</th>\n",
       "      <td>1000</td>\n",
       "      <td>5</td>\n",
       "      <td>22.0</td>\n",
       "      <td>159.0</td>\n",
       "      <td>2253.49</td>\n",
       "      <td>3</td>\n",
       "      <td>22.0</td>\n",
       "      <td>52</td>\n",
       "      <td>Краснодар</td>\n",
       "      <td>Рафаил</td>\n",
       "      <td>...</td>\n",
       "      <td>2018-05-25</td>\n",
       "      <td>ultra</td>\n",
       "      <td>1000</td>\n",
       "      <td>30</td>\n",
       "      <td>3000</td>\n",
       "      <td>1950</td>\n",
       "      <td>150</td>\n",
       "      <td>1</td>\n",
       "      <td>1</td>\n",
       "      <td>1950.0</td>\n",
       "    </tr>\n",
       "    <tr>\n",
       "      <th>1</th>\n",
       "      <td>1000</td>\n",
       "      <td>6</td>\n",
       "      <td>43.0</td>\n",
       "      <td>172.0</td>\n",
       "      <td>23233.77</td>\n",
       "      <td>23</td>\n",
       "      <td>60.0</td>\n",
       "      <td>52</td>\n",
       "      <td>Краснодар</td>\n",
       "      <td>Рафаил</td>\n",
       "      <td>...</td>\n",
       "      <td>2018-05-25</td>\n",
       "      <td>ultra</td>\n",
       "      <td>1000</td>\n",
       "      <td>30</td>\n",
       "      <td>3000</td>\n",
       "      <td>1950</td>\n",
       "      <td>150</td>\n",
       "      <td>1</td>\n",
       "      <td>1</td>\n",
       "      <td>1950.0</td>\n",
       "    </tr>\n",
       "    <tr>\n",
       "      <th>2</th>\n",
       "      <td>1000</td>\n",
       "      <td>7</td>\n",
       "      <td>47.0</td>\n",
       "      <td>340.0</td>\n",
       "      <td>14003.64</td>\n",
       "      <td>14</td>\n",
       "      <td>75.0</td>\n",
       "      <td>52</td>\n",
       "      <td>Краснодар</td>\n",
       "      <td>Рафаил</td>\n",
       "      <td>...</td>\n",
       "      <td>2018-05-25</td>\n",
       "      <td>ultra</td>\n",
       "      <td>1000</td>\n",
       "      <td>30</td>\n",
       "      <td>3000</td>\n",
       "      <td>1950</td>\n",
       "      <td>150</td>\n",
       "      <td>1</td>\n",
       "      <td>1</td>\n",
       "      <td>1950.0</td>\n",
       "    </tr>\n",
       "    <tr>\n",
       "      <th>3</th>\n",
       "      <td>1000</td>\n",
       "      <td>8</td>\n",
       "      <td>52.0</td>\n",
       "      <td>408.0</td>\n",
       "      <td>14055.93</td>\n",
       "      <td>14</td>\n",
       "      <td>81.0</td>\n",
       "      <td>52</td>\n",
       "      <td>Краснодар</td>\n",
       "      <td>Рафаил</td>\n",
       "      <td>...</td>\n",
       "      <td>2018-05-25</td>\n",
       "      <td>ultra</td>\n",
       "      <td>1000</td>\n",
       "      <td>30</td>\n",
       "      <td>3000</td>\n",
       "      <td>1950</td>\n",
       "      <td>150</td>\n",
       "      <td>1</td>\n",
       "      <td>1</td>\n",
       "      <td>1950.0</td>\n",
       "    </tr>\n",
       "    <tr>\n",
       "      <th>4</th>\n",
       "      <td>1000</td>\n",
       "      <td>9</td>\n",
       "      <td>58.0</td>\n",
       "      <td>466.0</td>\n",
       "      <td>14568.91</td>\n",
       "      <td>15</td>\n",
       "      <td>57.0</td>\n",
       "      <td>52</td>\n",
       "      <td>Краснодар</td>\n",
       "      <td>Рафаил</td>\n",
       "      <td>...</td>\n",
       "      <td>2018-05-25</td>\n",
       "      <td>ultra</td>\n",
       "      <td>1000</td>\n",
       "      <td>30</td>\n",
       "      <td>3000</td>\n",
       "      <td>1950</td>\n",
       "      <td>150</td>\n",
       "      <td>1</td>\n",
       "      <td>1</td>\n",
       "      <td>1950.0</td>\n",
       "    </tr>\n",
       "  </tbody>\n",
       "</table>\n",
       "<p>5 rows × 21 columns</p>\n",
       "</div>"
      ],
      "text/plain": [
       "   user_id  month  total_calls  total_duration   mb_used  gb_used  \\\n",
       "0     1000      5         22.0           159.0   2253.49        3   \n",
       "1     1000      6         43.0           172.0  23233.77       23   \n",
       "2     1000      7         47.0           340.0  14003.64       14   \n",
       "3     1000      8         52.0           408.0  14055.93       14   \n",
       "4     1000      9         58.0           466.0  14568.91       15   \n",
       "\n",
       "   total_messages  age       city first_name  ...    reg_date tariff_name  \\\n",
       "0            22.0   52  Краснодар     Рафаил  ...  2018-05-25       ultra   \n",
       "1            60.0   52  Краснодар     Рафаил  ...  2018-05-25       ultra   \n",
       "2            75.0   52  Краснодар     Рафаил  ...  2018-05-25       ultra   \n",
       "3            81.0   52  Краснодар     Рафаил  ...  2018-05-25       ultra   \n",
       "4            57.0   52  Краснодар     Рафаил  ...  2018-05-25       ultra   \n",
       "\n",
       "  messages_included  gb_per_month_included  minutes_included  rub_monthly_fee  \\\n",
       "0              1000                     30              3000             1950   \n",
       "1              1000                     30              3000             1950   \n",
       "2              1000                     30              3000             1950   \n",
       "3              1000                     30              3000             1950   \n",
       "4              1000                     30              3000             1950   \n",
       "\n",
       "   rub_per_gb  rub_per_message  rub_per_minute  revenue  \n",
       "0         150                1               1   1950.0  \n",
       "1         150                1               1   1950.0  \n",
       "2         150                1               1   1950.0  \n",
       "3         150                1               1   1950.0  \n",
       "4         150                1               1   1950.0  \n",
       "\n",
       "[5 rows x 21 columns]"
      ]
     },
     "execution_count": 29,
     "metadata": {},
     "output_type": "execute_result"
    }
   ],
   "source": [
    "df.head()"
   ]
  },
  {
   "cell_type": "markdown",
   "metadata": {},
   "source": [
    "Из-за NaN числа преобразовались в формат `float`, вернем их обратно в `int`"
   ]
  },
  {
   "cell_type": "code",
   "execution_count": 30,
   "metadata": {},
   "outputs": [],
   "source": [
    "to_int_list = ['total_calls', 'total_duration', 'gb_used', 'total_messages', 'revenue']\n",
    "for col in to_int_list:\n",
    "    df[col] = df[col].astype('int64')"
   ]
  },
  {
   "cell_type": "code",
   "execution_count": 31,
   "metadata": {},
   "outputs": [
    {
     "data": {
      "text/html": [
       "<div>\n",
       "<style scoped>\n",
       "    .dataframe tbody tr th:only-of-type {\n",
       "        vertical-align: middle;\n",
       "    }\n",
       "\n",
       "    .dataframe tbody tr th {\n",
       "        vertical-align: top;\n",
       "    }\n",
       "\n",
       "    .dataframe thead th {\n",
       "        text-align: right;\n",
       "    }\n",
       "</style>\n",
       "<table border=\"1\" class=\"dataframe\">\n",
       "  <thead>\n",
       "    <tr style=\"text-align: right;\">\n",
       "      <th></th>\n",
       "      <th>user_id</th>\n",
       "      <th>month</th>\n",
       "      <th>total_calls</th>\n",
       "      <th>total_duration</th>\n",
       "      <th>mb_used</th>\n",
       "      <th>gb_used</th>\n",
       "      <th>total_messages</th>\n",
       "      <th>age</th>\n",
       "      <th>city</th>\n",
       "      <th>first_name</th>\n",
       "      <th>...</th>\n",
       "      <th>reg_date</th>\n",
       "      <th>tariff_name</th>\n",
       "      <th>messages_included</th>\n",
       "      <th>gb_per_month_included</th>\n",
       "      <th>minutes_included</th>\n",
       "      <th>rub_monthly_fee</th>\n",
       "      <th>rub_per_gb</th>\n",
       "      <th>rub_per_message</th>\n",
       "      <th>rub_per_minute</th>\n",
       "      <th>revenue</th>\n",
       "    </tr>\n",
       "  </thead>\n",
       "  <tbody>\n",
       "    <tr>\n",
       "      <th>0</th>\n",
       "      <td>1000</td>\n",
       "      <td>5</td>\n",
       "      <td>22</td>\n",
       "      <td>159</td>\n",
       "      <td>2253.49</td>\n",
       "      <td>3</td>\n",
       "      <td>22</td>\n",
       "      <td>52</td>\n",
       "      <td>Краснодар</td>\n",
       "      <td>Рафаил</td>\n",
       "      <td>...</td>\n",
       "      <td>2018-05-25</td>\n",
       "      <td>ultra</td>\n",
       "      <td>1000</td>\n",
       "      <td>30</td>\n",
       "      <td>3000</td>\n",
       "      <td>1950</td>\n",
       "      <td>150</td>\n",
       "      <td>1</td>\n",
       "      <td>1</td>\n",
       "      <td>1950</td>\n",
       "    </tr>\n",
       "    <tr>\n",
       "      <th>1</th>\n",
       "      <td>1000</td>\n",
       "      <td>6</td>\n",
       "      <td>43</td>\n",
       "      <td>172</td>\n",
       "      <td>23233.77</td>\n",
       "      <td>23</td>\n",
       "      <td>60</td>\n",
       "      <td>52</td>\n",
       "      <td>Краснодар</td>\n",
       "      <td>Рафаил</td>\n",
       "      <td>...</td>\n",
       "      <td>2018-05-25</td>\n",
       "      <td>ultra</td>\n",
       "      <td>1000</td>\n",
       "      <td>30</td>\n",
       "      <td>3000</td>\n",
       "      <td>1950</td>\n",
       "      <td>150</td>\n",
       "      <td>1</td>\n",
       "      <td>1</td>\n",
       "      <td>1950</td>\n",
       "    </tr>\n",
       "    <tr>\n",
       "      <th>2</th>\n",
       "      <td>1000</td>\n",
       "      <td>7</td>\n",
       "      <td>47</td>\n",
       "      <td>340</td>\n",
       "      <td>14003.64</td>\n",
       "      <td>14</td>\n",
       "      <td>75</td>\n",
       "      <td>52</td>\n",
       "      <td>Краснодар</td>\n",
       "      <td>Рафаил</td>\n",
       "      <td>...</td>\n",
       "      <td>2018-05-25</td>\n",
       "      <td>ultra</td>\n",
       "      <td>1000</td>\n",
       "      <td>30</td>\n",
       "      <td>3000</td>\n",
       "      <td>1950</td>\n",
       "      <td>150</td>\n",
       "      <td>1</td>\n",
       "      <td>1</td>\n",
       "      <td>1950</td>\n",
       "    </tr>\n",
       "    <tr>\n",
       "      <th>3</th>\n",
       "      <td>1000</td>\n",
       "      <td>8</td>\n",
       "      <td>52</td>\n",
       "      <td>408</td>\n",
       "      <td>14055.93</td>\n",
       "      <td>14</td>\n",
       "      <td>81</td>\n",
       "      <td>52</td>\n",
       "      <td>Краснодар</td>\n",
       "      <td>Рафаил</td>\n",
       "      <td>...</td>\n",
       "      <td>2018-05-25</td>\n",
       "      <td>ultra</td>\n",
       "      <td>1000</td>\n",
       "      <td>30</td>\n",
       "      <td>3000</td>\n",
       "      <td>1950</td>\n",
       "      <td>150</td>\n",
       "      <td>1</td>\n",
       "      <td>1</td>\n",
       "      <td>1950</td>\n",
       "    </tr>\n",
       "    <tr>\n",
       "      <th>4</th>\n",
       "      <td>1000</td>\n",
       "      <td>9</td>\n",
       "      <td>58</td>\n",
       "      <td>466</td>\n",
       "      <td>14568.91</td>\n",
       "      <td>15</td>\n",
       "      <td>57</td>\n",
       "      <td>52</td>\n",
       "      <td>Краснодар</td>\n",
       "      <td>Рафаил</td>\n",
       "      <td>...</td>\n",
       "      <td>2018-05-25</td>\n",
       "      <td>ultra</td>\n",
       "      <td>1000</td>\n",
       "      <td>30</td>\n",
       "      <td>3000</td>\n",
       "      <td>1950</td>\n",
       "      <td>150</td>\n",
       "      <td>1</td>\n",
       "      <td>1</td>\n",
       "      <td>1950</td>\n",
       "    </tr>\n",
       "  </tbody>\n",
       "</table>\n",
       "<p>5 rows × 21 columns</p>\n",
       "</div>"
      ],
      "text/plain": [
       "   user_id  month  total_calls  total_duration   mb_used  gb_used  \\\n",
       "0     1000      5           22             159   2253.49        3   \n",
       "1     1000      6           43             172  23233.77       23   \n",
       "2     1000      7           47             340  14003.64       14   \n",
       "3     1000      8           52             408  14055.93       14   \n",
       "4     1000      9           58             466  14568.91       15   \n",
       "\n",
       "   total_messages  age       city first_name  ...    reg_date tariff_name  \\\n",
       "0              22   52  Краснодар     Рафаил  ...  2018-05-25       ultra   \n",
       "1              60   52  Краснодар     Рафаил  ...  2018-05-25       ultra   \n",
       "2              75   52  Краснодар     Рафаил  ...  2018-05-25       ultra   \n",
       "3              81   52  Краснодар     Рафаил  ...  2018-05-25       ultra   \n",
       "4              57   52  Краснодар     Рафаил  ...  2018-05-25       ultra   \n",
       "\n",
       "  messages_included  gb_per_month_included  minutes_included  rub_monthly_fee  \\\n",
       "0              1000                     30              3000             1950   \n",
       "1              1000                     30              3000             1950   \n",
       "2              1000                     30              3000             1950   \n",
       "3              1000                     30              3000             1950   \n",
       "4              1000                     30              3000             1950   \n",
       "\n",
       "   rub_per_gb  rub_per_message  rub_per_minute  revenue  \n",
       "0         150                1               1     1950  \n",
       "1         150                1               1     1950  \n",
       "2         150                1               1     1950  \n",
       "3         150                1               1     1950  \n",
       "4         150                1               1     1950  \n",
       "\n",
       "[5 rows x 21 columns]"
      ]
     },
     "execution_count": 31,
     "metadata": {},
     "output_type": "execute_result"
    }
   ],
   "source": [
    "df.head()"
   ]
  },
  {
   "cell_type": "markdown",
   "metadata": {},
   "source": [
    "### Вывод"
   ]
  },
  {
   "cell_type": "markdown",
   "metadata": {},
   "source": [
    "Мы подготовили даные для исследования: \n",
    "* объединили несколько таблиц в одну, \n",
    "* Избавились от выбросов\n",
    "* привели данные к единому формату, \n",
    "* исправили типы данных,\n",
    "* Посчитали по месяцам:\n",
    "    * количество сделанных звонков и израсходованных минут разговора,\n",
    "    * количество отправленных сообщений,\n",
    "    * объем израсходованного интернет-трафика,\n",
    "    * помесячную выручку с каждого пользователя"
   ]
  },
  {
   "cell_type": "markdown",
   "metadata": {},
   "source": [
    "## Анализ данных"
   ]
  },
  {
   "cell_type": "markdown",
   "metadata": {},
   "source": [
    "Проведем анализ поведения клиентов: сколько минут разговора, сколько сообщений и какой объём интернет-трафика требуется клиентам каждого тарифа? Для начала взглянем на картинцу в целом"
   ]
  },
  {
   "cell_type": "code",
   "execution_count": 32,
   "metadata": {},
   "outputs": [
    {
     "data": {
      "text/html": [
       "<div>\n",
       "<style scoped>\n",
       "    .dataframe tbody tr th:only-of-type {\n",
       "        vertical-align: middle;\n",
       "    }\n",
       "\n",
       "    .dataframe tbody tr th {\n",
       "        vertical-align: top;\n",
       "    }\n",
       "\n",
       "    .dataframe thead th {\n",
       "        text-align: right;\n",
       "    }\n",
       "</style>\n",
       "<table border=\"1\" class=\"dataframe\">\n",
       "  <thead>\n",
       "    <tr style=\"text-align: right;\">\n",
       "      <th></th>\n",
       "      <th>user_id</th>\n",
       "      <th>month</th>\n",
       "      <th>total_calls</th>\n",
       "      <th>total_duration</th>\n",
       "      <th>mb_used</th>\n",
       "      <th>gb_used</th>\n",
       "      <th>total_messages</th>\n",
       "      <th>age</th>\n",
       "      <th>messages_included</th>\n",
       "      <th>gb_per_month_included</th>\n",
       "      <th>minutes_included</th>\n",
       "      <th>rub_monthly_fee</th>\n",
       "      <th>rub_per_gb</th>\n",
       "      <th>rub_per_message</th>\n",
       "      <th>rub_per_minute</th>\n",
       "      <th>revenue</th>\n",
       "    </tr>\n",
       "  </thead>\n",
       "  <tbody>\n",
       "    <tr>\n",
       "      <th>count</th>\n",
       "      <td>985.000000</td>\n",
       "      <td>985.000000</td>\n",
       "      <td>985.000000</td>\n",
       "      <td>985.000000</td>\n",
       "      <td>985.000000</td>\n",
       "      <td>985.000000</td>\n",
       "      <td>985.000000</td>\n",
       "      <td>985.000000</td>\n",
       "      <td>985.0</td>\n",
       "      <td>985.0</td>\n",
       "      <td>985.0</td>\n",
       "      <td>985.0</td>\n",
       "      <td>985.0</td>\n",
       "      <td>985.0</td>\n",
       "      <td>985.0</td>\n",
       "      <td>985.000000</td>\n",
       "    </tr>\n",
       "    <tr>\n",
       "      <th>mean</th>\n",
       "      <td>1263.094416</td>\n",
       "      <td>8.250761</td>\n",
       "      <td>73.392893</td>\n",
       "      <td>526.623350</td>\n",
       "      <td>19468.805208</td>\n",
       "      <td>19.494416</td>\n",
       "      <td>49.363452</td>\n",
       "      <td>46.834518</td>\n",
       "      <td>1000.0</td>\n",
       "      <td>30.0</td>\n",
       "      <td>3000.0</td>\n",
       "      <td>1950.0</td>\n",
       "      <td>150.0</td>\n",
       "      <td>1.0</td>\n",
       "      <td>1.0</td>\n",
       "      <td>2070.152284</td>\n",
       "    </tr>\n",
       "    <tr>\n",
       "      <th>std</th>\n",
       "      <td>140.694908</td>\n",
       "      <td>2.871762</td>\n",
       "      <td>43.916853</td>\n",
       "      <td>317.606098</td>\n",
       "      <td>10087.170752</td>\n",
       "      <td>9.853511</td>\n",
       "      <td>47.804457</td>\n",
       "      <td>17.107979</td>\n",
       "      <td>0.0</td>\n",
       "      <td>0.0</td>\n",
       "      <td>0.0</td>\n",
       "      <td>0.0</td>\n",
       "      <td>0.0</td>\n",
       "      <td>0.0</td>\n",
       "      <td>0.0</td>\n",
       "      <td>376.187114</td>\n",
       "    </tr>\n",
       "    <tr>\n",
       "      <th>min</th>\n",
       "      <td>1000.000000</td>\n",
       "      <td>1.000000</td>\n",
       "      <td>0.000000</td>\n",
       "      <td>0.000000</td>\n",
       "      <td>0.000000</td>\n",
       "      <td>0.000000</td>\n",
       "      <td>0.000000</td>\n",
       "      <td>18.000000</td>\n",
       "      <td>1000.0</td>\n",
       "      <td>30.0</td>\n",
       "      <td>3000.0</td>\n",
       "      <td>1950.0</td>\n",
       "      <td>150.0</td>\n",
       "      <td>1.0</td>\n",
       "      <td>1.0</td>\n",
       "      <td>1950.000000</td>\n",
       "    </tr>\n",
       "    <tr>\n",
       "      <th>25%</th>\n",
       "      <td>1143.000000</td>\n",
       "      <td>6.000000</td>\n",
       "      <td>41.000000</td>\n",
       "      <td>284.000000</td>\n",
       "      <td>11770.260000</td>\n",
       "      <td>12.000000</td>\n",
       "      <td>6.000000</td>\n",
       "      <td>30.000000</td>\n",
       "      <td>1000.0</td>\n",
       "      <td>30.0</td>\n",
       "      <td>3000.0</td>\n",
       "      <td>1950.0</td>\n",
       "      <td>150.0</td>\n",
       "      <td>1.0</td>\n",
       "      <td>1.0</td>\n",
       "      <td>1950.000000</td>\n",
       "    </tr>\n",
       "    <tr>\n",
       "      <th>50%</th>\n",
       "      <td>1277.000000</td>\n",
       "      <td>9.000000</td>\n",
       "      <td>74.000000</td>\n",
       "      <td>518.000000</td>\n",
       "      <td>19308.010000</td>\n",
       "      <td>19.000000</td>\n",
       "      <td>38.000000</td>\n",
       "      <td>45.000000</td>\n",
       "      <td>1000.0</td>\n",
       "      <td>30.0</td>\n",
       "      <td>3000.0</td>\n",
       "      <td>1950.0</td>\n",
       "      <td>150.0</td>\n",
       "      <td>1.0</td>\n",
       "      <td>1.0</td>\n",
       "      <td>1950.000000</td>\n",
       "    </tr>\n",
       "    <tr>\n",
       "      <th>75%</th>\n",
       "      <td>1381.000000</td>\n",
       "      <td>11.000000</td>\n",
       "      <td>104.000000</td>\n",
       "      <td>752.000000</td>\n",
       "      <td>26837.690000</td>\n",
       "      <td>27.000000</td>\n",
       "      <td>79.000000</td>\n",
       "      <td>63.000000</td>\n",
       "      <td>1000.0</td>\n",
       "      <td>30.0</td>\n",
       "      <td>3000.0</td>\n",
       "      <td>1950.0</td>\n",
       "      <td>150.0</td>\n",
       "      <td>1.0</td>\n",
       "      <td>1.0</td>\n",
       "      <td>1950.000000</td>\n",
       "    </tr>\n",
       "    <tr>\n",
       "      <th>max</th>\n",
       "      <td>1495.000000</td>\n",
       "      <td>12.000000</td>\n",
       "      <td>244.000000</td>\n",
       "      <td>1673.000000</td>\n",
       "      <td>49745.690000</td>\n",
       "      <td>49.000000</td>\n",
       "      <td>224.000000</td>\n",
       "      <td>75.000000</td>\n",
       "      <td>1000.0</td>\n",
       "      <td>30.0</td>\n",
       "      <td>3000.0</td>\n",
       "      <td>1950.0</td>\n",
       "      <td>150.0</td>\n",
       "      <td>1.0</td>\n",
       "      <td>1.0</td>\n",
       "      <td>4800.000000</td>\n",
       "    </tr>\n",
       "  </tbody>\n",
       "</table>\n",
       "</div>"
      ],
      "text/plain": [
       "           user_id       month  total_calls  total_duration       mb_used  \\\n",
       "count   985.000000  985.000000   985.000000      985.000000    985.000000   \n",
       "mean   1263.094416    8.250761    73.392893      526.623350  19468.805208   \n",
       "std     140.694908    2.871762    43.916853      317.606098  10087.170752   \n",
       "min    1000.000000    1.000000     0.000000        0.000000      0.000000   \n",
       "25%    1143.000000    6.000000    41.000000      284.000000  11770.260000   \n",
       "50%    1277.000000    9.000000    74.000000      518.000000  19308.010000   \n",
       "75%    1381.000000   11.000000   104.000000      752.000000  26837.690000   \n",
       "max    1495.000000   12.000000   244.000000     1673.000000  49745.690000   \n",
       "\n",
       "          gb_used  total_messages         age  messages_included  \\\n",
       "count  985.000000      985.000000  985.000000              985.0   \n",
       "mean    19.494416       49.363452   46.834518             1000.0   \n",
       "std      9.853511       47.804457   17.107979                0.0   \n",
       "min      0.000000        0.000000   18.000000             1000.0   \n",
       "25%     12.000000        6.000000   30.000000             1000.0   \n",
       "50%     19.000000       38.000000   45.000000             1000.0   \n",
       "75%     27.000000       79.000000   63.000000             1000.0   \n",
       "max     49.000000      224.000000   75.000000             1000.0   \n",
       "\n",
       "       gb_per_month_included  minutes_included  rub_monthly_fee  rub_per_gb  \\\n",
       "count                  985.0             985.0            985.0       985.0   \n",
       "mean                    30.0            3000.0           1950.0       150.0   \n",
       "std                      0.0               0.0              0.0         0.0   \n",
       "min                     30.0            3000.0           1950.0       150.0   \n",
       "25%                     30.0            3000.0           1950.0       150.0   \n",
       "50%                     30.0            3000.0           1950.0       150.0   \n",
       "75%                     30.0            3000.0           1950.0       150.0   \n",
       "max                     30.0            3000.0           1950.0       150.0   \n",
       "\n",
       "       rub_per_message  rub_per_minute      revenue  \n",
       "count            985.0           985.0   985.000000  \n",
       "mean               1.0             1.0  2070.152284  \n",
       "std                0.0             0.0   376.187114  \n",
       "min                1.0             1.0  1950.000000  \n",
       "25%                1.0             1.0  1950.000000  \n",
       "50%                1.0             1.0  1950.000000  \n",
       "75%                1.0             1.0  1950.000000  \n",
       "max                1.0             1.0  4800.000000  "
      ]
     },
     "execution_count": 32,
     "metadata": {},
     "output_type": "execute_result"
    }
   ],
   "source": [
    "ultra = df.query('tariff_name == \"ultra\"')\n",
    "ultra.describe()"
   ]
  },
  {
   "cell_type": "code",
   "execution_count": 33,
   "metadata": {},
   "outputs": [
    {
     "data": {
      "text/html": [
       "<div>\n",
       "<style scoped>\n",
       "    .dataframe tbody tr th:only-of-type {\n",
       "        vertical-align: middle;\n",
       "    }\n",
       "\n",
       "    .dataframe tbody tr th {\n",
       "        vertical-align: top;\n",
       "    }\n",
       "\n",
       "    .dataframe thead th {\n",
       "        text-align: right;\n",
       "    }\n",
       "</style>\n",
       "<table border=\"1\" class=\"dataframe\">\n",
       "  <thead>\n",
       "    <tr style=\"text-align: right;\">\n",
       "      <th></th>\n",
       "      <th>user_id</th>\n",
       "      <th>month</th>\n",
       "      <th>total_calls</th>\n",
       "      <th>total_duration</th>\n",
       "      <th>mb_used</th>\n",
       "      <th>gb_used</th>\n",
       "      <th>total_messages</th>\n",
       "      <th>age</th>\n",
       "      <th>messages_included</th>\n",
       "      <th>gb_per_month_included</th>\n",
       "      <th>minutes_included</th>\n",
       "      <th>rub_monthly_fee</th>\n",
       "      <th>rub_per_gb</th>\n",
       "      <th>rub_per_message</th>\n",
       "      <th>rub_per_minute</th>\n",
       "      <th>revenue</th>\n",
       "    </tr>\n",
       "  </thead>\n",
       "  <tbody>\n",
       "    <tr>\n",
       "      <th>count</th>\n",
       "      <td>2229.000000</td>\n",
       "      <td>2229.000000</td>\n",
       "      <td>2229.000000</td>\n",
       "      <td>2229.000000</td>\n",
       "      <td>2229.000000</td>\n",
       "      <td>2229.000000</td>\n",
       "      <td>2229.000000</td>\n",
       "      <td>2229.000000</td>\n",
       "      <td>2229.0</td>\n",
       "      <td>2229.0</td>\n",
       "      <td>2229.0</td>\n",
       "      <td>2229.0</td>\n",
       "      <td>2229.0</td>\n",
       "      <td>2229.0</td>\n",
       "      <td>2229.0</td>\n",
       "      <td>2229.000000</td>\n",
       "    </tr>\n",
       "    <tr>\n",
       "      <th>mean</th>\n",
       "      <td>1246.506505</td>\n",
       "      <td>8.346792</td>\n",
       "      <td>58.463437</td>\n",
       "      <td>417.934948</td>\n",
       "      <td>16208.386990</td>\n",
       "      <td>16.328847</td>\n",
       "      <td>33.384029</td>\n",
       "      <td>46.556303</td>\n",
       "      <td>50.0</td>\n",
       "      <td>15.0</td>\n",
       "      <td>500.0</td>\n",
       "      <td>550.0</td>\n",
       "      <td>200.0</td>\n",
       "      <td>3.0</td>\n",
       "      <td>3.0</td>\n",
       "      <td>1289.973531</td>\n",
       "    </tr>\n",
       "    <tr>\n",
       "      <th>std</th>\n",
       "      <td>146.119496</td>\n",
       "      <td>2.920316</td>\n",
       "      <td>25.939858</td>\n",
       "      <td>190.313730</td>\n",
       "      <td>5870.476681</td>\n",
       "      <td>5.747061</td>\n",
       "      <td>28.227876</td>\n",
       "      <td>16.353371</td>\n",
       "      <td>0.0</td>\n",
       "      <td>0.0</td>\n",
       "      <td>0.0</td>\n",
       "      <td>0.0</td>\n",
       "      <td>0.0</td>\n",
       "      <td>0.0</td>\n",
       "      <td>0.0</td>\n",
       "      <td>818.404367</td>\n",
       "    </tr>\n",
       "    <tr>\n",
       "      <th>min</th>\n",
       "      <td>1001.000000</td>\n",
       "      <td>1.000000</td>\n",
       "      <td>0.000000</td>\n",
       "      <td>0.000000</td>\n",
       "      <td>0.000000</td>\n",
       "      <td>0.000000</td>\n",
       "      <td>0.000000</td>\n",
       "      <td>18.000000</td>\n",
       "      <td>50.0</td>\n",
       "      <td>15.0</td>\n",
       "      <td>500.0</td>\n",
       "      <td>550.0</td>\n",
       "      <td>200.0</td>\n",
       "      <td>3.0</td>\n",
       "      <td>3.0</td>\n",
       "      <td>550.000000</td>\n",
       "    </tr>\n",
       "    <tr>\n",
       "      <th>25%</th>\n",
       "      <td>1121.000000</td>\n",
       "      <td>6.000000</td>\n",
       "      <td>40.000000</td>\n",
       "      <td>282.000000</td>\n",
       "      <td>12643.010000</td>\n",
       "      <td>13.000000</td>\n",
       "      <td>10.000000</td>\n",
       "      <td>32.000000</td>\n",
       "      <td>50.0</td>\n",
       "      <td>15.0</td>\n",
       "      <td>500.0</td>\n",
       "      <td>550.0</td>\n",
       "      <td>200.0</td>\n",
       "      <td>3.0</td>\n",
       "      <td>3.0</td>\n",
       "      <td>550.000000</td>\n",
       "    </tr>\n",
       "    <tr>\n",
       "      <th>50%</th>\n",
       "      <td>1239.000000</td>\n",
       "      <td>9.000000</td>\n",
       "      <td>60.000000</td>\n",
       "      <td>422.000000</td>\n",
       "      <td>16506.840000</td>\n",
       "      <td>17.000000</td>\n",
       "      <td>28.000000</td>\n",
       "      <td>47.000000</td>\n",
       "      <td>50.0</td>\n",
       "      <td>15.0</td>\n",
       "      <td>500.0</td>\n",
       "      <td>550.0</td>\n",
       "      <td>200.0</td>\n",
       "      <td>3.0</td>\n",
       "      <td>3.0</td>\n",
       "      <td>1023.000000</td>\n",
       "    </tr>\n",
       "    <tr>\n",
       "      <th>75%</th>\n",
       "      <td>1376.000000</td>\n",
       "      <td>11.000000</td>\n",
       "      <td>76.000000</td>\n",
       "      <td>545.000000</td>\n",
       "      <td>20042.930000</td>\n",
       "      <td>20.000000</td>\n",
       "      <td>51.000000</td>\n",
       "      <td>62.000000</td>\n",
       "      <td>50.0</td>\n",
       "      <td>15.0</td>\n",
       "      <td>500.0</td>\n",
       "      <td>550.0</td>\n",
       "      <td>200.0</td>\n",
       "      <td>3.0</td>\n",
       "      <td>3.0</td>\n",
       "      <td>1750.000000</td>\n",
       "    </tr>\n",
       "    <tr>\n",
       "      <th>max</th>\n",
       "      <td>1499.000000</td>\n",
       "      <td>12.000000</td>\n",
       "      <td>198.000000</td>\n",
       "      <td>1435.000000</td>\n",
       "      <td>38552.450000</td>\n",
       "      <td>38.000000</td>\n",
       "      <td>143.000000</td>\n",
       "      <td>75.000000</td>\n",
       "      <td>50.0</td>\n",
       "      <td>15.0</td>\n",
       "      <td>500.0</td>\n",
       "      <td>550.0</td>\n",
       "      <td>200.0</td>\n",
       "      <td>3.0</td>\n",
       "      <td>3.0</td>\n",
       "      <td>6770.000000</td>\n",
       "    </tr>\n",
       "  </tbody>\n",
       "</table>\n",
       "</div>"
      ],
      "text/plain": [
       "           user_id        month  total_calls  total_duration       mb_used  \\\n",
       "count  2229.000000  2229.000000  2229.000000     2229.000000   2229.000000   \n",
       "mean   1246.506505     8.346792    58.463437      417.934948  16208.386990   \n",
       "std     146.119496     2.920316    25.939858      190.313730   5870.476681   \n",
       "min    1001.000000     1.000000     0.000000        0.000000      0.000000   \n",
       "25%    1121.000000     6.000000    40.000000      282.000000  12643.010000   \n",
       "50%    1239.000000     9.000000    60.000000      422.000000  16506.840000   \n",
       "75%    1376.000000    11.000000    76.000000      545.000000  20042.930000   \n",
       "max    1499.000000    12.000000   198.000000     1435.000000  38552.450000   \n",
       "\n",
       "           gb_used  total_messages          age  messages_included  \\\n",
       "count  2229.000000     2229.000000  2229.000000             2229.0   \n",
       "mean     16.328847       33.384029    46.556303               50.0   \n",
       "std       5.747061       28.227876    16.353371                0.0   \n",
       "min       0.000000        0.000000    18.000000               50.0   \n",
       "25%      13.000000       10.000000    32.000000               50.0   \n",
       "50%      17.000000       28.000000    47.000000               50.0   \n",
       "75%      20.000000       51.000000    62.000000               50.0   \n",
       "max      38.000000      143.000000    75.000000               50.0   \n",
       "\n",
       "       gb_per_month_included  minutes_included  rub_monthly_fee  rub_per_gb  \\\n",
       "count                 2229.0            2229.0           2229.0      2229.0   \n",
       "mean                    15.0             500.0            550.0       200.0   \n",
       "std                      0.0               0.0              0.0         0.0   \n",
       "min                     15.0             500.0            550.0       200.0   \n",
       "25%                     15.0             500.0            550.0       200.0   \n",
       "50%                     15.0             500.0            550.0       200.0   \n",
       "75%                     15.0             500.0            550.0       200.0   \n",
       "max                     15.0             500.0            550.0       200.0   \n",
       "\n",
       "       rub_per_message  rub_per_minute      revenue  \n",
       "count           2229.0          2229.0  2229.000000  \n",
       "mean               3.0             3.0  1289.973531  \n",
       "std                0.0             0.0   818.404367  \n",
       "min                3.0             3.0   550.000000  \n",
       "25%                3.0             3.0   550.000000  \n",
       "50%                3.0             3.0  1023.000000  \n",
       "75%                3.0             3.0  1750.000000  \n",
       "max                3.0             3.0  6770.000000  "
      ]
     },
     "execution_count": 33,
     "metadata": {},
     "output_type": "execute_result"
    }
   ],
   "source": [
    "smart = df.query('tariff_name == \"smart\"')\n",
    "smart.describe()"
   ]
  },
  {
   "cell_type": "code",
   "execution_count": 34,
   "metadata": {},
   "outputs": [
    {
     "data": {
      "text/plain": [
       "(2229, 21)"
      ]
     },
     "metadata": {},
     "output_type": "display_data"
    },
    {
     "data": {
      "text/plain": [
       "(985, 21)"
      ]
     },
     "metadata": {},
     "output_type": "display_data"
    }
   ],
   "source": [
    "display(smart.shape)\n",
    "display(ultra.shape)"
   ]
  },
  {
   "cell_type": "code",
   "execution_count": 35,
   "metadata": {},
   "outputs": [
    {
     "data": {
      "text/html": [
       "<div>\n",
       "<style scoped>\n",
       "    .dataframe tbody tr th:only-of-type {\n",
       "        vertical-align: middle;\n",
       "    }\n",
       "\n",
       "    .dataframe tbody tr th {\n",
       "        vertical-align: top;\n",
       "    }\n",
       "\n",
       "    .dataframe thead tr th {\n",
       "        text-align: left;\n",
       "    }\n",
       "\n",
       "    .dataframe thead tr:last-of-type th {\n",
       "        text-align: right;\n",
       "    }\n",
       "</style>\n",
       "<table border=\"1\" class=\"dataframe\">\n",
       "  <thead>\n",
       "    <tr>\n",
       "      <th></th>\n",
       "      <th colspan=\"4\" halign=\"left\">mean</th>\n",
       "      <th colspan=\"4\" halign=\"left\">var</th>\n",
       "      <th colspan=\"4\" halign=\"left\">std</th>\n",
       "    </tr>\n",
       "    <tr>\n",
       "      <th></th>\n",
       "      <th>gb_used</th>\n",
       "      <th>revenue</th>\n",
       "      <th>total_duration</th>\n",
       "      <th>total_messages</th>\n",
       "      <th>gb_used</th>\n",
       "      <th>revenue</th>\n",
       "      <th>total_duration</th>\n",
       "      <th>total_messages</th>\n",
       "      <th>gb_used</th>\n",
       "      <th>revenue</th>\n",
       "      <th>total_duration</th>\n",
       "      <th>total_messages</th>\n",
       "    </tr>\n",
       "    <tr>\n",
       "      <th>tariff_name</th>\n",
       "      <th></th>\n",
       "      <th></th>\n",
       "      <th></th>\n",
       "      <th></th>\n",
       "      <th></th>\n",
       "      <th></th>\n",
       "      <th></th>\n",
       "      <th></th>\n",
       "      <th></th>\n",
       "      <th></th>\n",
       "      <th></th>\n",
       "      <th></th>\n",
       "    </tr>\n",
       "  </thead>\n",
       "  <tbody>\n",
       "    <tr>\n",
       "      <th>smart</th>\n",
       "      <td>16.328847</td>\n",
       "      <td>1289.973531</td>\n",
       "      <td>417.934948</td>\n",
       "      <td>33.384029</td>\n",
       "      <td>33.028705</td>\n",
       "      <td>669785.708006</td>\n",
       "      <td>36219.315784</td>\n",
       "      <td>796.812958</td>\n",
       "      <td>5.747061</td>\n",
       "      <td>818.404367</td>\n",
       "      <td>190.313730</td>\n",
       "      <td>28.227876</td>\n",
       "    </tr>\n",
       "    <tr>\n",
       "      <th>ultra</th>\n",
       "      <td>19.494416</td>\n",
       "      <td>2070.152284</td>\n",
       "      <td>526.623350</td>\n",
       "      <td>49.363452</td>\n",
       "      <td>97.091686</td>\n",
       "      <td>141516.745079</td>\n",
       "      <td>100873.633397</td>\n",
       "      <td>2285.266143</td>\n",
       "      <td>9.853511</td>\n",
       "      <td>376.187114</td>\n",
       "      <td>317.606098</td>\n",
       "      <td>47.804457</td>\n",
       "    </tr>\n",
       "  </tbody>\n",
       "</table>\n",
       "</div>"
      ],
      "text/plain": [
       "                  mean                                                   var  \\\n",
       "               gb_used      revenue total_duration total_messages    gb_used   \n",
       "tariff_name                                                                    \n",
       "smart        16.328847  1289.973531     417.934948      33.384029  33.028705   \n",
       "ultra        19.494416  2070.152284     526.623350      49.363452  97.091686   \n",
       "\n",
       "                                                               std  \\\n",
       "                   revenue total_duration total_messages   gb_used   \n",
       "tariff_name                                                          \n",
       "smart        669785.708006   36219.315784     796.812958  5.747061   \n",
       "ultra        141516.745079  100873.633397    2285.266143  9.853511   \n",
       "\n",
       "                                                       \n",
       "                revenue total_duration total_messages  \n",
       "tariff_name                                            \n",
       "smart        818.404367     190.313730      28.227876  \n",
       "ultra        376.187114     317.606098      47.804457  "
      ]
     },
     "execution_count": 35,
     "metadata": {},
     "output_type": "execute_result"
    }
   ],
   "source": [
    "df.pivot_table(\n",
    "    index = 'tariff_name',\n",
    "    values = ['total_duration', 'total_messages', 'gb_used', 'revenue'],\n",
    "    aggfunc= ['mean', 'var','std'])"
   ]
  },
  {
   "cell_type": "markdown",
   "metadata": {},
   "source": [
    "### Количество звонков"
   ]
  },
  {
   "cell_type": "code",
   "execution_count": 36,
   "metadata": {},
   "outputs": [
    {
     "data": {
      "image/png": "[encoded data removed]",
      "text/plain": [
       "<Figure size 432x288 with 1 Axes>"
      ]
     },
     "metadata": {
      "needs_background": "light"
     },
     "output_type": "display_data"
    }
   ],
   "source": [
    "ax = ultra.total_calls.plot(\n",
    "    kind='hist',\n",
    "    histtype='step',\n",
    "    color='b',\n",
    "    bins=50,\n",
    "    label='Ultra',\n",
    "    legend=True,\n",
    "    density=True\n",
    ")\n",
    "smart.total_calls.plot(\n",
    "    kind='hist',\n",
    "    histtype='step',\n",
    "    bins=50,\n",
    "    label='Smart',\n",
    "    color='y',\n",
    "    ax=ax,\n",
    "    grid=True,\n",
    "    legend=True,\n",
    "    density=True\n",
    ")\n",
    "plt.xlabel('Количество звонков')\n",
    "plt.title('Сравнение тарифов по количеству звонков')\n",
    "plt.show()"
   ]
  },
  {
   "cell_type": "markdown",
   "metadata": {},
   "source": [
    "Анализ показал, что абоненты с тарифом \"смарт\" совершают в среднем меньшее количество звонков по сравнению с абонентами \"ультры\", у клиентов с \"ультрой\" виден пик у нуля, т.е. гораздо большее количество клиентов ультры не совершают в месяц вообще ни одного звонка по сравнению со \"смартом\""
   ]
  },
  {
   "cell_type": "markdown",
   "metadata": {},
   "source": [
    "### Длительность звонков"
   ]
  },
  {
   "cell_type": "code",
   "execution_count": 37,
   "metadata": {},
   "outputs": [
    {
     "data": {
      "image/png": "[encoded data removed]",
      "text/plain": [
       "<Figure size 432x288 with 1 Axes>"
      ]
     },
     "metadata": {
      "needs_background": "light"
     },
     "output_type": "display_data"
    }
   ],
   "source": [
    "ax = ultra.total_duration.plot(\n",
    "    kind='hist',\n",
    "    histtype='step',\n",
    "    color='b',\n",
    "    bins=50,\n",
    "    label='Ultra',\n",
    "    legend=True,\n",
    "    density=True\n",
    ")\n",
    "smart.total_duration.plot(\n",
    "    kind='hist',\n",
    "    histtype='step',\n",
    "    bins=50,\n",
    "    label='Smart',\n",
    "    color='y',\n",
    "    ax=ax,\n",
    "    grid=True,\n",
    "    legend=True,\n",
    "    density=True\n",
    ")\n",
    "plt.xlabel('Длительность звонков')\n",
    "plt.title('Сравнение тарифов по длительности звонков')\n",
    "plt.show()"
   ]
  },
  {
   "cell_type": "markdown",
   "metadata": {},
   "source": [
    "У клиентов с тарифом \"ультра\" также выражена потребность в более долгих звонках, пик у нуля очевиден из-за корреляции с предыдущим графиком количества звонков. \n",
    "\n",
    "Распределение близко к нормальному со скошенностью влево"
   ]
  },
  {
   "cell_type": "code",
   "execution_count": 38,
   "metadata": {},
   "outputs": [
    {
     "data": {
      "text/html": [
       "<div>\n",
       "<style scoped>\n",
       "    .dataframe tbody tr th:only-of-type {\n",
       "        vertical-align: middle;\n",
       "    }\n",
       "\n",
       "    .dataframe tbody tr th {\n",
       "        vertical-align: top;\n",
       "    }\n",
       "\n",
       "    .dataframe thead th {\n",
       "        text-align: right;\n",
       "    }\n",
       "</style>\n",
       "<table border=\"1\" class=\"dataframe\">\n",
       "  <thead>\n",
       "    <tr style=\"text-align: right;\">\n",
       "      <th></th>\n",
       "      <th>user_id</th>\n",
       "      <th>month</th>\n",
       "      <th>total_calls</th>\n",
       "      <th>total_duration</th>\n",
       "      <th>mb_used</th>\n",
       "      <th>gb_used</th>\n",
       "      <th>total_messages</th>\n",
       "      <th>age</th>\n",
       "      <th>city</th>\n",
       "      <th>first_name</th>\n",
       "      <th>...</th>\n",
       "      <th>reg_date</th>\n",
       "      <th>tariff_name</th>\n",
       "      <th>messages_included</th>\n",
       "      <th>gb_per_month_included</th>\n",
       "      <th>minutes_included</th>\n",
       "      <th>rub_monthly_fee</th>\n",
       "      <th>rub_per_gb</th>\n",
       "      <th>rub_per_message</th>\n",
       "      <th>rub_per_minute</th>\n",
       "      <th>revenue</th>\n",
       "    </tr>\n",
       "  </thead>\n",
       "  <tbody>\n",
       "    <tr>\n",
       "      <th>0</th>\n",
       "      <td>1000</td>\n",
       "      <td>5</td>\n",
       "      <td>22</td>\n",
       "      <td>159</td>\n",
       "      <td>2253.49</td>\n",
       "      <td>3</td>\n",
       "      <td>22</td>\n",
       "      <td>52</td>\n",
       "      <td>Краснодар</td>\n",
       "      <td>Рафаил</td>\n",
       "      <td>...</td>\n",
       "      <td>2018-05-25</td>\n",
       "      <td>ultra</td>\n",
       "      <td>1000</td>\n",
       "      <td>30</td>\n",
       "      <td>3000</td>\n",
       "      <td>1950</td>\n",
       "      <td>150</td>\n",
       "      <td>1</td>\n",
       "      <td>1</td>\n",
       "      <td>1950</td>\n",
       "    </tr>\n",
       "    <tr>\n",
       "      <th>1</th>\n",
       "      <td>1000</td>\n",
       "      <td>6</td>\n",
       "      <td>43</td>\n",
       "      <td>172</td>\n",
       "      <td>23233.77</td>\n",
       "      <td>23</td>\n",
       "      <td>60</td>\n",
       "      <td>52</td>\n",
       "      <td>Краснодар</td>\n",
       "      <td>Рафаил</td>\n",
       "      <td>...</td>\n",
       "      <td>2018-05-25</td>\n",
       "      <td>ultra</td>\n",
       "      <td>1000</td>\n",
       "      <td>30</td>\n",
       "      <td>3000</td>\n",
       "      <td>1950</td>\n",
       "      <td>150</td>\n",
       "      <td>1</td>\n",
       "      <td>1</td>\n",
       "      <td>1950</td>\n",
       "    </tr>\n",
       "    <tr>\n",
       "      <th>2</th>\n",
       "      <td>1000</td>\n",
       "      <td>7</td>\n",
       "      <td>47</td>\n",
       "      <td>340</td>\n",
       "      <td>14003.64</td>\n",
       "      <td>14</td>\n",
       "      <td>75</td>\n",
       "      <td>52</td>\n",
       "      <td>Краснодар</td>\n",
       "      <td>Рафаил</td>\n",
       "      <td>...</td>\n",
       "      <td>2018-05-25</td>\n",
       "      <td>ultra</td>\n",
       "      <td>1000</td>\n",
       "      <td>30</td>\n",
       "      <td>3000</td>\n",
       "      <td>1950</td>\n",
       "      <td>150</td>\n",
       "      <td>1</td>\n",
       "      <td>1</td>\n",
       "      <td>1950</td>\n",
       "    </tr>\n",
       "    <tr>\n",
       "      <th>3</th>\n",
       "      <td>1000</td>\n",
       "      <td>8</td>\n",
       "      <td>52</td>\n",
       "      <td>408</td>\n",
       "      <td>14055.93</td>\n",
       "      <td>14</td>\n",
       "      <td>81</td>\n",
       "      <td>52</td>\n",
       "      <td>Краснодар</td>\n",
       "      <td>Рафаил</td>\n",
       "      <td>...</td>\n",
       "      <td>2018-05-25</td>\n",
       "      <td>ultra</td>\n",
       "      <td>1000</td>\n",
       "      <td>30</td>\n",
       "      <td>3000</td>\n",
       "      <td>1950</td>\n",
       "      <td>150</td>\n",
       "      <td>1</td>\n",
       "      <td>1</td>\n",
       "      <td>1950</td>\n",
       "    </tr>\n",
       "    <tr>\n",
       "      <th>4</th>\n",
       "      <td>1000</td>\n",
       "      <td>9</td>\n",
       "      <td>58</td>\n",
       "      <td>466</td>\n",
       "      <td>14568.91</td>\n",
       "      <td>15</td>\n",
       "      <td>57</td>\n",
       "      <td>52</td>\n",
       "      <td>Краснодар</td>\n",
       "      <td>Рафаил</td>\n",
       "      <td>...</td>\n",
       "      <td>2018-05-25</td>\n",
       "      <td>ultra</td>\n",
       "      <td>1000</td>\n",
       "      <td>30</td>\n",
       "      <td>3000</td>\n",
       "      <td>1950</td>\n",
       "      <td>150</td>\n",
       "      <td>1</td>\n",
       "      <td>1</td>\n",
       "      <td>1950</td>\n",
       "    </tr>\n",
       "  </tbody>\n",
       "</table>\n",
       "<p>5 rows × 21 columns</p>\n",
       "</div>"
      ],
      "text/plain": [
       "   user_id  month  total_calls  total_duration   mb_used  gb_used  \\\n",
       "0     1000      5           22             159   2253.49        3   \n",
       "1     1000      6           43             172  23233.77       23   \n",
       "2     1000      7           47             340  14003.64       14   \n",
       "3     1000      8           52             408  14055.93       14   \n",
       "4     1000      9           58             466  14568.91       15   \n",
       "\n",
       "   total_messages  age       city first_name  ...    reg_date tariff_name  \\\n",
       "0              22   52  Краснодар     Рафаил  ...  2018-05-25       ultra   \n",
       "1              60   52  Краснодар     Рафаил  ...  2018-05-25       ultra   \n",
       "2              75   52  Краснодар     Рафаил  ...  2018-05-25       ultra   \n",
       "3              81   52  Краснодар     Рафаил  ...  2018-05-25       ultra   \n",
       "4              57   52  Краснодар     Рафаил  ...  2018-05-25       ultra   \n",
       "\n",
       "  messages_included  gb_per_month_included  minutes_included  rub_monthly_fee  \\\n",
       "0              1000                     30              3000             1950   \n",
       "1              1000                     30              3000             1950   \n",
       "2              1000                     30              3000             1950   \n",
       "3              1000                     30              3000             1950   \n",
       "4              1000                     30              3000             1950   \n",
       "\n",
       "   rub_per_gb  rub_per_message  rub_per_minute  revenue  \n",
       "0         150                1               1     1950  \n",
       "1         150                1               1     1950  \n",
       "2         150                1               1     1950  \n",
       "3         150                1               1     1950  \n",
       "4         150                1               1     1950  \n",
       "\n",
       "[5 rows x 21 columns]"
      ]
     },
     "execution_count": 38,
     "metadata": {},
     "output_type": "execute_result"
    }
   ],
   "source": [
    "ultra.head()"
   ]
  },
  {
   "cell_type": "code",
   "execution_count": 39,
   "metadata": {},
   "outputs": [],
   "source": [
    "ultra['overpaid_calls_revenue'] = (ultra.total_duration - ultra.minutes_included).apply(neg_to_zero) * ultra.rub_per_minute\n",
    "smart['overpaid_calls_revenue'] = (smart.total_duration - smart.minutes_included).apply(neg_to_zero) * smart.rub_per_minute"
   ]
  },
  {
   "cell_type": "code",
   "execution_count": 40,
   "metadata": {},
   "outputs": [
    {
     "name": "stdout",
     "output_type": "stream",
     "text": [
      "Средняя переплата свыше установленных минут по Ультре: 0\n",
      "Средняя переплата свыше установленных минут по Смарту: 125\n",
      "Нет переплаты по одному из тарифов\n"
     ]
    }
   ],
   "source": [
    "print('Средняя переплата свыше установленных минут по Ультре:', round(ultra.overpaid_calls_revenue.mean()))\n",
    "print('Средняя переплата свыше установленных минут по Смарту:', round(smart.overpaid_calls_revenue.mean()))\n",
    "try:\n",
    "    print('Соотношение:', round(smart.overpaid_calls_revenue.mean() / ultra.overpaid_calls_revenue.mean(), 2))\n",
    "except:\n",
    "    print(\"Нет переплаты по одному из тарифов\")"
   ]
  },
  {
   "cell_type": "markdown",
   "metadata": {},
   "source": [
    "### Количество сообщений"
   ]
  },
  {
   "cell_type": "code",
   "execution_count": 41,
   "metadata": {},
   "outputs": [
    {
     "data": {
      "image/png": "[encoded data removed]",
      "text/plain": [
       "<Figure size 432x288 with 1 Axes>"
      ]
     },
     "metadata": {
      "needs_background": "light"
     },
     "output_type": "display_data"
    }
   ],
   "source": [
    "ax = ultra.total_messages.plot(\n",
    "    kind='hist',\n",
    "    histtype='step',\n",
    "    color='b',\n",
    "    bins=50,\n",
    "    label='Ultra',\n",
    "    legend=True,\n",
    "    density=True\n",
    ")\n",
    "smart.total_messages.plot(\n",
    "    kind='hist',\n",
    "    histtype='step',\n",
    "    bins=50,\n",
    "    label='Smart',\n",
    "    color='y',\n",
    "    ax=ax,\n",
    "    grid=True,\n",
    "    legend=True,\n",
    "    density=True\n",
    ")\n",
    "plt.xlabel('Количество сообщений')\n",
    "plt.title('Сравнение тарифов по количеству сообщений')\n",
    "plt.show()"
   ]
  },
  {
   "cell_type": "code",
   "execution_count": 42,
   "metadata": {},
   "outputs": [
    {
     "data": {
      "image/png": "[encoded data removed]",
      "text/plain": [
       "<Figure size 1152x576 with 1 Axes>"
      ]
     },
     "metadata": {
      "needs_background": "light"
     },
     "output_type": "display_data"
    }
   ],
   "source": [
    "plt.figure(figsize=(16, 8)) #урежем лимит ультры\n",
    "sns.boxplot(data=df, x='month', y='total_messages', palette='Set1', hue='tariff_name')\n",
    "plt.axhline(50, color='blue', linestyle='--', label='Лимит Смарта, (50 смс)')\n",
    "plt.axhline(200, color='blue', linestyle='--', label='Лимит Ультры (1000 смс)')\n",
    "plt.title('Диаграмма размаха смс-сообщений')\n",
    "plt.xlabel('Месяц')\n",
    "plt.ylabel('Количество смс')\n",
    "plt.legend(fontsize=16)\n",
    "plt.show()"
   ]
  },
  {
   "cell_type": "markdown",
   "metadata": {},
   "source": [
    "Сообщений требуется больше все тем же клиентам тарифа ультра. Однако видим, что никто даже близко не приблизился к платной отсечке в 1000 сообщений (времена смс-чатов канули в лету). Даже пользователи Смарта почти всегда укладываются в свой бесплатный лимит в 50 смс.\n",
    "\n",
    "Также видим, что распределение значений количества сообщений близко к распределнию Пуассона с большим пиком у нуля для обоих тарифов. Это значит, что подавляющее большинство абонентов обоих тарифов вообще не пользуются смс-сообщениями."
   ]
  },
  {
   "cell_type": "markdown",
   "metadata": {},
   "source": [
    "### Интернет-трафик"
   ]
  },
  {
   "cell_type": "code",
   "execution_count": 43,
   "metadata": {},
   "outputs": [
    {
     "data": {
      "image/png": "[encoded data removed]",
      "text/plain": [
       "<Figure size 432x288 with 1 Axes>"
      ]
     },
     "metadata": {
      "needs_background": "light"
     },
     "output_type": "display_data"
    }
   ],
   "source": [
    "ax = ultra.gb_used.plot(\n",
    "    kind='hist',\n",
    "    histtype='step',\n",
    "    color='b',\n",
    "    bins=50,\n",
    "    label='Ultra',\n",
    "    legend=True,\n",
    "    density=True\n",
    ")\n",
    "smart.gb_used.plot(\n",
    "    kind='hist',\n",
    "    histtype='step',\n",
    "    bins=50,\n",
    "    label='Smart',\n",
    "    color='y',\n",
    "    ax=ax,\n",
    "    grid=True,\n",
    "    legend=True,\n",
    "    density=True\n",
    ")\n",
    "plt.xlabel('Объем интернет трафика')\n",
    "plt.title('Сравнение тарифов по интернет-трафику')\n",
    "plt.show()"
   ]
  },
  {
   "cell_type": "markdown",
   "metadata": {},
   "source": [
    "Единственное в чем лидируют абоненты со смарт-тарифом - объем трафика. Интернетом абоненты тарифа смарт пользуются активней, чем \"ультровцы\".\n",
    "\n",
    "Распределение значений нормальное с провалом середины по ультра-тарифу.\n",
    "\n",
    "Посмотрим также на диаграмму размаха по месяцам для каждого тарифа"
   ]
  },
  {
   "cell_type": "code",
   "execution_count": 44,
   "metadata": {},
   "outputs": [
    {
     "data": {
      "text/html": [
       "<div>\n",
       "<style scoped>\n",
       "    .dataframe tbody tr th:only-of-type {\n",
       "        vertical-align: middle;\n",
       "    }\n",
       "\n",
       "    .dataframe tbody tr th {\n",
       "        vertical-align: top;\n",
       "    }\n",
       "\n",
       "    .dataframe thead th {\n",
       "        text-align: right;\n",
       "    }\n",
       "</style>\n",
       "<table border=\"1\" class=\"dataframe\">\n",
       "  <thead>\n",
       "    <tr style=\"text-align: right;\">\n",
       "      <th></th>\n",
       "      <th>user_id</th>\n",
       "      <th>month</th>\n",
       "      <th>total_calls</th>\n",
       "      <th>total_duration</th>\n",
       "      <th>mb_used</th>\n",
       "      <th>gb_used</th>\n",
       "      <th>total_messages</th>\n",
       "      <th>age</th>\n",
       "      <th>city</th>\n",
       "      <th>first_name</th>\n",
       "      <th>...</th>\n",
       "      <th>reg_date</th>\n",
       "      <th>tariff_name</th>\n",
       "      <th>messages_included</th>\n",
       "      <th>gb_per_month_included</th>\n",
       "      <th>minutes_included</th>\n",
       "      <th>rub_monthly_fee</th>\n",
       "      <th>rub_per_gb</th>\n",
       "      <th>rub_per_message</th>\n",
       "      <th>rub_per_minute</th>\n",
       "      <th>revenue</th>\n",
       "    </tr>\n",
       "  </thead>\n",
       "  <tbody>\n",
       "    <tr>\n",
       "      <th>3209</th>\n",
       "      <td>1489</td>\n",
       "      <td>8</td>\n",
       "      <td>0</td>\n",
       "      <td>0</td>\n",
       "      <td>11050.56</td>\n",
       "      <td>11</td>\n",
       "      <td>17</td>\n",
       "      <td>35</td>\n",
       "      <td>Санкт-Петербург</td>\n",
       "      <td>Павел</td>\n",
       "      <td>...</td>\n",
       "      <td>2018-08-15</td>\n",
       "      <td>smart</td>\n",
       "      <td>50</td>\n",
       "      <td>15</td>\n",
       "      <td>500</td>\n",
       "      <td>550</td>\n",
       "      <td>200</td>\n",
       "      <td>3</td>\n",
       "      <td>3</td>\n",
       "      <td>550</td>\n",
       "    </tr>\n",
       "    <tr>\n",
       "      <th>3210</th>\n",
       "      <td>1489</td>\n",
       "      <td>9</td>\n",
       "      <td>0</td>\n",
       "      <td>0</td>\n",
       "      <td>17206.30</td>\n",
       "      <td>17</td>\n",
       "      <td>32</td>\n",
       "      <td>35</td>\n",
       "      <td>Санкт-Петербург</td>\n",
       "      <td>Павел</td>\n",
       "      <td>...</td>\n",
       "      <td>2018-08-15</td>\n",
       "      <td>smart</td>\n",
       "      <td>50</td>\n",
       "      <td>15</td>\n",
       "      <td>500</td>\n",
       "      <td>550</td>\n",
       "      <td>200</td>\n",
       "      <td>3</td>\n",
       "      <td>3</td>\n",
       "      <td>950</td>\n",
       "    </tr>\n",
       "    <tr>\n",
       "      <th>3211</th>\n",
       "      <td>1489</td>\n",
       "      <td>10</td>\n",
       "      <td>0</td>\n",
       "      <td>0</td>\n",
       "      <td>19559.44</td>\n",
       "      <td>20</td>\n",
       "      <td>21</td>\n",
       "      <td>35</td>\n",
       "      <td>Санкт-Петербург</td>\n",
       "      <td>Павел</td>\n",
       "      <td>...</td>\n",
       "      <td>2018-08-15</td>\n",
       "      <td>smart</td>\n",
       "      <td>50</td>\n",
       "      <td>15</td>\n",
       "      <td>500</td>\n",
       "      <td>550</td>\n",
       "      <td>200</td>\n",
       "      <td>3</td>\n",
       "      <td>3</td>\n",
       "      <td>1550</td>\n",
       "    </tr>\n",
       "    <tr>\n",
       "      <th>3212</th>\n",
       "      <td>1489</td>\n",
       "      <td>11</td>\n",
       "      <td>0</td>\n",
       "      <td>0</td>\n",
       "      <td>17491.56</td>\n",
       "      <td>18</td>\n",
       "      <td>20</td>\n",
       "      <td>35</td>\n",
       "      <td>Санкт-Петербург</td>\n",
       "      <td>Павел</td>\n",
       "      <td>...</td>\n",
       "      <td>2018-08-15</td>\n",
       "      <td>smart</td>\n",
       "      <td>50</td>\n",
       "      <td>15</td>\n",
       "      <td>500</td>\n",
       "      <td>550</td>\n",
       "      <td>200</td>\n",
       "      <td>3</td>\n",
       "      <td>3</td>\n",
       "      <td>1150</td>\n",
       "    </tr>\n",
       "    <tr>\n",
       "      <th>3213</th>\n",
       "      <td>1489</td>\n",
       "      <td>12</td>\n",
       "      <td>0</td>\n",
       "      <td>0</td>\n",
       "      <td>17322.51</td>\n",
       "      <td>17</td>\n",
       "      <td>35</td>\n",
       "      <td>35</td>\n",
       "      <td>Санкт-Петербург</td>\n",
       "      <td>Павел</td>\n",
       "      <td>...</td>\n",
       "      <td>2018-08-15</td>\n",
       "      <td>smart</td>\n",
       "      <td>50</td>\n",
       "      <td>15</td>\n",
       "      <td>500</td>\n",
       "      <td>550</td>\n",
       "      <td>200</td>\n",
       "      <td>3</td>\n",
       "      <td>3</td>\n",
       "      <td>950</td>\n",
       "    </tr>\n",
       "  </tbody>\n",
       "</table>\n",
       "<p>5 rows × 21 columns</p>\n",
       "</div>"
      ],
      "text/plain": [
       "      user_id  month  total_calls  total_duration   mb_used  gb_used  \\\n",
       "3209     1489      8            0               0  11050.56       11   \n",
       "3210     1489      9            0               0  17206.30       17   \n",
       "3211     1489     10            0               0  19559.44       20   \n",
       "3212     1489     11            0               0  17491.56       18   \n",
       "3213     1489     12            0               0  17322.51       17   \n",
       "\n",
       "      total_messages  age             city first_name  ...    reg_date  \\\n",
       "3209              17   35  Санкт-Петербург      Павел  ...  2018-08-15   \n",
       "3210              32   35  Санкт-Петербург      Павел  ...  2018-08-15   \n",
       "3211              21   35  Санкт-Петербург      Павел  ...  2018-08-15   \n",
       "3212              20   35  Санкт-Петербург      Павел  ...  2018-08-15   \n",
       "3213              35   35  Санкт-Петербург      Павел  ...  2018-08-15   \n",
       "\n",
       "     tariff_name messages_included  gb_per_month_included  minutes_included  \\\n",
       "3209       smart                50                     15               500   \n",
       "3210       smart                50                     15               500   \n",
       "3211       smart                50                     15               500   \n",
       "3212       smart                50                     15               500   \n",
       "3213       smart                50                     15               500   \n",
       "\n",
       "      rub_monthly_fee  rub_per_gb  rub_per_message  rub_per_minute  revenue  \n",
       "3209              550         200                3               3      550  \n",
       "3210              550         200                3               3      950  \n",
       "3211              550         200                3               3     1550  \n",
       "3212              550         200                3               3     1150  \n",
       "3213              550         200                3               3      950  \n",
       "\n",
       "[5 rows x 21 columns]"
      ]
     },
     "execution_count": 44,
     "metadata": {},
     "output_type": "execute_result"
    }
   ],
   "source": [
    "df.tail()"
   ]
  },
  {
   "cell_type": "code",
   "execution_count": 45,
   "metadata": {},
   "outputs": [
    {
     "data": {
      "image/png": "[encoded data removed]",
      "text/plain": [
       "<Figure size 1152x576 with 1 Axes>"
      ]
     },
     "metadata": {
      "needs_background": "light"
     },
     "output_type": "display_data"
    }
   ],
   "source": [
    "plt.figure(figsize=(16, 8))\n",
    "sns.boxplot(data=df, x='month', y='gb_used', palette='Set1', hue='tariff_name')\n",
    "plt.axhline(15, color='blue', linestyle='--', label='Лимит Смарта, (15 Гб)')\n",
    "plt.axhline(30, color='red', linestyle='--', label='Лимит Ультры (30 Гб)')\n",
    "plt.title('Диаграмма размаха интернет-трафика')\n",
    "plt.xlabel('Месяц')\n",
    "plt.ylabel('Трафик')\n",
    "plt.legend(fontsize=16)\n",
    "plt.show()"
   ]
  },
  {
   "cell_type": "code",
   "execution_count": 46,
   "metadata": {},
   "outputs": [
    {
     "data": {
      "text/html": [
       "<div>\n",
       "<style scoped>\n",
       "    .dataframe tbody tr th:only-of-type {\n",
       "        vertical-align: middle;\n",
       "    }\n",
       "\n",
       "    .dataframe tbody tr th {\n",
       "        vertical-align: top;\n",
       "    }\n",
       "\n",
       "    .dataframe thead th {\n",
       "        text-align: right;\n",
       "    }\n",
       "</style>\n",
       "<table border=\"1\" class=\"dataframe\">\n",
       "  <thead>\n",
       "    <tr style=\"text-align: right;\">\n",
       "      <th>tariff_name</th>\n",
       "      <th>smart</th>\n",
       "      <th>ultra</th>\n",
       "    </tr>\n",
       "    <tr>\n",
       "      <th>month</th>\n",
       "      <th></th>\n",
       "      <th></th>\n",
       "    </tr>\n",
       "  </thead>\n",
       "  <tbody>\n",
       "    <tr>\n",
       "      <th>1</th>\n",
       "      <td>8.735294</td>\n",
       "      <td>13.222222</td>\n",
       "    </tr>\n",
       "    <tr>\n",
       "      <th>2</th>\n",
       "      <td>11.844828</td>\n",
       "      <td>12.000000</td>\n",
       "    </tr>\n",
       "    <tr>\n",
       "      <th>3</th>\n",
       "      <td>15.233766</td>\n",
       "      <td>17.648649</td>\n",
       "    </tr>\n",
       "    <tr>\n",
       "      <th>4</th>\n",
       "      <td>13.625000</td>\n",
       "      <td>16.963636</td>\n",
       "    </tr>\n",
       "    <tr>\n",
       "      <th>5</th>\n",
       "      <td>15.907801</td>\n",
       "      <td>19.373134</td>\n",
       "    </tr>\n",
       "    <tr>\n",
       "      <th>6</th>\n",
       "      <td>15.951220</td>\n",
       "      <td>18.940476</td>\n",
       "    </tr>\n",
       "    <tr>\n",
       "      <th>7</th>\n",
       "      <td>15.875622</td>\n",
       "      <td>20.505495</td>\n",
       "    </tr>\n",
       "    <tr>\n",
       "      <th>8</th>\n",
       "      <td>16.736170</td>\n",
       "      <td>19.598131</td>\n",
       "    </tr>\n",
       "    <tr>\n",
       "      <th>9</th>\n",
       "      <td>16.392308</td>\n",
       "      <td>19.243478</td>\n",
       "    </tr>\n",
       "    <tr>\n",
       "      <th>10</th>\n",
       "      <td>16.880952</td>\n",
       "      <td>20.065041</td>\n",
       "    </tr>\n",
       "    <tr>\n",
       "      <th>11</th>\n",
       "      <td>17.000000</td>\n",
       "      <td>19.805970</td>\n",
       "    </tr>\n",
       "    <tr>\n",
       "      <th>12</th>\n",
       "      <td>18.201780</td>\n",
       "      <td>21.741007</td>\n",
       "    </tr>\n",
       "  </tbody>\n",
       "</table>\n",
       "</div>"
      ],
      "text/plain": [
       "tariff_name      smart      ultra\n",
       "month                            \n",
       "1             8.735294  13.222222\n",
       "2            11.844828  12.000000\n",
       "3            15.233766  17.648649\n",
       "4            13.625000  16.963636\n",
       "5            15.907801  19.373134\n",
       "6            15.951220  18.940476\n",
       "7            15.875622  20.505495\n",
       "8            16.736170  19.598131\n",
       "9            16.392308  19.243478\n",
       "10           16.880952  20.065041\n",
       "11           17.000000  19.805970\n",
       "12           18.201780  21.741007"
      ]
     },
     "execution_count": 46,
     "metadata": {},
     "output_type": "execute_result"
    }
   ],
   "source": [
    "df.pivot_table(index='month', columns = 'tariff_name', values='gb_used', aggfunc='mean')"
   ]
  },
  {
   "cell_type": "code",
   "execution_count": 47,
   "metadata": {},
   "outputs": [
    {
     "data": {
      "text/html": [
       "<div>\n",
       "<style scoped>\n",
       "    .dataframe tbody tr th:only-of-type {\n",
       "        vertical-align: middle;\n",
       "    }\n",
       "\n",
       "    .dataframe tbody tr th {\n",
       "        vertical-align: top;\n",
       "    }\n",
       "\n",
       "    .dataframe thead th {\n",
       "        text-align: right;\n",
       "    }\n",
       "</style>\n",
       "<table border=\"1\" class=\"dataframe\">\n",
       "  <thead>\n",
       "    <tr style=\"text-align: right;\">\n",
       "      <th></th>\n",
       "      <th>user_id</th>\n",
       "      <th>month</th>\n",
       "      <th>total_calls</th>\n",
       "      <th>total_duration</th>\n",
       "      <th>mb_used</th>\n",
       "      <th>gb_used</th>\n",
       "      <th>total_messages</th>\n",
       "      <th>age</th>\n",
       "      <th>city</th>\n",
       "      <th>first_name</th>\n",
       "      <th>...</th>\n",
       "      <th>tariff_name</th>\n",
       "      <th>messages_included</th>\n",
       "      <th>gb_per_month_included</th>\n",
       "      <th>minutes_included</th>\n",
       "      <th>rub_monthly_fee</th>\n",
       "      <th>rub_per_gb</th>\n",
       "      <th>rub_per_message</th>\n",
       "      <th>rub_per_minute</th>\n",
       "      <th>revenue</th>\n",
       "      <th>overpaid_calls_revenue</th>\n",
       "    </tr>\n",
       "  </thead>\n",
       "  <tbody>\n",
       "    <tr>\n",
       "      <th>0</th>\n",
       "      <td>1000</td>\n",
       "      <td>5</td>\n",
       "      <td>22</td>\n",
       "      <td>159</td>\n",
       "      <td>2253.49</td>\n",
       "      <td>3</td>\n",
       "      <td>22</td>\n",
       "      <td>52</td>\n",
       "      <td>Краснодар</td>\n",
       "      <td>Рафаил</td>\n",
       "      <td>...</td>\n",
       "      <td>ultra</td>\n",
       "      <td>1000</td>\n",
       "      <td>30</td>\n",
       "      <td>3000</td>\n",
       "      <td>1950</td>\n",
       "      <td>150</td>\n",
       "      <td>1</td>\n",
       "      <td>1</td>\n",
       "      <td>1950</td>\n",
       "      <td>0</td>\n",
       "    </tr>\n",
       "    <tr>\n",
       "      <th>1</th>\n",
       "      <td>1000</td>\n",
       "      <td>6</td>\n",
       "      <td>43</td>\n",
       "      <td>172</td>\n",
       "      <td>23233.77</td>\n",
       "      <td>23</td>\n",
       "      <td>60</td>\n",
       "      <td>52</td>\n",
       "      <td>Краснодар</td>\n",
       "      <td>Рафаил</td>\n",
       "      <td>...</td>\n",
       "      <td>ultra</td>\n",
       "      <td>1000</td>\n",
       "      <td>30</td>\n",
       "      <td>3000</td>\n",
       "      <td>1950</td>\n",
       "      <td>150</td>\n",
       "      <td>1</td>\n",
       "      <td>1</td>\n",
       "      <td>1950</td>\n",
       "      <td>0</td>\n",
       "    </tr>\n",
       "    <tr>\n",
       "      <th>2</th>\n",
       "      <td>1000</td>\n",
       "      <td>7</td>\n",
       "      <td>47</td>\n",
       "      <td>340</td>\n",
       "      <td>14003.64</td>\n",
       "      <td>14</td>\n",
       "      <td>75</td>\n",
       "      <td>52</td>\n",
       "      <td>Краснодар</td>\n",
       "      <td>Рафаил</td>\n",
       "      <td>...</td>\n",
       "      <td>ultra</td>\n",
       "      <td>1000</td>\n",
       "      <td>30</td>\n",
       "      <td>3000</td>\n",
       "      <td>1950</td>\n",
       "      <td>150</td>\n",
       "      <td>1</td>\n",
       "      <td>1</td>\n",
       "      <td>1950</td>\n",
       "      <td>0</td>\n",
       "    </tr>\n",
       "    <tr>\n",
       "      <th>3</th>\n",
       "      <td>1000</td>\n",
       "      <td>8</td>\n",
       "      <td>52</td>\n",
       "      <td>408</td>\n",
       "      <td>14055.93</td>\n",
       "      <td>14</td>\n",
       "      <td>81</td>\n",
       "      <td>52</td>\n",
       "      <td>Краснодар</td>\n",
       "      <td>Рафаил</td>\n",
       "      <td>...</td>\n",
       "      <td>ultra</td>\n",
       "      <td>1000</td>\n",
       "      <td>30</td>\n",
       "      <td>3000</td>\n",
       "      <td>1950</td>\n",
       "      <td>150</td>\n",
       "      <td>1</td>\n",
       "      <td>1</td>\n",
       "      <td>1950</td>\n",
       "      <td>0</td>\n",
       "    </tr>\n",
       "    <tr>\n",
       "      <th>4</th>\n",
       "      <td>1000</td>\n",
       "      <td>9</td>\n",
       "      <td>58</td>\n",
       "      <td>466</td>\n",
       "      <td>14568.91</td>\n",
       "      <td>15</td>\n",
       "      <td>57</td>\n",
       "      <td>52</td>\n",
       "      <td>Краснодар</td>\n",
       "      <td>Рафаил</td>\n",
       "      <td>...</td>\n",
       "      <td>ultra</td>\n",
       "      <td>1000</td>\n",
       "      <td>30</td>\n",
       "      <td>3000</td>\n",
       "      <td>1950</td>\n",
       "      <td>150</td>\n",
       "      <td>1</td>\n",
       "      <td>1</td>\n",
       "      <td>1950</td>\n",
       "      <td>0</td>\n",
       "    </tr>\n",
       "  </tbody>\n",
       "</table>\n",
       "<p>5 rows × 22 columns</p>\n",
       "</div>"
      ],
      "text/plain": [
       "   user_id  month  total_calls  total_duration   mb_used  gb_used  \\\n",
       "0     1000      5           22             159   2253.49        3   \n",
       "1     1000      6           43             172  23233.77       23   \n",
       "2     1000      7           47             340  14003.64       14   \n",
       "3     1000      8           52             408  14055.93       14   \n",
       "4     1000      9           58             466  14568.91       15   \n",
       "\n",
       "   total_messages  age       city first_name  ... tariff_name  \\\n",
       "0              22   52  Краснодар     Рафаил  ...       ultra   \n",
       "1              60   52  Краснодар     Рафаил  ...       ultra   \n",
       "2              75   52  Краснодар     Рафаил  ...       ultra   \n",
       "3              81   52  Краснодар     Рафаил  ...       ultra   \n",
       "4              57   52  Краснодар     Рафаил  ...       ultra   \n",
       "\n",
       "  messages_included gb_per_month_included  minutes_included  rub_monthly_fee  \\\n",
       "0              1000                    30              3000             1950   \n",
       "1              1000                    30              3000             1950   \n",
       "2              1000                    30              3000             1950   \n",
       "3              1000                    30              3000             1950   \n",
       "4              1000                    30              3000             1950   \n",
       "\n",
       "   rub_per_gb  rub_per_message  rub_per_minute  revenue  \\\n",
       "0         150                1               1     1950   \n",
       "1         150                1               1     1950   \n",
       "2         150                1               1     1950   \n",
       "3         150                1               1     1950   \n",
       "4         150                1               1     1950   \n",
       "\n",
       "   overpaid_calls_revenue  \n",
       "0                       0  \n",
       "1                       0  \n",
       "2                       0  \n",
       "3                       0  \n",
       "4                       0  \n",
       "\n",
       "[5 rows x 22 columns]"
      ]
     },
     "execution_count": 47,
     "metadata": {},
     "output_type": "execute_result"
    }
   ],
   "source": [
    "ultra.head()"
   ]
  },
  {
   "cell_type": "code",
   "execution_count": 48,
   "metadata": {},
   "outputs": [],
   "source": [
    "ultra['overpaid_trafic_revenue'] = (ultra.gb_used - ultra.gb_per_month_included).apply(neg_to_zero) * ultra.rub_per_gb\n",
    "smart['overpaid_trafic_revenue'] = (smart.gb_used - smart.gb_per_month_included).apply(neg_to_zero) * smart.rub_per_gb"
   ]
  },
  {
   "cell_type": "code",
   "execution_count": 49,
   "metadata": {},
   "outputs": [
    {
     "name": "stdout",
     "output_type": "stream",
     "text": [
      "Средняя переплата свыше трафика по Ультре: 120\n",
      "Средняя переплата свыше трафика по Смарту: 598\n",
      "Соотношение: 4.97\n"
     ]
    }
   ],
   "source": [
    "print('Средняя переплата свыше трафика по Ультре:', round(ultra.overpaid_trafic_revenue.mean()))\n",
    "print('Средняя переплата свыше трафика по Смарту:', round(smart.overpaid_trafic_revenue.mean()))\n",
    "print('Соотношение:', round(smart.overpaid_trafic_revenue.mean() / ultra.overpaid_trafic_revenue.mean(), 2))"
   ]
  },
  {
   "cell_type": "markdown",
   "metadata": {},
   "source": [
    "### Вывод"
   ]
  },
  {
   "cell_type": "code",
   "execution_count": 50,
   "metadata": {},
   "outputs": [
    {
     "data": {
      "text/html": [
       "<div>\n",
       "<style scoped>\n",
       "    .dataframe tbody tr th:only-of-type {\n",
       "        vertical-align: middle;\n",
       "    }\n",
       "\n",
       "    .dataframe tbody tr th {\n",
       "        vertical-align: top;\n",
       "    }\n",
       "\n",
       "    .dataframe thead tr th {\n",
       "        text-align: left;\n",
       "    }\n",
       "\n",
       "    .dataframe thead tr:last-of-type th {\n",
       "        text-align: right;\n",
       "    }\n",
       "</style>\n",
       "<table border=\"1\" class=\"dataframe\">\n",
       "  <thead>\n",
       "    <tr>\n",
       "      <th></th>\n",
       "      <th colspan=\"4\" halign=\"left\">Среднее</th>\n",
       "      <th colspan=\"4\" halign=\"left\">Дисперсия</th>\n",
       "      <th colspan=\"4\" halign=\"left\">Стандартное отклонение</th>\n",
       "    </tr>\n",
       "    <tr>\n",
       "      <th></th>\n",
       "      <th>gb_used</th>\n",
       "      <th>revenue</th>\n",
       "      <th>total_duration</th>\n",
       "      <th>total_messages</th>\n",
       "      <th>gb_used</th>\n",
       "      <th>revenue</th>\n",
       "      <th>total_duration</th>\n",
       "      <th>total_messages</th>\n",
       "      <th>gb_used</th>\n",
       "      <th>revenue</th>\n",
       "      <th>total_duration</th>\n",
       "      <th>total_messages</th>\n",
       "    </tr>\n",
       "    <tr>\n",
       "      <th>tariff_name</th>\n",
       "      <th></th>\n",
       "      <th></th>\n",
       "      <th></th>\n",
       "      <th></th>\n",
       "      <th></th>\n",
       "      <th></th>\n",
       "      <th></th>\n",
       "      <th></th>\n",
       "      <th></th>\n",
       "      <th></th>\n",
       "      <th></th>\n",
       "      <th></th>\n",
       "    </tr>\n",
       "  </thead>\n",
       "  <tbody>\n",
       "    <tr>\n",
       "      <th>smart</th>\n",
       "      <td>16.328847</td>\n",
       "      <td>1289.973531</td>\n",
       "      <td>417.934948</td>\n",
       "      <td>33.384029</td>\n",
       "      <td>33.028705</td>\n",
       "      <td>669785.708006</td>\n",
       "      <td>36219.315784</td>\n",
       "      <td>796.812958</td>\n",
       "      <td>5.747061</td>\n",
       "      <td>818.404367</td>\n",
       "      <td>190.313730</td>\n",
       "      <td>28.227876</td>\n",
       "    </tr>\n",
       "    <tr>\n",
       "      <th>ultra</th>\n",
       "      <td>19.494416</td>\n",
       "      <td>2070.152284</td>\n",
       "      <td>526.623350</td>\n",
       "      <td>49.363452</td>\n",
       "      <td>97.091686</td>\n",
       "      <td>141516.745079</td>\n",
       "      <td>100873.633397</td>\n",
       "      <td>2285.266143</td>\n",
       "      <td>9.853511</td>\n",
       "      <td>376.187114</td>\n",
       "      <td>317.606098</td>\n",
       "      <td>47.804457</td>\n",
       "    </tr>\n",
       "  </tbody>\n",
       "</table>\n",
       "</div>"
      ],
      "text/plain": [
       "               Среднее                                             Дисперсия  \\\n",
       "               gb_used      revenue total_duration total_messages    gb_used   \n",
       "tariff_name                                                                    \n",
       "smart        16.328847  1289.973531     417.934948      33.384029  33.028705   \n",
       "ultra        19.494416  2070.152284     526.623350      49.363452  97.091686   \n",
       "\n",
       "                                                          \\\n",
       "                   revenue total_duration total_messages   \n",
       "tariff_name                                                \n",
       "smart        669785.708006   36219.315784     796.812958   \n",
       "ultra        141516.745079  100873.633397    2285.266143   \n",
       "\n",
       "            Стандартное отклонение                                            \n",
       "                           gb_used     revenue total_duration total_messages  \n",
       "tariff_name                                                                   \n",
       "smart                     5.747061  818.404367     190.313730      28.227876  \n",
       "ultra                     9.853511  376.187114     317.606098      47.804457  "
      ]
     },
     "execution_count": 50,
     "metadata": {},
     "output_type": "execute_result"
    }
   ],
   "source": [
    "pivot_stat = df.pivot_table(\n",
    "    index = 'tariff_name',\n",
    "    values = ['total_duration', 'total_messages', 'gb_used', 'revenue'],\n",
    "    aggfunc= ['mean', 'var','std'])\n",
    "pivot_stat.rename(columns={'mean': 'Среднее', 'var': 'Дисперсия', 'std': 'Стандартное отклонение'})"
   ]
  },
  {
   "cell_type": "markdown",
   "metadata": {},
   "source": [
    "Мы провели анализ двух тарифов по четырем показателям: \n",
    "* Количество звонков\n",
    "* Длительность звонков\n",
    "* Количество сообщений\n",
    "* Объем интернет-трафика\n",
    "\n",
    "На основании проведенного анализа можно заключить следующее:\n",
    "Ультра-абоненты звонят и пишут сообщения чаще, чем смарт-абоненты. В среднем им требуется **527 минут** разговоров и **50 смс** в месяц. Смартовцам требуется в среднем **418 минут** и **34 смс**. \n",
    "\n",
    "Интернетом больше пользуются также ультра-абоненты. Им необходимо в среднем **19 гб** в месяц, тогда как смарт, впрочем, всего на 3 гб меньше - **16 гб**. \n",
    "\n"
   ]
  },
  {
   "cell_type": "markdown",
   "metadata": {},
   "source": [
    "## Проверка гипотез"
   ]
  },
  {
   "cell_type": "markdown",
   "metadata": {},
   "source": [
    "Перед проведением статистического теста почистим данные от выбросов\n",
    "* количество звонков больше 180;\n",
    "* длительность звонков больше 1100;\n",
    "* количество трафика больше 85;\n",
    "* количество сообщений больше 130"
   ]
  },
  {
   "cell_type": "code",
   "execution_count": 51,
   "metadata": {},
   "outputs": [
    {
     "data": {
      "text/plain": [
       "(3214, 21)"
      ]
     },
     "execution_count": 51,
     "metadata": {},
     "output_type": "execute_result"
    }
   ],
   "source": [
    "shape_before = df.shape\n",
    "shape_before"
   ]
  },
  {
   "cell_type": "code",
   "execution_count": 52,
   "metadata": {},
   "outputs": [
    {
     "data": {
      "text/plain": [
       "(3128, 21)"
      ]
     },
     "execution_count": 52,
     "metadata": {},
     "output_type": "execute_result"
    }
   ],
   "source": [
    "df = df.query('total_calls < 185 and total_duration < 1200 and gb_used < 90 and total_messages < 140')\n",
    "shape_after = df.shape\n",
    "shape_after"
   ]
  },
  {
   "cell_type": "code",
   "execution_count": 53,
   "metadata": {},
   "outputs": [
    {
     "name": "stdout",
     "output_type": "stream",
     "text": [
      "Удалено 2.7% от данных\n"
     ]
    }
   ],
   "source": [
    "deleted = (shape_before[0] - shape_after[0]) / shape_before[0]\n",
    "print(f'Удалено {deleted:.1%} от данных')"
   ]
  },
  {
   "cell_type": "markdown",
   "metadata": {},
   "source": [
    "На основании двух подготовленных нами выборок проверим следующие гипотезы:\n",
    "\n",
    "* средняя выручка пользователей тарифов «Ультра» и «Смарт» различаются;\n",
    "* средняя выручка пользователей из Москвы отличается от выручки пользователей из других регионов."
   ]
  },
  {
   "cell_type": "markdown",
   "metadata": {},
   "source": [
    "### Средняя выручка пользователей тарифов «Ультра» и «Смарт» различаются"
   ]
  },
  {
   "cell_type": "markdown",
   "metadata": {},
   "source": [
    "Гипотеза $Н^0$ : *средняя выручка пользователей тарифов «Ультра» равна средней выручке пользователей тарифов «Смарт»*  \n",
    "Гипотеза $Н^1$ : *средняя выручка пользователей тарифов «Ультра» не равна средней выручке пользователей тарифов «Смарт»*"
   ]
  },
  {
   "cell_type": "code",
   "execution_count": 54,
   "metadata": {},
   "outputs": [
    {
     "data": {
      "text/plain": [
       "(2229, 23)"
      ]
     },
     "metadata": {},
     "output_type": "display_data"
    },
    {
     "data": {
      "text/plain": [
       "(985, 23)"
      ]
     },
     "metadata": {},
     "output_type": "display_data"
    }
   ],
   "source": [
    "display(smart.shape)\n",
    "display(ultra.shape)"
   ]
  },
  {
   "cell_type": "markdown",
   "metadata": {},
   "source": [
    "Проведем t-test. Гипотеза двусторонняя, уровень статистической значимости возьмем 5%, при p-value ниже которого отвергнем нулевую гипотезу.  \n",
    "\n",
    "Выборки не равны, поэтому при проведении t-теста используем `equal_var=False`."
   ]
  },
  {
   "cell_type": "code",
   "execution_count": 55,
   "metadata": {},
   "outputs": [
    {
     "name": "stdout",
     "output_type": "stream",
     "text": [
      "p-value: 4.2606313931076085e-250\n",
      "Отвергаем нулевую гипотезу\n"
     ]
    }
   ],
   "source": [
    "alpha = .05 \n",
    "\n",
    "results = st.ttest_ind(smart.revenue, ultra.revenue, equal_var=False)\n",
    "\n",
    "print('p-value:', results.pvalue)\n",
    "\n",
    "if results.pvalue < alpha:\n",
    "    print('Отвергаем нулевую гипотезу')\n",
    "else:\n",
    "    print('Не можем отвергнуть нулевую гипотезу')"
   ]
  },
  {
   "cell_type": "markdown",
   "metadata": {},
   "source": [
    "Согласно результатам t-теста мы отвергаем нулевую теорию, соответственно:\n",
    ">***Средняя выручка по тарифам различается***."
   ]
  },
  {
   "cell_type": "code",
   "execution_count": 56,
   "metadata": {},
   "outputs": [
    {
     "data": {
      "text/html": [
       "<div>\n",
       "<style scoped>\n",
       "    .dataframe tbody tr th:only-of-type {\n",
       "        vertical-align: middle;\n",
       "    }\n",
       "\n",
       "    .dataframe tbody tr th {\n",
       "        vertical-align: top;\n",
       "    }\n",
       "\n",
       "    .dataframe thead th {\n",
       "        text-align: right;\n",
       "    }\n",
       "</style>\n",
       "<table border=\"1\" class=\"dataframe\">\n",
       "  <thead>\n",
       "    <tr style=\"text-align: right;\">\n",
       "      <th></th>\n",
       "      <th>tariff_name</th>\n",
       "      <th>sum</th>\n",
       "      <th>mean</th>\n",
       "      <th>count</th>\n",
       "    </tr>\n",
       "  </thead>\n",
       "  <tbody>\n",
       "    <tr>\n",
       "      <th>0</th>\n",
       "      <td>smart</td>\n",
       "      <td>2868593</td>\n",
       "      <td>1288.097441</td>\n",
       "      <td>2227</td>\n",
       "    </tr>\n",
       "    <tr>\n",
       "      <th>1</th>\n",
       "      <td>ultra</td>\n",
       "      <td>1854150</td>\n",
       "      <td>2057.880133</td>\n",
       "      <td>901</td>\n",
       "    </tr>\n",
       "  </tbody>\n",
       "</table>\n",
       "</div>"
      ],
      "text/plain": [
       "  tariff_name      sum         mean  count\n",
       "0       smart  2868593  1288.097441   2227\n",
       "1       ultra  1854150  2057.880133    901"
      ]
     },
     "execution_count": 56,
     "metadata": {},
     "output_type": "execute_result"
    }
   ],
   "source": [
    "revenue_stat = df.pivot_table(\n",
    "    index='tariff_name',\n",
    "    values='revenue',\n",
    "    aggfunc=['sum', 'mean', 'count']\n",
    ").reset_index()\n",
    "revenue_stat.columns = revenue_stat.columns.droplevel(1)\n",
    "revenue_stat"
   ]
  },
  {
   "cell_type": "code",
   "execution_count": 57,
   "metadata": {},
   "outputs": [
    {
     "name": "stdout",
     "output_type": "stream",
     "text": [
      "Доля выручки клиентов Смарт-тарифа от общей выручки: 61%\n",
      "Соотношение клиентов: 71% на тарифе Смарт, 29% на тарифе Ультра\n",
      "Средняя выручка от Ультра-тарифа больше на 60%\n",
      "Общая выручка от Смарт-тарифа больше на 55%\n"
     ]
    }
   ],
   "source": [
    "revenue_sum_part = 2868593 / (2868593 + 1854150)\n",
    "revenue_sum_ratio = 2868593 / 1854150\n",
    "revenue_mean_ratio = 2058 / 1288 \n",
    "users_ratio = 2227 / (2227 + 901)\n",
    "print(f\"Доля выручки клиентов Смарт-тарифа от общей выручки: {revenue_sum_part:.0%}\")\n",
    "print(f\"Соотношение клиентов: {users_ratio:.0%} на тарифе Смарт, {1 - users_ratio:.0%} на тарифе Ультра\")\n",
    "print(f\"Средняя выручка от Ультра-тарифа больше на {revenue_mean_ratio - 1:.0%}\")\n",
    "print(f\"Общая выручка от Смарт-тарифа больше на {revenue_sum_ratio - 1:.0%}\")"
   ]
  },
  {
   "cell_type": "code",
   "execution_count": 58,
   "metadata": {},
   "outputs": [
    {
     "data": {
      "text/html": [
       "<div>\n",
       "<style scoped>\n",
       "    .dataframe tbody tr th:only-of-type {\n",
       "        vertical-align: middle;\n",
       "    }\n",
       "\n",
       "    .dataframe tbody tr th {\n",
       "        vertical-align: top;\n",
       "    }\n",
       "\n",
       "    .dataframe thead th {\n",
       "        text-align: right;\n",
       "    }\n",
       "</style>\n",
       "<table border=\"1\" class=\"dataframe\">\n",
       "  <thead>\n",
       "    <tr style=\"text-align: right;\">\n",
       "      <th></th>\n",
       "      <th>user_id</th>\n",
       "      <th>month</th>\n",
       "      <th>total_calls</th>\n",
       "      <th>total_duration</th>\n",
       "      <th>mb_used</th>\n",
       "      <th>gb_used</th>\n",
       "      <th>total_messages</th>\n",
       "      <th>age</th>\n",
       "      <th>city</th>\n",
       "      <th>first_name</th>\n",
       "      <th>...</th>\n",
       "      <th>reg_date</th>\n",
       "      <th>tariff_name</th>\n",
       "      <th>messages_included</th>\n",
       "      <th>gb_per_month_included</th>\n",
       "      <th>minutes_included</th>\n",
       "      <th>rub_monthly_fee</th>\n",
       "      <th>rub_per_gb</th>\n",
       "      <th>rub_per_message</th>\n",
       "      <th>rub_per_minute</th>\n",
       "      <th>revenue</th>\n",
       "    </tr>\n",
       "  </thead>\n",
       "  <tbody>\n",
       "    <tr>\n",
       "      <th>3209</th>\n",
       "      <td>1489</td>\n",
       "      <td>8</td>\n",
       "      <td>0</td>\n",
       "      <td>0</td>\n",
       "      <td>11050.56</td>\n",
       "      <td>11</td>\n",
       "      <td>17</td>\n",
       "      <td>35</td>\n",
       "      <td>Санкт-Петербург</td>\n",
       "      <td>Павел</td>\n",
       "      <td>...</td>\n",
       "      <td>2018-08-15</td>\n",
       "      <td>smart</td>\n",
       "      <td>50</td>\n",
       "      <td>15</td>\n",
       "      <td>500</td>\n",
       "      <td>550</td>\n",
       "      <td>200</td>\n",
       "      <td>3</td>\n",
       "      <td>3</td>\n",
       "      <td>550</td>\n",
       "    </tr>\n",
       "    <tr>\n",
       "      <th>3210</th>\n",
       "      <td>1489</td>\n",
       "      <td>9</td>\n",
       "      <td>0</td>\n",
       "      <td>0</td>\n",
       "      <td>17206.30</td>\n",
       "      <td>17</td>\n",
       "      <td>32</td>\n",
       "      <td>35</td>\n",
       "      <td>Санкт-Петербург</td>\n",
       "      <td>Павел</td>\n",
       "      <td>...</td>\n",
       "      <td>2018-08-15</td>\n",
       "      <td>smart</td>\n",
       "      <td>50</td>\n",
       "      <td>15</td>\n",
       "      <td>500</td>\n",
       "      <td>550</td>\n",
       "      <td>200</td>\n",
       "      <td>3</td>\n",
       "      <td>3</td>\n",
       "      <td>950</td>\n",
       "    </tr>\n",
       "    <tr>\n",
       "      <th>3211</th>\n",
       "      <td>1489</td>\n",
       "      <td>10</td>\n",
       "      <td>0</td>\n",
       "      <td>0</td>\n",
       "      <td>19559.44</td>\n",
       "      <td>20</td>\n",
       "      <td>21</td>\n",
       "      <td>35</td>\n",
       "      <td>Санкт-Петербург</td>\n",
       "      <td>Павел</td>\n",
       "      <td>...</td>\n",
       "      <td>2018-08-15</td>\n",
       "      <td>smart</td>\n",
       "      <td>50</td>\n",
       "      <td>15</td>\n",
       "      <td>500</td>\n",
       "      <td>550</td>\n",
       "      <td>200</td>\n",
       "      <td>3</td>\n",
       "      <td>3</td>\n",
       "      <td>1550</td>\n",
       "    </tr>\n",
       "    <tr>\n",
       "      <th>3212</th>\n",
       "      <td>1489</td>\n",
       "      <td>11</td>\n",
       "      <td>0</td>\n",
       "      <td>0</td>\n",
       "      <td>17491.56</td>\n",
       "      <td>18</td>\n",
       "      <td>20</td>\n",
       "      <td>35</td>\n",
       "      <td>Санкт-Петербург</td>\n",
       "      <td>Павел</td>\n",
       "      <td>...</td>\n",
       "      <td>2018-08-15</td>\n",
       "      <td>smart</td>\n",
       "      <td>50</td>\n",
       "      <td>15</td>\n",
       "      <td>500</td>\n",
       "      <td>550</td>\n",
       "      <td>200</td>\n",
       "      <td>3</td>\n",
       "      <td>3</td>\n",
       "      <td>1150</td>\n",
       "    </tr>\n",
       "    <tr>\n",
       "      <th>3213</th>\n",
       "      <td>1489</td>\n",
       "      <td>12</td>\n",
       "      <td>0</td>\n",
       "      <td>0</td>\n",
       "      <td>17322.51</td>\n",
       "      <td>17</td>\n",
       "      <td>35</td>\n",
       "      <td>35</td>\n",
       "      <td>Санкт-Петербург</td>\n",
       "      <td>Павел</td>\n",
       "      <td>...</td>\n",
       "      <td>2018-08-15</td>\n",
       "      <td>smart</td>\n",
       "      <td>50</td>\n",
       "      <td>15</td>\n",
       "      <td>500</td>\n",
       "      <td>550</td>\n",
       "      <td>200</td>\n",
       "      <td>3</td>\n",
       "      <td>3</td>\n",
       "      <td>950</td>\n",
       "    </tr>\n",
       "  </tbody>\n",
       "</table>\n",
       "<p>5 rows × 21 columns</p>\n",
       "</div>"
      ],
      "text/plain": [
       "      user_id  month  total_calls  total_duration   mb_used  gb_used  \\\n",
       "3209     1489      8            0               0  11050.56       11   \n",
       "3210     1489      9            0               0  17206.30       17   \n",
       "3211     1489     10            0               0  19559.44       20   \n",
       "3212     1489     11            0               0  17491.56       18   \n",
       "3213     1489     12            0               0  17322.51       17   \n",
       "\n",
       "      total_messages  age             city first_name  ...    reg_date  \\\n",
       "3209              17   35  Санкт-Петербург      Павел  ...  2018-08-15   \n",
       "3210              32   35  Санкт-Петербург      Павел  ...  2018-08-15   \n",
       "3211              21   35  Санкт-Петербург      Павел  ...  2018-08-15   \n",
       "3212              20   35  Санкт-Петербург      Павел  ...  2018-08-15   \n",
       "3213              35   35  Санкт-Петербург      Павел  ...  2018-08-15   \n",
       "\n",
       "     tariff_name messages_included  gb_per_month_included  minutes_included  \\\n",
       "3209       smart                50                     15               500   \n",
       "3210       smart                50                     15               500   \n",
       "3211       smart                50                     15               500   \n",
       "3212       smart                50                     15               500   \n",
       "3213       smart                50                     15               500   \n",
       "\n",
       "      rub_monthly_fee  rub_per_gb  rub_per_message  rub_per_minute  revenue  \n",
       "3209              550         200                3               3      550  \n",
       "3210              550         200                3               3      950  \n",
       "3211              550         200                3               3     1550  \n",
       "3212              550         200                3               3     1150  \n",
       "3213              550         200                3               3      950  \n",
       "\n",
       "[5 rows x 21 columns]"
      ]
     },
     "execution_count": 58,
     "metadata": {},
     "output_type": "execute_result"
    }
   ],
   "source": [
    "df.tail()"
   ]
  },
  {
   "cell_type": "code",
   "execution_count": 59,
   "metadata": {},
   "outputs": [
    {
     "name": "stdout",
     "output_type": "stream",
     "text": [
      "В среднем абоненты Ультры перелимичивают на 5.785714285714286 Гб, что приносит 867.8571428571429 руб. с клиента\n",
      "Всего 112 таких клиентов\n",
      "А в целом принесло 97200 руб. выручки\n",
      "\n",
      "В среднем абоненты Смарта перелимичивают на 5.10752688172043 Гб, что приносит 1021.505376344086 руб. с клиента\n",
      "Всего 1302 таких клиентов\n",
      "А в целом принесло 1330000 руб. выручки\n",
      "\n",
      "Перелимичивают 58% абонентов Смарта\n",
      "Перелимичивают 11% абонентов Ультры\n"
     ]
    }
   ],
   "source": [
    "ultra_for_gb_overlimit = df.query('gb_used > gb_per_month_included & tariff_name == \"ultra\"')\n",
    "gb_overlimit_ultra = (ultra_for_gb_overlimit.gb_used - ultra_for_gb_overlimit.gb_per_month_included)\n",
    "\n",
    "print(f'В среднем абоненты Ультры перелимичивают на {gb_overlimit_ultra.mean()} Гб, что приносит {gb_overlimit_ultra.mean() * 150} руб. с клиента')\n",
    "print(f'Всего {gb_overlimit_ultra.count()} таких клиентов')\n",
    "print(f'А в целом принесло {gb_overlimit_ultra.sum() * 150} руб. выручки')\n",
    "print()\n",
    "smart_for_gb_overlimit = df.query('gb_used > gb_per_month_included & tariff_name == \"smart\"')\n",
    "gb_overlimit_smart = (smart_for_gb_overlimit.gb_used - smart_for_gb_overlimit.gb_per_month_included)\n",
    "\n",
    "print(f'В среднем абоненты Смарта перелимичивают на {gb_overlimit_smart.mean()} Гб, что приносит {gb_overlimit_smart.mean() * 200} руб. с клиента')\n",
    "print(f'Всего {gb_overlimit_smart.count()} таких клиентов')\n",
    "print(f'А в целом принесло {gb_overlimit_smart.sum() * 200} руб. выручки')\n",
    "print()\n",
    "print(f'Перелимичивают {gb_overlimit_smart.count() / smart.user_id.count():.0%} абонентов Смарта')\n",
    "print(f'Перелимичивают {gb_overlimit_ultra.count() / ultra.user_id.count():.0%} абонентов Ультры')"
   ]
  },
  {
   "cell_type": "markdown",
   "metadata": {},
   "source": [
    "### Cредняя выручка пользователей из Москвы отличается от выручки пользователей из других регионов."
   ]
  },
  {
   "cell_type": "markdown",
   "metadata": {},
   "source": [
    "Гипотеза $H^0$ : *Средняя выручка в Москве равна средней выручке остальных регионов*   \n",
    "Гипотеза $H^1$ : *Средняя выручка в Москве не равна средней выручке остальных регионов*"
   ]
  },
  {
   "cell_type": "code",
   "execution_count": 60,
   "metadata": {},
   "outputs": [
    {
     "data": {
      "text/html": [
       "<div>\n",
       "<style scoped>\n",
       "    .dataframe tbody tr th:only-of-type {\n",
       "        vertical-align: middle;\n",
       "    }\n",
       "\n",
       "    .dataframe tbody tr th {\n",
       "        vertical-align: top;\n",
       "    }\n",
       "\n",
       "    .dataframe thead th {\n",
       "        text-align: right;\n",
       "    }\n",
       "</style>\n",
       "<table border=\"1\" class=\"dataframe\">\n",
       "  <thead>\n",
       "    <tr style=\"text-align: right;\">\n",
       "      <th></th>\n",
       "      <th>user_id</th>\n",
       "      <th>month</th>\n",
       "      <th>total_calls</th>\n",
       "      <th>total_duration</th>\n",
       "      <th>mb_used</th>\n",
       "      <th>gb_used</th>\n",
       "      <th>total_messages</th>\n",
       "      <th>age</th>\n",
       "      <th>city</th>\n",
       "      <th>first_name</th>\n",
       "      <th>...</th>\n",
       "      <th>reg_date</th>\n",
       "      <th>tariff_name</th>\n",
       "      <th>messages_included</th>\n",
       "      <th>gb_per_month_included</th>\n",
       "      <th>minutes_included</th>\n",
       "      <th>rub_monthly_fee</th>\n",
       "      <th>rub_per_gb</th>\n",
       "      <th>rub_per_message</th>\n",
       "      <th>rub_per_minute</th>\n",
       "      <th>revenue</th>\n",
       "    </tr>\n",
       "  </thead>\n",
       "  <tbody>\n",
       "    <tr>\n",
       "      <th>8</th>\n",
       "      <td>1003</td>\n",
       "      <td>8</td>\n",
       "      <td>55</td>\n",
       "      <td>380</td>\n",
       "      <td>8565.21</td>\n",
       "      <td>9</td>\n",
       "      <td>37</td>\n",
       "      <td>23</td>\n",
       "      <td>Москва</td>\n",
       "      <td>Белла</td>\n",
       "      <td>...</td>\n",
       "      <td>2018-08-17</td>\n",
       "      <td>ultra</td>\n",
       "      <td>1000</td>\n",
       "      <td>30</td>\n",
       "      <td>3000</td>\n",
       "      <td>1950</td>\n",
       "      <td>150</td>\n",
       "      <td>1</td>\n",
       "      <td>1</td>\n",
       "      <td>1950</td>\n",
       "    </tr>\n",
       "    <tr>\n",
       "      <th>9</th>\n",
       "      <td>1003</td>\n",
       "      <td>9</td>\n",
       "      <td>134</td>\n",
       "      <td>961</td>\n",
       "      <td>12468.87</td>\n",
       "      <td>13</td>\n",
       "      <td>91</td>\n",
       "      <td>23</td>\n",
       "      <td>Москва</td>\n",
       "      <td>Белла</td>\n",
       "      <td>...</td>\n",
       "      <td>2018-08-17</td>\n",
       "      <td>ultra</td>\n",
       "      <td>1000</td>\n",
       "      <td>30</td>\n",
       "      <td>3000</td>\n",
       "      <td>1950</td>\n",
       "      <td>150</td>\n",
       "      <td>1</td>\n",
       "      <td>1</td>\n",
       "      <td>1950</td>\n",
       "    </tr>\n",
       "    <tr>\n",
       "      <th>10</th>\n",
       "      <td>1003</td>\n",
       "      <td>10</td>\n",
       "      <td>108</td>\n",
       "      <td>855</td>\n",
       "      <td>14768.14</td>\n",
       "      <td>15</td>\n",
       "      <td>83</td>\n",
       "      <td>23</td>\n",
       "      <td>Москва</td>\n",
       "      <td>Белла</td>\n",
       "      <td>...</td>\n",
       "      <td>2018-08-17</td>\n",
       "      <td>ultra</td>\n",
       "      <td>1000</td>\n",
       "      <td>30</td>\n",
       "      <td>3000</td>\n",
       "      <td>1950</td>\n",
       "      <td>150</td>\n",
       "      <td>1</td>\n",
       "      <td>1</td>\n",
       "      <td>1950</td>\n",
       "    </tr>\n",
       "    <tr>\n",
       "      <th>11</th>\n",
       "      <td>1003</td>\n",
       "      <td>11</td>\n",
       "      <td>115</td>\n",
       "      <td>824</td>\n",
       "      <td>11356.89</td>\n",
       "      <td>12</td>\n",
       "      <td>94</td>\n",
       "      <td>23</td>\n",
       "      <td>Москва</td>\n",
       "      <td>Белла</td>\n",
       "      <td>...</td>\n",
       "      <td>2018-08-17</td>\n",
       "      <td>ultra</td>\n",
       "      <td>1000</td>\n",
       "      <td>30</td>\n",
       "      <td>3000</td>\n",
       "      <td>1950</td>\n",
       "      <td>150</td>\n",
       "      <td>1</td>\n",
       "      <td>1</td>\n",
       "      <td>1950</td>\n",
       "    </tr>\n",
       "    <tr>\n",
       "      <th>12</th>\n",
       "      <td>1003</td>\n",
       "      <td>12</td>\n",
       "      <td>108</td>\n",
       "      <td>802</td>\n",
       "      <td>10121.53</td>\n",
       "      <td>10</td>\n",
       "      <td>75</td>\n",
       "      <td>23</td>\n",
       "      <td>Москва</td>\n",
       "      <td>Белла</td>\n",
       "      <td>...</td>\n",
       "      <td>2018-08-17</td>\n",
       "      <td>ultra</td>\n",
       "      <td>1000</td>\n",
       "      <td>30</td>\n",
       "      <td>3000</td>\n",
       "      <td>1950</td>\n",
       "      <td>150</td>\n",
       "      <td>1</td>\n",
       "      <td>1</td>\n",
       "      <td>1950</td>\n",
       "    </tr>\n",
       "  </tbody>\n",
       "</table>\n",
       "<p>5 rows × 21 columns</p>\n",
       "</div>"
      ],
      "text/plain": [
       "    user_id  month  total_calls  total_duration   mb_used  gb_used  \\\n",
       "8      1003      8           55             380   8565.21        9   \n",
       "9      1003      9          134             961  12468.87       13   \n",
       "10     1003     10          108             855  14768.14       15   \n",
       "11     1003     11          115             824  11356.89       12   \n",
       "12     1003     12          108             802  10121.53       10   \n",
       "\n",
       "    total_messages  age    city first_name  ...    reg_date tariff_name  \\\n",
       "8               37   23  Москва      Белла  ...  2018-08-17       ultra   \n",
       "9               91   23  Москва      Белла  ...  2018-08-17       ultra   \n",
       "10              83   23  Москва      Белла  ...  2018-08-17       ultra   \n",
       "11              94   23  Москва      Белла  ...  2018-08-17       ultra   \n",
       "12              75   23  Москва      Белла  ...  2018-08-17       ultra   \n",
       "\n",
       "   messages_included  gb_per_month_included  minutes_included  \\\n",
       "8               1000                     30              3000   \n",
       "9               1000                     30              3000   \n",
       "10              1000                     30              3000   \n",
       "11              1000                     30              3000   \n",
       "12              1000                     30              3000   \n",
       "\n",
       "    rub_monthly_fee  rub_per_gb  rub_per_message  rub_per_minute  revenue  \n",
       "8              1950         150                1               1     1950  \n",
       "9              1950         150                1               1     1950  \n",
       "10             1950         150                1               1     1950  \n",
       "11             1950         150                1               1     1950  \n",
       "12             1950         150                1               1     1950  \n",
       "\n",
       "[5 rows x 21 columns]"
      ]
     },
     "metadata": {},
     "output_type": "display_data"
    },
    {
     "data": {
      "text/html": [
       "<div>\n",
       "<style scoped>\n",
       "    .dataframe tbody tr th:only-of-type {\n",
       "        vertical-align: middle;\n",
       "    }\n",
       "\n",
       "    .dataframe tbody tr th {\n",
       "        vertical-align: top;\n",
       "    }\n",
       "\n",
       "    .dataframe thead th {\n",
       "        text-align: right;\n",
       "    }\n",
       "</style>\n",
       "<table border=\"1\" class=\"dataframe\">\n",
       "  <thead>\n",
       "    <tr style=\"text-align: right;\">\n",
       "      <th></th>\n",
       "      <th>user_id</th>\n",
       "      <th>month</th>\n",
       "      <th>total_calls</th>\n",
       "      <th>total_duration</th>\n",
       "      <th>mb_used</th>\n",
       "      <th>gb_used</th>\n",
       "      <th>total_messages</th>\n",
       "      <th>age</th>\n",
       "      <th>city</th>\n",
       "      <th>first_name</th>\n",
       "      <th>...</th>\n",
       "      <th>reg_date</th>\n",
       "      <th>tariff_name</th>\n",
       "      <th>messages_included</th>\n",
       "      <th>gb_per_month_included</th>\n",
       "      <th>minutes_included</th>\n",
       "      <th>rub_monthly_fee</th>\n",
       "      <th>rub_per_gb</th>\n",
       "      <th>rub_per_message</th>\n",
       "      <th>rub_per_minute</th>\n",
       "      <th>revenue</th>\n",
       "    </tr>\n",
       "  </thead>\n",
       "  <tbody>\n",
       "    <tr>\n",
       "      <th>0</th>\n",
       "      <td>1000</td>\n",
       "      <td>5</td>\n",
       "      <td>22</td>\n",
       "      <td>159</td>\n",
       "      <td>2253.49</td>\n",
       "      <td>3</td>\n",
       "      <td>22</td>\n",
       "      <td>52</td>\n",
       "      <td>Краснодар</td>\n",
       "      <td>Рафаил</td>\n",
       "      <td>...</td>\n",
       "      <td>2018-05-25</td>\n",
       "      <td>ultra</td>\n",
       "      <td>1000</td>\n",
       "      <td>30</td>\n",
       "      <td>3000</td>\n",
       "      <td>1950</td>\n",
       "      <td>150</td>\n",
       "      <td>1</td>\n",
       "      <td>1</td>\n",
       "      <td>1950</td>\n",
       "    </tr>\n",
       "    <tr>\n",
       "      <th>1</th>\n",
       "      <td>1000</td>\n",
       "      <td>6</td>\n",
       "      <td>43</td>\n",
       "      <td>172</td>\n",
       "      <td>23233.77</td>\n",
       "      <td>23</td>\n",
       "      <td>60</td>\n",
       "      <td>52</td>\n",
       "      <td>Краснодар</td>\n",
       "      <td>Рафаил</td>\n",
       "      <td>...</td>\n",
       "      <td>2018-05-25</td>\n",
       "      <td>ultra</td>\n",
       "      <td>1000</td>\n",
       "      <td>30</td>\n",
       "      <td>3000</td>\n",
       "      <td>1950</td>\n",
       "      <td>150</td>\n",
       "      <td>1</td>\n",
       "      <td>1</td>\n",
       "      <td>1950</td>\n",
       "    </tr>\n",
       "    <tr>\n",
       "      <th>2</th>\n",
       "      <td>1000</td>\n",
       "      <td>7</td>\n",
       "      <td>47</td>\n",
       "      <td>340</td>\n",
       "      <td>14003.64</td>\n",
       "      <td>14</td>\n",
       "      <td>75</td>\n",
       "      <td>52</td>\n",
       "      <td>Краснодар</td>\n",
       "      <td>Рафаил</td>\n",
       "      <td>...</td>\n",
       "      <td>2018-05-25</td>\n",
       "      <td>ultra</td>\n",
       "      <td>1000</td>\n",
       "      <td>30</td>\n",
       "      <td>3000</td>\n",
       "      <td>1950</td>\n",
       "      <td>150</td>\n",
       "      <td>1</td>\n",
       "      <td>1</td>\n",
       "      <td>1950</td>\n",
       "    </tr>\n",
       "    <tr>\n",
       "      <th>3</th>\n",
       "      <td>1000</td>\n",
       "      <td>8</td>\n",
       "      <td>52</td>\n",
       "      <td>408</td>\n",
       "      <td>14055.93</td>\n",
       "      <td>14</td>\n",
       "      <td>81</td>\n",
       "      <td>52</td>\n",
       "      <td>Краснодар</td>\n",
       "      <td>Рафаил</td>\n",
       "      <td>...</td>\n",
       "      <td>2018-05-25</td>\n",
       "      <td>ultra</td>\n",
       "      <td>1000</td>\n",
       "      <td>30</td>\n",
       "      <td>3000</td>\n",
       "      <td>1950</td>\n",
       "      <td>150</td>\n",
       "      <td>1</td>\n",
       "      <td>1</td>\n",
       "      <td>1950</td>\n",
       "    </tr>\n",
       "    <tr>\n",
       "      <th>4</th>\n",
       "      <td>1000</td>\n",
       "      <td>9</td>\n",
       "      <td>58</td>\n",
       "      <td>466</td>\n",
       "      <td>14568.91</td>\n",
       "      <td>15</td>\n",
       "      <td>57</td>\n",
       "      <td>52</td>\n",
       "      <td>Краснодар</td>\n",
       "      <td>Рафаил</td>\n",
       "      <td>...</td>\n",
       "      <td>2018-05-25</td>\n",
       "      <td>ultra</td>\n",
       "      <td>1000</td>\n",
       "      <td>30</td>\n",
       "      <td>3000</td>\n",
       "      <td>1950</td>\n",
       "      <td>150</td>\n",
       "      <td>1</td>\n",
       "      <td>1</td>\n",
       "      <td>1950</td>\n",
       "    </tr>\n",
       "  </tbody>\n",
       "</table>\n",
       "<p>5 rows × 21 columns</p>\n",
       "</div>"
      ],
      "text/plain": [
       "   user_id  month  total_calls  total_duration   mb_used  gb_used  \\\n",
       "0     1000      5           22             159   2253.49        3   \n",
       "1     1000      6           43             172  23233.77       23   \n",
       "2     1000      7           47             340  14003.64       14   \n",
       "3     1000      8           52             408  14055.93       14   \n",
       "4     1000      9           58             466  14568.91       15   \n",
       "\n",
       "   total_messages  age       city first_name  ...    reg_date tariff_name  \\\n",
       "0              22   52  Краснодар     Рафаил  ...  2018-05-25       ultra   \n",
       "1              60   52  Краснодар     Рафаил  ...  2018-05-25       ultra   \n",
       "2              75   52  Краснодар     Рафаил  ...  2018-05-25       ultra   \n",
       "3              81   52  Краснодар     Рафаил  ...  2018-05-25       ultra   \n",
       "4              57   52  Краснодар     Рафаил  ...  2018-05-25       ultra   \n",
       "\n",
       "  messages_included  gb_per_month_included  minutes_included  rub_monthly_fee  \\\n",
       "0              1000                     30              3000             1950   \n",
       "1              1000                     30              3000             1950   \n",
       "2              1000                     30              3000             1950   \n",
       "3              1000                     30              3000             1950   \n",
       "4              1000                     30              3000             1950   \n",
       "\n",
       "   rub_per_gb  rub_per_message  rub_per_minute  revenue  \n",
       "0         150                1               1     1950  \n",
       "1         150                1               1     1950  \n",
       "2         150                1               1     1950  \n",
       "3         150                1               1     1950  \n",
       "4         150                1               1     1950  \n",
       "\n",
       "[5 rows x 21 columns]"
      ]
     },
     "metadata": {},
     "output_type": "display_data"
    }
   ],
   "source": [
    "moscow = df.query('city == \"Москва\"')\n",
    "rest = df.query('city != \"Москва\"')\n",
    "display(moscow.head())\n",
    "display(rest.head())"
   ]
  },
  {
   "cell_type": "code",
   "execution_count": 61,
   "metadata": {},
   "outputs": [
    {
     "data": {
      "text/plain": [
       "(591, 21)"
      ]
     },
     "metadata": {},
     "output_type": "display_data"
    },
    {
     "data": {
      "text/plain": [
       "(2537, 21)"
      ]
     },
     "metadata": {},
     "output_type": "display_data"
    }
   ],
   "source": [
    "display(moscow.shape)\n",
    "display(rest.shape)"
   ]
  },
  {
   "cell_type": "markdown",
   "metadata": {},
   "source": [
    "Уровень статистической значимости оставим 5%, из-за неравности выборок также утсановим параметру `equal_var` значение `False` "
   ]
  },
  {
   "cell_type": "code",
   "execution_count": 62,
   "metadata": {},
   "outputs": [
    {
     "name": "stdout",
     "output_type": "stream",
     "text": [
      "p-value: 0.8158185538861489\n",
      "Не можем отвергнуть нулевую гипотезу\n"
     ]
    }
   ],
   "source": [
    "alpha = .05\n",
    "\n",
    "results = st.ttest_ind(moscow.revenue, rest.revenue, equal_var=False)\n",
    "\n",
    "print('p-value:', results.pvalue)\n",
    "\n",
    "if results.pvalue < alpha:\n",
    "    print('Отвергаем нулевую гипотезу')\n",
    "else:\n",
    "    print('Не можем отвергнуть нулевую гипотезу')"
   ]
  },
  {
   "cell_type": "markdown",
   "metadata": {},
   "source": [
    "При уровне значимости в 5% данные не противоречат гиптезе о равенстве средних выручек в Москве по сравнению с остальной Россией. Соответственно, \n",
    ">***Средняя выручка в Москве примерно равна средней выручке в регионах***"
   ]
  },
  {
   "cell_type": "markdown",
   "metadata": {},
   "source": [
    "### Пояснения и выводы"
   ]
  },
  {
   "cell_type": "markdown",
   "metadata": {},
   "source": [
    "Нулевую и альтернативную гипотезу мы сформировали согласно правилам проверки гипотез о равенстве средних двух генеральных совокупностей по их выборкам.  \n",
    "\n",
    "Критерий порогового значения уровня статистической значимости было установлено в 5%, в обоих случаях гипотезы, подлежащие проверке были двусторонние. \n",
    "\n",
    "Из библиотеки был ипользован метод `ttest_ind` для тестирования среднего двух выборок. "
   ]
  },
  {
   "cell_type": "markdown",
   "metadata": {},
   "source": [
    "## Общий вывод"
   ]
  },
  {
   "cell_type": "markdown",
   "metadata": {},
   "source": [
    "В ходе анализы мы выяснили следующие аспекты:\n",
    "\n",
    "* Клиенты тарифа \"Ультра\" совершают большее количество звонков, общая длительность этих звонков также больше, чем у клиентов с тарифом \"Смарт\"\n",
    "* Смс-сообщениями клиенты обоих тарифов пользуются одинаково неактивно, абоненты на \"Ультре\" пишут немного больше, однако замечено, что довольно большая доля клиентов обоих тарифов не пользуются сообщениями вообще, а также клиенты обоих тарифов в среднем укладываются в лимит, включенный в абонентскую плату, особенно клиенты \"Ультры\", ни один из которых даже близко не пересек платную отсечку в 1000 смс.\n",
    "* Интернетом охотнее пользуются абоненты на \"Ультре\". Но клиенты \"Смарта\" гораздо больше выходят за рамки трафика, предоставленные тарифом, и, соответственно, гораздо больше переплачивают. Абоненты на \"Ультре\" пользуюся интернетом больше, однако менее склонны выходить за рамки бесплатного трафика своего тарифа за счет большего количества предоставленных гигабайт. Выручка за счет переплаты за интернет сверх лимита с абонентов Смарта в три раза выше, чем с абонентов Ультры за счет трат на гигабайты сверх лимита.  \n",
    "\n",
    "Проверка интересующих заказчика гипотез выявила следующее:\n",
    "\n",
    "* Средняя выручка в Москве примерно равна средней выручке в регионах;\n",
    "* Средняя выручка по тарифам различается.  \n",
    "\n",
    "По итогу анализа заключим, что выручка с абонентов тарифа \"Ультра\" выше за счет более высокой абонентской платы. Абонентам \"Смарта\" часто приходится доплачивать за счет использования минут и гигабайт сверх предоставленного лимита.\n",
    "\n",
    "Доля Смарт-клиентов примерно 3/5, больше половины от общей массы, но размер *общей выручки* за год от этих 3/5 больше всего на 55%.\n",
    "Клиентам Смарта часто приходится доплачивать за минуты и особенно за интернет сверх установленных тарифом лимитов, клиенты же Ультры в целом достаточно редко выходят за рамки лимитов, однако *средняя выручка* за счет высокой абонентской платы на 60% больше выручки от Смарта.\n",
    "\n",
    "***Рекомендация:***  \n",
    "\n",
    "Клиенты Ультры готовы высокую абонентскую плату, пользуясь только тем, что им необходимо, в данном случае - увеличенным лимитом на интернет-трафик. Абоненты этого тарифа почти не приближаются к своим установленным лимитам по минутам и сообщениям, но платят абонентскую плату в 3 раза выше тарифа Смарт, хотя и свой лимит трафика также исчерпывают довольно редко. \n",
    "\n",
    "Клиенты Смарта платят низкую абонентскую плату, но довольно часто выходят за рамки лимитов, особенно интернет-трафика, чем и приносят основную выручку. \n",
    "\n",
    "Клиенты обоих тарифов в среднем превышают свои лимиты на 5 Гб, и средняя выручка клиентов Смарта сокращает отрыв от выручки Ультры только за счет этих переплат сверх лимита за гигабайты.  \n",
    "\n",
    "Необходимо создать некий промежуточный вариант тарифа с лимитом интернет-трафика **20 Гб** (на 5 гб больше, чем в тарифе Смарт) и большей абонентской платой. Переплата клиентов за гигабайты сверх лимита сократится, но средняя выручка (на примере тарифа Ультры) вырастет.  "
   ]
  },
  {
   "cell_type": "markdown",
   "metadata": {},
   "source": [
    "☔☔☔"
   ]
  }
 ],
 "metadata": {
  "ExecuteTimeLog": [
   {
    "duration": 1146,
    "start_time": "2022-04-08T17:01:41.392Z"
   },
   {
    "duration": 268,
    "start_time": "2022-04-08T17:01:42.539Z"
   },
   {
    "duration": 0,
    "start_time": "2022-04-08T17:01:42.810Z"
   },
   {
    "duration": 0,
    "start_time": "2022-04-08T17:01:42.811Z"
   },
   {
    "duration": 0,
    "start_time": "2022-04-08T17:01:42.812Z"
   },
   {
    "duration": 0,
    "start_time": "2022-04-08T17:01:42.813Z"
   },
   {
    "duration": 0,
    "start_time": "2022-04-08T17:01:42.814Z"
   },
   {
    "duration": 0,
    "start_time": "2022-04-08T17:01:42.815Z"
   },
   {
    "duration": 0,
    "start_time": "2022-04-08T17:01:42.815Z"
   },
   {
    "duration": 0,
    "start_time": "2022-04-08T17:01:42.817Z"
   },
   {
    "duration": 0,
    "start_time": "2022-04-08T17:01:42.818Z"
   },
   {
    "duration": 0,
    "start_time": "2022-04-08T17:01:42.819Z"
   },
   {
    "duration": 0,
    "start_time": "2022-04-08T17:01:42.819Z"
   },
   {
    "duration": 0,
    "start_time": "2022-04-08T17:01:42.820Z"
   },
   {
    "duration": 0,
    "start_time": "2022-04-08T17:01:42.821Z"
   },
   {
    "duration": 0,
    "start_time": "2022-04-08T17:01:42.822Z"
   },
   {
    "duration": 0,
    "start_time": "2022-04-08T17:01:42.823Z"
   },
   {
    "duration": 0,
    "start_time": "2022-04-08T17:01:42.823Z"
   },
   {
    "duration": 0,
    "start_time": "2022-04-08T17:01:42.824Z"
   },
   {
    "duration": 0,
    "start_time": "2022-04-08T17:01:42.825Z"
   },
   {
    "duration": 0,
    "start_time": "2022-04-08T17:01:42.826Z"
   },
   {
    "duration": 0,
    "start_time": "2022-04-08T17:01:42.827Z"
   },
   {
    "duration": 0,
    "start_time": "2022-04-08T17:01:42.828Z"
   },
   {
    "duration": 0,
    "start_time": "2022-04-08T17:01:42.829Z"
   },
   {
    "duration": 0,
    "start_time": "2022-04-08T17:01:42.830Z"
   },
   {
    "duration": 0,
    "start_time": "2022-04-08T17:01:42.831Z"
   },
   {
    "duration": 0,
    "start_time": "2022-04-08T17:01:42.831Z"
   },
   {
    "duration": 0,
    "start_time": "2022-04-08T17:01:42.832Z"
   },
   {
    "duration": 0,
    "start_time": "2022-04-08T17:01:42.833Z"
   },
   {
    "duration": 0,
    "start_time": "2022-04-08T17:01:42.834Z"
   },
   {
    "duration": 0,
    "start_time": "2022-04-08T17:01:42.835Z"
   },
   {
    "duration": 0,
    "start_time": "2022-04-08T17:01:42.836Z"
   },
   {
    "duration": 0,
    "start_time": "2022-04-08T17:01:42.837Z"
   },
   {
    "duration": 0,
    "start_time": "2022-04-08T17:01:42.838Z"
   },
   {
    "duration": 0,
    "start_time": "2022-04-08T17:01:42.839Z"
   },
   {
    "duration": 0,
    "start_time": "2022-04-08T17:01:42.882Z"
   },
   {
    "duration": 0,
    "start_time": "2022-04-08T17:01:42.883Z"
   },
   {
    "duration": 0,
    "start_time": "2022-04-08T17:01:42.885Z"
   },
   {
    "duration": 0,
    "start_time": "2022-04-08T17:01:42.886Z"
   },
   {
    "duration": 0,
    "start_time": "2022-04-08T17:01:42.887Z"
   },
   {
    "duration": 0,
    "start_time": "2022-04-08T17:01:42.888Z"
   },
   {
    "duration": 0,
    "start_time": "2022-04-08T17:01:42.889Z"
   },
   {
    "duration": 0,
    "start_time": "2022-04-08T17:01:42.889Z"
   },
   {
    "duration": 0,
    "start_time": "2022-04-08T17:01:42.890Z"
   },
   {
    "duration": 0,
    "start_time": "2022-04-08T17:01:42.891Z"
   },
   {
    "duration": 0,
    "start_time": "2022-04-08T17:01:42.892Z"
   },
   {
    "duration": 0,
    "start_time": "2022-04-08T17:01:42.893Z"
   },
   {
    "duration": 0,
    "start_time": "2022-04-08T17:01:42.894Z"
   },
   {
    "duration": 0,
    "start_time": "2022-04-08T17:01:42.895Z"
   },
   {
    "duration": 0,
    "start_time": "2022-04-08T17:01:42.896Z"
   },
   {
    "duration": 0,
    "start_time": "2022-04-08T17:01:42.897Z"
   },
   {
    "duration": 0,
    "start_time": "2022-04-08T17:01:42.898Z"
   },
   {
    "duration": 0,
    "start_time": "2022-04-08T17:01:42.899Z"
   },
   {
    "duration": 0,
    "start_time": "2022-04-08T17:01:42.900Z"
   },
   {
    "duration": 0,
    "start_time": "2022-04-08T17:01:42.901Z"
   },
   {
    "duration": 0,
    "start_time": "2022-04-08T17:01:42.902Z"
   },
   {
    "duration": 0,
    "start_time": "2022-04-08T17:01:42.903Z"
   },
   {
    "duration": 0,
    "start_time": "2022-04-08T17:01:42.904Z"
   },
   {
    "duration": 0,
    "start_time": "2022-04-08T17:01:42.905Z"
   },
   {
    "duration": 0,
    "start_time": "2022-04-08T17:01:42.906Z"
   },
   {
    "duration": 0,
    "start_time": "2022-04-08T17:01:42.907Z"
   },
   {
    "duration": 0,
    "start_time": "2022-04-08T17:01:42.908Z"
   },
   {
    "duration": 0,
    "start_time": "2022-04-08T17:01:42.909Z"
   },
   {
    "duration": 0,
    "start_time": "2022-04-08T17:01:42.910Z"
   },
   {
    "duration": 1137,
    "start_time": "2022-04-08T17:08:45.706Z"
   },
   {
    "duration": 424,
    "start_time": "2022-04-08T17:08:56.879Z"
   },
   {
    "duration": 31,
    "start_time": "2022-04-08T17:08:57.305Z"
   },
   {
    "duration": 76,
    "start_time": "2022-04-08T17:08:57.337Z"
   },
   {
    "duration": 3,
    "start_time": "2022-04-08T17:08:57.414Z"
   },
   {
    "duration": 199,
    "start_time": "2022-04-08T17:08:57.420Z"
   },
   {
    "duration": 117,
    "start_time": "2022-04-08T17:08:57.620Z"
   },
   {
    "duration": 111,
    "start_time": "2022-04-08T17:08:57.738Z"
   },
   {
    "duration": 53,
    "start_time": "2022-04-08T17:08:57.851Z"
   },
   {
    "duration": 88,
    "start_time": "2022-04-08T17:08:57.906Z"
   },
   {
    "duration": 10,
    "start_time": "2022-04-08T17:08:57.996Z"
   },
   {
    "duration": 5,
    "start_time": "2022-04-08T17:08:58.008Z"
   },
   {
    "duration": 10,
    "start_time": "2022-04-08T17:08:58.015Z"
   },
   {
    "duration": 10,
    "start_time": "2022-04-08T17:08:58.026Z"
   },
   {
    "duration": 136,
    "start_time": "2022-04-08T17:08:58.040Z"
   },
   {
    "duration": 111,
    "start_time": "2022-04-08T17:08:58.181Z"
   },
   {
    "duration": 108,
    "start_time": "2022-04-08T17:08:58.294Z"
   },
   {
    "duration": 98,
    "start_time": "2022-04-08T17:08:58.404Z"
   },
   {
    "duration": 4,
    "start_time": "2022-04-08T17:08:58.503Z"
   },
   {
    "duration": 9,
    "start_time": "2022-04-08T17:08:58.508Z"
   },
   {
    "duration": 16,
    "start_time": "2022-04-08T17:08:58.518Z"
   },
   {
    "duration": 12,
    "start_time": "2022-04-08T17:08:58.535Z"
   },
   {
    "duration": 45,
    "start_time": "2022-04-08T17:08:58.548Z"
   },
   {
    "duration": 2,
    "start_time": "2022-04-08T17:08:58.595Z"
   },
   {
    "duration": 17,
    "start_time": "2022-04-08T17:08:58.598Z"
   },
   {
    "duration": 8,
    "start_time": "2022-04-08T17:08:58.616Z"
   },
   {
    "duration": 18,
    "start_time": "2022-04-08T17:08:58.625Z"
   },
   {
    "duration": 7,
    "start_time": "2022-04-08T17:08:58.644Z"
   },
   {
    "duration": 29,
    "start_time": "2022-04-08T17:08:58.652Z"
   },
   {
    "duration": 41,
    "start_time": "2022-04-08T17:08:58.683Z"
   },
   {
    "duration": 58,
    "start_time": "2022-04-08T17:08:58.726Z"
   },
   {
    "duration": 5,
    "start_time": "2022-04-08T17:08:58.785Z"
   },
   {
    "duration": 13,
    "start_time": "2022-04-08T17:08:58.791Z"
   },
   {
    "duration": 6,
    "start_time": "2022-04-08T17:08:58.806Z"
   },
   {
    "duration": 4,
    "start_time": "2022-04-08T17:08:58.813Z"
   },
   {
    "duration": 154,
    "start_time": "2022-04-08T17:08:58.819Z"
   },
   {
    "duration": 10,
    "start_time": "2022-04-08T17:08:58.975Z"
   },
   {
    "duration": 6,
    "start_time": "2022-04-08T17:08:58.986Z"
   },
   {
    "duration": 8,
    "start_time": "2022-04-08T17:08:58.993Z"
   },
   {
    "duration": 139,
    "start_time": "2022-04-08T17:08:59.002Z"
   },
   {
    "duration": 6,
    "start_time": "2022-04-08T17:08:59.142Z"
   },
   {
    "duration": 3,
    "start_time": "2022-04-08T17:08:59.152Z"
   },
   {
    "duration": 5,
    "start_time": "2022-04-08T17:08:59.157Z"
   },
   {
    "duration": 158,
    "start_time": "2022-04-08T17:08:59.163Z"
   },
   {
    "duration": 766,
    "start_time": "2022-04-08T17:08:59.322Z"
   },
   {
    "duration": 740,
    "start_time": "2022-04-08T17:09:00.090Z"
   },
   {
    "duration": 7,
    "start_time": "2022-04-08T17:09:00.832Z"
   },
   {
    "duration": 20,
    "start_time": "2022-04-08T17:09:00.840Z"
   },
   {
    "duration": 32,
    "start_time": "2022-04-08T17:09:00.861Z"
   },
   {
    "duration": 139,
    "start_time": "2022-04-08T17:09:00.895Z"
   },
   {
    "duration": 12,
    "start_time": "2022-04-08T17:09:01.035Z"
   },
   {
    "duration": 22,
    "start_time": "2022-04-08T17:09:01.049Z"
   },
   {
    "duration": 701,
    "start_time": "2022-04-08T17:09:01.073Z"
   },
   {
    "duration": 14,
    "start_time": "2022-04-08T17:09:01.776Z"
   },
   {
    "duration": 10,
    "start_time": "2022-04-08T17:09:01.791Z"
   },
   {
    "duration": 11,
    "start_time": "2022-04-08T17:09:01.803Z"
   },
   {
    "duration": 7,
    "start_time": "2022-04-08T17:09:01.816Z"
   },
   {
    "duration": 30,
    "start_time": "2022-04-08T17:09:01.824Z"
   },
   {
    "duration": 14,
    "start_time": "2022-04-08T17:09:01.856Z"
   },
   {
    "duration": 30,
    "start_time": "2022-04-08T17:09:01.871Z"
   },
   {
    "duration": 5,
    "start_time": "2022-04-08T17:09:01.902Z"
   },
   {
    "duration": 62,
    "start_time": "2022-04-08T17:09:01.908Z"
   },
   {
    "duration": 6,
    "start_time": "2022-04-08T17:09:01.971Z"
   },
   {
    "duration": 15,
    "start_time": "2022-04-08T17:09:01.978Z"
   },
   {
    "duration": 9,
    "start_time": "2022-04-08T18:03:33.740Z"
   },
   {
    "duration": 3,
    "start_time": "2022-04-08T18:03:36.953Z"
   },
   {
    "duration": 19,
    "start_time": "2022-04-08T19:47:07.124Z"
   },
   {
    "duration": 9,
    "start_time": "2022-04-08T19:57:08.761Z"
   },
   {
    "duration": 104,
    "start_time": "2022-04-08T20:04:09.228Z"
   },
   {
    "duration": 13,
    "start_time": "2022-04-08T20:04:56.638Z"
   },
   {
    "duration": 110,
    "start_time": "2022-04-08T20:05:00.462Z"
   },
   {
    "duration": 1169,
    "start_time": "2022-04-08T22:16:52.725Z"
   },
   {
    "duration": 280,
    "start_time": "2022-04-08T22:16:53.896Z"
   },
   {
    "duration": 0,
    "start_time": "2022-04-08T22:16:54.181Z"
   },
   {
    "duration": 0,
    "start_time": "2022-04-08T22:16:54.182Z"
   },
   {
    "duration": 0,
    "start_time": "2022-04-08T22:16:54.183Z"
   },
   {
    "duration": 0,
    "start_time": "2022-04-08T22:16:54.184Z"
   },
   {
    "duration": 0,
    "start_time": "2022-04-08T22:16:54.185Z"
   },
   {
    "duration": 0,
    "start_time": "2022-04-08T22:16:54.186Z"
   },
   {
    "duration": 0,
    "start_time": "2022-04-08T22:16:54.187Z"
   },
   {
    "duration": 0,
    "start_time": "2022-04-08T22:16:54.188Z"
   },
   {
    "duration": 0,
    "start_time": "2022-04-08T22:16:54.189Z"
   },
   {
    "duration": 0,
    "start_time": "2022-04-08T22:16:54.190Z"
   },
   {
    "duration": 0,
    "start_time": "2022-04-08T22:16:54.191Z"
   },
   {
    "duration": 0,
    "start_time": "2022-04-08T22:16:54.192Z"
   },
   {
    "duration": 0,
    "start_time": "2022-04-08T22:16:54.193Z"
   },
   {
    "duration": 0,
    "start_time": "2022-04-08T22:16:54.194Z"
   },
   {
    "duration": 0,
    "start_time": "2022-04-08T22:16:54.195Z"
   },
   {
    "duration": 0,
    "start_time": "2022-04-08T22:16:54.196Z"
   },
   {
    "duration": 0,
    "start_time": "2022-04-08T22:16:54.197Z"
   },
   {
    "duration": 0,
    "start_time": "2022-04-08T22:16:54.198Z"
   },
   {
    "duration": 0,
    "start_time": "2022-04-08T22:16:54.199Z"
   },
   {
    "duration": 0,
    "start_time": "2022-04-08T22:16:54.200Z"
   },
   {
    "duration": 0,
    "start_time": "2022-04-08T22:16:54.200Z"
   },
   {
    "duration": 0,
    "start_time": "2022-04-08T22:16:54.201Z"
   },
   {
    "duration": 0,
    "start_time": "2022-04-08T22:16:54.202Z"
   },
   {
    "duration": 0,
    "start_time": "2022-04-08T22:16:54.203Z"
   },
   {
    "duration": 0,
    "start_time": "2022-04-08T22:16:54.204Z"
   },
   {
    "duration": 0,
    "start_time": "2022-04-08T22:16:54.205Z"
   },
   {
    "duration": 0,
    "start_time": "2022-04-08T22:16:54.206Z"
   },
   {
    "duration": 0,
    "start_time": "2022-04-08T22:16:54.206Z"
   },
   {
    "duration": 0,
    "start_time": "2022-04-08T22:16:54.207Z"
   },
   {
    "duration": 0,
    "start_time": "2022-04-08T22:16:54.208Z"
   },
   {
    "duration": 0,
    "start_time": "2022-04-08T22:16:54.210Z"
   },
   {
    "duration": 0,
    "start_time": "2022-04-08T22:16:54.210Z"
   },
   {
    "duration": 0,
    "start_time": "2022-04-08T22:16:54.211Z"
   },
   {
    "duration": 0,
    "start_time": "2022-04-08T22:16:54.212Z"
   },
   {
    "duration": 0,
    "start_time": "2022-04-08T22:16:54.213Z"
   },
   {
    "duration": 0,
    "start_time": "2022-04-08T22:16:54.214Z"
   },
   {
    "duration": 0,
    "start_time": "2022-04-08T22:16:54.215Z"
   },
   {
    "duration": 0,
    "start_time": "2022-04-08T22:16:54.216Z"
   },
   {
    "duration": 0,
    "start_time": "2022-04-08T22:16:54.217Z"
   },
   {
    "duration": 0,
    "start_time": "2022-04-08T22:16:54.281Z"
   },
   {
    "duration": 0,
    "start_time": "2022-04-08T22:16:54.282Z"
   },
   {
    "duration": 0,
    "start_time": "2022-04-08T22:16:54.284Z"
   },
   {
    "duration": 0,
    "start_time": "2022-04-08T22:16:54.285Z"
   },
   {
    "duration": 0,
    "start_time": "2022-04-08T22:16:54.286Z"
   },
   {
    "duration": 0,
    "start_time": "2022-04-08T22:16:54.287Z"
   },
   {
    "duration": 0,
    "start_time": "2022-04-08T22:16:54.288Z"
   },
   {
    "duration": 0,
    "start_time": "2022-04-08T22:16:54.289Z"
   },
   {
    "duration": 0,
    "start_time": "2022-04-08T22:16:54.290Z"
   },
   {
    "duration": 0,
    "start_time": "2022-04-08T22:16:54.291Z"
   },
   {
    "duration": 0,
    "start_time": "2022-04-08T22:16:54.292Z"
   },
   {
    "duration": 0,
    "start_time": "2022-04-08T22:16:54.293Z"
   },
   {
    "duration": 0,
    "start_time": "2022-04-08T22:16:54.293Z"
   },
   {
    "duration": 0,
    "start_time": "2022-04-08T22:16:54.294Z"
   },
   {
    "duration": 0,
    "start_time": "2022-04-08T22:16:54.295Z"
   },
   {
    "duration": 0,
    "start_time": "2022-04-08T22:16:54.297Z"
   },
   {
    "duration": 0,
    "start_time": "2022-04-08T22:16:54.298Z"
   },
   {
    "duration": 0,
    "start_time": "2022-04-08T22:16:54.298Z"
   },
   {
    "duration": 0,
    "start_time": "2022-04-08T22:16:54.299Z"
   },
   {
    "duration": 0,
    "start_time": "2022-04-08T22:16:54.300Z"
   },
   {
    "duration": 1,
    "start_time": "2022-04-08T22:16:54.301Z"
   },
   {
    "duration": 0,
    "start_time": "2022-04-08T22:16:54.303Z"
   },
   {
    "duration": 0,
    "start_time": "2022-04-08T22:16:54.304Z"
   },
   {
    "duration": 0,
    "start_time": "2022-04-08T22:16:54.305Z"
   },
   {
    "duration": 409,
    "start_time": "2022-04-08T22:17:06.851Z"
   },
   {
    "duration": 29,
    "start_time": "2022-04-08T22:17:07.262Z"
   },
   {
    "duration": 94,
    "start_time": "2022-04-08T22:17:07.293Z"
   },
   {
    "duration": 3,
    "start_time": "2022-04-08T22:17:07.389Z"
   },
   {
    "duration": 231,
    "start_time": "2022-04-08T22:17:07.394Z"
   },
   {
    "duration": 128,
    "start_time": "2022-04-08T22:17:07.627Z"
   },
   {
    "duration": 127,
    "start_time": "2022-04-08T22:17:07.756Z"
   },
   {
    "duration": 46,
    "start_time": "2022-04-08T22:17:07.884Z"
   },
   {
    "duration": 100,
    "start_time": "2022-04-08T22:17:07.932Z"
   },
   {
    "duration": 10,
    "start_time": "2022-04-08T22:17:08.034Z"
   },
   {
    "duration": 5,
    "start_time": "2022-04-08T22:17:08.045Z"
   },
   {
    "duration": 31,
    "start_time": "2022-04-08T22:17:08.051Z"
   },
   {
    "duration": 11,
    "start_time": "2022-04-08T22:17:08.084Z"
   },
   {
    "duration": 132,
    "start_time": "2022-04-08T22:17:08.097Z"
   },
   {
    "duration": 117,
    "start_time": "2022-04-08T22:17:08.231Z"
   },
   {
    "duration": 108,
    "start_time": "2022-04-08T22:17:08.350Z"
   },
   {
    "duration": 105,
    "start_time": "2022-04-08T22:17:08.460Z"
   },
   {
    "duration": 15,
    "start_time": "2022-04-08T22:17:08.567Z"
   },
   {
    "duration": 8,
    "start_time": "2022-04-08T22:17:08.584Z"
   },
   {
    "duration": 18,
    "start_time": "2022-04-08T22:17:08.593Z"
   },
   {
    "duration": 13,
    "start_time": "2022-04-08T22:17:08.612Z"
   },
   {
    "duration": 24,
    "start_time": "2022-04-08T22:17:08.627Z"
   },
   {
    "duration": 29,
    "start_time": "2022-04-08T22:17:08.652Z"
   },
   {
    "duration": 18,
    "start_time": "2022-04-08T22:17:08.683Z"
   },
   {
    "duration": 12,
    "start_time": "2022-04-08T22:17:08.702Z"
   },
   {
    "duration": 14,
    "start_time": "2022-04-08T22:17:08.715Z"
   },
   {
    "duration": 7,
    "start_time": "2022-04-08T22:17:08.731Z"
   },
   {
    "duration": 12,
    "start_time": "2022-04-08T22:17:08.742Z"
   },
   {
    "duration": 65,
    "start_time": "2022-04-08T22:17:08.755Z"
   },
   {
    "duration": 59,
    "start_time": "2022-04-08T22:17:08.822Z"
   },
   {
    "duration": 4,
    "start_time": "2022-04-08T22:17:08.883Z"
   },
   {
    "duration": 6,
    "start_time": "2022-04-08T22:17:08.889Z"
   },
   {
    "duration": 6,
    "start_time": "2022-04-08T22:17:08.896Z"
   },
   {
    "duration": 6,
    "start_time": "2022-04-08T22:17:08.903Z"
   },
   {
    "duration": 173,
    "start_time": "2022-04-08T22:17:08.911Z"
   },
   {
    "duration": 6,
    "start_time": "2022-04-08T22:17:09.086Z"
   },
   {
    "duration": 7,
    "start_time": "2022-04-08T22:17:09.094Z"
   },
   {
    "duration": 4,
    "start_time": "2022-04-08T22:17:09.103Z"
   },
   {
    "duration": 149,
    "start_time": "2022-04-08T22:17:09.109Z"
   },
   {
    "duration": 6,
    "start_time": "2022-04-08T22:17:09.260Z"
   },
   {
    "duration": 15,
    "start_time": "2022-04-08T22:17:09.268Z"
   },
   {
    "duration": 8,
    "start_time": "2022-04-08T22:17:09.284Z"
   },
   {
    "duration": 155,
    "start_time": "2022-04-08T22:17:09.293Z"
   },
   {
    "duration": 741,
    "start_time": "2022-04-08T22:17:09.450Z"
   },
   {
    "duration": 849,
    "start_time": "2022-04-08T22:17:10.193Z"
   },
   {
    "duration": 7,
    "start_time": "2022-04-08T22:17:11.043Z"
   },
   {
    "duration": 9,
    "start_time": "2022-04-08T22:17:11.052Z"
   },
   {
    "duration": 18,
    "start_time": "2022-04-08T22:17:11.063Z"
   },
   {
    "duration": 151,
    "start_time": "2022-04-08T22:17:11.083Z"
   },
   {
    "duration": 13,
    "start_time": "2022-04-08T22:17:11.236Z"
   },
   {
    "duration": 31,
    "start_time": "2022-04-08T22:17:11.251Z"
   },
   {
    "duration": 755,
    "start_time": "2022-04-08T22:17:11.284Z"
   },
   {
    "duration": 12,
    "start_time": "2022-04-08T22:17:12.041Z"
   },
   {
    "duration": 4,
    "start_time": "2022-04-08T22:17:12.055Z"
   },
   {
    "duration": 23,
    "start_time": "2022-04-08T22:17:12.061Z"
   },
   {
    "duration": 14,
    "start_time": "2022-04-08T22:17:12.086Z"
   },
   {
    "duration": 12,
    "start_time": "2022-04-08T22:17:12.101Z"
   },
   {
    "duration": 5,
    "start_time": "2022-04-08T22:17:12.115Z"
   },
   {
    "duration": 27,
    "start_time": "2022-04-08T22:17:12.122Z"
   },
   {
    "duration": 5,
    "start_time": "2022-04-08T22:17:12.150Z"
   },
   {
    "duration": 27,
    "start_time": "2022-04-08T22:17:12.181Z"
   },
   {
    "duration": 4,
    "start_time": "2022-04-08T22:17:12.210Z"
   },
   {
    "duration": 5,
    "start_time": "2022-04-08T22:17:12.216Z"
   },
   {
    "duration": 1286,
    "start_time": "2022-04-08T22:23:50.718Z"
   },
   {
    "duration": 371,
    "start_time": "2022-04-08T22:23:53.393Z"
   },
   {
    "duration": 396,
    "start_time": "2022-04-08T22:30:13.151Z"
   },
   {
    "duration": 34,
    "start_time": "2022-04-08T22:30:16.574Z"
   },
   {
    "duration": 83,
    "start_time": "2022-04-08T22:30:19.232Z"
   },
   {
    "duration": 2,
    "start_time": "2022-04-08T22:32:12.858Z"
   },
   {
    "duration": 91,
    "start_time": "2022-04-08T22:32:53.426Z"
   },
   {
    "duration": 9,
    "start_time": "2022-04-08T22:33:03.871Z"
   },
   {
    "duration": 3,
    "start_time": "2022-04-08T22:33:22.869Z"
   },
   {
    "duration": 28,
    "start_time": "2022-04-08T22:33:25.380Z"
   },
   {
    "duration": 76,
    "start_time": "2022-04-08T22:33:47.592Z"
   },
   {
    "duration": 21267,
    "start_time": "2022-04-08T22:34:00.667Z"
   },
   {
    "duration": 195,
    "start_time": "2022-04-08T22:34:33.491Z"
   },
   {
    "duration": 120,
    "start_time": "2022-04-08T22:38:12.423Z"
   },
   {
    "duration": 124,
    "start_time": "2022-04-08T22:42:58.707Z"
   },
   {
    "duration": 126,
    "start_time": "2022-04-08T22:43:11.261Z"
   },
   {
    "duration": 69,
    "start_time": "2022-04-08T22:50:28.820Z"
   },
   {
    "duration": 59,
    "start_time": "2022-04-08T22:50:38.491Z"
   },
   {
    "duration": 3,
    "start_time": "2022-04-08T22:50:49.039Z"
   },
   {
    "duration": 361,
    "start_time": "2022-04-08T22:50:49.043Z"
   },
   {
    "duration": 5,
    "start_time": "2022-04-08T22:50:49.406Z"
   },
   {
    "duration": 29,
    "start_time": "2022-04-08T22:50:49.412Z"
   },
   {
    "duration": 90,
    "start_time": "2022-04-08T22:50:49.443Z"
   },
   {
    "duration": 229,
    "start_time": "2022-04-08T22:50:49.534Z"
   },
   {
    "duration": 146,
    "start_time": "2022-04-08T22:50:49.765Z"
   },
   {
    "duration": 106,
    "start_time": "2022-04-08T22:50:55.203Z"
   },
   {
    "duration": 13,
    "start_time": "2022-04-08T22:51:03.494Z"
   },
   {
    "duration": 3,
    "start_time": "2022-04-08T22:51:08.563Z"
   },
   {
    "duration": 369,
    "start_time": "2022-04-08T22:51:08.567Z"
   },
   {
    "duration": 10,
    "start_time": "2022-04-08T22:51:08.937Z"
   },
   {
    "duration": 30,
    "start_time": "2022-04-08T22:51:08.949Z"
   },
   {
    "duration": 79,
    "start_time": "2022-04-08T22:51:08.981Z"
   },
   {
    "duration": 221,
    "start_time": "2022-04-08T22:51:09.061Z"
   },
   {
    "duration": 137,
    "start_time": "2022-04-08T22:51:09.283Z"
   },
   {
    "duration": 59,
    "start_time": "2022-04-08T22:51:13.443Z"
   },
   {
    "duration": 14,
    "start_time": "2022-04-08T22:52:35.717Z"
   },
   {
    "duration": 4,
    "start_time": "2022-04-08T22:52:39.892Z"
   },
   {
    "duration": 353,
    "start_time": "2022-04-08T22:52:39.898Z"
   },
   {
    "duration": 10,
    "start_time": "2022-04-08T22:52:40.253Z"
   },
   {
    "duration": 33,
    "start_time": "2022-04-08T22:52:40.265Z"
   },
   {
    "duration": 81,
    "start_time": "2022-04-08T22:52:40.300Z"
   },
   {
    "duration": 210,
    "start_time": "2022-04-08T22:52:40.383Z"
   },
   {
    "duration": 129,
    "start_time": "2022-04-08T22:52:40.595Z"
   },
   {
    "duration": 25,
    "start_time": "2022-04-08T22:52:42.483Z"
   },
   {
    "duration": 3,
    "start_time": "2022-04-08T22:54:23.781Z"
   },
   {
    "duration": 337,
    "start_time": "2022-04-08T22:54:23.786Z"
   },
   {
    "duration": 13,
    "start_time": "2022-04-08T22:54:24.124Z"
   },
   {
    "duration": 32,
    "start_time": "2022-04-08T22:54:24.139Z"
   },
   {
    "duration": 88,
    "start_time": "2022-04-08T22:54:24.173Z"
   },
   {
    "duration": 205,
    "start_time": "2022-04-08T22:54:24.263Z"
   },
   {
    "duration": 151,
    "start_time": "2022-04-08T22:54:24.469Z"
   },
   {
    "duration": 22,
    "start_time": "2022-04-08T22:54:26.864Z"
   },
   {
    "duration": 26,
    "start_time": "2022-04-08T22:55:50.162Z"
   },
   {
    "duration": 48,
    "start_time": "2022-04-08T22:57:03.283Z"
   },
   {
    "duration": 93,
    "start_time": "2022-04-08T22:57:14.890Z"
   },
   {
    "duration": 55,
    "start_time": "2022-04-08T23:04:51.529Z"
   },
   {
    "duration": 52,
    "start_time": "2022-04-08T23:05:53.310Z"
   },
   {
    "duration": 47,
    "start_time": "2022-04-08T23:06:07.689Z"
   },
   {
    "duration": 89,
    "start_time": "2022-04-08T23:07:34.566Z"
   },
   {
    "duration": 12,
    "start_time": "2022-04-08T23:08:47.780Z"
   },
   {
    "duration": 7,
    "start_time": "2022-04-08T23:12:18.152Z"
   },
   {
    "duration": 13,
    "start_time": "2022-04-08T23:12:19.768Z"
   },
   {
    "duration": 2219,
    "start_time": "2022-04-08T23:12:21.300Z"
   },
   {
    "duration": 8,
    "start_time": "2022-04-08T23:13:19.913Z"
   },
   {
    "duration": 8,
    "start_time": "2022-04-08T23:13:27.339Z"
   },
   {
    "duration": 4,
    "start_time": "2022-04-08T23:13:33.800Z"
   },
   {
    "duration": 384,
    "start_time": "2022-04-08T23:13:33.806Z"
   },
   {
    "duration": 3,
    "start_time": "2022-04-08T23:13:34.192Z"
   },
   {
    "duration": 32,
    "start_time": "2022-04-08T23:13:34.197Z"
   },
   {
    "duration": 94,
    "start_time": "2022-04-08T23:13:34.231Z"
   },
   {
    "duration": 202,
    "start_time": "2022-04-08T23:13:34.326Z"
   },
   {
    "duration": 129,
    "start_time": "2022-04-08T23:13:34.529Z"
   },
   {
    "duration": 20,
    "start_time": "2022-04-08T23:13:34.660Z"
   },
   {
    "duration": 71,
    "start_time": "2022-04-08T23:13:34.681Z"
   },
   {
    "duration": 94,
    "start_time": "2022-04-08T23:13:34.753Z"
   },
   {
    "duration": 12,
    "start_time": "2022-04-08T23:13:34.849Z"
   },
   {
    "duration": 6,
    "start_time": "2022-04-08T23:13:34.862Z"
   },
   {
    "duration": 11,
    "start_time": "2022-04-08T23:13:37.621Z"
   },
   {
    "duration": 42,
    "start_time": "2022-04-08T23:14:04.086Z"
   },
   {
    "duration": 11,
    "start_time": "2022-04-08T23:14:24.530Z"
   },
   {
    "duration": 40,
    "start_time": "2022-04-08T23:14:43.871Z"
   },
   {
    "duration": 476,
    "start_time": "2022-04-08T23:14:55.753Z"
   },
   {
    "duration": 14,
    "start_time": "2022-04-08T23:15:44.264Z"
   },
   {
    "duration": 122,
    "start_time": "2022-04-08T23:16:28.473Z"
   },
   {
    "duration": 121,
    "start_time": "2022-04-08T23:16:32.598Z"
   },
   {
    "duration": 111,
    "start_time": "2022-04-08T23:16:34.481Z"
   },
   {
    "duration": 107,
    "start_time": "2022-04-08T23:16:36.986Z"
   },
   {
    "duration": 4,
    "start_time": "2022-04-08T23:16:38.928Z"
   },
   {
    "duration": 23,
    "start_time": "2022-04-08T23:17:54.322Z"
   },
   {
    "duration": 104,
    "start_time": "2022-04-08T23:19:09.385Z"
   },
   {
    "duration": 13,
    "start_time": "2022-04-08T23:19:14.860Z"
   },
   {
    "duration": 15,
    "start_time": "2022-04-08T23:19:20.467Z"
   },
   {
    "duration": 10,
    "start_time": "2022-04-08T23:19:51.899Z"
   },
   {
    "duration": 31,
    "start_time": "2022-04-08T23:19:59.953Z"
   },
   {
    "duration": 14,
    "start_time": "2022-04-08T23:20:08.193Z"
   },
   {
    "duration": 3,
    "start_time": "2022-04-08T23:20:32.469Z"
   },
   {
    "duration": 366,
    "start_time": "2022-04-08T23:20:32.474Z"
   },
   {
    "duration": 3,
    "start_time": "2022-04-08T23:20:32.842Z"
   },
   {
    "duration": 31,
    "start_time": "2022-04-08T23:20:32.846Z"
   },
   {
    "duration": 82,
    "start_time": "2022-04-08T23:20:32.879Z"
   },
   {
    "duration": 237,
    "start_time": "2022-04-08T23:20:32.963Z"
   },
   {
    "duration": 142,
    "start_time": "2022-04-08T23:20:33.201Z"
   },
   {
    "duration": 20,
    "start_time": "2022-04-08T23:20:33.345Z"
   },
   {
    "duration": 76,
    "start_time": "2022-04-08T23:20:33.367Z"
   },
   {
    "duration": 105,
    "start_time": "2022-04-08T23:20:33.445Z"
   },
   {
    "duration": 13,
    "start_time": "2022-04-08T23:20:33.551Z"
   },
   {
    "duration": 6,
    "start_time": "2022-04-08T23:20:33.566Z"
   },
   {
    "duration": 37,
    "start_time": "2022-04-08T23:20:33.573Z"
   },
   {
    "duration": 14,
    "start_time": "2022-04-08T23:20:33.612Z"
   },
   {
    "duration": 126,
    "start_time": "2022-04-08T23:20:33.628Z"
   },
   {
    "duration": 136,
    "start_time": "2022-04-08T23:20:33.756Z"
   },
   {
    "duration": 117,
    "start_time": "2022-04-08T23:20:33.894Z"
   },
   {
    "duration": 195,
    "start_time": "2022-04-08T23:20:34.013Z"
   },
   {
    "duration": 4,
    "start_time": "2022-04-08T23:20:34.210Z"
   },
   {
    "duration": 10,
    "start_time": "2022-04-08T23:20:34.215Z"
   },
   {
    "duration": 22,
    "start_time": "2022-04-08T23:20:36.352Z"
   },
   {
    "duration": 18,
    "start_time": "2022-04-08T23:20:41.264Z"
   },
   {
    "duration": 21,
    "start_time": "2022-04-08T23:20:44.667Z"
   },
   {
    "duration": 3,
    "start_time": "2022-04-08T23:20:49.685Z"
   },
   {
    "duration": 20,
    "start_time": "2022-04-08T23:20:51.622Z"
   },
   {
    "duration": 11,
    "start_time": "2022-04-08T23:20:54.216Z"
   },
   {
    "duration": 22,
    "start_time": "2022-04-08T23:21:04.361Z"
   },
   {
    "duration": 11,
    "start_time": "2022-04-08T23:21:52.350Z"
   },
   {
    "duration": 3,
    "start_time": "2022-04-08T23:21:55.362Z"
   },
   {
    "duration": 354,
    "start_time": "2022-04-08T23:21:55.367Z"
   },
   {
    "duration": 14,
    "start_time": "2022-04-08T23:21:55.723Z"
   },
   {
    "duration": 33,
    "start_time": "2022-04-08T23:21:55.738Z"
   },
   {
    "duration": 94,
    "start_time": "2022-04-08T23:21:55.773Z"
   },
   {
    "duration": 220,
    "start_time": "2022-04-08T23:21:55.869Z"
   },
   {
    "duration": 148,
    "start_time": "2022-04-08T23:21:56.091Z"
   },
   {
    "duration": 22,
    "start_time": "2022-04-08T23:21:56.241Z"
   },
   {
    "duration": 76,
    "start_time": "2022-04-08T23:21:56.265Z"
   },
   {
    "duration": 91,
    "start_time": "2022-04-08T23:21:56.343Z"
   },
   {
    "duration": 11,
    "start_time": "2022-04-08T23:21:56.436Z"
   },
   {
    "duration": 6,
    "start_time": "2022-04-08T23:21:56.449Z"
   },
   {
    "duration": 11,
    "start_time": "2022-04-08T23:21:56.456Z"
   },
   {
    "duration": 42,
    "start_time": "2022-04-08T23:21:56.468Z"
   },
   {
    "duration": 120,
    "start_time": "2022-04-08T23:21:56.511Z"
   },
   {
    "duration": 128,
    "start_time": "2022-04-08T23:21:56.633Z"
   },
   {
    "duration": 114,
    "start_time": "2022-04-08T23:21:56.763Z"
   },
   {
    "duration": 117,
    "start_time": "2022-04-08T23:21:56.879Z"
   },
   {
    "duration": 13,
    "start_time": "2022-04-08T23:21:56.998Z"
   },
   {
    "duration": 11,
    "start_time": "2022-04-08T23:21:57.013Z"
   },
   {
    "duration": 19,
    "start_time": "2022-04-08T23:21:57.026Z"
   },
   {
    "duration": 16,
    "start_time": "2022-04-08T23:21:57.047Z"
   },
   {
    "duration": 45,
    "start_time": "2022-04-08T23:21:57.065Z"
   },
   {
    "duration": 3,
    "start_time": "2022-04-08T23:21:57.112Z"
   },
   {
    "duration": 18,
    "start_time": "2022-04-08T23:22:03.082Z"
   },
   {
    "duration": 11,
    "start_time": "2022-04-08T23:22:25.671Z"
   },
   {
    "duration": 23,
    "start_time": "2022-04-08T23:22:31.901Z"
   },
   {
    "duration": 6,
    "start_time": "2022-04-08T23:22:36.542Z"
   },
   {
    "duration": 18,
    "start_time": "2022-04-08T23:22:39.537Z"
   },
   {
    "duration": 52,
    "start_time": "2022-04-08T23:22:47.440Z"
   },
   {
    "duration": 51,
    "start_time": "2022-04-08T23:22:49.425Z"
   },
   {
    "duration": 4,
    "start_time": "2022-04-08T23:22:51.304Z"
   },
   {
    "duration": 6,
    "start_time": "2022-04-08T23:22:53.824Z"
   },
   {
    "duration": 4,
    "start_time": "2022-04-08T23:22:54.690Z"
   },
   {
    "duration": 4,
    "start_time": "2022-04-08T23:22:55.613Z"
   },
   {
    "duration": 17,
    "start_time": "2022-04-08T23:24:27.298Z"
   },
   {
    "duration": 17,
    "start_time": "2022-04-08T23:25:12.599Z"
   },
   {
    "duration": 39,
    "start_time": "2022-04-08T23:25:27.404Z"
   },
   {
    "duration": 173,
    "start_time": "2022-04-08T23:26:04.113Z"
   },
   {
    "duration": 179,
    "start_time": "2022-04-08T23:27:33.692Z"
   },
   {
    "duration": 6,
    "start_time": "2022-04-08T23:27:59.576Z"
   },
   {
    "duration": 6,
    "start_time": "2022-04-08T23:28:17.873Z"
   },
   {
    "duration": 4,
    "start_time": "2022-04-08T23:28:20.341Z"
   },
   {
    "duration": 5,
    "start_time": "2022-04-08T23:28:21.485Z"
   },
   {
    "duration": 6,
    "start_time": "2022-04-08T23:28:40.323Z"
   },
   {
    "duration": 4,
    "start_time": "2022-04-08T23:28:41.231Z"
   },
   {
    "duration": 4,
    "start_time": "2022-04-08T23:28:42.729Z"
   },
   {
    "duration": 150,
    "start_time": "2022-04-08T23:28:44.598Z"
   },
   {
    "duration": 178,
    "start_time": "2022-04-08T23:31:23.047Z"
   },
   {
    "duration": 159,
    "start_time": "2022-04-08T23:31:30.476Z"
   },
   {
    "duration": 7,
    "start_time": "2022-04-08T23:31:34.264Z"
   },
   {
    "duration": 6,
    "start_time": "2022-04-08T23:31:47.797Z"
   },
   {
    "duration": 4,
    "start_time": "2022-04-08T23:31:49.044Z"
   },
   {
    "duration": 4,
    "start_time": "2022-04-08T23:31:50.895Z"
   },
   {
    "duration": 4,
    "start_time": "2022-04-08T23:32:06.653Z"
   },
   {
    "duration": 177,
    "start_time": "2022-04-08T23:32:08.339Z"
   },
   {
    "duration": 876,
    "start_time": "2022-04-08T23:32:11.055Z"
   },
   {
    "duration": 890,
    "start_time": "2022-04-08T23:32:33.118Z"
   },
   {
    "duration": 743,
    "start_time": "2022-04-08T23:33:29.248Z"
   },
   {
    "duration": 863,
    "start_time": "2022-04-08T23:34:16.472Z"
   },
   {
    "duration": 882,
    "start_time": "2022-04-08T23:34:37.054Z"
   },
   {
    "duration": 6,
    "start_time": "2022-04-08T23:35:29.235Z"
   },
   {
    "duration": 4,
    "start_time": "2022-04-08T23:35:30.469Z"
   },
   {
    "duration": 4,
    "start_time": "2022-04-08T23:35:34.013Z"
   },
   {
    "duration": 145,
    "start_time": "2022-04-08T23:35:40.616Z"
   },
   {
    "duration": 179,
    "start_time": "2022-04-08T23:36:08.998Z"
   },
   {
    "duration": 184,
    "start_time": "2022-04-08T23:36:11.929Z"
   },
   {
    "duration": 156,
    "start_time": "2022-04-08T23:36:26.860Z"
   },
   {
    "duration": 182,
    "start_time": "2022-04-08T23:36:38.674Z"
   },
   {
    "duration": 144,
    "start_time": "2022-04-08T23:37:01.266Z"
   },
   {
    "duration": 14,
    "start_time": "2022-04-08T23:37:08.411Z"
   },
   {
    "duration": 17,
    "start_time": "2022-04-08T23:37:11.618Z"
   },
   {
    "duration": 9,
    "start_time": "2022-04-08T23:37:46.269Z"
   },
   {
    "duration": 15,
    "start_time": "2022-04-08T23:37:53.238Z"
   },
   {
    "duration": 20,
    "start_time": "2022-04-08T23:38:11.884Z"
   },
   {
    "duration": 941,
    "start_time": "2022-04-08T23:38:37.619Z"
   },
   {
    "duration": 17,
    "start_time": "2022-04-08T23:38:56.466Z"
   },
   {
    "duration": 3,
    "start_time": "2022-04-08T23:40:14.701Z"
   },
   {
    "duration": 18,
    "start_time": "2022-04-08T23:40:41.890Z"
   },
   {
    "duration": 6,
    "start_time": "2022-04-08T23:40:43.771Z"
   },
   {
    "duration": 6,
    "start_time": "2022-04-08T23:40:44.972Z"
   },
   {
    "duration": 4,
    "start_time": "2022-04-08T23:40:59.794Z"
   },
   {
    "duration": 5,
    "start_time": "2022-04-08T23:41:01.670Z"
   },
   {
    "duration": 31,
    "start_time": "2022-04-08T23:41:04.857Z"
   },
   {
    "duration": 5,
    "start_time": "2022-04-08T23:41:07.751Z"
   },
   {
    "duration": 36,
    "start_time": "2022-04-08T23:41:13.347Z"
   },
   {
    "duration": 5,
    "start_time": "2022-04-08T23:41:15.568Z"
   },
   {
    "duration": 5,
    "start_time": "2022-04-08T23:41:17.585Z"
   },
   {
    "duration": 4,
    "start_time": "2022-04-08T23:48:11.502Z"
   },
   {
    "duration": 10,
    "start_time": "2022-04-08T23:48:16.072Z"
   },
   {
    "duration": 4,
    "start_time": "2022-04-08T23:49:49.206Z"
   },
   {
    "duration": 384,
    "start_time": "2022-04-08T23:49:49.211Z"
   },
   {
    "duration": 12,
    "start_time": "2022-04-08T23:49:49.597Z"
   },
   {
    "duration": 32,
    "start_time": "2022-04-08T23:49:49.611Z"
   },
   {
    "duration": 92,
    "start_time": "2022-04-08T23:49:49.645Z"
   },
   {
    "duration": 205,
    "start_time": "2022-04-08T23:49:49.738Z"
   },
   {
    "duration": 131,
    "start_time": "2022-04-08T23:49:49.944Z"
   },
   {
    "duration": 33,
    "start_time": "2022-04-08T23:49:50.077Z"
   },
   {
    "duration": 50,
    "start_time": "2022-04-08T23:49:50.112Z"
   },
   {
    "duration": 111,
    "start_time": "2022-04-08T23:49:50.164Z"
   },
   {
    "duration": 13,
    "start_time": "2022-04-08T23:49:50.277Z"
   },
   {
    "duration": 20,
    "start_time": "2022-04-08T23:49:50.291Z"
   },
   {
    "duration": 12,
    "start_time": "2022-04-08T23:49:50.313Z"
   },
   {
    "duration": 14,
    "start_time": "2022-04-08T23:49:50.326Z"
   },
   {
    "duration": 133,
    "start_time": "2022-04-08T23:49:50.341Z"
   },
   {
    "duration": 122,
    "start_time": "2022-04-08T23:49:50.476Z"
   },
   {
    "duration": 104,
    "start_time": "2022-04-08T23:49:50.608Z"
   },
   {
    "duration": 115,
    "start_time": "2022-04-08T23:49:50.714Z"
   },
   {
    "duration": 3,
    "start_time": "2022-04-08T23:49:50.830Z"
   },
   {
    "duration": 22,
    "start_time": "2022-04-08T23:49:50.835Z"
   },
   {
    "duration": 13,
    "start_time": "2022-04-08T23:49:50.859Z"
   },
   {
    "duration": 36,
    "start_time": "2022-04-08T23:49:50.873Z"
   },
   {
    "duration": 2,
    "start_time": "2022-04-08T23:49:50.911Z"
   },
   {
    "duration": 23,
    "start_time": "2022-04-08T23:49:50.914Z"
   },
   {
    "duration": 10,
    "start_time": "2022-04-08T23:49:50.939Z"
   },
   {
    "duration": 21,
    "start_time": "2022-04-08T23:49:50.950Z"
   },
   {
    "duration": 5,
    "start_time": "2022-04-08T23:49:50.973Z"
   },
   {
    "duration": 44,
    "start_time": "2022-04-08T23:49:50.980Z"
   },
   {
    "duration": 48,
    "start_time": "2022-04-08T23:49:51.028Z"
   },
   {
    "duration": 64,
    "start_time": "2022-04-08T23:49:51.077Z"
   },
   {
    "duration": 4,
    "start_time": "2022-04-08T23:49:51.143Z"
   },
   {
    "duration": 6,
    "start_time": "2022-04-08T23:49:51.149Z"
   },
   {
    "duration": 7,
    "start_time": "2022-04-08T23:49:51.157Z"
   },
   {
    "duration": 5,
    "start_time": "2022-04-08T23:49:51.165Z"
   },
   {
    "duration": 39,
    "start_time": "2022-04-08T23:49:51.172Z"
   },
   {
    "duration": 38,
    "start_time": "2022-04-08T23:49:51.213Z"
   },
   {
    "duration": 173,
    "start_time": "2022-04-08T23:49:51.252Z"
   },
   {
    "duration": 6,
    "start_time": "2022-04-08T23:49:51.427Z"
   },
   {
    "duration": 8,
    "start_time": "2022-04-08T23:49:51.434Z"
   },
   {
    "duration": 4,
    "start_time": "2022-04-08T23:49:51.444Z"
   },
   {
    "duration": 190,
    "start_time": "2022-04-08T23:49:51.450Z"
   },
   {
    "duration": 6,
    "start_time": "2022-04-08T23:49:51.642Z"
   },
   {
    "duration": 13,
    "start_time": "2022-04-08T23:49:51.650Z"
   },
   {
    "duration": 7,
    "start_time": "2022-04-08T23:49:51.665Z"
   },
   {
    "duration": 150,
    "start_time": "2022-04-08T23:49:51.673Z"
   },
   {
    "duration": 856,
    "start_time": "2022-04-08T23:49:51.824Z"
   },
   {
    "duration": 852,
    "start_time": "2022-04-08T23:49:52.682Z"
   },
   {
    "duration": 6,
    "start_time": "2022-04-08T23:49:53.536Z"
   },
   {
    "duration": 6,
    "start_time": "2022-04-08T23:49:53.543Z"
   },
   {
    "duration": 5,
    "start_time": "2022-04-08T23:49:53.550Z"
   },
   {
    "duration": 164,
    "start_time": "2022-04-08T23:49:53.556Z"
   },
   {
    "duration": 13,
    "start_time": "2022-04-08T23:49:53.722Z"
   },
   {
    "duration": 17,
    "start_time": "2022-04-08T23:49:53.737Z"
   },
   {
    "duration": 20,
    "start_time": "2022-04-08T23:49:53.756Z"
   },
   {
    "duration": 889,
    "start_time": "2022-04-08T23:49:53.777Z"
   },
   {
    "duration": 18,
    "start_time": "2022-04-08T23:49:54.668Z"
   },
   {
    "duration": 22,
    "start_time": "2022-04-08T23:49:54.687Z"
   },
   {
    "duration": 8,
    "start_time": "2022-04-08T23:49:54.710Z"
   },
   {
    "duration": 3,
    "start_time": "2022-04-08T23:49:58.910Z"
   },
   {
    "duration": 9,
    "start_time": "2022-04-08T23:50:02.474Z"
   },
   {
    "duration": 2,
    "start_time": "2022-04-08T23:51:05.900Z"
   },
   {
    "duration": 4,
    "start_time": "2022-04-08T23:51:11.237Z"
   },
   {
    "duration": 70,
    "start_time": "2022-04-08T23:51:38.403Z"
   },
   {
    "duration": 9,
    "start_time": "2022-04-08T23:51:54.040Z"
   },
   {
    "duration": 3,
    "start_time": "2022-04-08T23:55:37.398Z"
   },
   {
    "duration": 3,
    "start_time": "2022-04-08T23:55:44.949Z"
   },
   {
    "duration": 3,
    "start_time": "2022-04-08T23:55:49.697Z"
   },
   {
    "duration": 3,
    "start_time": "2022-04-08T23:56:02.080Z"
   },
   {
    "duration": 1809,
    "start_time": "2022-04-09T07:44:29.761Z"
   },
   {
    "duration": 473,
    "start_time": "2022-04-09T07:44:31.573Z"
   },
   {
    "duration": 4,
    "start_time": "2022-04-09T07:44:32.048Z"
   },
   {
    "duration": 60,
    "start_time": "2022-04-09T07:44:32.055Z"
   },
   {
    "duration": 167,
    "start_time": "2022-04-09T07:44:32.117Z"
   },
   {
    "duration": 392,
    "start_time": "2022-04-09T07:44:32.287Z"
   },
   {
    "duration": 240,
    "start_time": "2022-04-09T07:44:32.682Z"
   },
   {
    "duration": 49,
    "start_time": "2022-04-09T07:44:32.924Z"
   },
   {
    "duration": 124,
    "start_time": "2022-04-09T07:44:32.976Z"
   },
   {
    "duration": 182,
    "start_time": "2022-04-09T07:44:33.105Z"
   },
   {
    "duration": 23,
    "start_time": "2022-04-09T07:44:33.290Z"
   },
   {
    "duration": 10,
    "start_time": "2022-04-09T07:44:33.316Z"
   },
   {
    "duration": 49,
    "start_time": "2022-04-09T07:44:33.328Z"
   },
   {
    "duration": 27,
    "start_time": "2022-04-09T07:44:33.380Z"
   },
   {
    "duration": 233,
    "start_time": "2022-04-09T07:44:33.409Z"
   },
   {
    "duration": 207,
    "start_time": "2022-04-09T07:44:33.644Z"
   },
   {
    "duration": 203,
    "start_time": "2022-04-09T07:44:33.853Z"
   },
   {
    "duration": 195,
    "start_time": "2022-04-09T07:44:34.059Z"
   },
   {
    "duration": 12,
    "start_time": "2022-04-09T07:44:34.257Z"
   },
   {
    "duration": 39,
    "start_time": "2022-04-09T07:44:34.271Z"
   },
   {
    "duration": 23,
    "start_time": "2022-04-09T07:44:34.312Z"
   },
   {
    "duration": 56,
    "start_time": "2022-04-09T07:44:34.338Z"
   },
   {
    "duration": 4,
    "start_time": "2022-04-09T07:44:34.397Z"
   },
   {
    "duration": 34,
    "start_time": "2022-04-09T07:44:34.404Z"
   },
   {
    "duration": 40,
    "start_time": "2022-04-09T07:44:34.440Z"
   },
   {
    "duration": 51,
    "start_time": "2022-04-09T07:44:34.482Z"
   },
   {
    "duration": 35,
    "start_time": "2022-04-09T07:44:34.535Z"
   },
   {
    "duration": 44,
    "start_time": "2022-04-09T07:44:34.581Z"
   },
   {
    "duration": 141,
    "start_time": "2022-04-09T07:44:34.628Z"
   },
   {
    "duration": 126,
    "start_time": "2022-04-09T07:44:34.772Z"
   },
   {
    "duration": 9,
    "start_time": "2022-04-09T07:44:34.901Z"
   },
   {
    "duration": 12,
    "start_time": "2022-04-09T07:44:34.913Z"
   },
   {
    "duration": 9,
    "start_time": "2022-04-09T07:44:34.927Z"
   },
   {
    "duration": 7,
    "start_time": "2022-04-09T07:44:34.967Z"
   },
   {
    "duration": 28,
    "start_time": "2022-04-09T07:44:34.976Z"
   },
   {
    "duration": 89,
    "start_time": "2022-04-09T07:44:35.007Z"
   },
   {
    "duration": 273,
    "start_time": "2022-04-09T07:44:35.099Z"
   },
   {
    "duration": 10,
    "start_time": "2022-04-09T07:44:35.375Z"
   },
   {
    "duration": 12,
    "start_time": "2022-04-09T07:44:35.388Z"
   },
   {
    "duration": 9,
    "start_time": "2022-04-09T07:44:35.403Z"
   },
   {
    "duration": 304,
    "start_time": "2022-04-09T07:44:35.415Z"
   },
   {
    "duration": 10,
    "start_time": "2022-04-09T07:44:35.722Z"
   },
   {
    "duration": 9,
    "start_time": "2022-04-09T07:44:35.734Z"
   },
   {
    "duration": 6,
    "start_time": "2022-04-09T07:44:35.768Z"
   },
   {
    "duration": 249,
    "start_time": "2022-04-09T07:44:35.776Z"
   },
   {
    "duration": 1281,
    "start_time": "2022-04-09T07:44:36.027Z"
   },
   {
    "duration": 1303,
    "start_time": "2022-04-09T07:44:37.311Z"
   },
   {
    "duration": 11,
    "start_time": "2022-04-09T07:44:38.616Z"
   },
   {
    "duration": 9,
    "start_time": "2022-04-09T07:44:38.629Z"
   },
   {
    "duration": 31,
    "start_time": "2022-04-09T07:44:38.641Z"
   },
   {
    "duration": 247,
    "start_time": "2022-04-09T07:44:38.675Z"
   },
   {
    "duration": 20,
    "start_time": "2022-04-09T07:44:38.924Z"
   },
   {
    "duration": 35,
    "start_time": "2022-04-09T07:44:38.946Z"
   },
   {
    "duration": 26,
    "start_time": "2022-04-09T07:44:38.983Z"
   },
   {
    "duration": 1311,
    "start_time": "2022-04-09T07:44:39.011Z"
   },
   {
    "duration": 28,
    "start_time": "2022-04-09T07:44:40.324Z"
   },
   {
    "duration": 10,
    "start_time": "2022-04-09T07:44:40.367Z"
   },
   {
    "duration": 9,
    "start_time": "2022-04-09T07:44:40.380Z"
   },
   {
    "duration": 7,
    "start_time": "2022-04-09T07:44:40.392Z"
   },
   {
    "duration": 14,
    "start_time": "2022-04-09T07:44:40.401Z"
   },
   {
    "duration": 4,
    "start_time": "2022-04-09T07:44:40.418Z"
   },
   {
    "duration": 9,
    "start_time": "2022-04-09T07:44:40.468Z"
   },
   {
    "duration": 8,
    "start_time": "2022-04-09T07:44:40.479Z"
   },
   {
    "duration": 85,
    "start_time": "2022-04-09T07:44:40.489Z"
   },
   {
    "duration": 7,
    "start_time": "2022-04-09T07:44:40.577Z"
   },
   {
    "duration": 91,
    "start_time": "2022-04-09T07:44:40.586Z"
   },
   {
    "duration": 8,
    "start_time": "2022-04-09T07:44:40.679Z"
   },
   {
    "duration": 8,
    "start_time": "2022-04-09T07:44:40.689Z"
   },
   {
    "duration": 110,
    "start_time": "2022-04-09T07:58:22.660Z"
   },
   {
    "duration": 100,
    "start_time": "2022-04-09T07:59:16.102Z"
   },
   {
    "duration": 92,
    "start_time": "2022-04-09T07:59:27.450Z"
   },
   {
    "duration": 12,
    "start_time": "2022-04-09T08:00:09.089Z"
   },
   {
    "duration": 1427,
    "start_time": "2022-04-09T08:00:28.217Z"
   },
   {
    "duration": 454,
    "start_time": "2022-04-09T08:00:29.647Z"
   },
   {
    "duration": 4,
    "start_time": "2022-04-09T08:00:30.103Z"
   },
   {
    "duration": 52,
    "start_time": "2022-04-09T08:00:30.110Z"
   },
   {
    "duration": 163,
    "start_time": "2022-04-09T08:00:30.163Z"
   },
   {
    "duration": 420,
    "start_time": "2022-04-09T08:00:30.328Z"
   },
   {
    "duration": 243,
    "start_time": "2022-04-09T08:00:30.750Z"
   },
   {
    "duration": 35,
    "start_time": "2022-04-09T08:00:30.996Z"
   },
   {
    "duration": 144,
    "start_time": "2022-04-09T08:00:31.033Z"
   },
   {
    "duration": 192,
    "start_time": "2022-04-09T08:00:31.182Z"
   },
   {
    "duration": 22,
    "start_time": "2022-04-09T08:00:31.377Z"
   },
   {
    "duration": 13,
    "start_time": "2022-04-09T08:00:31.402Z"
   },
   {
    "duration": 11,
    "start_time": "2022-04-09T08:00:31.417Z"
   },
   {
    "duration": 55,
    "start_time": "2022-04-09T08:00:31.431Z"
   },
   {
    "duration": 24,
    "start_time": "2022-04-09T08:00:31.489Z"
   },
   {
    "duration": 283,
    "start_time": "2022-04-09T08:00:31.516Z"
   },
   {
    "duration": 248,
    "start_time": "2022-04-09T08:00:31.802Z"
   },
   {
    "duration": 245,
    "start_time": "2022-04-09T08:00:32.053Z"
   },
   {
    "duration": 220,
    "start_time": "2022-04-09T08:00:32.301Z"
   },
   {
    "duration": 6,
    "start_time": "2022-04-09T08:00:32.523Z"
   },
   {
    "duration": 62,
    "start_time": "2022-04-09T08:00:32.531Z"
   },
   {
    "duration": 28,
    "start_time": "2022-04-09T08:00:32.596Z"
   },
   {
    "duration": 57,
    "start_time": "2022-04-09T08:00:32.627Z"
   },
   {
    "duration": 5,
    "start_time": "2022-04-09T08:00:32.687Z"
   },
   {
    "duration": 35,
    "start_time": "2022-04-09T08:00:32.694Z"
   },
   {
    "duration": 37,
    "start_time": "2022-04-09T08:00:32.732Z"
   },
   {
    "duration": 47,
    "start_time": "2022-04-09T08:00:32.772Z"
   },
   {
    "duration": 8,
    "start_time": "2022-04-09T08:00:32.826Z"
   },
   {
    "duration": 62,
    "start_time": "2022-04-09T08:00:32.836Z"
   },
   {
    "duration": 92,
    "start_time": "2022-04-09T08:00:32.901Z"
   },
   {
    "duration": 105,
    "start_time": "2022-04-09T08:00:32.996Z"
   },
   {
    "duration": 9,
    "start_time": "2022-04-09T08:00:33.104Z"
   },
   {
    "duration": 15,
    "start_time": "2022-04-09T08:00:33.116Z"
   },
   {
    "duration": 7,
    "start_time": "2022-04-09T08:00:33.133Z"
   },
   {
    "duration": 8,
    "start_time": "2022-04-09T08:00:33.169Z"
   },
   {
    "duration": 28,
    "start_time": "2022-04-09T08:00:33.180Z"
   },
   {
    "duration": 100,
    "start_time": "2022-04-09T08:00:33.210Z"
   },
   {
    "duration": 269,
    "start_time": "2022-04-09T08:00:33.313Z"
   },
   {
    "duration": 9,
    "start_time": "2022-04-09T08:00:33.585Z"
   },
   {
    "duration": 15,
    "start_time": "2022-04-09T08:00:33.597Z"
   },
   {
    "duration": 8,
    "start_time": "2022-04-09T08:00:33.614Z"
   },
   {
    "duration": 308,
    "start_time": "2022-04-09T08:00:33.624Z"
   },
   {
    "duration": 10,
    "start_time": "2022-04-09T08:00:33.935Z"
   },
   {
    "duration": 24,
    "start_time": "2022-04-09T08:00:33.947Z"
   },
   {
    "duration": 21,
    "start_time": "2022-04-09T08:00:33.974Z"
   },
   {
    "duration": 282,
    "start_time": "2022-04-09T08:00:33.998Z"
   },
   {
    "duration": 1409,
    "start_time": "2022-04-09T08:00:34.283Z"
   },
   {
    "duration": 1592,
    "start_time": "2022-04-09T08:00:35.695Z"
   },
   {
    "duration": 11,
    "start_time": "2022-04-09T08:00:37.290Z"
   },
   {
    "duration": 8,
    "start_time": "2022-04-09T08:00:37.304Z"
   },
   {
    "duration": 11,
    "start_time": "2022-04-09T08:00:37.315Z"
   },
   {
    "duration": 319,
    "start_time": "2022-04-09T08:00:37.328Z"
   },
   {
    "duration": 31,
    "start_time": "2022-04-09T08:00:37.649Z"
   },
   {
    "duration": 24,
    "start_time": "2022-04-09T08:00:37.682Z"
   },
   {
    "duration": 25,
    "start_time": "2022-04-09T08:00:37.709Z"
   },
   {
    "duration": 1310,
    "start_time": "2022-04-09T08:00:37.768Z"
   },
   {
    "duration": 28,
    "start_time": "2022-04-09T08:00:39.080Z"
   },
   {
    "duration": 12,
    "start_time": "2022-04-09T08:00:39.111Z"
   },
   {
    "duration": 43,
    "start_time": "2022-04-09T08:00:39.125Z"
   },
   {
    "duration": 7,
    "start_time": "2022-04-09T08:00:39.171Z"
   },
   {
    "duration": 15,
    "start_time": "2022-04-09T08:00:39.181Z"
   },
   {
    "duration": 8,
    "start_time": "2022-04-09T08:00:39.198Z"
   },
   {
    "duration": 10,
    "start_time": "2022-04-09T08:00:39.208Z"
   },
   {
    "duration": 55,
    "start_time": "2022-04-09T08:00:39.220Z"
   },
   {
    "duration": 59,
    "start_time": "2022-04-09T08:00:39.277Z"
   },
   {
    "duration": 33,
    "start_time": "2022-04-09T08:00:39.338Z"
   },
   {
    "duration": 73,
    "start_time": "2022-04-09T08:00:39.374Z"
   },
   {
    "duration": 7,
    "start_time": "2022-04-09T08:00:39.468Z"
   },
   {
    "duration": 8,
    "start_time": "2022-04-09T08:00:39.478Z"
   },
   {
    "duration": 6,
    "start_time": "2022-04-09T08:08:54.548Z"
   },
   {
    "duration": 1431,
    "start_time": "2022-04-09T08:10:02.772Z"
   },
   {
    "duration": 466,
    "start_time": "2022-04-09T08:10:04.206Z"
   },
   {
    "duration": 4,
    "start_time": "2022-04-09T08:10:04.674Z"
   },
   {
    "duration": 55,
    "start_time": "2022-04-09T08:10:04.682Z"
   },
   {
    "duration": 161,
    "start_time": "2022-04-09T08:10:04.739Z"
   },
   {
    "duration": 364,
    "start_time": "2022-04-09T08:10:04.903Z"
   },
   {
    "duration": 198,
    "start_time": "2022-04-09T08:10:05.269Z"
   },
   {
    "duration": 32,
    "start_time": "2022-04-09T08:10:05.470Z"
   },
   {
    "duration": 112,
    "start_time": "2022-04-09T08:10:05.504Z"
   },
   {
    "duration": 157,
    "start_time": "2022-04-09T08:10:05.620Z"
   },
   {
    "duration": 23,
    "start_time": "2022-04-09T08:10:05.779Z"
   },
   {
    "duration": 11,
    "start_time": "2022-04-09T08:10:05.804Z"
   },
   {
    "duration": 50,
    "start_time": "2022-04-09T08:10:05.817Z"
   },
   {
    "duration": 25,
    "start_time": "2022-04-09T08:10:05.870Z"
   },
   {
    "duration": 248,
    "start_time": "2022-04-09T08:10:05.898Z"
   },
   {
    "duration": 248,
    "start_time": "2022-04-09T08:10:06.148Z"
   },
   {
    "duration": 191,
    "start_time": "2022-04-09T08:10:06.399Z"
   },
   {
    "duration": 230,
    "start_time": "2022-04-09T08:10:06.592Z"
   },
   {
    "duration": 5,
    "start_time": "2022-04-09T08:10:06.824Z"
   },
   {
    "duration": 71,
    "start_time": "2022-04-09T08:10:06.831Z"
   },
   {
    "duration": 25,
    "start_time": "2022-04-09T08:10:06.904Z"
   },
   {
    "duration": 40,
    "start_time": "2022-04-09T08:10:06.931Z"
   },
   {
    "duration": 4,
    "start_time": "2022-04-09T08:10:06.974Z"
   },
   {
    "duration": 35,
    "start_time": "2022-04-09T08:10:06.981Z"
   },
   {
    "duration": 14,
    "start_time": "2022-04-09T08:10:07.019Z"
   },
   {
    "duration": 7,
    "start_time": "2022-04-09T08:10:27.610Z"
   },
   {
    "duration": 32,
    "start_time": "2022-04-09T08:17:25.223Z"
   },
   {
    "duration": 145,
    "start_time": "2022-04-09T08:38:27.959Z"
   },
   {
    "duration": 1097,
    "start_time": "2022-04-09T08:38:40.056Z"
   },
   {
    "duration": 1703,
    "start_time": "2022-04-09T08:42:21.690Z"
   },
   {
    "duration": 552,
    "start_time": "2022-04-09T08:42:23.396Z"
   },
   {
    "duration": 4,
    "start_time": "2022-04-09T08:42:23.950Z"
   },
   {
    "duration": 56,
    "start_time": "2022-04-09T08:42:23.957Z"
   },
   {
    "duration": 163,
    "start_time": "2022-04-09T08:42:24.015Z"
   },
   {
    "duration": 377,
    "start_time": "2022-04-09T08:42:24.181Z"
   },
   {
    "duration": 201,
    "start_time": "2022-04-09T08:42:24.568Z"
   },
   {
    "duration": 45,
    "start_time": "2022-04-09T08:42:24.772Z"
   },
   {
    "duration": 167,
    "start_time": "2022-04-09T08:42:24.819Z"
   },
   {
    "duration": 196,
    "start_time": "2022-04-09T08:42:24.992Z"
   },
   {
    "duration": 20,
    "start_time": "2022-04-09T08:42:25.191Z"
   },
   {
    "duration": 12,
    "start_time": "2022-04-09T08:42:25.213Z"
   },
   {
    "duration": 54,
    "start_time": "2022-04-09T08:42:25.227Z"
   },
   {
    "duration": 21,
    "start_time": "2022-04-09T08:42:25.283Z"
   },
   {
    "duration": 224,
    "start_time": "2022-04-09T08:42:25.306Z"
   },
   {
    "duration": 219,
    "start_time": "2022-04-09T08:42:25.533Z"
   },
   {
    "duration": 200,
    "start_time": "2022-04-09T08:42:25.755Z"
   },
   {
    "duration": 190,
    "start_time": "2022-04-09T08:42:25.958Z"
   },
   {
    "duration": 17,
    "start_time": "2022-04-09T08:42:26.150Z"
   },
   {
    "duration": 53,
    "start_time": "2022-04-09T08:42:26.169Z"
   },
   {
    "duration": 42,
    "start_time": "2022-04-09T08:42:26.232Z"
   },
   {
    "duration": 42,
    "start_time": "2022-04-09T08:42:26.277Z"
   },
   {
    "duration": 4,
    "start_time": "2022-04-09T08:42:26.321Z"
   },
   {
    "duration": 53,
    "start_time": "2022-04-09T08:42:26.328Z"
   },
   {
    "duration": 16,
    "start_time": "2022-04-09T08:42:26.383Z"
   },
   {
    "duration": 37,
    "start_time": "2022-04-09T08:42:26.401Z"
   },
   {
    "duration": 28,
    "start_time": "2022-04-09T08:42:26.440Z"
   },
   {
    "duration": 29,
    "start_time": "2022-04-09T08:42:26.474Z"
   },
   {
    "duration": 96,
    "start_time": "2022-04-09T08:42:26.506Z"
   },
   {
    "duration": 90,
    "start_time": "2022-04-09T08:42:26.605Z"
   },
   {
    "duration": 8,
    "start_time": "2022-04-09T08:42:26.697Z"
   },
   {
    "duration": 8,
    "start_time": "2022-04-09T08:42:26.708Z"
   },
   {
    "duration": 11,
    "start_time": "2022-04-09T08:42:26.718Z"
   },
   {
    "duration": 37,
    "start_time": "2022-04-09T08:42:26.731Z"
   },
   {
    "duration": 28,
    "start_time": "2022-04-09T08:42:26.770Z"
   },
   {
    "duration": 77,
    "start_time": "2022-04-09T08:42:26.801Z"
   },
   {
    "duration": 250,
    "start_time": "2022-04-09T08:42:26.880Z"
   },
   {
    "duration": 8,
    "start_time": "2022-04-09T08:42:27.132Z"
   },
   {
    "duration": 26,
    "start_time": "2022-04-09T08:42:27.142Z"
   },
   {
    "duration": 8,
    "start_time": "2022-04-09T08:42:27.170Z"
   },
   {
    "duration": 290,
    "start_time": "2022-04-09T08:42:27.180Z"
   },
   {
    "duration": 9,
    "start_time": "2022-04-09T08:42:27.472Z"
   },
   {
    "duration": 8,
    "start_time": "2022-04-09T08:42:27.483Z"
   },
   {
    "duration": 12,
    "start_time": "2022-04-09T08:42:27.494Z"
   },
   {
    "duration": 258,
    "start_time": "2022-04-09T08:42:27.509Z"
   },
   {
    "duration": 1363,
    "start_time": "2022-04-09T08:42:27.769Z"
   },
   {
    "duration": 1432,
    "start_time": "2022-04-09T08:42:29.135Z"
   },
   {
    "duration": 8,
    "start_time": "2022-04-09T08:42:30.570Z"
   },
   {
    "duration": 22,
    "start_time": "2022-04-09T08:42:30.580Z"
   },
   {
    "duration": 17,
    "start_time": "2022-04-09T08:42:30.604Z"
   },
   {
    "duration": 260,
    "start_time": "2022-04-09T08:42:30.624Z"
   },
   {
    "duration": 31,
    "start_time": "2022-04-09T08:42:30.887Z"
   },
   {
    "duration": 59,
    "start_time": "2022-04-09T08:42:30.921Z"
   },
   {
    "duration": 60,
    "start_time": "2022-04-09T08:42:30.983Z"
   },
   {
    "duration": 2226,
    "start_time": "2022-04-09T08:42:31.046Z"
   },
   {
    "duration": 30,
    "start_time": "2022-04-09T08:42:33.275Z"
   },
   {
    "duration": 12,
    "start_time": "2022-04-09T08:42:33.308Z"
   },
   {
    "duration": 12,
    "start_time": "2022-04-09T08:42:33.322Z"
   },
   {
    "duration": 6,
    "start_time": "2022-04-09T08:42:33.368Z"
   },
   {
    "duration": 15,
    "start_time": "2022-04-09T08:42:33.376Z"
   },
   {
    "duration": 5,
    "start_time": "2022-04-09T08:42:33.393Z"
   },
   {
    "duration": 7,
    "start_time": "2022-04-09T08:42:33.401Z"
   },
   {
    "duration": 7,
    "start_time": "2022-04-09T08:42:33.410Z"
   },
   {
    "duration": 98,
    "start_time": "2022-04-09T08:42:33.419Z"
   },
   {
    "duration": 7,
    "start_time": "2022-04-09T08:42:33.519Z"
   },
   {
    "duration": 84,
    "start_time": "2022-04-09T08:42:33.528Z"
   },
   {
    "duration": 6,
    "start_time": "2022-04-09T08:42:33.615Z"
   },
   {
    "duration": 7,
    "start_time": "2022-04-09T08:42:33.623Z"
   }
  ],
  "kernelspec": {
   "display_name": "Python 3 (ipykernel)",
   "language": "python",
   "name": "python3"
  },
  "language_info": {
   "codemirror_mode": {
    "name": "ipython",
    "version": 3
   },
   "file_extension": ".py",
   "mimetype": "text/x-python",
   "name": "python",
   "nbconvert_exporter": "python",
   "pygments_lexer": "ipython3",
   "version": "3.9.7"
  },
  "toc": {
   "base_numbering": 1,
   "nav_menu": {},
   "number_sections": true,
   "sideBar": true,
   "skip_h1_title": true,
   "title_cell": "Содержание",
   "title_sidebar": "Содержание",
   "toc_cell": true,
   "toc_position": {},
   "toc_section_display": true,
   "toc_window_display": false
  }
 },
 "nbformat": 4,
 "nbformat_minor": 4
}
